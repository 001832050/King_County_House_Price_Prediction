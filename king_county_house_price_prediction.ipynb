{
 "cells": [
  {
   "cell_type": "markdown",
   "metadata": {},
   "source": [
    "# Abstract\n",
    "This is a report about predict the price of the King County House, the dataset comes from kaggle competiiton platform, I will use both Classification and Regression problem to get the conclusion. One important way of processing the data is use the one-hot encoding, it is very convient when I want analysis the dataset with not very big noise inside. With classification problem, I will separate the price into two parts(binary classification) and I will create Random Forest classifier, XGBoost classifier, Logistic Regression classifier. The base model will be created and through tuning the hyper parameters inside the model we will find out that the AUC value increases. The regression problem I will create regressors of those supervised learning. And I will check the RMSE and accuracy of the model then compare them. In the last part, I used another supervised learning: GBM. And also apply it to Classificatio and Regression. The conclusion is: GBM algorithm wins in classification and xGBoost wins in regression."
   ]
  },
  {
   "cell_type": "markdown",
   "metadata": {},
   "source": [
    "\n",
    "## Approach\n",
    "Algorithms used.\n",
    "\n",
    "    For Part A:\n",
    "       Bagging Algo : Random Forest Classifier\n",
    "       Boosting Algo : XGBoost Classifier\n",
    "    For Part B:\n",
    "       Logistic Regression\n",
    "    For Part C:\n",
    "       Bagging Algo : Random Forest Regressor\n",
    "       Boosting Algo : XGBoost Regressor\n",
    "    For Part D:\n",
    "    For Part E:\n",
    "       GBM Algo: GBM Classifier\n",
    "       GBM Algo: GBM Regressor"
   ]
  },
  {
   "cell_type": "code",
   "execution_count": 1,
   "metadata": {},
   "outputs": [],
   "source": [
    "import pandas as pd\n",
    "import numpy as np\n",
    "from matplotlib import pyplot as plt\n",
    "import seaborn as sns\n",
    "from pandas import Series\n",
    "%matplotlib inline"
   ]
  },
  {
   "cell_type": "markdown",
   "metadata": {},
   "source": [
    "Read in the raw data from local"
   ]
  },
  {
   "cell_type": "code",
   "execution_count": 2,
   "metadata": {},
   "outputs": [],
   "source": [
    "features = pd.read_csv('king_county_cleansed.csv')"
   ]
  },
  {
   "cell_type": "code",
   "execution_count": 3,
   "metadata": {},
   "outputs": [
    {
     "data": {
      "text/html": [
       "<div>\n",
       "<style scoped>\n",
       "    .dataframe tbody tr th:only-of-type {\n",
       "        vertical-align: middle;\n",
       "    }\n",
       "\n",
       "    .dataframe tbody tr th {\n",
       "        vertical-align: top;\n",
       "    }\n",
       "\n",
       "    .dataframe thead th {\n",
       "        text-align: right;\n",
       "    }\n",
       "</style>\n",
       "<table border=\"1\" class=\"dataframe\">\n",
       "  <thead>\n",
       "    <tr style=\"text-align: right;\">\n",
       "      <th></th>\n",
       "      <th>index</th>\n",
       "      <th>price</th>\n",
       "      <th>bedrooms</th>\n",
       "      <th>bathrooms</th>\n",
       "      <th>sqft_living</th>\n",
       "      <th>sqft_lot</th>\n",
       "      <th>waterfront</th>\n",
       "      <th>sqft_above</th>\n",
       "      <th>sqft_basement</th>\n",
       "      <th>yr_built</th>\n",
       "      <th>...</th>\n",
       "      <th>grade#10</th>\n",
       "      <th>grade#11</th>\n",
       "      <th>grade#12</th>\n",
       "      <th>grade#13</th>\n",
       "      <th>zipcode#98004</th>\n",
       "      <th>zipcode#98102</th>\n",
       "      <th>zipcode#98109</th>\n",
       "      <th>zipcode#98112</th>\n",
       "      <th>zipcode#98039</th>\n",
       "      <th>zipcode#98040</th>\n",
       "    </tr>\n",
       "  </thead>\n",
       "  <tbody>\n",
       "    <tr>\n",
       "      <th>0</th>\n",
       "      <td>16768</td>\n",
       "      <td>437500</td>\n",
       "      <td>3</td>\n",
       "      <td>2.25</td>\n",
       "      <td>1970</td>\n",
       "      <td>35100</td>\n",
       "      <td>0</td>\n",
       "      <td>1970</td>\n",
       "      <td>0</td>\n",
       "      <td>1977</td>\n",
       "      <td>...</td>\n",
       "      <td>0</td>\n",
       "      <td>0</td>\n",
       "      <td>0</td>\n",
       "      <td>0</td>\n",
       "      <td>0</td>\n",
       "      <td>0</td>\n",
       "      <td>0</td>\n",
       "      <td>0</td>\n",
       "      <td>0</td>\n",
       "      <td>0</td>\n",
       "    </tr>\n",
       "    <tr>\n",
       "      <th>1</th>\n",
       "      <td>9596</td>\n",
       "      <td>790000</td>\n",
       "      <td>3</td>\n",
       "      <td>2.50</td>\n",
       "      <td>2600</td>\n",
       "      <td>4750</td>\n",
       "      <td>0</td>\n",
       "      <td>1700</td>\n",
       "      <td>900</td>\n",
       "      <td>1951</td>\n",
       "      <td>...</td>\n",
       "      <td>0</td>\n",
       "      <td>0</td>\n",
       "      <td>0</td>\n",
       "      <td>0</td>\n",
       "      <td>0</td>\n",
       "      <td>0</td>\n",
       "      <td>0</td>\n",
       "      <td>0</td>\n",
       "      <td>0</td>\n",
       "      <td>0</td>\n",
       "    </tr>\n",
       "    <tr>\n",
       "      <th>2</th>\n",
       "      <td>9587</td>\n",
       "      <td>675000</td>\n",
       "      <td>5</td>\n",
       "      <td>2.50</td>\n",
       "      <td>2820</td>\n",
       "      <td>67518</td>\n",
       "      <td>0</td>\n",
       "      <td>2820</td>\n",
       "      <td>0</td>\n",
       "      <td>1979</td>\n",
       "      <td>...</td>\n",
       "      <td>0</td>\n",
       "      <td>0</td>\n",
       "      <td>0</td>\n",
       "      <td>0</td>\n",
       "      <td>0</td>\n",
       "      <td>0</td>\n",
       "      <td>0</td>\n",
       "      <td>0</td>\n",
       "      <td>0</td>\n",
       "      <td>0</td>\n",
       "    </tr>\n",
       "    <tr>\n",
       "      <th>3</th>\n",
       "      <td>20602</td>\n",
       "      <td>555000</td>\n",
       "      <td>4</td>\n",
       "      <td>2.50</td>\n",
       "      <td>3310</td>\n",
       "      <td>6500</td>\n",
       "      <td>0</td>\n",
       "      <td>3310</td>\n",
       "      <td>0</td>\n",
       "      <td>2012</td>\n",
       "      <td>...</td>\n",
       "      <td>0</td>\n",
       "      <td>0</td>\n",
       "      <td>0</td>\n",
       "      <td>0</td>\n",
       "      <td>0</td>\n",
       "      <td>0</td>\n",
       "      <td>0</td>\n",
       "      <td>0</td>\n",
       "      <td>0</td>\n",
       "      <td>0</td>\n",
       "    </tr>\n",
       "    <tr>\n",
       "      <th>4</th>\n",
       "      <td>11577</td>\n",
       "      <td>440000</td>\n",
       "      <td>4</td>\n",
       "      <td>2.25</td>\n",
       "      <td>2160</td>\n",
       "      <td>8119</td>\n",
       "      <td>0</td>\n",
       "      <td>1080</td>\n",
       "      <td>1080</td>\n",
       "      <td>1966</td>\n",
       "      <td>...</td>\n",
       "      <td>0</td>\n",
       "      <td>0</td>\n",
       "      <td>0</td>\n",
       "      <td>0</td>\n",
       "      <td>0</td>\n",
       "      <td>0</td>\n",
       "      <td>0</td>\n",
       "      <td>0</td>\n",
       "      <td>0</td>\n",
       "      <td>0</td>\n",
       "    </tr>\n",
       "  </tbody>\n",
       "</table>\n",
       "<p>5 rows × 51 columns</p>\n",
       "</div>"
      ],
      "text/plain": [
       "   index   price  bedrooms  bathrooms  sqft_living  sqft_lot  waterfront  \\\n",
       "0  16768  437500         3       2.25         1970     35100           0   \n",
       "1   9596  790000         3       2.50         2600      4750           0   \n",
       "2   9587  675000         5       2.50         2820     67518           0   \n",
       "3  20602  555000         4       2.50         3310      6500           0   \n",
       "4  11577  440000         4       2.25         2160      8119           0   \n",
       "\n",
       "   sqft_above  sqft_basement  yr_built      ...        grade#10  grade#11  \\\n",
       "0        1970              0      1977      ...               0         0   \n",
       "1        1700            900      1951      ...               0         0   \n",
       "2        2820              0      1979      ...               0         0   \n",
       "3        3310              0      2012      ...               0         0   \n",
       "4        1080           1080      1966      ...               0         0   \n",
       "\n",
       "   grade#12  grade#13  zipcode#98004  zipcode#98102  zipcode#98109  \\\n",
       "0         0         0              0              0              0   \n",
       "1         0         0              0              0              0   \n",
       "2         0         0              0              0              0   \n",
       "3         0         0              0              0              0   \n",
       "4         0         0              0              0              0   \n",
       "\n",
       "   zipcode#98112  zipcode#98039  zipcode#98040  \n",
       "0              0              0              0  \n",
       "1              0              0              0  \n",
       "2              0              0              0  \n",
       "3              0              0              0  \n",
       "4              0              0              0  \n",
       "\n",
       "[5 rows x 51 columns]"
      ]
     },
     "execution_count": 3,
     "metadata": {},
     "output_type": "execute_result"
    }
   ],
   "source": [
    "features.head(5)"
   ]
  },
  {
   "cell_type": "markdown",
   "metadata": {},
   "source": [
    "Look at the description of dataset."
   ]
  },
  {
   "cell_type": "code",
   "execution_count": 4,
   "metadata": {},
   "outputs": [
    {
     "data": {
      "text/html": [
       "<div>\n",
       "<style scoped>\n",
       "    .dataframe tbody tr th:only-of-type {\n",
       "        vertical-align: middle;\n",
       "    }\n",
       "\n",
       "    .dataframe tbody tr th {\n",
       "        vertical-align: top;\n",
       "    }\n",
       "\n",
       "    .dataframe thead th {\n",
       "        text-align: right;\n",
       "    }\n",
       "</style>\n",
       "<table border=\"1\" class=\"dataframe\">\n",
       "  <thead>\n",
       "    <tr style=\"text-align: right;\">\n",
       "      <th></th>\n",
       "      <th>index</th>\n",
       "      <th>price</th>\n",
       "      <th>bedrooms</th>\n",
       "      <th>bathrooms</th>\n",
       "      <th>sqft_living</th>\n",
       "      <th>sqft_lot</th>\n",
       "      <th>waterfront</th>\n",
       "      <th>sqft_above</th>\n",
       "      <th>sqft_basement</th>\n",
       "      <th>yr_built</th>\n",
       "      <th>...</th>\n",
       "      <th>grade#10</th>\n",
       "      <th>grade#11</th>\n",
       "      <th>grade#12</th>\n",
       "      <th>grade#13</th>\n",
       "      <th>zipcode#98004</th>\n",
       "      <th>zipcode#98102</th>\n",
       "      <th>zipcode#98109</th>\n",
       "      <th>zipcode#98112</th>\n",
       "      <th>zipcode#98039</th>\n",
       "      <th>zipcode#98040</th>\n",
       "    </tr>\n",
       "  </thead>\n",
       "  <tbody>\n",
       "    <tr>\n",
       "      <th>count</th>\n",
       "      <td>21613.00000</td>\n",
       "      <td>2.161300e+04</td>\n",
       "      <td>21613.000000</td>\n",
       "      <td>21613.000000</td>\n",
       "      <td>21613.000000</td>\n",
       "      <td>2.161300e+04</td>\n",
       "      <td>21613.000000</td>\n",
       "      <td>21613.000000</td>\n",
       "      <td>21613.000000</td>\n",
       "      <td>21613.000000</td>\n",
       "      <td>...</td>\n",
       "      <td>21613.000000</td>\n",
       "      <td>21613.000000</td>\n",
       "      <td>21613.000000</td>\n",
       "      <td>21613.000000</td>\n",
       "      <td>21613.000000</td>\n",
       "      <td>21613.000000</td>\n",
       "      <td>21613.000000</td>\n",
       "      <td>21613.000000</td>\n",
       "      <td>21613.000000</td>\n",
       "      <td>21613.000000</td>\n",
       "    </tr>\n",
       "    <tr>\n",
       "      <th>mean</th>\n",
       "      <td>10806.00000</td>\n",
       "      <td>5.400881e+05</td>\n",
       "      <td>3.370842</td>\n",
       "      <td>2.114757</td>\n",
       "      <td>2079.899736</td>\n",
       "      <td>1.510697e+04</td>\n",
       "      <td>0.007542</td>\n",
       "      <td>1788.390691</td>\n",
       "      <td>291.509045</td>\n",
       "      <td>1971.005136</td>\n",
       "      <td>...</td>\n",
       "      <td>0.052468</td>\n",
       "      <td>0.018461</td>\n",
       "      <td>0.004164</td>\n",
       "      <td>0.000601</td>\n",
       "      <td>0.014667</td>\n",
       "      <td>0.004858</td>\n",
       "      <td>0.005043</td>\n",
       "      <td>0.012446</td>\n",
       "      <td>0.002313</td>\n",
       "      <td>0.013048</td>\n",
       "    </tr>\n",
       "    <tr>\n",
       "      <th>std</th>\n",
       "      <td>6239.28002</td>\n",
       "      <td>3.671272e+05</td>\n",
       "      <td>0.930062</td>\n",
       "      <td>0.770163</td>\n",
       "      <td>918.440897</td>\n",
       "      <td>4.142051e+04</td>\n",
       "      <td>0.086517</td>\n",
       "      <td>828.090978</td>\n",
       "      <td>442.575043</td>\n",
       "      <td>29.373411</td>\n",
       "      <td>...</td>\n",
       "      <td>0.222975</td>\n",
       "      <td>0.134615</td>\n",
       "      <td>0.064397</td>\n",
       "      <td>0.024518</td>\n",
       "      <td>0.120219</td>\n",
       "      <td>0.069533</td>\n",
       "      <td>0.070838</td>\n",
       "      <td>0.110869</td>\n",
       "      <td>0.048043</td>\n",
       "      <td>0.113482</td>\n",
       "    </tr>\n",
       "    <tr>\n",
       "      <th>min</th>\n",
       "      <td>0.00000</td>\n",
       "      <td>7.500000e+04</td>\n",
       "      <td>0.000000</td>\n",
       "      <td>0.000000</td>\n",
       "      <td>290.000000</td>\n",
       "      <td>5.200000e+02</td>\n",
       "      <td>0.000000</td>\n",
       "      <td>290.000000</td>\n",
       "      <td>0.000000</td>\n",
       "      <td>1900.000000</td>\n",
       "      <td>...</td>\n",
       "      <td>0.000000</td>\n",
       "      <td>0.000000</td>\n",
       "      <td>0.000000</td>\n",
       "      <td>0.000000</td>\n",
       "      <td>0.000000</td>\n",
       "      <td>0.000000</td>\n",
       "      <td>0.000000</td>\n",
       "      <td>0.000000</td>\n",
       "      <td>0.000000</td>\n",
       "      <td>0.000000</td>\n",
       "    </tr>\n",
       "    <tr>\n",
       "      <th>25%</th>\n",
       "      <td>5403.00000</td>\n",
       "      <td>3.219500e+05</td>\n",
       "      <td>3.000000</td>\n",
       "      <td>1.750000</td>\n",
       "      <td>1427.000000</td>\n",
       "      <td>5.040000e+03</td>\n",
       "      <td>0.000000</td>\n",
       "      <td>1190.000000</td>\n",
       "      <td>0.000000</td>\n",
       "      <td>1951.000000</td>\n",
       "      <td>...</td>\n",
       "      <td>0.000000</td>\n",
       "      <td>0.000000</td>\n",
       "      <td>0.000000</td>\n",
       "      <td>0.000000</td>\n",
       "      <td>0.000000</td>\n",
       "      <td>0.000000</td>\n",
       "      <td>0.000000</td>\n",
       "      <td>0.000000</td>\n",
       "      <td>0.000000</td>\n",
       "      <td>0.000000</td>\n",
       "    </tr>\n",
       "    <tr>\n",
       "      <th>50%</th>\n",
       "      <td>10806.00000</td>\n",
       "      <td>4.500000e+05</td>\n",
       "      <td>3.000000</td>\n",
       "      <td>2.250000</td>\n",
       "      <td>1910.000000</td>\n",
       "      <td>7.618000e+03</td>\n",
       "      <td>0.000000</td>\n",
       "      <td>1560.000000</td>\n",
       "      <td>0.000000</td>\n",
       "      <td>1975.000000</td>\n",
       "      <td>...</td>\n",
       "      <td>0.000000</td>\n",
       "      <td>0.000000</td>\n",
       "      <td>0.000000</td>\n",
       "      <td>0.000000</td>\n",
       "      <td>0.000000</td>\n",
       "      <td>0.000000</td>\n",
       "      <td>0.000000</td>\n",
       "      <td>0.000000</td>\n",
       "      <td>0.000000</td>\n",
       "      <td>0.000000</td>\n",
       "    </tr>\n",
       "    <tr>\n",
       "      <th>75%</th>\n",
       "      <td>16209.00000</td>\n",
       "      <td>6.450000e+05</td>\n",
       "      <td>4.000000</td>\n",
       "      <td>2.500000</td>\n",
       "      <td>2550.000000</td>\n",
       "      <td>1.068800e+04</td>\n",
       "      <td>0.000000</td>\n",
       "      <td>2210.000000</td>\n",
       "      <td>560.000000</td>\n",
       "      <td>1997.000000</td>\n",
       "      <td>...</td>\n",
       "      <td>0.000000</td>\n",
       "      <td>0.000000</td>\n",
       "      <td>0.000000</td>\n",
       "      <td>0.000000</td>\n",
       "      <td>0.000000</td>\n",
       "      <td>0.000000</td>\n",
       "      <td>0.000000</td>\n",
       "      <td>0.000000</td>\n",
       "      <td>0.000000</td>\n",
       "      <td>0.000000</td>\n",
       "    </tr>\n",
       "    <tr>\n",
       "      <th>max</th>\n",
       "      <td>21612.00000</td>\n",
       "      <td>7.700000e+06</td>\n",
       "      <td>33.000000</td>\n",
       "      <td>8.000000</td>\n",
       "      <td>13540.000000</td>\n",
       "      <td>1.651359e+06</td>\n",
       "      <td>1.000000</td>\n",
       "      <td>9410.000000</td>\n",
       "      <td>4820.000000</td>\n",
       "      <td>2015.000000</td>\n",
       "      <td>...</td>\n",
       "      <td>1.000000</td>\n",
       "      <td>1.000000</td>\n",
       "      <td>1.000000</td>\n",
       "      <td>1.000000</td>\n",
       "      <td>1.000000</td>\n",
       "      <td>1.000000</td>\n",
       "      <td>1.000000</td>\n",
       "      <td>1.000000</td>\n",
       "      <td>1.000000</td>\n",
       "      <td>1.000000</td>\n",
       "    </tr>\n",
       "  </tbody>\n",
       "</table>\n",
       "<p>8 rows × 51 columns</p>\n",
       "</div>"
      ],
      "text/plain": [
       "             index         price      bedrooms     bathrooms   sqft_living  \\\n",
       "count  21613.00000  2.161300e+04  21613.000000  21613.000000  21613.000000   \n",
       "mean   10806.00000  5.400881e+05      3.370842      2.114757   2079.899736   \n",
       "std     6239.28002  3.671272e+05      0.930062      0.770163    918.440897   \n",
       "min        0.00000  7.500000e+04      0.000000      0.000000    290.000000   \n",
       "25%     5403.00000  3.219500e+05      3.000000      1.750000   1427.000000   \n",
       "50%    10806.00000  4.500000e+05      3.000000      2.250000   1910.000000   \n",
       "75%    16209.00000  6.450000e+05      4.000000      2.500000   2550.000000   \n",
       "max    21612.00000  7.700000e+06     33.000000      8.000000  13540.000000   \n",
       "\n",
       "           sqft_lot    waterfront    sqft_above  sqft_basement      yr_built  \\\n",
       "count  2.161300e+04  21613.000000  21613.000000   21613.000000  21613.000000   \n",
       "mean   1.510697e+04      0.007542   1788.390691     291.509045   1971.005136   \n",
       "std    4.142051e+04      0.086517    828.090978     442.575043     29.373411   \n",
       "min    5.200000e+02      0.000000    290.000000       0.000000   1900.000000   \n",
       "25%    5.040000e+03      0.000000   1190.000000       0.000000   1951.000000   \n",
       "50%    7.618000e+03      0.000000   1560.000000       0.000000   1975.000000   \n",
       "75%    1.068800e+04      0.000000   2210.000000     560.000000   1997.000000   \n",
       "max    1.651359e+06      1.000000   9410.000000    4820.000000   2015.000000   \n",
       "\n",
       "           ...            grade#10      grade#11      grade#12      grade#13  \\\n",
       "count      ...        21613.000000  21613.000000  21613.000000  21613.000000   \n",
       "mean       ...            0.052468      0.018461      0.004164      0.000601   \n",
       "std        ...            0.222975      0.134615      0.064397      0.024518   \n",
       "min        ...            0.000000      0.000000      0.000000      0.000000   \n",
       "25%        ...            0.000000      0.000000      0.000000      0.000000   \n",
       "50%        ...            0.000000      0.000000      0.000000      0.000000   \n",
       "75%        ...            0.000000      0.000000      0.000000      0.000000   \n",
       "max        ...            1.000000      1.000000      1.000000      1.000000   \n",
       "\n",
       "       zipcode#98004  zipcode#98102  zipcode#98109  zipcode#98112  \\\n",
       "count   21613.000000   21613.000000   21613.000000   21613.000000   \n",
       "mean        0.014667       0.004858       0.005043       0.012446   \n",
       "std         0.120219       0.069533       0.070838       0.110869   \n",
       "min         0.000000       0.000000       0.000000       0.000000   \n",
       "25%         0.000000       0.000000       0.000000       0.000000   \n",
       "50%         0.000000       0.000000       0.000000       0.000000   \n",
       "75%         0.000000       0.000000       0.000000       0.000000   \n",
       "max         1.000000       1.000000       1.000000       1.000000   \n",
       "\n",
       "       zipcode#98039  zipcode#98040  \n",
       "count   21613.000000   21613.000000  \n",
       "mean        0.002313       0.013048  \n",
       "std         0.048043       0.113482  \n",
       "min         0.000000       0.000000  \n",
       "25%         0.000000       0.000000  \n",
       "50%         0.000000       0.000000  \n",
       "75%         0.000000       0.000000  \n",
       "max         1.000000       1.000000  \n",
       "\n",
       "[8 rows x 51 columns]"
      ]
     },
     "execution_count": 4,
     "metadata": {},
     "output_type": "execute_result"
    }
   ],
   "source": [
    "features.describe()"
   ]
  },
  {
   "cell_type": "markdown",
   "metadata": {},
   "source": [
    "### Draw a heatmap"
   ]
  },
  {
   "cell_type": "code",
   "execution_count": 5,
   "metadata": {},
   "outputs": [
    {
     "data": {
      "text/plain": [
       "<matplotlib.axes._subplots.AxesSubplot at 0x1a2123c4e0>"
      ]
     },
     "execution_count": 5,
     "metadata": {},
     "output_type": "execute_result"
    },
    {
     "data": {
      "image/png": "[encoded data removed]",
      "text/plain": [
       "<Figure size 1440x1440 with 2 Axes>"
      ]
     },
     "metadata": {},
     "output_type": "display_data"
    }
   ],
   "source": [
    "corr = features.corr()\n",
    "\n",
    "mask = np.zeros_like(corr, dtype=np.bool) #Return an array of zeros with the same shape and type as a given array\n",
    "mask[np.triu_indices_from(mask)] = True  #Return the indices for the upper-triangle of arr.\n",
    "\n",
    "\n",
    "\n",
    "f, ax = plt.subplots(figsize = (20, 20)) #define the scale of the plot\n",
    "\n",
    "camp = sns.diverging_palette(190, 10, as_cmap=True)  #define the color of the heatmap\n",
    "\n",
    "sns.heatmap(corr, mask=mask, cmap=camp, vmax=.3, center=0, square = True, linewidths = .5, cbar_kws = {'shrink': .5})"
   ]
  },
  {
   "cell_type": "code",
   "execution_count": 6,
   "metadata": {},
   "outputs": [
    {
     "data": {
      "text/plain": [
       "<matplotlib.image.AxesImage at 0x1a21421908>"
      ]
     },
     "execution_count": 6,
     "metadata": {},
     "output_type": "execute_result"
    },
    {
     "data": {
      "image/png": "[encoded data removed]",
      "text/plain": [
       "<Figure size 288x288 with 1 Axes>"
      ]
     },
     "metadata": {},
     "output_type": "display_data"
    }
   ],
   "source": [
    "plt.matshow(features.corr())  #Display an array as a matrix in a new figure window."
   ]
  },
  {
   "cell_type": "code",
   "execution_count": 7,
   "metadata": {},
   "outputs": [
    {
     "name": "stdout",
     "output_type": "stream",
     "text": [
      "450000.0\n"
     ]
    }
   ],
   "source": [
    "median_price = features.loc[:,'price'].median() #Count the median of the 'price' column.\n",
    "print(median_price) #print out"
   ]
  },
  {
   "cell_type": "markdown",
   "metadata": {},
   "source": [
    "### Add a column called price_cat if the value is larger than the median, equals 1, if not equals -1"
   ]
  },
  {
   "cell_type": "code",
   "execution_count": 8,
   "metadata": {},
   "outputs": [],
   "source": [
    "features['price_cat'] = features['price'].apply(lambda x: 1 if x > median_price else -1)"
   ]
  },
  {
   "cell_type": "code",
   "execution_count": 9,
   "metadata": {},
   "outputs": [
    {
     "data": {
      "text/html": [
       "<div>\n",
       "<style scoped>\n",
       "    .dataframe tbody tr th:only-of-type {\n",
       "        vertical-align: middle;\n",
       "    }\n",
       "\n",
       "    .dataframe tbody tr th {\n",
       "        vertical-align: top;\n",
       "    }\n",
       "\n",
       "    .dataframe thead th {\n",
       "        text-align: right;\n",
       "    }\n",
       "</style>\n",
       "<table border=\"1\" class=\"dataframe\">\n",
       "  <thead>\n",
       "    <tr style=\"text-align: right;\">\n",
       "      <th></th>\n",
       "      <th>price</th>\n",
       "      <th>price_cat</th>\n",
       "    </tr>\n",
       "  </thead>\n",
       "  <tbody>\n",
       "    <tr>\n",
       "      <th>0</th>\n",
       "      <td>437500</td>\n",
       "      <td>-1</td>\n",
       "    </tr>\n",
       "    <tr>\n",
       "      <th>1</th>\n",
       "      <td>790000</td>\n",
       "      <td>1</td>\n",
       "    </tr>\n",
       "    <tr>\n",
       "      <th>2</th>\n",
       "      <td>675000</td>\n",
       "      <td>1</td>\n",
       "    </tr>\n",
       "    <tr>\n",
       "      <th>3</th>\n",
       "      <td>555000</td>\n",
       "      <td>1</td>\n",
       "    </tr>\n",
       "    <tr>\n",
       "      <th>4</th>\n",
       "      <td>440000</td>\n",
       "      <td>-1</td>\n",
       "    </tr>\n",
       "    <tr>\n",
       "      <th>5</th>\n",
       "      <td>295000</td>\n",
       "      <td>-1</td>\n",
       "    </tr>\n",
       "    <tr>\n",
       "      <th>6</th>\n",
       "      <td>470000</td>\n",
       "      <td>1</td>\n",
       "    </tr>\n",
       "    <tr>\n",
       "      <th>7</th>\n",
       "      <td>550000</td>\n",
       "      <td>1</td>\n",
       "    </tr>\n",
       "    <tr>\n",
       "      <th>8</th>\n",
       "      <td>313000</td>\n",
       "      <td>-1</td>\n",
       "    </tr>\n",
       "    <tr>\n",
       "      <th>9</th>\n",
       "      <td>626000</td>\n",
       "      <td>1</td>\n",
       "    </tr>\n",
       "  </tbody>\n",
       "</table>\n",
       "</div>"
      ],
      "text/plain": [
       "    price  price_cat\n",
       "0  437500         -1\n",
       "1  790000          1\n",
       "2  675000          1\n",
       "3  555000          1\n",
       "4  440000         -1\n",
       "5  295000         -1\n",
       "6  470000          1\n",
       "7  550000          1\n",
       "8  313000         -1\n",
       "9  626000          1"
      ]
     },
     "execution_count": 9,
     "metadata": {},
     "output_type": "execute_result"
    }
   ],
   "source": [
    "features[['price', 'price_cat']].head(10)  #check the first ten rows after creating a column"
   ]
  },
  {
   "cell_type": "code",
   "execution_count": 10,
   "metadata": {},
   "outputs": [
    {
     "data": {
      "text/html": [
       "<div>\n",
       "<style scoped>\n",
       "    .dataframe tbody tr th:only-of-type {\n",
       "        vertical-align: middle;\n",
       "    }\n",
       "\n",
       "    .dataframe tbody tr th {\n",
       "        vertical-align: top;\n",
       "    }\n",
       "\n",
       "    .dataframe thead th {\n",
       "        text-align: right;\n",
       "    }\n",
       "</style>\n",
       "<table border=\"1\" class=\"dataframe\">\n",
       "  <thead>\n",
       "    <tr style=\"text-align: right;\">\n",
       "      <th></th>\n",
       "      <th>index</th>\n",
       "      <th>price</th>\n",
       "      <th>bedrooms</th>\n",
       "      <th>bathrooms</th>\n",
       "      <th>sqft_living</th>\n",
       "      <th>sqft_lot</th>\n",
       "      <th>waterfront</th>\n",
       "      <th>sqft_above</th>\n",
       "      <th>sqft_basement</th>\n",
       "      <th>yr_built</th>\n",
       "      <th>...</th>\n",
       "      <th>grade#11</th>\n",
       "      <th>grade#12</th>\n",
       "      <th>grade#13</th>\n",
       "      <th>zipcode#98004</th>\n",
       "      <th>zipcode#98102</th>\n",
       "      <th>zipcode#98109</th>\n",
       "      <th>zipcode#98112</th>\n",
       "      <th>zipcode#98039</th>\n",
       "      <th>zipcode#98040</th>\n",
       "      <th>price_cat</th>\n",
       "    </tr>\n",
       "  </thead>\n",
       "  <tbody>\n",
       "    <tr>\n",
       "      <th>0</th>\n",
       "      <td>16768</td>\n",
       "      <td>437500</td>\n",
       "      <td>3</td>\n",
       "      <td>2.25</td>\n",
       "      <td>1970</td>\n",
       "      <td>35100</td>\n",
       "      <td>0</td>\n",
       "      <td>1970</td>\n",
       "      <td>0</td>\n",
       "      <td>1977</td>\n",
       "      <td>...</td>\n",
       "      <td>0</td>\n",
       "      <td>0</td>\n",
       "      <td>0</td>\n",
       "      <td>0</td>\n",
       "      <td>0</td>\n",
       "      <td>0</td>\n",
       "      <td>0</td>\n",
       "      <td>0</td>\n",
       "      <td>0</td>\n",
       "      <td>-1</td>\n",
       "    </tr>\n",
       "    <tr>\n",
       "      <th>1</th>\n",
       "      <td>9596</td>\n",
       "      <td>790000</td>\n",
       "      <td>3</td>\n",
       "      <td>2.50</td>\n",
       "      <td>2600</td>\n",
       "      <td>4750</td>\n",
       "      <td>0</td>\n",
       "      <td>1700</td>\n",
       "      <td>900</td>\n",
       "      <td>1951</td>\n",
       "      <td>...</td>\n",
       "      <td>0</td>\n",
       "      <td>0</td>\n",
       "      <td>0</td>\n",
       "      <td>0</td>\n",
       "      <td>0</td>\n",
       "      <td>0</td>\n",
       "      <td>0</td>\n",
       "      <td>0</td>\n",
       "      <td>0</td>\n",
       "      <td>1</td>\n",
       "    </tr>\n",
       "    <tr>\n",
       "      <th>2</th>\n",
       "      <td>9587</td>\n",
       "      <td>675000</td>\n",
       "      <td>5</td>\n",
       "      <td>2.50</td>\n",
       "      <td>2820</td>\n",
       "      <td>67518</td>\n",
       "      <td>0</td>\n",
       "      <td>2820</td>\n",
       "      <td>0</td>\n",
       "      <td>1979</td>\n",
       "      <td>...</td>\n",
       "      <td>0</td>\n",
       "      <td>0</td>\n",
       "      <td>0</td>\n",
       "      <td>0</td>\n",
       "      <td>0</td>\n",
       "      <td>0</td>\n",
       "      <td>0</td>\n",
       "      <td>0</td>\n",
       "      <td>0</td>\n",
       "      <td>1</td>\n",
       "    </tr>\n",
       "    <tr>\n",
       "      <th>3</th>\n",
       "      <td>20602</td>\n",
       "      <td>555000</td>\n",
       "      <td>4</td>\n",
       "      <td>2.50</td>\n",
       "      <td>3310</td>\n",
       "      <td>6500</td>\n",
       "      <td>0</td>\n",
       "      <td>3310</td>\n",
       "      <td>0</td>\n",
       "      <td>2012</td>\n",
       "      <td>...</td>\n",
       "      <td>0</td>\n",
       "      <td>0</td>\n",
       "      <td>0</td>\n",
       "      <td>0</td>\n",
       "      <td>0</td>\n",
       "      <td>0</td>\n",
       "      <td>0</td>\n",
       "      <td>0</td>\n",
       "      <td>0</td>\n",
       "      <td>1</td>\n",
       "    </tr>\n",
       "    <tr>\n",
       "      <th>4</th>\n",
       "      <td>11577</td>\n",
       "      <td>440000</td>\n",
       "      <td>4</td>\n",
       "      <td>2.25</td>\n",
       "      <td>2160</td>\n",
       "      <td>8119</td>\n",
       "      <td>0</td>\n",
       "      <td>1080</td>\n",
       "      <td>1080</td>\n",
       "      <td>1966</td>\n",
       "      <td>...</td>\n",
       "      <td>0</td>\n",
       "      <td>0</td>\n",
       "      <td>0</td>\n",
       "      <td>0</td>\n",
       "      <td>0</td>\n",
       "      <td>0</td>\n",
       "      <td>0</td>\n",
       "      <td>0</td>\n",
       "      <td>0</td>\n",
       "      <td>-1</td>\n",
       "    </tr>\n",
       "  </tbody>\n",
       "</table>\n",
       "<p>5 rows × 52 columns</p>\n",
       "</div>"
      ],
      "text/plain": [
       "   index   price  bedrooms  bathrooms  sqft_living  sqft_lot  waterfront  \\\n",
       "0  16768  437500         3       2.25         1970     35100           0   \n",
       "1   9596  790000         3       2.50         2600      4750           0   \n",
       "2   9587  675000         5       2.50         2820     67518           0   \n",
       "3  20602  555000         4       2.50         3310      6500           0   \n",
       "4  11577  440000         4       2.25         2160      8119           0   \n",
       "\n",
       "   sqft_above  sqft_basement  yr_built    ...      grade#11  grade#12  \\\n",
       "0        1970              0      1977    ...             0         0   \n",
       "1        1700            900      1951    ...             0         0   \n",
       "2        2820              0      1979    ...             0         0   \n",
       "3        3310              0      2012    ...             0         0   \n",
       "4        1080           1080      1966    ...             0         0   \n",
       "\n",
       "   grade#13  zipcode#98004  zipcode#98102  zipcode#98109  zipcode#98112  \\\n",
       "0         0              0              0              0              0   \n",
       "1         0              0              0              0              0   \n",
       "2         0              0              0              0              0   \n",
       "3         0              0              0              0              0   \n",
       "4         0              0              0              0              0   \n",
       "\n",
       "   zipcode#98039  zipcode#98040  price_cat  \n",
       "0              0              0         -1  \n",
       "1              0              0          1  \n",
       "2              0              0          1  \n",
       "3              0              0          1  \n",
       "4              0              0         -1  \n",
       "\n",
       "[5 rows x 52 columns]"
      ]
     },
     "execution_count": 10,
     "metadata": {},
     "output_type": "execute_result"
    }
   ],
   "source": [
    "features.head(5)"
   ]
  },
  {
   "cell_type": "markdown",
   "metadata": {},
   "source": [
    "# Part A"
   ]
  },
  {
   "cell_type": "markdown",
   "metadata": {},
   "source": [
    "## Random Forest Classifier"
   ]
  },
  {
   "cell_type": "code",
   "execution_count": 11,
   "metadata": {},
   "outputs": [],
   "source": [
    "from sklearn.model_selection import train_test_split #import method to split the dataset into train and test"
   ]
  },
  {
   "cell_type": "code",
   "execution_count": 12,
   "metadata": {},
   "outputs": [
    {
     "data": {
      "text/plain": [
       "Index(['index', 'price', 'bedrooms', 'bathrooms', 'sqft_living', 'sqft_lot',\n",
       "       'waterfront', 'sqft_above', 'sqft_basement', 'yr_built', 'yr_renovated',\n",
       "       'lat', 'long', 'sqft_living15', 'sqft_lot15', 'basement_present',\n",
       "       'renovated', 'floors#1.0', 'floors#1.5', 'floors#2.0', 'floors#2.5',\n",
       "       'floors#3.0', 'floors#3.5', 'view#0', 'view#1', 'view#2', 'view#3',\n",
       "       'view#4', 'condition#1', 'condition#2', 'condition#3', 'condition#4',\n",
       "       'condition#5', 'grade#1', 'grade#3', 'grade#4', 'grade#5', 'grade#6',\n",
       "       'grade#7', 'grade#8', 'grade#9', 'grade#10', 'grade#11', 'grade#12',\n",
       "       'grade#13', 'zipcode#98004', 'zipcode#98102', 'zipcode#98109',\n",
       "       'zipcode#98112', 'zipcode#98039', 'zipcode#98040', 'price_cat'],\n",
       "      dtype='object')"
      ]
     },
     "execution_count": 12,
     "metadata": {},
     "output_type": "execute_result"
    }
   ],
   "source": [
    "features.columns #check the columns in the dataset."
   ]
  },
  {
   "cell_type": "markdown",
   "metadata": {},
   "source": [
    "## Select features and split data into train and test"
   ]
  },
  {
   "cell_type": "code",
   "execution_count": 13,
   "metadata": {},
   "outputs": [],
   "source": [
    "X_features = ['bedrooms', 'bathrooms', 'sqft_living', 'sqft_lot',\n",
    "       'waterfront', 'sqft_above', 'sqft_basement', 'yr_built', 'yr_renovated',\n",
    "       'lat', 'long', 'sqft_living15', 'sqft_lot15', 'basement_present',\n",
    "       'renovated', 'floors#1.0', 'floors#1.5', 'floors#2.0', 'floors#2.5',\n",
    "       'floors#3.0', 'floors#3.5', 'view#0', 'view#1', 'view#2', 'view#3',\n",
    "       'view#4', 'condition#1', 'condition#2', 'condition#3', 'condition#4',\n",
    "       'condition#5', 'grade#1', 'grade#3', 'grade#4', 'grade#5', 'grade#6',\n",
    "       'grade#7', 'grade#8', 'grade#9', 'grade#10', 'grade#11', 'grade#12',\n",
    "       'grade#13', 'zipcode#98004', 'zipcode#98102', 'zipcode#98109',\n",
    "       'zipcode#98112', 'zipcode#98039', 'zipcode#98040']\n",
    "\n",
    "#Select features for X.\n",
    "X = features[['bedrooms', 'bathrooms', 'sqft_living', 'sqft_lot',\n",
    "       'waterfront', 'sqft_above', 'sqft_basement', 'yr_built', 'yr_renovated',\n",
    "       'lat', 'long', 'sqft_living15', 'sqft_lot15', 'basement_present',\n",
    "       'renovated', 'floors#1.0', 'floors#1.5', 'floors#2.0', 'floors#2.5',\n",
    "       'floors#3.0', 'floors#3.5', 'view#0', 'view#1', 'view#2', 'view#3',\n",
    "       'view#4', 'condition#1', 'condition#2', 'condition#3', 'condition#4',\n",
    "       'condition#5', 'grade#1', 'grade#3', 'grade#4', 'grade#5', 'grade#6',\n",
    "       'grade#7', 'grade#8', 'grade#9', 'grade#10', 'grade#11', 'grade#12',\n",
    "       'grade#13', 'zipcode#98004', 'zipcode#98102', 'zipcode#98109',\n",
    "       'zipcode#98112', 'zipcode#98039', 'zipcode#98040']]\n",
    "\n",
    "#Select 'price_cat' as labels\n",
    "y = features['price_cat']\n",
    "\n",
    "#split the dataset into training set and test set, 70% training and 30% test\n",
    "X_train, X_test, y_train, y_test = train_test_split(X, y, test_size = 0.3) "
   ]
  },
  {
   "cell_type": "code",
   "execution_count": 14,
   "metadata": {},
   "outputs": [
    {
     "name": "stderr",
     "output_type": "stream",
     "text": [
      "/anaconda3/lib/python3.6/site-packages/sklearn/ensemble/weight_boosting.py:29: DeprecationWarning: numpy.core.umath_tests is an internal NumPy module and should not be imported. It will be removed in a future NumPy release.\n",
      "  from numpy.core.umath_tests import inner1d\n"
     ]
    }
   ],
   "source": [
    "#Import RandomForest Classifier\n",
    "from sklearn.ensemble import RandomForestClassifier\n",
    "\n",
    "#Define an object of RF classifier\n",
    "clf = RandomForestClassifier(n_estimators = 100) #use 100 Decision trees in the RF model.\n",
    "\n",
    "#Train the model using training sets.\n",
    "clf.fit(X_train, y_train)\n",
    "\n",
    "#Predict the answer of test data.\n",
    "y_pred = clf.predict(X_test)"
   ]
  },
  {
   "cell_type": "code",
   "execution_count": 15,
   "metadata": {},
   "outputs": [
    {
     "data": {
      "text/plain": [
       "RandomForestClassifier(bootstrap=True, class_weight=None, criterion='gini',\n",
       "            max_depth=None, max_features='auto', max_leaf_nodes=None,\n",
       "            min_impurity_decrease=0.0, min_impurity_split=None,\n",
       "            min_samples_leaf=1, min_samples_split=2,\n",
       "            min_weight_fraction_leaf=0.0, n_estimators=10, n_jobs=1,\n",
       "            oob_score=False, random_state=None, verbose=0,\n",
       "            warm_start=False)"
      ]
     },
     "execution_count": 15,
     "metadata": {},
     "output_type": "execute_result"
    }
   ],
   "source": [
    "#Import scikit_learn metrics module for accuracy calculation\n",
    "from sklearn import metrics\n",
    "\n",
    "#Look at the hyperparameters and their default number of the classifier.\n",
    "RandomForestClassifier(criterion='gini', max_depth=None, \n",
    "                       min_samples_split=2, min_samples_leaf=1, \n",
    "                       min_weight_fraction_leaf=0.0, max_features='auto', \n",
    "                       max_leaf_nodes=None, min_impurity_decrease=0.0, \n",
    "                       min_impurity_split=None, bootstrap=True, oob_score=False, \n",
    "                       n_jobs=1, random_state=None, verbose=0, \n",
    "                       warm_start=False, class_weight=None)"
   ]
  },
  {
   "cell_type": "markdown",
   "metadata": {},
   "source": [
    "## Take a look at the importance of features."
   ]
  },
  {
   "cell_type": "markdown",
   "metadata": {},
   "source": [
    "In Random Forest, the way RF solve the importance is ∑(error2-error1)/Ktree\n",
    "error1 is based on the oob_score error, and add noise error in oob_score, it will get another error2.\n",
    "The difference between error2 and error1 will be error2 - error1, then divided by Ktree."
   ]
  },
  {
   "cell_type": "code",
   "execution_count": 16,
   "metadata": {},
   "outputs": [
    {
     "data": {
      "text/plain": [
       "lat                 2.709002e-01\n",
       "sqft_living         1.178592e-01\n",
       "sqft_above          8.826640e-02\n",
       "sqft_living15       8.750884e-02\n",
       "long                5.649259e-02\n",
       "sqft_lot15          5.260054e-02\n",
       "yr_built            4.759100e-02\n",
       "sqft_lot            4.633552e-02\n",
       "bathrooms           3.843016e-02\n",
       "grade#7             2.880388e-02\n",
       "sqft_basement       2.692527e-02\n",
       "bedrooms            1.919291e-02\n",
       "grade#9             1.821891e-02\n",
       "grade#8             1.398187e-02\n",
       "grade#6             1.150741e-02\n",
       "basement_present    1.097748e-02\n",
       "view#0              8.396040e-03\n",
       "floors#1.0          6.943638e-03\n",
       "condition#3         5.968004e-03\n",
       "grade#10            5.861245e-03\n",
       "floors#2.0          5.709274e-03\n",
       "condition#4         4.398691e-03\n",
       "floors#1.5          4.006181e-03\n",
       "condition#5         3.247436e-03\n",
       "yr_renovated        3.007930e-03\n",
       "view#2              1.955426e-03\n",
       "renovated           1.862834e-03\n",
       "view#4              1.317211e-03\n",
       "zipcode#98004       1.291729e-03\n",
       "view#3              1.240386e-03\n",
       "floors#3.0          1.211498e-03\n",
       "waterfront          1.200133e-03\n",
       "zipcode#98040       1.130680e-03\n",
       "view#1              9.069235e-04\n",
       "zipcode#98112       7.855489e-04\n",
       "condition#2         7.659008e-04\n",
       "grade#5             6.566044e-04\n",
       "zipcode#98102       4.607653e-04\n",
       "floors#2.5          4.543522e-04\n",
       "condition#1         4.458882e-04\n",
       "zipcode#98109       4.433282e-04\n",
       "grade#11            3.992896e-04\n",
       "zipcode#98039       1.790133e-04\n",
       "grade#4             7.752110e-05\n",
       "floors#3.5          6.935894e-05\n",
       "grade#12            1.407430e-05\n",
       "grade#3             8.664010e-07\n",
       "grade#13            1.467539e-08\n",
       "grade#1             0.000000e+00\n",
       "dtype: float64"
      ]
     },
     "execution_count": 16,
     "metadata": {},
     "output_type": "execute_result"
    }
   ],
   "source": [
    "feature_imp = pd.Series(clf.feature_importances_, index=X_features).sort_values(ascending = False) \n",
    "feature_imp    #Create a series shows the importance number of features and sort."
   ]
  },
  {
   "cell_type": "code",
   "execution_count": 17,
   "metadata": {},
   "outputs": [
    {
     "data": {
      "text/plain": [
       "lat              0.270900\n",
       "sqft_living      0.117859\n",
       "sqft_above       0.088266\n",
       "sqft_living15    0.087509\n",
       "long             0.056493\n",
       "sqft_lot15       0.052601\n",
       "yr_built         0.047591\n",
       "sqft_lot         0.046336\n",
       "bathrooms        0.038430\n",
       "grade#7          0.028804\n",
       "dtype: float64"
      ]
     },
     "execution_count": 17,
     "metadata": {},
     "output_type": "execute_result"
    }
   ],
   "source": [
    "top_features = feature_imp.head(10) #Extract 10 highest features are most important\n",
    "top_features"
   ]
  },
  {
   "cell_type": "code",
   "execution_count": 18,
   "metadata": {},
   "outputs": [
    {
     "data": {
      "image/png": "[encoded data removed]",
      "text/plain": [
       "<Figure size 432x288 with 1 Axes>"
      ]
     },
     "metadata": {},
     "output_type": "display_data"
    }
   ],
   "source": [
    "# Creating a bar plot\n",
    "sns.barplot(x=top_features, y=top_features.index) #X-axis will be the number of importance\n",
    "                                                 #Y-axis will be name of variable.\n",
    "plt.xlabel('Feature Importance Score')  #Add labels to the graph\n",
    "plt.ylabel('Features')\n",
    "plt.title('Visualizing Important Features')\n",
    "plt.legend(list(top_features.index))  #add lengend of all top features.\n",
    "plt.show()"
   ]
  },
  {
   "cell_type": "code",
   "execution_count": 19,
   "metadata": {},
   "outputs": [],
   "source": [
    "from pprint import pprint  #pprint is a way print things in a better format."
   ]
  },
  {
   "cell_type": "code",
   "execution_count": 20,
   "metadata": {},
   "outputs": [
    {
     "name": "stdout",
     "output_type": "stream",
     "text": [
      "Parameters currenly in use:\n",
      "\n",
      "{'bootstrap': True,\n",
      " 'class_weight': None,\n",
      " 'criterion': 'gini',\n",
      " 'max_depth': None,\n",
      " 'max_features': 'auto',\n",
      " 'max_leaf_nodes': None,\n",
      " 'min_impurity_decrease': 0.0,\n",
      " 'min_impurity_split': None,\n",
      " 'min_samples_leaf': 1,\n",
      " 'min_samples_split': 2,\n",
      " 'min_weight_fraction_leaf': 0.0,\n",
      " 'n_estimators': 100,\n",
      " 'n_jobs': 1,\n",
      " 'oob_score': False,\n",
      " 'random_state': None,\n",
      " 'verbose': 0,\n",
      " 'warm_start': False}\n"
     ]
    }
   ],
   "source": [
    "# Look at the parameters used by current model.\n",
    "print('Parameters currenly in use:\\n')\n",
    "pprint(clf.get_params())"
   ]
  },
  {
   "cell_type": "markdown",
   "metadata": {},
   "source": [
    "### Use RandomSearchCV and GridSearchCV to tune important hyper-parameters:"
   ]
  },
  {
   "cell_type": "code",
   "execution_count": 21,
   "metadata": {},
   "outputs": [],
   "source": [
    "from sklearn.model_selection import RandomizedSearchCV  #import RandomizedSearchCV library"
   ]
  },
  {
   "cell_type": "code",
   "execution_count": 22,
   "metadata": {},
   "outputs": [
    {
     "name": "stdout",
     "output_type": "stream",
     "text": [
      "{'max_depth': [2, 4, 6, 8, 10, None],\n",
      " 'max_features': ['auto', 'sqrt'],\n",
      " 'min_samples_leaf': [2, 4],\n",
      " 'min_samples_split': [5, 10],\n",
      " 'n_estimators': [10, 57, 105, 152, 200]}\n"
     ]
    }
   ],
   "source": [
    "# Number of decision trees in the model.\n",
    "n_estimators = [int(x) for x in np.linspace(start=10, stop=200, num=5)] #Select  5 numbers from 10 to 200.\n",
    "# Number of features to be considered at every split \n",
    "max_features = ['auto','sqrt'] #[max_features] is the size of the random \n",
    "# Maximum number of levels in tree                          # subsets of features to consider when splitting a node.\n",
    "max_depth = [int(x) for x in np.linspace(2, 10, num=5)]   \n",
    "max_depth.append(None)   # add default condition: the split of the tree will stop until every leaf has a category.\n",
    "# Minimum number of samples required to split a node\n",
    "min_samples_split = [5, 10]\n",
    "# Minimum number of samples required at each leaf node\n",
    "min_samples_leaf = [2, 4]\n",
    "# Whether use bootstrap to select features\n",
    "#bootstrap = [True, False]\n",
    "\n",
    "# Create a dictionary to include the hyperparameter and their range.\n",
    "random_grid = {'n_estimators': n_estimators,\n",
    "               'max_features': max_features,\n",
    "               'max_depth' : max_depth,\n",
    "               'min_samples_split' : min_samples_split,\n",
    "               'min_samples_leaf' : min_samples_leaf}\n",
    "\n",
    "# And print the dictionary:\n",
    "pprint(random_grid)"
   ]
  },
  {
   "cell_type": "markdown",
   "metadata": {},
   "source": [
    "### Use the randomgrid to search for the best hyperparameters: "
   ]
  },
  {
   "cell_type": "code",
   "execution_count": 23,
   "metadata": {},
   "outputs": [
    {
     "name": "stdout",
     "output_type": "stream",
     "text": [
      "Fitting 3 folds for each of 100 candidates, totalling 300 fits\n",
      "[CV] n_estimators=200, min_samples_split=5, min_samples_leaf=2, max_features=sqrt, max_depth=2 \n",
      "[CV] n_estimators=200, min_samples_split=5, min_samples_leaf=2, max_features=sqrt, max_depth=2 \n",
      "[CV] n_estimators=200, min_samples_split=5, min_samples_leaf=2, max_features=sqrt, max_depth=2 \n",
      "[CV] n_estimators=57, min_samples_split=10, min_samples_leaf=2, max_features=auto, max_depth=2 \n",
      "[CV] n_estimators=57, min_samples_split=10, min_samples_leaf=2, max_features=auto, max_depth=2 \n",
      "[CV] n_estimators=57, min_samples_split=10, min_samples_leaf=2, max_features=auto, max_depth=2 \n",
      "[CV] n_estimators=152, min_samples_split=5, min_samples_leaf=4, max_features=auto, max_depth=6 \n",
      "[CV] n_estimators=152, min_samples_split=5, min_samples_leaf=4, max_features=auto, max_depth=6 \n",
      "[CV]  n_estimators=57, min_samples_split=10, min_samples_leaf=2, max_features=auto, max_depth=2, total=   0.6s\n",
      "[CV]  n_estimators=57, min_samples_split=10, min_samples_leaf=2, max_features=auto, max_depth=2, total=   0.6s\n",
      "[CV]  n_estimators=57, min_samples_split=10, min_samples_leaf=2, max_features=auto, max_depth=2, total=   0.5s\n",
      "[CV] n_estimators=152, min_samples_split=5, min_samples_leaf=4, max_features=auto, max_depth=6 \n",
      "[CV] n_estimators=200, min_samples_split=10, min_samples_leaf=2, max_features=sqrt, max_depth=6 \n",
      "[CV] n_estimators=200, min_samples_split=10, min_samples_leaf=2, max_features=sqrt, max_depth=6 \n",
      "[CV]  n_estimators=200, min_samples_split=5, min_samples_leaf=2, max_features=sqrt, max_depth=2, total=   1.9s\n",
      "[CV]  n_estimators=200, min_samples_split=5, min_samples_leaf=2, max_features=sqrt, max_depth=2, total=   1.9s\n",
      "[CV] n_estimators=200, min_samples_split=10, min_samples_leaf=2, max_features=sqrt, max_depth=6 \n",
      "[CV] n_estimators=200, min_samples_split=5, min_samples_leaf=2, max_features=sqrt, max_depth=6 \n",
      "[CV]  n_estimators=200, min_samples_split=5, min_samples_leaf=2, max_features=sqrt, max_depth=2, total=   2.0s\n",
      "[CV] n_estimators=200, min_samples_split=5, min_samples_leaf=2, max_features=sqrt, max_depth=6 \n",
      "[CV]  n_estimators=152, min_samples_split=5, min_samples_leaf=4, max_features=auto, max_depth=6, total=   2.5s\n",
      "[CV] n_estimators=200, min_samples_split=5, min_samples_leaf=2, max_features=sqrt, max_depth=6 \n",
      "[CV]  n_estimators=152, min_samples_split=5, min_samples_leaf=4, max_features=auto, max_depth=6, total=   2.5s\n",
      "[CV] n_estimators=105, min_samples_split=5, min_samples_leaf=4, max_features=auto, max_depth=10 \n",
      "[CV]  n_estimators=152, min_samples_split=5, min_samples_leaf=4, max_features=auto, max_depth=6, total=   2.4s\n",
      "[CV] n_estimators=105, min_samples_split=5, min_samples_leaf=4, max_features=auto, max_depth=10 \n",
      "[CV]  n_estimators=200, min_samples_split=10, min_samples_leaf=2, max_features=sqrt, max_depth=6, total=   2.9s\n",
      "[CV]  n_estimators=200, min_samples_split=10, min_samples_leaf=2, max_features=sqrt, max_depth=6, total=   2.9s\n",
      "[CV] n_estimators=105, min_samples_split=5, min_samples_leaf=4, max_features=auto, max_depth=10 \n",
      "[CV] n_estimators=152, min_samples_split=5, min_samples_leaf=4, max_features=sqrt, max_depth=None \n",
      "[CV]  n_estimators=200, min_samples_split=5, min_samples_leaf=2, max_features=sqrt, max_depth=6, total=   2.4s\n",
      "[CV]  n_estimators=105, min_samples_split=5, min_samples_leaf=4, max_features=auto, max_depth=10, total=   1.7s\n",
      "[CV]  n_estimators=200, min_samples_split=10, min_samples_leaf=2, max_features=sqrt, max_depth=6, total=   2.5s\n",
      "[CV] n_estimators=152, min_samples_split=5, min_samples_leaf=4, max_features=sqrt, max_depth=None \n",
      "[CV] n_estimators=152, min_samples_split=5, min_samples_leaf=4, max_features=sqrt, max_depth=None \n",
      "[CV] n_estimators=57, min_samples_split=10, min_samples_leaf=2, max_features=auto, max_depth=6 \n",
      "[CV]  n_estimators=200, min_samples_split=5, min_samples_leaf=2, max_features=sqrt, max_depth=6, total=   2.4s\n",
      "[CV] n_estimators=57, min_samples_split=10, min_samples_leaf=2, max_features=auto, max_depth=6 \n",
      "[CV]  n_estimators=105, min_samples_split=5, min_samples_leaf=4, max_features=auto, max_depth=10, total=   1.7s\n",
      "[CV] n_estimators=57, min_samples_split=10, min_samples_leaf=2, max_features=auto, max_depth=6 \n",
      "[CV]  n_estimators=200, min_samples_split=5, min_samples_leaf=2, max_features=sqrt, max_depth=6, total=   2.2s\n",
      "[CV] n_estimators=200, min_samples_split=10, min_samples_leaf=2, max_features=auto, max_depth=2 \n",
      "[CV]  n_estimators=57, min_samples_split=10, min_samples_leaf=2, max_features=auto, max_depth=6, total=   0.7s\n",
      "[CV] n_estimators=200, min_samples_split=10, min_samples_leaf=2, max_features=auto, max_depth=2 \n",
      "[CV]  n_estimators=57, min_samples_split=10, min_samples_leaf=2, max_features=auto, max_depth=6, total=   0.7s\n",
      "[CV] n_estimators=200, min_samples_split=10, min_samples_leaf=2, max_features=auto, max_depth=2 \n",
      "[CV]  n_estimators=105, min_samples_split=5, min_samples_leaf=4, max_features=auto, max_depth=10, total=   1.7s\n",
      "[CV] n_estimators=152, min_samples_split=5, min_samples_leaf=2, max_features=sqrt, max_depth=8 \n",
      "[CV]  n_estimators=57, min_samples_split=10, min_samples_leaf=2, max_features=auto, max_depth=6, total=   0.7s\n",
      "[CV] n_estimators=152, min_samples_split=5, min_samples_leaf=2, max_features=sqrt, max_depth=8 \n",
      "[CV]  n_estimators=200, min_samples_split=10, min_samples_leaf=2, max_features=auto, max_depth=2, total=   1.2s\n",
      "[CV] n_estimators=152, min_samples_split=5, min_samples_leaf=2, max_features=sqrt, max_depth=8 \n",
      "[CV]  n_estimators=200, min_samples_split=10, min_samples_leaf=2, max_features=auto, max_depth=2, total=   1.2s\n",
      "[CV] n_estimators=10, min_samples_split=10, min_samples_leaf=2, max_features=auto, max_depth=4 \n",
      "[CV]  n_estimators=200, min_samples_split=10, min_samples_leaf=2, max_features=auto, max_depth=2, total=   1.2s\n",
      "[CV] n_estimators=10, min_samples_split=10, min_samples_leaf=2, max_features=auto, max_depth=4 \n",
      "[CV]  n_estimators=10, min_samples_split=10, min_samples_leaf=2, max_features=auto, max_depth=4, total=   0.1s\n",
      "[CV] n_estimators=10, min_samples_split=10, min_samples_leaf=2, max_features=auto, max_depth=4 \n",
      "[CV]  n_estimators=152, min_samples_split=5, min_samples_leaf=4, max_features=sqrt, max_depth=None, total=   2.8s\n",
      "[CV] n_estimators=57, min_samples_split=10, min_samples_leaf=2, max_features=auto, max_depth=None \n",
      "[CV]  n_estimators=10, min_samples_split=10, min_samples_leaf=2, max_features=auto, max_depth=4, total=   0.1s\n",
      "[CV] n_estimators=57, min_samples_split=10, min_samples_leaf=2, max_features=auto, max_depth=None \n",
      "[CV]  n_estimators=10, min_samples_split=10, min_samples_leaf=2, max_features=auto, max_depth=4, total=   0.1s\n",
      "[CV] n_estimators=57, min_samples_split=10, min_samples_leaf=2, max_features=auto, max_depth=None \n"
     ]
    },
    {
     "name": "stderr",
     "output_type": "stream",
     "text": [
      "[Parallel(n_jobs=-1)]: Done  25 tasks      | elapsed:    7.3s\n"
     ]
    },
    {
     "name": "stdout",
     "output_type": "stream",
     "text": [
      "[CV]  n_estimators=152, min_samples_split=5, min_samples_leaf=4, max_features=sqrt, max_depth=None, total=   2.9s\n",
      "[CV] n_estimators=200, min_samples_split=5, min_samples_leaf=4, max_features=sqrt, max_depth=6 \n",
      "[CV]  n_estimators=152, min_samples_split=5, min_samples_leaf=4, max_features=sqrt, max_depth=None, total=   3.0s\n",
      "[CV] n_estimators=200, min_samples_split=5, min_samples_leaf=4, max_features=sqrt, max_depth=6 \n",
      "[CV]  n_estimators=152, min_samples_split=5, min_samples_leaf=2, max_features=sqrt, max_depth=8, total=   2.1s\n",
      "[CV] n_estimators=200, min_samples_split=5, min_samples_leaf=4, max_features=sqrt, max_depth=6 \n",
      "[CV]  n_estimators=152, min_samples_split=5, min_samples_leaf=2, max_features=sqrt, max_depth=8, total=   2.1s\n",
      "[CV]  n_estimators=57, min_samples_split=10, min_samples_leaf=2, max_features=auto, max_depth=None, total=   1.1s\n",
      "[CV] n_estimators=152, min_samples_split=10, min_samples_leaf=2, max_features=auto, max_depth=10 \n",
      "[CV] n_estimators=152, min_samples_split=10, min_samples_leaf=2, max_features=auto, max_depth=10 \n",
      "[CV]  n_estimators=57, min_samples_split=10, min_samples_leaf=2, max_features=auto, max_depth=None, total=   1.1s\n",
      "[CV] n_estimators=152, min_samples_split=10, min_samples_leaf=2, max_features=auto, max_depth=10 \n",
      "[CV]  n_estimators=57, min_samples_split=10, min_samples_leaf=2, max_features=auto, max_depth=None, total=   1.1s\n",
      "[CV] n_estimators=152, min_samples_split=5, min_samples_leaf=4, max_features=sqrt, max_depth=6 \n",
      "[CV]  n_estimators=152, min_samples_split=5, min_samples_leaf=2, max_features=sqrt, max_depth=8, total=   2.2s\n",
      "[CV] n_estimators=152, min_samples_split=5, min_samples_leaf=4, max_features=sqrt, max_depth=6 \n",
      "[CV]  n_estimators=152, min_samples_split=5, min_samples_leaf=4, max_features=sqrt, max_depth=6, total=   1.6s\n",
      "[CV] n_estimators=152, min_samples_split=5, min_samples_leaf=4, max_features=sqrt, max_depth=6 \n",
      "[CV]  n_estimators=200, min_samples_split=5, min_samples_leaf=4, max_features=sqrt, max_depth=6, total=   2.2s\n",
      "[CV] n_estimators=10, min_samples_split=5, min_samples_leaf=4, max_features=sqrt, max_depth=None \n",
      "[CV]  n_estimators=200, min_samples_split=5, min_samples_leaf=4, max_features=sqrt, max_depth=6, total=   2.1s\n",
      "[CV] n_estimators=10, min_samples_split=5, min_samples_leaf=4, max_features=sqrt, max_depth=None \n",
      "[CV]  n_estimators=200, min_samples_split=5, min_samples_leaf=4, max_features=sqrt, max_depth=6, total=   2.1s\n",
      "[CV] n_estimators=10, min_samples_split=5, min_samples_leaf=4, max_features=sqrt, max_depth=None \n",
      "[CV]  n_estimators=10, min_samples_split=5, min_samples_leaf=4, max_features=sqrt, max_depth=None, total=   0.2s\n",
      "[CV] n_estimators=10, min_samples_split=10, min_samples_leaf=2, max_features=sqrt, max_depth=10 \n",
      "[CV]  n_estimators=10, min_samples_split=5, min_samples_leaf=4, max_features=sqrt, max_depth=None, total=   0.2s\n",
      "[CV] n_estimators=10, min_samples_split=10, min_samples_leaf=2, max_features=sqrt, max_depth=10 \n",
      "[CV]  n_estimators=10, min_samples_split=5, min_samples_leaf=4, max_features=sqrt, max_depth=None, total=   0.2s\n",
      "[CV] n_estimators=10, min_samples_split=10, min_samples_leaf=2, max_features=sqrt, max_depth=10 \n",
      "[CV]  n_estimators=10, min_samples_split=10, min_samples_leaf=2, max_features=sqrt, max_depth=10, total=   0.2s\n",
      "[CV] n_estimators=10, min_samples_split=10, min_samples_leaf=4, max_features=auto, max_depth=2 \n",
      "[CV]  n_estimators=10, min_samples_split=10, min_samples_leaf=2, max_features=sqrt, max_depth=10, total=   0.2s\n",
      "[CV] n_estimators=10, min_samples_split=10, min_samples_leaf=4, max_features=auto, max_depth=2 \n",
      "[CV]  n_estimators=10, min_samples_split=10, min_samples_leaf=4, max_features=auto, max_depth=2, total=   0.1s\n",
      "[CV] n_estimators=10, min_samples_split=10, min_samples_leaf=4, max_features=auto, max_depth=2 \n",
      "[CV]  n_estimators=10, min_samples_split=10, min_samples_leaf=4, max_features=auto, max_depth=2, total=   0.1s\n",
      "[CV]  n_estimators=152, min_samples_split=10, min_samples_leaf=2, max_features=auto, max_depth=10, total=   2.4s\n",
      "[CV] n_estimators=105, min_samples_split=5, min_samples_leaf=4, max_features=sqrt, max_depth=8 \n",
      "[CV] n_estimators=105, min_samples_split=5, min_samples_leaf=4, max_features=sqrt, max_depth=8 \n",
      "[CV]  n_estimators=152, min_samples_split=10, min_samples_leaf=2, max_features=auto, max_depth=10, total=   2.4s\n",
      "[CV] n_estimators=105, min_samples_split=5, min_samples_leaf=4, max_features=sqrt, max_depth=8 \n",
      "[CV]  n_estimators=152, min_samples_split=5, min_samples_leaf=4, max_features=sqrt, max_depth=6, total=   1.7s\n",
      "[CV]  n_estimators=10, min_samples_split=10, min_samples_leaf=4, max_features=auto, max_depth=2, total=   0.1s\n",
      "[CV] n_estimators=10, min_samples_split=10, min_samples_leaf=2, max_features=auto, max_depth=8 \n",
      "[CV]  n_estimators=10, min_samples_split=10, min_samples_leaf=2, max_features=sqrt, max_depth=10, total=   0.2s\n",
      "[CV] n_estimators=10, min_samples_split=10, min_samples_leaf=2, max_features=auto, max_depth=8 \n",
      "[CV] n_estimators=10, min_samples_split=10, min_samples_leaf=2, max_features=auto, max_depth=8 \n",
      "[CV]  n_estimators=152, min_samples_split=10, min_samples_leaf=2, max_features=auto, max_depth=10, total=   2.5s\n",
      "[CV] n_estimators=105, min_samples_split=10, min_samples_leaf=2, max_features=auto, max_depth=8 \n",
      "[CV]  n_estimators=10, min_samples_split=10, min_samples_leaf=2, max_features=auto, max_depth=8, total=   0.2s\n",
      "[CV]  n_estimators=10, min_samples_split=10, min_samples_leaf=2, max_features=auto, max_depth=8, total=   0.1s\n",
      "[CV]  n_estimators=10, min_samples_split=10, min_samples_leaf=2, max_features=auto, max_depth=8, total=   0.1s\n",
      "[CV] n_estimators=105, min_samples_split=10, min_samples_leaf=2, max_features=auto, max_depth=8 \n",
      "[CV] n_estimators=105, min_samples_split=10, min_samples_leaf=2, max_features=auto, max_depth=8 \n",
      "[CV] n_estimators=200, min_samples_split=10, min_samples_leaf=4, max_features=auto, max_depth=2 \n",
      "[CV]  n_estimators=152, min_samples_split=5, min_samples_leaf=4, max_features=sqrt, max_depth=6, total=   1.8s\n",
      "[CV] n_estimators=200, min_samples_split=10, min_samples_leaf=4, max_features=auto, max_depth=2 \n",
      "[CV]  n_estimators=200, min_samples_split=10, min_samples_leaf=4, max_features=auto, max_depth=2, total=   1.1s\n",
      "[CV]  n_estimators=105, min_samples_split=5, min_samples_leaf=4, max_features=sqrt, max_depth=8, total=   1.4s\n",
      "[CV]  n_estimators=105, min_samples_split=5, min_samples_leaf=4, max_features=sqrt, max_depth=8, total=   1.4s\n",
      "[CV] n_estimators=200, min_samples_split=10, min_samples_leaf=4, max_features=auto, max_depth=2 \n",
      "[CV] n_estimators=10, min_samples_split=10, min_samples_leaf=4, max_features=sqrt, max_depth=None \n",
      "[CV]  n_estimators=105, min_samples_split=5, min_samples_leaf=4, max_features=sqrt, max_depth=8, total=   1.4s\n",
      "[CV] n_estimators=10, min_samples_split=10, min_samples_leaf=4, max_features=sqrt, max_depth=None \n",
      "[CV] n_estimators=10, min_samples_split=10, min_samples_leaf=4, max_features=sqrt, max_depth=None \n",
      "[CV]  n_estimators=105, min_samples_split=10, min_samples_leaf=2, max_features=auto, max_depth=8, total=   1.3s\n",
      "[CV] n_estimators=10, min_samples_split=5, min_samples_leaf=4, max_features=sqrt, max_depth=2 \n",
      "[CV]  n_estimators=10, min_samples_split=10, min_samples_leaf=4, max_features=sqrt, max_depth=None, total=   0.2s\n",
      "[CV]  n_estimators=10, min_samples_split=5, min_samples_leaf=4, max_features=sqrt, max_depth=2, total=   0.1s\n",
      "[CV]  n_estimators=10, min_samples_split=10, min_samples_leaf=4, max_features=sqrt, max_depth=None, total=   0.2s\n",
      "[CV] n_estimators=10, min_samples_split=5, min_samples_leaf=4, max_features=sqrt, max_depth=2 \n",
      "[CV]  n_estimators=105, min_samples_split=10, min_samples_leaf=2, max_features=auto, max_depth=8, total=   1.4s\n",
      "[CV] n_estimators=10, min_samples_split=5, min_samples_leaf=4, max_features=sqrt, max_depth=2 \n",
      "[CV]  n_estimators=10, min_samples_split=10, min_samples_leaf=4, max_features=sqrt, max_depth=None, total=   0.2s\n",
      "[CV] n_estimators=57, min_samples_split=10, min_samples_leaf=4, max_features=auto, max_depth=10 \n",
      "[CV] n_estimators=57, min_samples_split=10, min_samples_leaf=4, max_features=auto, max_depth=10 \n",
      "[CV] n_estimators=57, min_samples_split=10, min_samples_leaf=4, max_features=auto, max_depth=10 \n",
      "[CV]  n_estimators=105, min_samples_split=10, min_samples_leaf=2, max_features=auto, max_depth=8, total=   1.4s\n"
     ]
    },
    {
     "name": "stdout",
     "output_type": "stream",
     "text": [
      "[CV]  n_estimators=10, min_samples_split=5, min_samples_leaf=4, max_features=sqrt, max_depth=2, total=   0.1s\n",
      "[CV]  n_estimators=10, min_samples_split=5, min_samples_leaf=4, max_features=sqrt, max_depth=2, total=   0.1s\n",
      "[CV] n_estimators=10, min_samples_split=5, min_samples_leaf=4, max_features=sqrt, max_depth=8 \n",
      "[CV] n_estimators=10, min_samples_split=5, min_samples_leaf=4, max_features=sqrt, max_depth=8 \n",
      "[CV] n_estimators=10, min_samples_split=5, min_samples_leaf=4, max_features=sqrt, max_depth=8 \n",
      "[CV]  n_estimators=10, min_samples_split=5, min_samples_leaf=4, max_features=sqrt, max_depth=8, total=   0.2s\n",
      "[CV]  n_estimators=10, min_samples_split=5, min_samples_leaf=4, max_features=sqrt, max_depth=8, total=   0.1s\n",
      "[CV]  n_estimators=10, min_samples_split=5, min_samples_leaf=4, max_features=sqrt, max_depth=8, total=   0.2s\n",
      "[CV] n_estimators=10, min_samples_split=5, min_samples_leaf=4, max_features=auto, max_depth=2 \n",
      "[CV] n_estimators=10, min_samples_split=5, min_samples_leaf=4, max_features=auto, max_depth=2 \n",
      "[CV] n_estimators=10, min_samples_split=5, min_samples_leaf=4, max_features=auto, max_depth=2 \n",
      "[CV]  n_estimators=10, min_samples_split=5, min_samples_leaf=4, max_features=auto, max_depth=2, total=   0.1s\n",
      "[CV]  n_estimators=10, min_samples_split=5, min_samples_leaf=4, max_features=auto, max_depth=2, total=   0.1s\n",
      "[CV] n_estimators=57, min_samples_split=5, min_samples_leaf=2, max_features=auto, max_depth=None \n",
      "[CV]  n_estimators=10, min_samples_split=5, min_samples_leaf=4, max_features=auto, max_depth=2, total=   0.1s\n",
      "[CV] n_estimators=57, min_samples_split=5, min_samples_leaf=2, max_features=auto, max_depth=None \n",
      "[CV] n_estimators=57, min_samples_split=5, min_samples_leaf=2, max_features=auto, max_depth=None \n",
      "[CV]  n_estimators=200, min_samples_split=10, min_samples_leaf=4, max_features=auto, max_depth=2, total=   1.3s\n",
      "[CV] n_estimators=105, min_samples_split=10, min_samples_leaf=4, max_features=sqrt, max_depth=None \n",
      "[CV]  n_estimators=57, min_samples_split=10, min_samples_leaf=4, max_features=auto, max_depth=10, total=   1.0s\n",
      "[CV]  n_estimators=57, min_samples_split=10, min_samples_leaf=4, max_features=auto, max_depth=10, total=   0.9s\n",
      "[CV]  n_estimators=57, min_samples_split=10, min_samples_leaf=4, max_features=auto, max_depth=10, total=   1.0s\n",
      "[CV] n_estimators=105, min_samples_split=10, min_samples_leaf=4, max_features=sqrt, max_depth=None \n",
      "[CV] n_estimators=105, min_samples_split=10, min_samples_leaf=4, max_features=sqrt, max_depth=None \n",
      "[CV] n_estimators=152, min_samples_split=5, min_samples_leaf=4, max_features=sqrt, max_depth=8 \n",
      "[CV]  n_estimators=200, min_samples_split=10, min_samples_leaf=4, max_features=auto, max_depth=2, total=   1.3s\n",
      "[CV] n_estimators=152, min_samples_split=5, min_samples_leaf=4, max_features=sqrt, max_depth=8 \n",
      "[CV]  n_estimators=57, min_samples_split=5, min_samples_leaf=2, max_features=auto, max_depth=None, total=   1.1s\n",
      "[CV] n_estimators=152, min_samples_split=5, min_samples_leaf=4, max_features=sqrt, max_depth=8 \n",
      "[CV]  n_estimators=57, min_samples_split=5, min_samples_leaf=2, max_features=auto, max_depth=None, total=   1.1s\n",
      "[CV] n_estimators=57, min_samples_split=10, min_samples_leaf=4, max_features=auto, max_depth=6 \n",
      "[CV]  n_estimators=57, min_samples_split=5, min_samples_leaf=2, max_features=auto, max_depth=None, total=   1.1s\n",
      "[CV] n_estimators=57, min_samples_split=10, min_samples_leaf=4, max_features=auto, max_depth=6 \n",
      "[CV]  n_estimators=57, min_samples_split=10, min_samples_leaf=4, max_features=auto, max_depth=6, total=   0.7s\n",
      "[CV]  n_estimators=57, min_samples_split=10, min_samples_leaf=4, max_features=auto, max_depth=6, total=   0.6s\n",
      "[CV] n_estimators=57, min_samples_split=10, min_samples_leaf=4, max_features=auto, max_depth=6 \n",
      "[CV] n_estimators=152, min_samples_split=10, min_samples_leaf=2, max_features=sqrt, max_depth=None \n",
      "[CV]  n_estimators=105, min_samples_split=10, min_samples_leaf=4, max_features=sqrt, max_depth=None, total=   1.9s\n",
      "[CV] n_estimators=152, min_samples_split=10, min_samples_leaf=2, max_features=sqrt, max_depth=None \n",
      "[CV]  n_estimators=105, min_samples_split=10, min_samples_leaf=4, max_features=sqrt, max_depth=None, total=   1.9s\n",
      "[CV]  n_estimators=57, min_samples_split=10, min_samples_leaf=4, max_features=auto, max_depth=6, total=   0.6s\n",
      "[CV] n_estimators=152, min_samples_split=10, min_samples_leaf=2, max_features=sqrt, max_depth=None \n",
      "[CV] n_estimators=10, min_samples_split=10, min_samples_leaf=2, max_features=sqrt, max_depth=2 \n",
      "[CV]  n_estimators=105, min_samples_split=10, min_samples_leaf=4, max_features=sqrt, max_depth=None, total=   1.9s\n",
      "[CV] n_estimators=10, min_samples_split=10, min_samples_leaf=2, max_features=sqrt, max_depth=2 \n",
      "[CV]  n_estimators=10, min_samples_split=10, min_samples_leaf=2, max_features=sqrt, max_depth=2, total=   0.1s\n",
      "[CV] n_estimators=10, min_samples_split=10, min_samples_leaf=2, max_features=sqrt, max_depth=2 \n",
      "[CV]  n_estimators=10, min_samples_split=10, min_samples_leaf=2, max_features=sqrt, max_depth=2, total=   0.1s\n",
      "[CV]  n_estimators=152, min_samples_split=5, min_samples_leaf=4, max_features=sqrt, max_depth=8, total=   2.0s\n",
      "[CV] n_estimators=105, min_samples_split=5, min_samples_leaf=2, max_features=sqrt, max_depth=10 \n",
      "[CV] n_estimators=105, min_samples_split=5, min_samples_leaf=2, max_features=sqrt, max_depth=10 \n",
      "[CV]  n_estimators=10, min_samples_split=10, min_samples_leaf=2, max_features=sqrt, max_depth=2, total=   0.1s\n",
      "[CV] n_estimators=105, min_samples_split=5, min_samples_leaf=2, max_features=sqrt, max_depth=10 \n",
      "[CV]  n_estimators=152, min_samples_split=5, min_samples_leaf=4, max_features=sqrt, max_depth=8, total=   2.2s\n",
      "[CV] n_estimators=152, min_samples_split=10, min_samples_leaf=4, max_features=auto, max_depth=2 \n",
      "[CV]  n_estimators=152, min_samples_split=5, min_samples_leaf=4, max_features=sqrt, max_depth=8, total=   2.1s\n",
      "[CV] n_estimators=152, min_samples_split=10, min_samples_leaf=4, max_features=auto, max_depth=2 \n",
      "[CV]  n_estimators=152, min_samples_split=10, min_samples_leaf=4, max_features=auto, max_depth=2, total=   0.9s\n",
      "[CV] n_estimators=152, min_samples_split=10, min_samples_leaf=4, max_features=auto, max_depth=2 \n",
      "[CV]  n_estimators=152, min_samples_split=10, min_samples_leaf=4, max_features=auto, max_depth=2, total=   0.9s\n",
      "[CV] n_estimators=200, min_samples_split=10, min_samples_leaf=2, max_features=sqrt, max_depth=4 \n",
      "[CV]  n_estimators=105, min_samples_split=5, min_samples_leaf=2, max_features=sqrt, max_depth=10, total=   1.7s\n",
      "[CV] n_estimators=200, min_samples_split=10, min_samples_leaf=2, max_features=sqrt, max_depth=4 \n",
      "[CV]  n_estimators=105, min_samples_split=5, min_samples_leaf=2, max_features=sqrt, max_depth=10, total=   1.7s\n",
      "[CV] n_estimators=200, min_samples_split=10, min_samples_leaf=2, max_features=sqrt, max_depth=4 \n",
      "[CV]  n_estimators=105, min_samples_split=5, min_samples_leaf=2, max_features=sqrt, max_depth=10, total=   1.7s\n",
      "[CV] n_estimators=105, min_samples_split=5, min_samples_leaf=4, max_features=sqrt, max_depth=10 \n",
      "[CV]  n_estimators=152, min_samples_split=10, min_samples_leaf=4, max_features=auto, max_depth=2, total=   0.9s\n",
      "[CV] n_estimators=105, min_samples_split=5, min_samples_leaf=4, max_features=sqrt, max_depth=10 \n",
      "[CV]  n_estimators=152, min_samples_split=10, min_samples_leaf=2, max_features=sqrt, max_depth=None, total=   3.0s\n",
      "[CV] n_estimators=105, min_samples_split=5, min_samples_leaf=4, max_features=sqrt, max_depth=10 \n",
      "[CV]  n_estimators=152, min_samples_split=10, min_samples_leaf=2, max_features=sqrt, max_depth=None, total=   3.0s\n",
      "[CV] n_estimators=10, min_samples_split=10, min_samples_leaf=4, max_features=auto, max_depth=4 \n",
      "[CV]  n_estimators=10, min_samples_split=10, min_samples_leaf=4, max_features=auto, max_depth=4, total=   0.1s\n",
      "[CV] n_estimators=10, min_samples_split=10, min_samples_leaf=4, max_features=auto, max_depth=4 \n",
      "[CV]  n_estimators=10, min_samples_split=10, min_samples_leaf=4, max_features=auto, max_depth=4, total=   0.1s\n",
      "[CV] n_estimators=10, min_samples_split=10, min_samples_leaf=4, max_features=auto, max_depth=4 \n",
      "[CV]  n_estimators=152, min_samples_split=10, min_samples_leaf=2, max_features=sqrt, max_depth=None, total=   3.0s\n",
      "[CV] n_estimators=200, min_samples_split=10, min_samples_leaf=4, max_features=sqrt, max_depth=4 \n"
     ]
    },
    {
     "name": "stdout",
     "output_type": "stream",
     "text": [
      "[CV]  n_estimators=10, min_samples_split=10, min_samples_leaf=4, max_features=auto, max_depth=4, total=   0.1s\n",
      "[CV] n_estimators=200, min_samples_split=10, min_samples_leaf=4, max_features=sqrt, max_depth=4 \n",
      "[CV]  n_estimators=200, min_samples_split=10, min_samples_leaf=2, max_features=sqrt, max_depth=4, total=   1.8s\n",
      "[CV] n_estimators=200, min_samples_split=10, min_samples_leaf=4, max_features=sqrt, max_depth=4 \n",
      "[CV]  n_estimators=105, min_samples_split=5, min_samples_leaf=4, max_features=sqrt, max_depth=10, total=   1.8s\n",
      "[CV] n_estimators=10, min_samples_split=10, min_samples_leaf=4, max_features=auto, max_depth=10 \n",
      "[CV]  n_estimators=200, min_samples_split=10, min_samples_leaf=2, max_features=sqrt, max_depth=4, total=   1.8s\n",
      "[CV] n_estimators=10, min_samples_split=10, min_samples_leaf=4, max_features=auto, max_depth=10 \n",
      "[CV]  n_estimators=200, min_samples_split=10, min_samples_leaf=2, max_features=sqrt, max_depth=4, total=   1.9s\n",
      "[CV] n_estimators=10, min_samples_split=10, min_samples_leaf=4, max_features=auto, max_depth=10 \n",
      "[CV]  n_estimators=10, min_samples_split=10, min_samples_leaf=4, max_features=auto, max_depth=10, total=   0.2s\n",
      "[CV] n_estimators=105, min_samples_split=10, min_samples_leaf=2, max_features=sqrt, max_depth=None \n",
      "[CV]  n_estimators=10, min_samples_split=10, min_samples_leaf=4, max_features=auto, max_depth=10, total=   0.2s\n",
      "[CV] n_estimators=105, min_samples_split=10, min_samples_leaf=2, max_features=sqrt, max_depth=None \n",
      "[CV]  n_estimators=10, min_samples_split=10, min_samples_leaf=4, max_features=auto, max_depth=10, total=   0.2s\n",
      "[CV] n_estimators=105, min_samples_split=10, min_samples_leaf=2, max_features=sqrt, max_depth=None \n",
      "[CV]  n_estimators=105, min_samples_split=5, min_samples_leaf=4, max_features=sqrt, max_depth=10, total=   1.9s\n",
      "[CV] n_estimators=105, min_samples_split=5, min_samples_leaf=4, max_features=sqrt, max_depth=6 \n",
      "[CV]  n_estimators=105, min_samples_split=5, min_samples_leaf=4, max_features=sqrt, max_depth=10, total=   1.8s\n",
      "[CV] n_estimators=105, min_samples_split=5, min_samples_leaf=4, max_features=sqrt, max_depth=6 \n",
      "[CV]  n_estimators=200, min_samples_split=10, min_samples_leaf=4, max_features=sqrt, max_depth=4, total=   1.8s\n",
      "[CV] n_estimators=105, min_samples_split=5, min_samples_leaf=4, max_features=sqrt, max_depth=6 \n",
      "[CV]  n_estimators=200, min_samples_split=10, min_samples_leaf=4, max_features=sqrt, max_depth=4, total=   1.8s\n",
      "[CV] n_estimators=57, min_samples_split=5, min_samples_leaf=2, max_features=sqrt, max_depth=None \n",
      "[CV]  n_estimators=200, min_samples_split=10, min_samples_leaf=4, max_features=sqrt, max_depth=4, total=   1.8s\n",
      "[CV] n_estimators=57, min_samples_split=5, min_samples_leaf=2, max_features=sqrt, max_depth=None \n",
      "[CV]  n_estimators=105, min_samples_split=5, min_samples_leaf=4, max_features=sqrt, max_depth=6, total=   1.2s\n",
      "[CV] n_estimators=57, min_samples_split=5, min_samples_leaf=2, max_features=sqrt, max_depth=None \n",
      "[CV]  n_estimators=105, min_samples_split=5, min_samples_leaf=4, max_features=sqrt, max_depth=6, total=   1.2s\n",
      "[CV] n_estimators=57, min_samples_split=10, min_samples_leaf=4, max_features=auto, max_depth=2 \n",
      "[CV]  n_estimators=57, min_samples_split=10, min_samples_leaf=4, max_features=auto, max_depth=2, total=   0.3s\n",
      "[CV] n_estimators=57, min_samples_split=10, min_samples_leaf=4, max_features=auto, max_depth=2 \n",
      "[CV]  n_estimators=105, min_samples_split=10, min_samples_leaf=2, max_features=sqrt, max_depth=None, total=   2.1s\n",
      "[CV] n_estimators=57, min_samples_split=10, min_samples_leaf=4, max_features=auto, max_depth=2 \n",
      "[CV]  n_estimators=105, min_samples_split=10, min_samples_leaf=2, max_features=sqrt, max_depth=None, total=   2.1s\n",
      "[CV] n_estimators=57, min_samples_split=10, min_samples_leaf=4, max_features=sqrt, max_depth=8 \n",
      "[CV]  n_estimators=105, min_samples_split=5, min_samples_leaf=4, max_features=sqrt, max_depth=6, total=   1.3s\n",
      "[CV]  n_estimators=57, min_samples_split=5, min_samples_leaf=2, max_features=sqrt, max_depth=None, total=   1.2s\n",
      "[CV] n_estimators=57, min_samples_split=10, min_samples_leaf=4, max_features=sqrt, max_depth=8 \n",
      "[CV] n_estimators=57, min_samples_split=10, min_samples_leaf=4, max_features=sqrt, max_depth=8 \n",
      "[CV]  n_estimators=105, min_samples_split=10, min_samples_leaf=2, max_features=sqrt, max_depth=None, total=   2.1s\n",
      "[CV] n_estimators=57, min_samples_split=10, min_samples_leaf=2, max_features=sqrt, max_depth=4 \n",
      "[CV]  n_estimators=57, min_samples_split=10, min_samples_leaf=4, max_features=auto, max_depth=2, total=   0.4s\n",
      "[CV] n_estimators=57, min_samples_split=10, min_samples_leaf=2, max_features=sqrt, max_depth=4 \n",
      "[CV]  n_estimators=57, min_samples_split=10, min_samples_leaf=4, max_features=auto, max_depth=2, total=   0.4s\n",
      "[CV] n_estimators=57, min_samples_split=10, min_samples_leaf=2, max_features=sqrt, max_depth=4 \n",
      "[CV]  n_estimators=57, min_samples_split=5, min_samples_leaf=2, max_features=sqrt, max_depth=None, total=   1.2s\n",
      "[CV] n_estimators=10, min_samples_split=10, min_samples_leaf=2, max_features=auto, max_depth=10 \n",
      "[CV]  n_estimators=57, min_samples_split=5, min_samples_leaf=2, max_features=sqrt, max_depth=None, total=   1.2s\n",
      "[CV] n_estimators=10, min_samples_split=10, min_samples_leaf=2, max_features=auto, max_depth=10 \n",
      "[CV]  n_estimators=10, min_samples_split=10, min_samples_leaf=2, max_features=auto, max_depth=10, total=   0.2s\n",
      "[CV] n_estimators=10, min_samples_split=10, min_samples_leaf=2, max_features=auto, max_depth=10 \n",
      "[CV]  n_estimators=57, min_samples_split=10, min_samples_leaf=2, max_features=sqrt, max_depth=4, total=   0.6s\n",
      "[CV] n_estimators=152, min_samples_split=10, min_samples_leaf=4, max_features=sqrt, max_depth=2 \n",
      "[CV]  n_estimators=10, min_samples_split=10, min_samples_leaf=2, max_features=auto, max_depth=10, total=   0.2s\n",
      "[CV] n_estimators=152, min_samples_split=10, min_samples_leaf=4, max_features=sqrt, max_depth=2 \n",
      "[CV]  n_estimators=57, min_samples_split=10, min_samples_leaf=2, max_features=sqrt, max_depth=4, total=   0.5s\n",
      "[CV] n_estimators=152, min_samples_split=10, min_samples_leaf=4, max_features=sqrt, max_depth=2 \n",
      "[CV]  n_estimators=10, min_samples_split=10, min_samples_leaf=2, max_features=auto, max_depth=10, total=   0.2s\n",
      "[CV] n_estimators=200, min_samples_split=10, min_samples_leaf=4, max_features=auto, max_depth=8 \n",
      "[CV]  n_estimators=57, min_samples_split=10, min_samples_leaf=4, max_features=sqrt, max_depth=8, total=   0.9s\n",
      "[CV] n_estimators=200, min_samples_split=10, min_samples_leaf=4, max_features=auto, max_depth=8 \n",
      "[CV]  n_estimators=57, min_samples_split=10, min_samples_leaf=2, max_features=sqrt, max_depth=4, total=   0.6s\n",
      "[CV]  n_estimators=57, min_samples_split=10, min_samples_leaf=4, max_features=sqrt, max_depth=8, total=   0.9s\n",
      "[CV] n_estimators=200, min_samples_split=10, min_samples_leaf=4, max_features=auto, max_depth=8 \n",
      "[CV]  n_estimators=57, min_samples_split=10, min_samples_leaf=4, max_features=sqrt, max_depth=8, total=   0.9s\n",
      "[CV] n_estimators=10, min_samples_split=5, min_samples_leaf=2, max_features=sqrt, max_depth=4 \n",
      "[CV] n_estimators=10, min_samples_split=5, min_samples_leaf=2, max_features=sqrt, max_depth=4 \n",
      "[CV]  n_estimators=10, min_samples_split=5, min_samples_leaf=2, max_features=sqrt, max_depth=4, total=   0.1s\n",
      "[CV] n_estimators=10, min_samples_split=5, min_samples_leaf=2, max_features=sqrt, max_depth=4 \n",
      "[CV]  n_estimators=10, min_samples_split=5, min_samples_leaf=2, max_features=sqrt, max_depth=4, total=   0.1s\n",
      "[CV] n_estimators=200, min_samples_split=5, min_samples_leaf=2, max_features=auto, max_depth=None \n",
      "[CV]  n_estimators=10, min_samples_split=5, min_samples_leaf=2, max_features=sqrt, max_depth=4, total=   0.1s\n",
      "[CV] n_estimators=200, min_samples_split=5, min_samples_leaf=2, max_features=auto, max_depth=None \n",
      "[CV]  n_estimators=152, min_samples_split=10, min_samples_leaf=4, max_features=sqrt, max_depth=2, total=   1.0s\n",
      "[CV] n_estimators=200, min_samples_split=5, min_samples_leaf=2, max_features=auto, max_depth=None \n",
      "[CV]  n_estimators=152, min_samples_split=10, min_samples_leaf=4, max_features=sqrt, max_depth=2, total=   1.0s\n",
      "[CV] n_estimators=57, min_samples_split=10, min_samples_leaf=2, max_features=sqrt, max_depth=10 \n",
      "[CV]  n_estimators=152, min_samples_split=10, min_samples_leaf=4, max_features=sqrt, max_depth=2, total=   1.0s\n"
     ]
    },
    {
     "name": "stdout",
     "output_type": "stream",
     "text": [
      "[CV] n_estimators=57, min_samples_split=10, min_samples_leaf=2, max_features=sqrt, max_depth=10 \n"
     ]
    },
    {
     "name": "stderr",
     "output_type": "stream",
     "text": [
      "[Parallel(n_jobs=-1)]: Done 146 tasks      | elapsed:   25.2s\n"
     ]
    },
    {
     "name": "stdout",
     "output_type": "stream",
     "text": [
      "[CV]  n_estimators=57, min_samples_split=10, min_samples_leaf=2, max_features=sqrt, max_depth=10, total=   0.9s\n",
      "[CV] n_estimators=57, min_samples_split=10, min_samples_leaf=2, max_features=sqrt, max_depth=10 \n",
      "[CV]  n_estimators=57, min_samples_split=10, min_samples_leaf=2, max_features=sqrt, max_depth=10, total=   0.9s\n",
      "[CV] n_estimators=105, min_samples_split=10, min_samples_leaf=2, max_features=auto, max_depth=None \n",
      "[CV]  n_estimators=57, min_samples_split=10, min_samples_leaf=2, max_features=sqrt, max_depth=10, total=   0.9s\n",
      "[CV] n_estimators=105, min_samples_split=10, min_samples_leaf=2, max_features=auto, max_depth=None \n",
      "[CV]  n_estimators=200, min_samples_split=10, min_samples_leaf=4, max_features=auto, max_depth=8, total=   2.8s\n",
      "[CV]  n_estimators=200, min_samples_split=10, min_samples_leaf=4, max_features=auto, max_depth=8, total=   2.8s\n",
      "[CV] n_estimators=105, min_samples_split=10, min_samples_leaf=2, max_features=auto, max_depth=None \n",
      "[CV] n_estimators=152, min_samples_split=5, min_samples_leaf=4, max_features=sqrt, max_depth=10 \n",
      "[CV]  n_estimators=200, min_samples_split=10, min_samples_leaf=4, max_features=auto, max_depth=8, total=   2.8s\n",
      "[CV] n_estimators=152, min_samples_split=5, min_samples_leaf=4, max_features=sqrt, max_depth=10 \n",
      "[CV]  n_estimators=105, min_samples_split=10, min_samples_leaf=2, max_features=auto, max_depth=None, total=   2.0s\n",
      "[CV] n_estimators=152, min_samples_split=5, min_samples_leaf=4, max_features=sqrt, max_depth=10 \n",
      "[CV]  n_estimators=200, min_samples_split=5, min_samples_leaf=2, max_features=auto, max_depth=None, total=   4.0s\n",
      "[CV] n_estimators=200, min_samples_split=5, min_samples_leaf=2, max_features=sqrt, max_depth=None \n",
      "[CV]  n_estimators=200, min_samples_split=5, min_samples_leaf=2, max_features=auto, max_depth=None, total=   4.0s\n",
      "[CV] n_estimators=200, min_samples_split=5, min_samples_leaf=2, max_features=sqrt, max_depth=None \n",
      "[CV]  n_estimators=105, min_samples_split=10, min_samples_leaf=2, max_features=auto, max_depth=None, total=   2.1s\n",
      "[CV]  n_estimators=200, min_samples_split=5, min_samples_leaf=2, max_features=auto, max_depth=None, total=   4.0s\n",
      "[CV] n_estimators=200, min_samples_split=5, min_samples_leaf=2, max_features=sqrt, max_depth=None \n",
      "[CV]  n_estimators=105, min_samples_split=10, min_samples_leaf=2, max_features=auto, max_depth=None, total=   2.0s\n",
      "[CV] n_estimators=200, min_samples_split=10, min_samples_leaf=2, max_features=auto, max_depth=None \n",
      "[CV] n_estimators=200, min_samples_split=10, min_samples_leaf=2, max_features=auto, max_depth=None \n",
      "[CV]  n_estimators=152, min_samples_split=5, min_samples_leaf=4, max_features=sqrt, max_depth=10, total=   2.4s\n",
      "[CV] n_estimators=200, min_samples_split=10, min_samples_leaf=2, max_features=auto, max_depth=None \n",
      "[CV]  n_estimators=152, min_samples_split=5, min_samples_leaf=4, max_features=sqrt, max_depth=10, total=   2.4s\n",
      "[CV] n_estimators=10, min_samples_split=10, min_samples_leaf=4, max_features=sqrt, max_depth=6 \n",
      "[CV]  n_estimators=10, min_samples_split=10, min_samples_leaf=4, max_features=sqrt, max_depth=6, total=   0.1s\n",
      "[CV] n_estimators=10, min_samples_split=10, min_samples_leaf=4, max_features=sqrt, max_depth=6 \n",
      "[CV]  n_estimators=10, min_samples_split=10, min_samples_leaf=4, max_features=sqrt, max_depth=6, total=   0.1s\n",
      "[CV] n_estimators=10, min_samples_split=10, min_samples_leaf=4, max_features=sqrt, max_depth=6 \n",
      "[CV]  n_estimators=10, min_samples_split=10, min_samples_leaf=4, max_features=sqrt, max_depth=6, total=   0.1s\n",
      "[CV] n_estimators=200, min_samples_split=10, min_samples_leaf=4, max_features=auto, max_depth=None \n",
      "[CV]  n_estimators=152, min_samples_split=5, min_samples_leaf=4, max_features=sqrt, max_depth=10, total=   2.5s\n",
      "[CV] n_estimators=200, min_samples_split=10, min_samples_leaf=4, max_features=auto, max_depth=None \n",
      "[CV]  n_estimators=200, min_samples_split=5, min_samples_leaf=2, max_features=sqrt, max_depth=None, total=   4.0s\n",
      "[CV] n_estimators=200, min_samples_split=10, min_samples_leaf=4, max_features=auto, max_depth=None \n",
      "[CV]  n_estimators=200, min_samples_split=5, min_samples_leaf=2, max_features=sqrt, max_depth=None, total=   4.0s\n",
      "[CV] n_estimators=152, min_samples_split=5, min_samples_leaf=4, max_features=sqrt, max_depth=4 \n",
      "[CV]  n_estimators=200, min_samples_split=10, min_samples_leaf=2, max_features=auto, max_depth=None, total=   3.9s\n",
      "[CV] n_estimators=152, min_samples_split=5, min_samples_leaf=4, max_features=sqrt, max_depth=4 \n",
      "[CV]  n_estimators=200, min_samples_split=10, min_samples_leaf=2, max_features=auto, max_depth=None, total=   4.0s\n",
      "[CV] n_estimators=152, min_samples_split=5, min_samples_leaf=4, max_features=sqrt, max_depth=4 \n",
      "[CV]  n_estimators=200, min_samples_split=5, min_samples_leaf=2, max_features=sqrt, max_depth=None, total=   4.0s\n",
      "[CV] n_estimators=57, min_samples_split=10, min_samples_leaf=4, max_features=auto, max_depth=8 \n",
      "[CV]  n_estimators=200, min_samples_split=10, min_samples_leaf=2, max_features=auto, max_depth=None, total=   3.9s\n",
      "[CV] n_estimators=57, min_samples_split=10, min_samples_leaf=4, max_features=auto, max_depth=8 \n",
      "[CV]  n_estimators=200, min_samples_split=10, min_samples_leaf=4, max_features=auto, max_depth=None, total=   3.7s\n",
      "[CV] n_estimators=57, min_samples_split=10, min_samples_leaf=4, max_features=auto, max_depth=8 \n",
      "[CV]  n_estimators=57, min_samples_split=10, min_samples_leaf=4, max_features=auto, max_depth=8, total=   0.8s\n",
      "[CV]  n_estimators=152, min_samples_split=5, min_samples_leaf=4, max_features=sqrt, max_depth=4, total=   1.3s\n",
      "[CV] n_estimators=10, min_samples_split=10, min_samples_leaf=4, max_features=auto, max_depth=6 \n",
      "[CV] n_estimators=10, min_samples_split=10, min_samples_leaf=4, max_features=auto, max_depth=6 \n",
      "[CV]  n_estimators=10, min_samples_split=10, min_samples_leaf=4, max_features=auto, max_depth=6, total=   0.1s\n",
      "[CV] n_estimators=10, min_samples_split=10, min_samples_leaf=4, max_features=auto, max_depth=6 \n",
      "[CV]  n_estimators=10, min_samples_split=10, min_samples_leaf=4, max_features=auto, max_depth=6, total=   0.2s\n",
      "[CV] n_estimators=57, min_samples_split=10, min_samples_leaf=2, max_features=auto, max_depth=8 \n",
      "[CV]  n_estimators=10, min_samples_split=10, min_samples_leaf=4, max_features=auto, max_depth=6, total=   0.1s\n",
      "[CV] n_estimators=57, min_samples_split=10, min_samples_leaf=2, max_features=auto, max_depth=8 \n",
      "[CV]  n_estimators=57, min_samples_split=10, min_samples_leaf=4, max_features=auto, max_depth=8, total=   0.9s\n",
      "[CV] n_estimators=57, min_samples_split=10, min_samples_leaf=2, max_features=auto, max_depth=8 \n",
      "[CV]  n_estimators=152, min_samples_split=5, min_samples_leaf=4, max_features=sqrt, max_depth=4, total=   1.3s\n",
      "[CV]  n_estimators=152, min_samples_split=5, min_samples_leaf=4, max_features=sqrt, max_depth=4, total=   1.4s\n",
      "[CV] n_estimators=10, min_samples_split=5, min_samples_leaf=2, max_features=auto, max_depth=8 \n",
      "[CV] n_estimators=10, min_samples_split=5, min_samples_leaf=2, max_features=auto, max_depth=8 \n",
      "[CV]  n_estimators=200, min_samples_split=10, min_samples_leaf=4, max_features=auto, max_depth=None, total=   3.7s\n",
      "[CV] n_estimators=10, min_samples_split=5, min_samples_leaf=2, max_features=auto, max_depth=8 \n",
      "[CV]  n_estimators=10, min_samples_split=5, min_samples_leaf=2, max_features=auto, max_depth=8, total=   0.2s\n",
      "[CV]  n_estimators=10, min_samples_split=5, min_samples_leaf=2, max_features=auto, max_depth=8, total=   0.2s\n",
      "[CV] n_estimators=105, min_samples_split=10, min_samples_leaf=2, max_features=sqrt, max_depth=4 \n",
      "[CV] n_estimators=105, min_samples_split=10, min_samples_leaf=2, max_features=sqrt, max_depth=4 \n",
      "[CV]  n_estimators=57, min_samples_split=10, min_samples_leaf=4, max_features=auto, max_depth=8, total=   0.9s\n",
      "[CV] n_estimators=105, min_samples_split=10, min_samples_leaf=2, max_features=sqrt, max_depth=4 \n",
      "[CV]  n_estimators=10, min_samples_split=5, min_samples_leaf=2, max_features=auto, max_depth=8, total=   0.2s\n",
      "[CV] n_estimators=57, min_samples_split=5, min_samples_leaf=2, max_features=sqrt, max_depth=6 \n",
      "[CV]  n_estimators=57, min_samples_split=10, min_samples_leaf=2, max_features=auto, max_depth=8, total=   0.9s\n",
      "[CV] n_estimators=57, min_samples_split=5, min_samples_leaf=2, max_features=sqrt, max_depth=6 \n",
      "[CV]  n_estimators=57, min_samples_split=10, min_samples_leaf=2, max_features=auto, max_depth=8, total=   0.9s\n"
     ]
    },
    {
     "name": "stdout",
     "output_type": "stream",
     "text": [
      "[CV] n_estimators=57, min_samples_split=5, min_samples_leaf=2, max_features=sqrt, max_depth=6 \n",
      "[CV]  n_estimators=57, min_samples_split=10, min_samples_leaf=2, max_features=auto, max_depth=8, total=   0.9s\n",
      "[CV] n_estimators=152, min_samples_split=10, min_samples_leaf=2, max_features=sqrt, max_depth=4 \n",
      "[CV]  n_estimators=57, min_samples_split=5, min_samples_leaf=2, max_features=sqrt, max_depth=6, total=   0.7s\n",
      "[CV] n_estimators=152, min_samples_split=10, min_samples_leaf=2, max_features=sqrt, max_depth=4 \n",
      "[CV]  n_estimators=105, min_samples_split=10, min_samples_leaf=2, max_features=sqrt, max_depth=4, total=   1.0s\n",
      "[CV] n_estimators=152, min_samples_split=10, min_samples_leaf=2, max_features=sqrt, max_depth=4 \n",
      "[CV]  n_estimators=105, min_samples_split=10, min_samples_leaf=2, max_features=sqrt, max_depth=4, total=   1.0s\n",
      "[CV] n_estimators=152, min_samples_split=10, min_samples_leaf=2, max_features=sqrt, max_depth=6 \n",
      "[CV]  n_estimators=105, min_samples_split=10, min_samples_leaf=2, max_features=sqrt, max_depth=4, total=   1.0s\n",
      "[CV] n_estimators=152, min_samples_split=10, min_samples_leaf=2, max_features=sqrt, max_depth=6 \n",
      "[CV]  n_estimators=57, min_samples_split=5, min_samples_leaf=2, max_features=sqrt, max_depth=6, total=   0.7s\n",
      "[CV] n_estimators=152, min_samples_split=10, min_samples_leaf=2, max_features=sqrt, max_depth=6 \n",
      "[CV]  n_estimators=57, min_samples_split=5, min_samples_leaf=2, max_features=sqrt, max_depth=6, total=   0.7s\n",
      "[CV] n_estimators=200, min_samples_split=5, min_samples_leaf=2, max_features=auto, max_depth=6 \n",
      "[CV]  n_estimators=200, min_samples_split=10, min_samples_leaf=4, max_features=auto, max_depth=None, total=   4.0s\n",
      "[CV] n_estimators=200, min_samples_split=5, min_samples_leaf=2, max_features=auto, max_depth=6 \n",
      "[CV]  n_estimators=152, min_samples_split=10, min_samples_leaf=2, max_features=sqrt, max_depth=4, total=   1.3s\n",
      "[CV] n_estimators=200, min_samples_split=5, min_samples_leaf=2, max_features=auto, max_depth=6 \n",
      "[CV]  n_estimators=152, min_samples_split=10, min_samples_leaf=2, max_features=sqrt, max_depth=4, total=   1.3s\n",
      "[CV] n_estimators=105, min_samples_split=10, min_samples_leaf=4, max_features=sqrt, max_depth=6 \n",
      "[CV]  n_estimators=152, min_samples_split=10, min_samples_leaf=2, max_features=sqrt, max_depth=4, total=   1.3s\n",
      "[CV] n_estimators=105, min_samples_split=10, min_samples_leaf=4, max_features=sqrt, max_depth=6 \n",
      "[CV]  n_estimators=152, min_samples_split=10, min_samples_leaf=2, max_features=sqrt, max_depth=6, total=   1.8s\n",
      "[CV] n_estimators=105, min_samples_split=10, min_samples_leaf=4, max_features=sqrt, max_depth=6 \n",
      "[CV]  n_estimators=152, min_samples_split=10, min_samples_leaf=2, max_features=sqrt, max_depth=6, total=   1.7s\n",
      "[CV] n_estimators=200, min_samples_split=5, min_samples_leaf=4, max_features=sqrt, max_depth=10 \n",
      "[CV]  n_estimators=152, min_samples_split=10, min_samples_leaf=2, max_features=sqrt, max_depth=6, total=   1.8s\n",
      "[CV] n_estimators=200, min_samples_split=5, min_samples_leaf=4, max_features=sqrt, max_depth=10 \n",
      "[CV]  n_estimators=105, min_samples_split=10, min_samples_leaf=4, max_features=sqrt, max_depth=6, total=   1.2s\n",
      "[CV] n_estimators=200, min_samples_split=5, min_samples_leaf=4, max_features=sqrt, max_depth=10 \n",
      "[CV]  n_estimators=105, min_samples_split=10, min_samples_leaf=4, max_features=sqrt, max_depth=6, total=   1.2s\n",
      "[CV] n_estimators=105, min_samples_split=10, min_samples_leaf=4, max_features=auto, max_depth=10 \n",
      "[CV]  n_estimators=200, min_samples_split=5, min_samples_leaf=2, max_features=auto, max_depth=6, total=   2.3s\n",
      "[CV] n_estimators=105, min_samples_split=10, min_samples_leaf=4, max_features=auto, max_depth=10 \n",
      "[CV]  n_estimators=105, min_samples_split=10, min_samples_leaf=4, max_features=sqrt, max_depth=6, total=   1.2s\n",
      "[CV] n_estimators=105, min_samples_split=10, min_samples_leaf=4, max_features=auto, max_depth=10 \n",
      "[CV]  n_estimators=200, min_samples_split=5, min_samples_leaf=2, max_features=auto, max_depth=6, total=   2.3s\n",
      "[CV] n_estimators=57, min_samples_split=5, min_samples_leaf=4, max_features=sqrt, max_depth=6 \n",
      "[CV]  n_estimators=200, min_samples_split=5, min_samples_leaf=2, max_features=auto, max_depth=6, total=   2.3s\n",
      "[CV] n_estimators=57, min_samples_split=5, min_samples_leaf=4, max_features=sqrt, max_depth=6 \n",
      "[CV]  n_estimators=57, min_samples_split=5, min_samples_leaf=4, max_features=sqrt, max_depth=6, total=   0.7s\n",
      "[CV] n_estimators=57, min_samples_split=5, min_samples_leaf=4, max_features=sqrt, max_depth=6 \n",
      "[CV]  n_estimators=57, min_samples_split=5, min_samples_leaf=4, max_features=sqrt, max_depth=6, total=   0.7s\n",
      "[CV] n_estimators=200, min_samples_split=10, min_samples_leaf=2, max_features=sqrt, max_depth=2 \n",
      "[CV]  n_estimators=105, min_samples_split=10, min_samples_leaf=4, max_features=auto, max_depth=10, total=   1.7s\n",
      "[CV] n_estimators=200, min_samples_split=10, min_samples_leaf=2, max_features=sqrt, max_depth=2 \n",
      "[CV]  n_estimators=105, min_samples_split=10, min_samples_leaf=4, max_features=auto, max_depth=10, total=   1.7s\n",
      "[CV] n_estimators=200, min_samples_split=10, min_samples_leaf=2, max_features=sqrt, max_depth=2 \n",
      "[CV]  n_estimators=57, min_samples_split=5, min_samples_leaf=4, max_features=sqrt, max_depth=6, total=   0.7s\n",
      "[CV] n_estimators=200, min_samples_split=5, min_samples_leaf=2, max_features=auto, max_depth=8 \n",
      "[CV]  n_estimators=105, min_samples_split=10, min_samples_leaf=4, max_features=auto, max_depth=10, total=   1.8s\n",
      "[CV] n_estimators=200, min_samples_split=5, min_samples_leaf=2, max_features=auto, max_depth=8 \n",
      "[CV]  n_estimators=200, min_samples_split=5, min_samples_leaf=4, max_features=sqrt, max_depth=10, total=   3.4s\n",
      "[CV] n_estimators=200, min_samples_split=5, min_samples_leaf=2, max_features=auto, max_depth=8 \n",
      "[CV]  n_estimators=200, min_samples_split=10, min_samples_leaf=2, max_features=sqrt, max_depth=2, total=   1.3s\n",
      "[CV] n_estimators=10, min_samples_split=10, min_samples_leaf=4, max_features=sqrt, max_depth=4 \n",
      "[CV]  n_estimators=200, min_samples_split=5, min_samples_leaf=4, max_features=sqrt, max_depth=10, total=   3.4s\n",
      "[CV] n_estimators=10, min_samples_split=10, min_samples_leaf=4, max_features=sqrt, max_depth=4 \n",
      "[CV]  n_estimators=10, min_samples_split=10, min_samples_leaf=4, max_features=sqrt, max_depth=4, total=   0.1s\n",
      "[CV] n_estimators=10, min_samples_split=10, min_samples_leaf=4, max_features=sqrt, max_depth=4 \n",
      "[CV]  n_estimators=10, min_samples_split=10, min_samples_leaf=4, max_features=sqrt, max_depth=4, total=   0.1s\n",
      "[CV] n_estimators=105, min_samples_split=5, min_samples_leaf=2, max_features=auto, max_depth=6 \n",
      "[CV]  n_estimators=10, min_samples_split=10, min_samples_leaf=4, max_features=sqrt, max_depth=4, total=   0.1s\n",
      "[CV] n_estimators=105, min_samples_split=5, min_samples_leaf=2, max_features=auto, max_depth=6 \n",
      "[CV]  n_estimators=200, min_samples_split=10, min_samples_leaf=2, max_features=sqrt, max_depth=2, total=   1.2s\n",
      "[CV] n_estimators=105, min_samples_split=5, min_samples_leaf=2, max_features=auto, max_depth=6 \n",
      "[CV]  n_estimators=200, min_samples_split=5, min_samples_leaf=4, max_features=sqrt, max_depth=10, total=   3.4s\n",
      "[CV]  n_estimators=200, min_samples_split=10, min_samples_leaf=2, max_features=sqrt, max_depth=2, total=   1.3s\n",
      "[CV] n_estimators=10, min_samples_split=10, min_samples_leaf=2, max_features=auto, max_depth=2 \n",
      "[CV] n_estimators=10, min_samples_split=10, min_samples_leaf=2, max_features=auto, max_depth=2 \n",
      "[CV]  n_estimators=10, min_samples_split=10, min_samples_leaf=2, max_features=auto, max_depth=2, total=   0.1s\n",
      "[CV] n_estimators=10, min_samples_split=10, min_samples_leaf=2, max_features=auto, max_depth=2 \n",
      "[CV]  n_estimators=10, min_samples_split=10, min_samples_leaf=2, max_features=auto, max_depth=2, total=   0.1s\n",
      "[CV] n_estimators=57, min_samples_split=10, min_samples_leaf=4, max_features=auto, max_depth=4 \n",
      "[CV]  n_estimators=10, min_samples_split=10, min_samples_leaf=2, max_features=auto, max_depth=2, total=   0.1s\n",
      "[CV] n_estimators=57, min_samples_split=10, min_samples_leaf=4, max_features=auto, max_depth=4 \n",
      "[CV]  n_estimators=57, min_samples_split=10, min_samples_leaf=4, max_features=auto, max_depth=4, total=   0.5s\n",
      "[CV] n_estimators=57, min_samples_split=10, min_samples_leaf=4, max_features=auto, max_depth=4 \n"
     ]
    },
    {
     "name": "stdout",
     "output_type": "stream",
     "text": [
      "[CV]  n_estimators=57, min_samples_split=10, min_samples_leaf=4, max_features=auto, max_depth=4, total=   0.5s\n",
      "[CV] n_estimators=200, min_samples_split=5, min_samples_leaf=2, max_features=auto, max_depth=10 \n",
      "[CV]  n_estimators=105, min_samples_split=5, min_samples_leaf=2, max_features=auto, max_depth=6, total=   1.3s\n",
      "[CV]  n_estimators=105, min_samples_split=5, min_samples_leaf=2, max_features=auto, max_depth=6, total=   1.3s\n",
      "[CV] n_estimators=200, min_samples_split=5, min_samples_leaf=2, max_features=auto, max_depth=10 \n",
      "[CV] n_estimators=200, min_samples_split=5, min_samples_leaf=2, max_features=auto, max_depth=10 \n",
      "[CV]  n_estimators=105, min_samples_split=5, min_samples_leaf=2, max_features=auto, max_depth=6, total=   1.3s\n",
      "[CV] n_estimators=200, min_samples_split=10, min_samples_leaf=4, max_features=sqrt, max_depth=8 \n",
      "[CV]  n_estimators=57, min_samples_split=10, min_samples_leaf=4, max_features=auto, max_depth=4, total=   0.6s\n",
      "[CV] n_estimators=200, min_samples_split=10, min_samples_leaf=4, max_features=sqrt, max_depth=8 \n",
      "[CV]  n_estimators=200, min_samples_split=5, min_samples_leaf=2, max_features=auto, max_depth=8, total=   3.0s\n",
      "[CV] n_estimators=200, min_samples_split=10, min_samples_leaf=4, max_features=sqrt, max_depth=8 \n",
      "[CV]  n_estimators=200, min_samples_split=5, min_samples_leaf=2, max_features=auto, max_depth=8, total=   3.0s\n",
      "[CV] n_estimators=105, min_samples_split=10, min_samples_leaf=4, max_features=auto, max_depth=6 \n",
      "[CV]  n_estimators=200, min_samples_split=5, min_samples_leaf=2, max_features=auto, max_depth=8, total=   3.0s\n",
      "[CV] n_estimators=105, min_samples_split=10, min_samples_leaf=4, max_features=auto, max_depth=6 \n",
      "[CV]  n_estimators=105, min_samples_split=10, min_samples_leaf=4, max_features=auto, max_depth=6, total=   1.2s\n",
      "[CV] n_estimators=105, min_samples_split=10, min_samples_leaf=4, max_features=auto, max_depth=6 \n",
      "[CV]  n_estimators=105, min_samples_split=10, min_samples_leaf=4, max_features=auto, max_depth=6, total=   1.2s\n",
      "[CV] n_estimators=10, min_samples_split=10, min_samples_leaf=2, max_features=sqrt, max_depth=4 \n",
      "[CV]  n_estimators=10, min_samples_split=10, min_samples_leaf=2, max_features=sqrt, max_depth=4, total=   0.1s\n",
      "[CV] n_estimators=10, min_samples_split=10, min_samples_leaf=2, max_features=sqrt, max_depth=4 \n",
      "[CV]  n_estimators=10, min_samples_split=10, min_samples_leaf=2, max_features=sqrt, max_depth=4, total=   0.1s\n",
      "[CV] n_estimators=10, min_samples_split=10, min_samples_leaf=2, max_features=sqrt, max_depth=4 \n",
      "[CV]  n_estimators=200, min_samples_split=10, min_samples_leaf=4, max_features=sqrt, max_depth=8, total=   2.8s\n",
      "[CV] n_estimators=105, min_samples_split=5, min_samples_leaf=4, max_features=auto, max_depth=None \n",
      "[CV]  n_estimators=10, min_samples_split=10, min_samples_leaf=2, max_features=sqrt, max_depth=4, total=   0.1s\n",
      "[CV] n_estimators=105, min_samples_split=5, min_samples_leaf=4, max_features=auto, max_depth=None \n",
      "[CV]  n_estimators=200, min_samples_split=5, min_samples_leaf=2, max_features=auto, max_depth=10, total=   3.3s\n",
      "[CV] n_estimators=105, min_samples_split=5, min_samples_leaf=4, max_features=auto, max_depth=None \n",
      "[CV]  n_estimators=200, min_samples_split=10, min_samples_leaf=4, max_features=sqrt, max_depth=8, total=   2.9s\n",
      "[CV] n_estimators=152, min_samples_split=10, min_samples_leaf=2, max_features=auto, max_depth=None \n",
      "[CV]  n_estimators=200, min_samples_split=5, min_samples_leaf=2, max_features=auto, max_depth=10, total=   3.4s\n",
      "[CV]  n_estimators=200, min_samples_split=5, min_samples_leaf=2, max_features=auto, max_depth=10, total=   3.4s\n",
      "[CV] n_estimators=152, min_samples_split=10, min_samples_leaf=2, max_features=auto, max_depth=None \n",
      "[CV] n_estimators=152, min_samples_split=10, min_samples_leaf=2, max_features=auto, max_depth=None \n",
      "[CV]  n_estimators=105, min_samples_split=10, min_samples_leaf=4, max_features=auto, max_depth=6, total=   1.3s\n",
      "[CV] n_estimators=105, min_samples_split=5, min_samples_leaf=2, max_features=sqrt, max_depth=8 \n",
      "[CV]  n_estimators=200, min_samples_split=10, min_samples_leaf=4, max_features=sqrt, max_depth=8, total=   2.9s\n",
      "[CV] n_estimators=105, min_samples_split=5, min_samples_leaf=2, max_features=sqrt, max_depth=8 \n",
      "[CV]  n_estimators=105, min_samples_split=5, min_samples_leaf=4, max_features=auto, max_depth=None, total=   2.1s\n",
      "[CV] n_estimators=105, min_samples_split=5, min_samples_leaf=2, max_features=sqrt, max_depth=8 \n",
      "[CV]  n_estimators=105, min_samples_split=5, min_samples_leaf=4, max_features=auto, max_depth=None, total=   2.1s\n",
      "[CV]  n_estimators=105, min_samples_split=5, min_samples_leaf=2, max_features=sqrt, max_depth=8, total=   1.5s\n",
      "[CV] n_estimators=57, min_samples_split=5, min_samples_leaf=4, max_features=sqrt, max_depth=2 \n",
      "[CV] n_estimators=57, min_samples_split=5, min_samples_leaf=4, max_features=sqrt, max_depth=2 \n",
      "[CV]  n_estimators=105, min_samples_split=5, min_samples_leaf=4, max_features=auto, max_depth=None, total=   2.0s\n",
      "[CV] n_estimators=57, min_samples_split=5, min_samples_leaf=4, max_features=sqrt, max_depth=2 \n",
      "[CV]  n_estimators=105, min_samples_split=5, min_samples_leaf=2, max_features=sqrt, max_depth=8, total=   1.5s\n",
      "[CV] n_estimators=105, min_samples_split=5, min_samples_leaf=4, max_features=auto, max_depth=2 \n",
      "[CV]  n_estimators=57, min_samples_split=5, min_samples_leaf=4, max_features=sqrt, max_depth=2, total=   0.4s\n",
      "[CV]  n_estimators=57, min_samples_split=5, min_samples_leaf=4, max_features=sqrt, max_depth=2, total=   0.4s\n",
      "[CV] n_estimators=105, min_samples_split=5, min_samples_leaf=4, max_features=auto, max_depth=2 \n",
      "[CV] n_estimators=105, min_samples_split=5, min_samples_leaf=4, max_features=auto, max_depth=2 \n",
      "[CV]  n_estimators=57, min_samples_split=5, min_samples_leaf=4, max_features=sqrt, max_depth=2, total=   0.4s\n",
      "[CV] n_estimators=10, min_samples_split=10, min_samples_leaf=4, max_features=sqrt, max_depth=2 \n",
      "[CV]  n_estimators=10, min_samples_split=10, min_samples_leaf=4, max_features=sqrt, max_depth=2, total=   0.1s\n",
      "[CV] n_estimators=10, min_samples_split=10, min_samples_leaf=4, max_features=sqrt, max_depth=2 \n",
      "[CV]  n_estimators=10, min_samples_split=10, min_samples_leaf=4, max_features=sqrt, max_depth=2, total=   0.1s\n",
      "[CV] n_estimators=10, min_samples_split=10, min_samples_leaf=4, max_features=sqrt, max_depth=2 \n",
      "[CV]  n_estimators=10, min_samples_split=10, min_samples_leaf=4, max_features=sqrt, max_depth=2, total=   0.1s\n",
      "[CV] n_estimators=152, min_samples_split=10, min_samples_leaf=2, max_features=sqrt, max_depth=2 \n",
      "[CV]  n_estimators=105, min_samples_split=5, min_samples_leaf=4, max_features=auto, max_depth=2, total=   0.8s\n",
      "[CV] n_estimators=152, min_samples_split=10, min_samples_leaf=2, max_features=sqrt, max_depth=2 \n",
      "[CV]  n_estimators=105, min_samples_split=5, min_samples_leaf=4, max_features=auto, max_depth=2, total=   0.8s\n",
      "[CV]  n_estimators=105, min_samples_split=5, min_samples_leaf=4, max_features=auto, max_depth=2, total=   0.7s\n",
      "[CV] n_estimators=152, min_samples_split=10, min_samples_leaf=2, max_features=sqrt, max_depth=2 \n",
      "[CV] n_estimators=105, min_samples_split=5, min_samples_leaf=2, max_features=auto, max_depth=4 \n",
      "[CV]  n_estimators=152, min_samples_split=10, min_samples_leaf=2, max_features=auto, max_depth=None, total=   3.2s\n",
      "[CV] n_estimators=105, min_samples_split=5, min_samples_leaf=2, max_features=auto, max_depth=4 \n",
      "[CV]  n_estimators=152, min_samples_split=10, min_samples_leaf=2, max_features=auto, max_depth=None, total=   3.2s\n",
      "[CV]  n_estimators=105, min_samples_split=5, min_samples_leaf=2, max_features=sqrt, max_depth=8, total=   1.7s\n",
      "[CV] n_estimators=105, min_samples_split=5, min_samples_leaf=2, max_features=auto, max_depth=4 \n",
      "[CV] n_estimators=152, min_samples_split=5, min_samples_leaf=2, max_features=sqrt, max_depth=None \n",
      "[CV]  n_estimators=152, min_samples_split=10, min_samples_leaf=2, max_features=auto, max_depth=None, total=   3.2s\n",
      "[CV] n_estimators=152, min_samples_split=5, min_samples_leaf=2, max_features=sqrt, max_depth=None \n",
      "[CV]  n_estimators=152, min_samples_split=10, min_samples_leaf=2, max_features=sqrt, max_depth=2, total=   1.0s\n",
      "[CV] n_estimators=152, min_samples_split=5, min_samples_leaf=2, max_features=sqrt, max_depth=None \n",
      "[CV]  n_estimators=152, min_samples_split=10, min_samples_leaf=2, max_features=sqrt, max_depth=2, total=   1.0s\n"
     ]
    },
    {
     "name": "stdout",
     "output_type": "stream",
     "text": [
      "[CV] n_estimators=152, min_samples_split=10, min_samples_leaf=2, max_features=sqrt, max_depth=8 \n",
      "[CV]  n_estimators=152, min_samples_split=10, min_samples_leaf=2, max_features=sqrt, max_depth=2, total=   0.9s\n",
      "[CV] n_estimators=152, min_samples_split=10, min_samples_leaf=2, max_features=sqrt, max_depth=8 \n",
      "[CV]  n_estimators=105, min_samples_split=5, min_samples_leaf=2, max_features=auto, max_depth=4, total=   1.0s\n",
      "[CV] n_estimators=152, min_samples_split=10, min_samples_leaf=2, max_features=sqrt, max_depth=8 \n",
      "[CV]  n_estimators=105, min_samples_split=5, min_samples_leaf=2, max_features=auto, max_depth=4, total=   1.0s\n",
      "[CV] n_estimators=57, min_samples_split=5, min_samples_leaf=2, max_features=auto, max_depth=10 \n",
      "[CV]  n_estimators=105, min_samples_split=5, min_samples_leaf=2, max_features=auto, max_depth=4, total=   1.0s\n",
      "[CV] n_estimators=57, min_samples_split=5, min_samples_leaf=2, max_features=auto, max_depth=10 \n",
      "[CV]  n_estimators=57, min_samples_split=5, min_samples_leaf=2, max_features=auto, max_depth=10, total=   0.9s\n",
      "[CV] n_estimators=57, min_samples_split=5, min_samples_leaf=2, max_features=auto, max_depth=10 \n",
      "[CV]  n_estimators=57, min_samples_split=5, min_samples_leaf=2, max_features=auto, max_depth=10, total=   1.0s\n",
      "[CV] n_estimators=57, min_samples_split=5, min_samples_leaf=4, max_features=auto, max_depth=4 \n",
      "[CV]  n_estimators=57, min_samples_split=5, min_samples_leaf=4, max_features=auto, max_depth=4, total=   0.5s\n",
      "[CV] n_estimators=57, min_samples_split=5, min_samples_leaf=4, max_features=auto, max_depth=4 \n",
      "[CV]  n_estimators=152, min_samples_split=10, min_samples_leaf=2, max_features=sqrt, max_depth=8, total=   2.2s\n",
      "[CV] n_estimators=57, min_samples_split=5, min_samples_leaf=4, max_features=auto, max_depth=4 \n",
      "[CV]  n_estimators=57, min_samples_split=5, min_samples_leaf=2, max_features=auto, max_depth=10, total=   1.0s\n",
      "[CV] n_estimators=105, min_samples_split=10, min_samples_leaf=4, max_features=auto, max_depth=8 \n",
      "[CV]  n_estimators=152, min_samples_split=10, min_samples_leaf=2, max_features=sqrt, max_depth=8, total=   2.2s\n",
      "[CV] n_estimators=105, min_samples_split=10, min_samples_leaf=4, max_features=auto, max_depth=8 \n",
      "[CV]  n_estimators=152, min_samples_split=10, min_samples_leaf=2, max_features=sqrt, max_depth=8, total=   2.2s\n",
      "[CV] n_estimators=105, min_samples_split=10, min_samples_leaf=4, max_features=auto, max_depth=8 \n",
      "[CV]  n_estimators=57, min_samples_split=5, min_samples_leaf=4, max_features=auto, max_depth=4, total=   0.6s\n",
      "[CV] n_estimators=10, min_samples_split=5, min_samples_leaf=4, max_features=sqrt, max_depth=10 \n",
      "[CV]  n_estimators=57, min_samples_split=5, min_samples_leaf=4, max_features=auto, max_depth=4, total=   0.5s\n",
      "[CV] n_estimators=10, min_samples_split=5, min_samples_leaf=4, max_features=sqrt, max_depth=10 \n",
      "[CV]  n_estimators=152, min_samples_split=5, min_samples_leaf=2, max_features=sqrt, max_depth=None, total=   3.2s\n",
      "[CV] n_estimators=10, min_samples_split=5, min_samples_leaf=4, max_features=sqrt, max_depth=10 \n",
      "[CV]  n_estimators=152, min_samples_split=5, min_samples_leaf=2, max_features=sqrt, max_depth=None, total=   3.3s\n",
      "[CV] n_estimators=57, min_samples_split=10, min_samples_leaf=4, max_features=sqrt, max_depth=4 \n",
      "[CV]  n_estimators=10, min_samples_split=5, min_samples_leaf=4, max_features=sqrt, max_depth=10, total=   0.2s\n",
      "[CV] n_estimators=57, min_samples_split=10, min_samples_leaf=4, max_features=sqrt, max_depth=4 \n",
      "[CV]  n_estimators=10, min_samples_split=5, min_samples_leaf=4, max_features=sqrt, max_depth=10, total=   0.2s\n",
      "[CV] n_estimators=57, min_samples_split=10, min_samples_leaf=4, max_features=sqrt, max_depth=4 \n",
      "[CV]  n_estimators=10, min_samples_split=5, min_samples_leaf=4, max_features=sqrt, max_depth=10, total=   0.2s\n",
      "[CV] n_estimators=57, min_samples_split=5, min_samples_leaf=2, max_features=auto, max_depth=4 \n",
      "[CV]  n_estimators=152, min_samples_split=5, min_samples_leaf=2, max_features=sqrt, max_depth=None, total=   3.2s\n",
      "[CV] n_estimators=57, min_samples_split=5, min_samples_leaf=2, max_features=auto, max_depth=4 \n",
      "[CV]  n_estimators=57, min_samples_split=10, min_samples_leaf=4, max_features=sqrt, max_depth=4, total=   0.6s\n",
      "[CV] n_estimators=57, min_samples_split=5, min_samples_leaf=2, max_features=auto, max_depth=4 \n",
      "[CV]  n_estimators=57, min_samples_split=10, min_samples_leaf=4, max_features=sqrt, max_depth=4, total=   0.6s\n",
      "[CV]  n_estimators=57, min_samples_split=10, min_samples_leaf=4, max_features=sqrt, max_depth=4, total=   0.5s\n",
      "[CV] n_estimators=105, min_samples_split=5, min_samples_leaf=2, max_features=auto, max_depth=10 \n",
      "[CV] n_estimators=105, min_samples_split=5, min_samples_leaf=2, max_features=auto, max_depth=10 \n",
      "[CV]  n_estimators=57, min_samples_split=5, min_samples_leaf=2, max_features=auto, max_depth=4, total=   0.5s\n",
      "[CV] n_estimators=105, min_samples_split=5, min_samples_leaf=2, max_features=auto, max_depth=10 \n",
      "[CV]  n_estimators=57, min_samples_split=5, min_samples_leaf=2, max_features=auto, max_depth=4, total=   0.5s\n",
      "[CV] n_estimators=57, min_samples_split=10, min_samples_leaf=2, max_features=sqrt, max_depth=8 \n",
      "[CV]  n_estimators=105, min_samples_split=10, min_samples_leaf=4, max_features=auto, max_depth=8, total=   1.7s\n",
      "[CV] n_estimators=57, min_samples_split=10, min_samples_leaf=2, max_features=sqrt, max_depth=8 \n",
      "[CV]  n_estimators=105, min_samples_split=10, min_samples_leaf=4, max_features=auto, max_depth=8, total=   1.7s\n",
      "[CV] n_estimators=57, min_samples_split=10, min_samples_leaf=2, max_features=sqrt, max_depth=8 \n",
      "[CV]  n_estimators=57, min_samples_split=5, min_samples_leaf=2, max_features=auto, max_depth=4, total=   0.6s\n",
      "[CV]  n_estimators=105, min_samples_split=10, min_samples_leaf=4, max_features=auto, max_depth=8, total=   1.6s\n",
      "[CV]  n_estimators=57, min_samples_split=10, min_samples_leaf=2, max_features=sqrt, max_depth=8, total=   0.8s\n",
      "[CV]  n_estimators=57, min_samples_split=10, min_samples_leaf=2, max_features=sqrt, max_depth=8, total=   0.7s\n",
      "[CV]  n_estimators=57, min_samples_split=10, min_samples_leaf=2, max_features=sqrt, max_depth=8, total=   0.7s\n",
      "[CV]  n_estimators=105, min_samples_split=5, min_samples_leaf=2, max_features=auto, max_depth=10, total=   1.5s\n",
      "[CV]  n_estimators=105, min_samples_split=5, min_samples_leaf=2, max_features=auto, max_depth=10, total=   1.5s\n",
      "[CV]  n_estimators=105, min_samples_split=5, min_samples_leaf=2, max_features=auto, max_depth=10, total=   1.5s\n"
     ]
    },
    {
     "name": "stderr",
     "output_type": "stream",
     "text": [
      "[Parallel(n_jobs=-1)]: Done 300 out of 300 | elapsed:   58.1s finished\n"
     ]
    },
    {
     "data": {
      "text/plain": [
       "RandomizedSearchCV(cv=3, error_score='raise',\n",
       "          estimator=RandomForestClassifier(bootstrap=True, class_weight=None, criterion='gini',\n",
       "            max_depth=None, max_features='auto', max_leaf_nodes=None,\n",
       "            min_impurity_decrease=0.0, min_impurity_split=None,\n",
       "            min_samples_leaf=1, min_samples_split=2,\n",
       "            min_weight_fraction_leaf=0.0, n_estimators=10, n_jobs=1,\n",
       "            oob_score=False, random_state=None, verbose=0,\n",
       "            warm_start=False),\n",
       "          fit_params=None, iid=True, n_iter=100, n_jobs=-1,\n",
       "          param_distributions={'n_estimators': [10, 57, 105, 152, 200], 'max_features': ['auto', 'sqrt'], 'max_depth': [2, 4, 6, 8, 10, None], 'min_samples_split': [5, 10], 'min_samples_leaf': [2, 4]},\n",
       "          pre_dispatch='2*n_jobs', random_state=42, refit=True,\n",
       "          return_train_score='warn', scoring=None, verbose=2)"
      ]
     },
     "execution_count": 23,
     "metadata": {},
     "output_type": "execute_result"
    }
   ],
   "source": [
    "#First, create a base model:\n",
    "clf_base = RandomForestClassifier()\n",
    "#Random search of parameters\n",
    "#Use 100 different combinations, and use all available cores\n",
    "clf_random = RandomizedSearchCV(estimator=clf_base,  #Use the base model\n",
    "                                param_distributions=random_grid,  #use the dictionary created before\n",
    "                                n_iter=100,    #100 different combinations\n",
    "                                cv = 3,       # 3 fold cross validations \n",
    "                                verbose=2,     \n",
    "                                random_state=42,   # never shuffle the data\n",
    "                                n_jobs = -1)     #Use parallel process, -1 means the number of parallel will be the same as computer cores.\n",
    "#Fit the random search model\n",
    "clf_random.fit(X_train, y_train)"
   ]
  },
  {
   "cell_type": "code",
   "execution_count": 24,
   "metadata": {},
   "outputs": [
    {
     "data": {
      "text/plain": [
       "{'n_estimators': 200,\n",
       " 'min_samples_split': 10,\n",
       " 'min_samples_leaf': 2,\n",
       " 'max_features': 'auto',\n",
       " 'max_depth': None}"
      ]
     },
     "execution_count": 24,
     "metadata": {},
     "output_type": "execute_result"
    }
   ],
   "source": [
    "#From all of the outcomes get the best one.\n",
    "clf_random.best_params_"
   ]
  },
  {
   "cell_type": "markdown",
   "metadata": {},
   "source": [
    "Evaluate the model with Roc_auc(because it is binary classification problem)"
   ]
  },
  {
   "cell_type": "code",
   "execution_count": 25,
   "metadata": {},
   "outputs": [],
   "source": [
    "from sklearn.metrics import roc_curve, auc\n",
    "def evaluate(model, X_train, y_train, X_test, y_test):\n",
    "    model.fit(X_train, y_train)\n",
    "    predictions = model.predict(X_test)\n",
    "    false_positive, true_positive_rate, thresholds = roc_curve(y_test, predictions)  \n",
    "    roc_auc = auc(false_positive, true_positive_rate)\n",
    "    return roc_auc"
   ]
  },
  {
   "cell_type": "code",
   "execution_count": 26,
   "metadata": {},
   "outputs": [],
   "source": [
    "#classifier of base model\n",
    "base_model = RandomForestClassifier(n_estimators=10, random_state=42)"
   ]
  },
  {
   "cell_type": "code",
   "execution_count": 27,
   "metadata": {},
   "outputs": [],
   "source": [
    "#use the classifier with best parameters we got just now\n",
    "best_random = clf_random.best_estimator_"
   ]
  },
  {
   "cell_type": "code",
   "execution_count": 28,
   "metadata": {},
   "outputs": [
    {
     "name": "stdout",
     "output_type": "stream",
     "text": [
      "ROC for base model : 0.8963651591289782\n",
      "ROC for best model : 0.9050628140703518\n"
     ]
    }
   ],
   "source": [
    "#print out the AUC value of base model\n",
    "print('ROC for base model : ' + str(evaluate(base_model, X_train, y_train, X_test, y_test)))\n",
    "#print out the AUC value of best model with best parameters.\n",
    "print('ROC for best model : ' + str(evaluate(best_random, X_train, y_train, X_test, y_test)))"
   ]
  },
  {
   "cell_type": "markdown",
   "metadata": {},
   "source": [
    "The AUC value increases after tuning the hypreparameter in Random Forest."
   ]
  },
  {
   "cell_type": "markdown",
   "metadata": {},
   "source": [
    "## Grid Search with Cross Validation"
   ]
  },
  {
   "cell_type": "code",
   "execution_count": 29,
   "metadata": {},
   "outputs": [],
   "source": [
    "from sklearn.model_selection import GridSearchCV    #import GridSearchCV library\n",
    "param_grid = {\n",
    "    'bootstrap': [True],\n",
    "    'max_features': ['auto'],\n",
    "    'min_samples_leaf': [1, 2, 3],\n",
    "    'min_samples_split': [3, 5, 7],\n",
    "    'n_estimators': [100, 200, 2000]\n",
    "}\n",
    "\n",
    "#create base model\n",
    "clf = RandomForestClassifier()"
   ]
  },
  {
   "cell_type": "code",
   "execution_count": 30,
   "metadata": {},
   "outputs": [
    {
     "name": "stdout",
     "output_type": "stream",
     "text": [
      "Fitting 3 folds for each of 27 candidates, totalling 81 fits\n",
      "[CV] bootstrap=True, max_features=auto, min_samples_leaf=1, min_samples_split=3, n_estimators=100 \n",
      "[CV] bootstrap=True, max_features=auto, min_samples_leaf=1, min_samples_split=3, n_estimators=100 \n",
      "[CV] bootstrap=True, max_features=auto, min_samples_leaf=1, min_samples_split=3, n_estimators=100 \n",
      "[CV] bootstrap=True, max_features=auto, min_samples_leaf=1, min_samples_split=3, n_estimators=200 \n",
      "[CV] bootstrap=True, max_features=auto, min_samples_leaf=1, min_samples_split=3, n_estimators=200 \n",
      "[CV] bootstrap=True, max_features=auto, min_samples_leaf=1, min_samples_split=3, n_estimators=200 \n",
      "[CV] bootstrap=True, max_features=auto, min_samples_leaf=1, min_samples_split=3, n_estimators=2000 \n",
      "[CV] bootstrap=True, max_features=auto, min_samples_leaf=1, min_samples_split=3, n_estimators=2000 \n",
      "[CV]  bootstrap=True, max_features=auto, min_samples_leaf=1, min_samples_split=3, n_estimators=100, total=   2.1s\n",
      "[CV] bootstrap=True, max_features=auto, min_samples_leaf=1, min_samples_split=3, n_estimators=2000 \n",
      "[CV]  bootstrap=True, max_features=auto, min_samples_leaf=1, min_samples_split=3, n_estimators=100, total=   2.1s\n",
      "[CV] bootstrap=True, max_features=auto, min_samples_leaf=1, min_samples_split=5, n_estimators=100 \n",
      "[CV]  bootstrap=True, max_features=auto, min_samples_leaf=1, min_samples_split=3, n_estimators=100, total=   2.1s\n",
      "[CV] bootstrap=True, max_features=auto, min_samples_leaf=1, min_samples_split=5, n_estimators=100 \n",
      "[CV]  bootstrap=True, max_features=auto, min_samples_leaf=1, min_samples_split=5, n_estimators=100, total=   2.1s\n",
      "[CV]  bootstrap=True, max_features=auto, min_samples_leaf=1, min_samples_split=5, n_estimators=100, total=   2.0s\n",
      "[CV] bootstrap=True, max_features=auto, min_samples_leaf=1, min_samples_split=5, n_estimators=100 \n",
      "[CV]  bootstrap=True, max_features=auto, min_samples_leaf=1, min_samples_split=3, n_estimators=200, total=   4.2s\n",
      "[CV] bootstrap=True, max_features=auto, min_samples_leaf=1, min_samples_split=5, n_estimators=200 \n",
      "[CV] bootstrap=True, max_features=auto, min_samples_leaf=1, min_samples_split=5, n_estimators=200 \n",
      "[CV]  bootstrap=True, max_features=auto, min_samples_leaf=1, min_samples_split=3, n_estimators=200, total=   4.2s\n",
      "[CV] bootstrap=True, max_features=auto, min_samples_leaf=1, min_samples_split=5, n_estimators=200 \n",
      "[CV]  bootstrap=True, max_features=auto, min_samples_leaf=1, min_samples_split=3, n_estimators=200, total=   4.2s\n",
      "[CV] bootstrap=True, max_features=auto, min_samples_leaf=1, min_samples_split=5, n_estimators=2000 \n",
      "[CV]  bootstrap=True, max_features=auto, min_samples_leaf=1, min_samples_split=5, n_estimators=100, total=   2.1s\n",
      "[CV] bootstrap=True, max_features=auto, min_samples_leaf=1, min_samples_split=5, n_estimators=2000 \n",
      "[CV]  bootstrap=True, max_features=auto, min_samples_leaf=1, min_samples_split=5, n_estimators=200, total=   4.2s\n",
      "[CV] bootstrap=True, max_features=auto, min_samples_leaf=1, min_samples_split=5, n_estimators=2000 \n",
      "[CV]  bootstrap=True, max_features=auto, min_samples_leaf=1, min_samples_split=5, n_estimators=200, total=   4.2s\n",
      "[CV] bootstrap=True, max_features=auto, min_samples_leaf=1, min_samples_split=7, n_estimators=100 \n",
      "[CV]  bootstrap=True, max_features=auto, min_samples_leaf=1, min_samples_split=5, n_estimators=200, total=   4.2s\n",
      "[CV] bootstrap=True, max_features=auto, min_samples_leaf=1, min_samples_split=7, n_estimators=100 \n",
      "[CV]  bootstrap=True, max_features=auto, min_samples_leaf=1, min_samples_split=7, n_estimators=100, total=   2.1s\n",
      "[CV] bootstrap=True, max_features=auto, min_samples_leaf=1, min_samples_split=7, n_estimators=100 \n",
      "[CV]  bootstrap=True, max_features=auto, min_samples_leaf=1, min_samples_split=7, n_estimators=100, total=   2.1s\n",
      "[CV] bootstrap=True, max_features=auto, min_samples_leaf=1, min_samples_split=7, n_estimators=200 \n",
      "[CV]  bootstrap=True, max_features=auto, min_samples_leaf=1, min_samples_split=7, n_estimators=100, total=   2.1s\n",
      "[CV] bootstrap=True, max_features=auto, min_samples_leaf=1, min_samples_split=7, n_estimators=200 \n",
      "[CV]  bootstrap=True, max_features=auto, min_samples_leaf=1, min_samples_split=7, n_estimators=200, total=   4.1s\n",
      "[CV] bootstrap=True, max_features=auto, min_samples_leaf=1, min_samples_split=7, n_estimators=200 \n",
      "[CV]  bootstrap=True, max_features=auto, min_samples_leaf=1, min_samples_split=7, n_estimators=200, total=   4.1s\n",
      "[CV] bootstrap=True, max_features=auto, min_samples_leaf=1, min_samples_split=7, n_estimators=2000 \n",
      "[CV]  bootstrap=True, max_features=auto, min_samples_leaf=1, min_samples_split=7, n_estimators=200, total=   4.1s\n",
      "[CV] bootstrap=True, max_features=auto, min_samples_leaf=1, min_samples_split=7, n_estimators=2000 \n",
      "[CV]  bootstrap=True, max_features=auto, min_samples_leaf=1, min_samples_split=3, n_estimators=2000, total=  42.3s\n",
      "[CV] bootstrap=True, max_features=auto, min_samples_leaf=1, min_samples_split=7, n_estimators=2000 \n",
      "[CV]  bootstrap=True, max_features=auto, min_samples_leaf=1, min_samples_split=3, n_estimators=2000, total=  42.7s\n",
      "[CV] bootstrap=True, max_features=auto, min_samples_leaf=2, min_samples_split=3, n_estimators=100 \n",
      "[CV]  bootstrap=True, max_features=auto, min_samples_leaf=1, min_samples_split=3, n_estimators=2000, total=  42.7s\n",
      "[CV]  bootstrap=True, max_features=auto, min_samples_leaf=2, min_samples_split=3, n_estimators=100, total=   2.0s\n",
      "[CV] bootstrap=True, max_features=auto, min_samples_leaf=2, min_samples_split=3, n_estimators=100 \n",
      "[CV] bootstrap=True, max_features=auto, min_samples_leaf=2, min_samples_split=3, n_estimators=100 \n",
      "[CV]  bootstrap=True, max_features=auto, min_samples_leaf=1, min_samples_split=5, n_estimators=2000, total=  41.6s\n",
      "[CV] bootstrap=True, max_features=auto, min_samples_leaf=2, min_samples_split=3, n_estimators=200 \n",
      "[CV]  bootstrap=True, max_features=auto, min_samples_leaf=2, min_samples_split=3, n_estimators=100, total=   2.0s\n",
      "[CV]  bootstrap=True, max_features=auto, min_samples_leaf=2, min_samples_split=3, n_estimators=100, total=   2.0s\n",
      "[CV] bootstrap=True, max_features=auto, min_samples_leaf=2, min_samples_split=3, n_estimators=200 \n",
      "[CV] bootstrap=True, max_features=auto, min_samples_leaf=2, min_samples_split=3, n_estimators=200 \n"
     ]
    },
    {
     "name": "stderr",
     "output_type": "stream",
     "text": [
      "[Parallel(n_jobs=-1)]: Done  25 tasks      | elapsed:   52.2s\n"
     ]
    },
    {
     "name": "stdout",
     "output_type": "stream",
     "text": [
      "[CV]  bootstrap=True, max_features=auto, min_samples_leaf=1, min_samples_split=5, n_estimators=2000, total=  41.9s\n",
      "[CV] bootstrap=True, max_features=auto, min_samples_leaf=2, min_samples_split=3, n_estimators=2000 \n",
      "[CV]  bootstrap=True, max_features=auto, min_samples_leaf=2, min_samples_split=3, n_estimators=200, total=   4.1s\n",
      "[CV] bootstrap=True, max_features=auto, min_samples_leaf=2, min_samples_split=3, n_estimators=2000 \n",
      "[CV]  bootstrap=True, max_features=auto, min_samples_leaf=1, min_samples_split=5, n_estimators=2000, total=  42.3s\n",
      "[CV] bootstrap=True, max_features=auto, min_samples_leaf=2, min_samples_split=3, n_estimators=2000 \n",
      "[CV]  bootstrap=True, max_features=auto, min_samples_leaf=2, min_samples_split=3, n_estimators=200, total=   4.1s\n",
      "[CV]  bootstrap=True, max_features=auto, min_samples_leaf=2, min_samples_split=3, n_estimators=200, total=   4.1s\n",
      "[CV] bootstrap=True, max_features=auto, min_samples_leaf=2, min_samples_split=5, n_estimators=100 \n",
      "[CV] bootstrap=True, max_features=auto, min_samples_leaf=2, min_samples_split=5, n_estimators=100 \n",
      "[CV]  bootstrap=True, max_features=auto, min_samples_leaf=2, min_samples_split=5, n_estimators=100, total=   2.0s\n",
      "[CV] bootstrap=True, max_features=auto, min_samples_leaf=2, min_samples_split=5, n_estimators=100 \n",
      "[CV]  bootstrap=True, max_features=auto, min_samples_leaf=2, min_samples_split=5, n_estimators=100, total=   2.0s\n",
      "[CV] bootstrap=True, max_features=auto, min_samples_leaf=2, min_samples_split=5, n_estimators=200 \n",
      "[CV]  bootstrap=True, max_features=auto, min_samples_leaf=2, min_samples_split=5, n_estimators=100, total=   2.0s\n",
      "[CV] bootstrap=True, max_features=auto, min_samples_leaf=2, min_samples_split=5, n_estimators=200 \n",
      "[CV]  bootstrap=True, max_features=auto, min_samples_leaf=2, min_samples_split=5, n_estimators=200, total=   4.1s\n",
      "[CV] bootstrap=True, max_features=auto, min_samples_leaf=2, min_samples_split=5, n_estimators=200 \n",
      "[CV]  bootstrap=True, max_features=auto, min_samples_leaf=1, min_samples_split=7, n_estimators=2000, total=  41.2s\n",
      "[CV] bootstrap=True, max_features=auto, min_samples_leaf=2, min_samples_split=5, n_estimators=2000 \n",
      "[CV]  bootstrap=True, max_features=auto, min_samples_leaf=2, min_samples_split=5, n_estimators=200, total=   4.2s\n",
      "[CV] bootstrap=True, max_features=auto, min_samples_leaf=2, min_samples_split=5, n_estimators=2000 \n",
      "[CV]  bootstrap=True, max_features=auto, min_samples_leaf=1, min_samples_split=7, n_estimators=2000, total=  41.6s\n",
      "[CV] bootstrap=True, max_features=auto, min_samples_leaf=2, min_samples_split=5, n_estimators=2000 \n",
      "[CV]  bootstrap=True, max_features=auto, min_samples_leaf=2, min_samples_split=5, n_estimators=200, total=   4.3s\n",
      "[CV] bootstrap=True, max_features=auto, min_samples_leaf=2, min_samples_split=7, n_estimators=100 \n",
      "[CV]  bootstrap=True, max_features=auto, min_samples_leaf=2, min_samples_split=7, n_estimators=100, total=   2.1s\n",
      "[CV] bootstrap=True, max_features=auto, min_samples_leaf=2, min_samples_split=7, n_estimators=100 \n",
      "[CV]  bootstrap=True, max_features=auto, min_samples_leaf=2, min_samples_split=7, n_estimators=100, total=   2.2s\n",
      "[CV] bootstrap=True, max_features=auto, min_samples_leaf=2, min_samples_split=7, n_estimators=100 \n",
      "[CV]  bootstrap=True, max_features=auto, min_samples_leaf=2, min_samples_split=7, n_estimators=100, total=   2.2s\n",
      "[CV] bootstrap=True, max_features=auto, min_samples_leaf=2, min_samples_split=7, n_estimators=200 \n",
      "[CV]  bootstrap=True, max_features=auto, min_samples_leaf=2, min_samples_split=7, n_estimators=200, total=   4.8s\n",
      "[CV] bootstrap=True, max_features=auto, min_samples_leaf=2, min_samples_split=7, n_estimators=200 \n",
      "[CV]  bootstrap=True, max_features=auto, min_samples_leaf=2, min_samples_split=7, n_estimators=200, total=   4.5s\n",
      "[CV] bootstrap=True, max_features=auto, min_samples_leaf=2, min_samples_split=7, n_estimators=200 \n",
      "[CV]  bootstrap=True, max_features=auto, min_samples_leaf=2, min_samples_split=7, n_estimators=200, total=   3.9s\n",
      "[CV] bootstrap=True, max_features=auto, min_samples_leaf=2, min_samples_split=7, n_estimators=2000 \n",
      "[CV]  bootstrap=True, max_features=auto, min_samples_leaf=1, min_samples_split=7, n_estimators=2000, total=  44.1s\n",
      "[CV] bootstrap=True, max_features=auto, min_samples_leaf=2, min_samples_split=7, n_estimators=2000 \n",
      "[CV]  bootstrap=True, max_features=auto, min_samples_leaf=2, min_samples_split=3, n_estimators=2000, total=  42.6s\n",
      "[CV] bootstrap=True, max_features=auto, min_samples_leaf=2, min_samples_split=7, n_estimators=2000 \n",
      "[CV]  bootstrap=True, max_features=auto, min_samples_leaf=2, min_samples_split=3, n_estimators=2000, total=  43.0s\n",
      "[CV] bootstrap=True, max_features=auto, min_samples_leaf=3, min_samples_split=3, n_estimators=100 \n",
      "[CV]  bootstrap=True, max_features=auto, min_samples_leaf=2, min_samples_split=3, n_estimators=2000, total=  42.9s\n",
      "[CV] bootstrap=True, max_features=auto, min_samples_leaf=3, min_samples_split=3, n_estimators=100 \n",
      "[CV]  bootstrap=True, max_features=auto, min_samples_leaf=3, min_samples_split=3, n_estimators=100, total=   2.0s\n",
      "[CV] bootstrap=True, max_features=auto, min_samples_leaf=3, min_samples_split=3, n_estimators=100 \n",
      "[CV]  bootstrap=True, max_features=auto, min_samples_leaf=3, min_samples_split=3, n_estimators=100, total=   2.0s\n",
      "[CV] bootstrap=True, max_features=auto, min_samples_leaf=3, min_samples_split=3, n_estimators=200 \n",
      "[CV]  bootstrap=True, max_features=auto, min_samples_leaf=3, min_samples_split=3, n_estimators=100, total=   2.0s\n",
      "[CV] bootstrap=True, max_features=auto, min_samples_leaf=3, min_samples_split=3, n_estimators=200 \n",
      "[CV]  bootstrap=True, max_features=auto, min_samples_leaf=3, min_samples_split=3, n_estimators=200, total=   3.8s\n",
      "[CV] bootstrap=True, max_features=auto, min_samples_leaf=3, min_samples_split=3, n_estimators=200 \n",
      "[CV]  bootstrap=True, max_features=auto, min_samples_leaf=2, min_samples_split=5, n_estimators=2000, total=  42.3s\n",
      "[CV] bootstrap=True, max_features=auto, min_samples_leaf=3, min_samples_split=3, n_estimators=2000 \n",
      "[CV]  bootstrap=True, max_features=auto, min_samples_leaf=3, min_samples_split=3, n_estimators=200, total=   3.8s\n",
      "[CV] bootstrap=True, max_features=auto, min_samples_leaf=3, min_samples_split=3, n_estimators=2000 \n",
      "[CV]  bootstrap=True, max_features=auto, min_samples_leaf=2, min_samples_split=5, n_estimators=2000, total=  42.6s\n",
      "[CV] bootstrap=True, max_features=auto, min_samples_leaf=3, min_samples_split=3, n_estimators=2000 \n",
      "[CV]  bootstrap=True, max_features=auto, min_samples_leaf=2, min_samples_split=5, n_estimators=2000, total=  42.4s\n",
      "[CV] bootstrap=True, max_features=auto, min_samples_leaf=3, min_samples_split=5, n_estimators=100 \n",
      "[CV]  bootstrap=True, max_features=auto, min_samples_leaf=3, min_samples_split=3, n_estimators=200, total=   3.8s\n",
      "[CV] bootstrap=True, max_features=auto, min_samples_leaf=3, min_samples_split=5, n_estimators=100 \n",
      "[CV]  bootstrap=True, max_features=auto, min_samples_leaf=3, min_samples_split=5, n_estimators=100, total=   2.0s\n",
      "[CV] bootstrap=True, max_features=auto, min_samples_leaf=3, min_samples_split=5, n_estimators=100 \n",
      "[CV]  bootstrap=True, max_features=auto, min_samples_leaf=3, min_samples_split=5, n_estimators=100, total=   2.0s\n",
      "[CV] bootstrap=True, max_features=auto, min_samples_leaf=3, min_samples_split=5, n_estimators=200 \n",
      "[CV]  bootstrap=True, max_features=auto, min_samples_leaf=3, min_samples_split=5, n_estimators=100, total=   2.0s\n",
      "[CV] bootstrap=True, max_features=auto, min_samples_leaf=3, min_samples_split=5, n_estimators=200 \n",
      "[CV]  bootstrap=True, max_features=auto, min_samples_leaf=3, min_samples_split=5, n_estimators=200, total=   3.9s\n",
      "[CV] bootstrap=True, max_features=auto, min_samples_leaf=3, min_samples_split=5, n_estimators=200 \n",
      "[CV]  bootstrap=True, max_features=auto, min_samples_leaf=3, min_samples_split=5, n_estimators=200, total=   3.9s\n",
      "[CV] bootstrap=True, max_features=auto, min_samples_leaf=3, min_samples_split=5, n_estimators=2000 \n",
      "[CV]  bootstrap=True, max_features=auto, min_samples_leaf=3, min_samples_split=5, n_estimators=200, total=   3.9s\n",
      "[CV] bootstrap=True, max_features=auto, min_samples_leaf=3, min_samples_split=5, n_estimators=2000 \n",
      "[CV]  bootstrap=True, max_features=auto, min_samples_leaf=2, min_samples_split=7, n_estimators=2000, total=  39.6s\n"
     ]
    },
    {
     "name": "stdout",
     "output_type": "stream",
     "text": [
      "[CV] bootstrap=True, max_features=auto, min_samples_leaf=3, min_samples_split=5, n_estimators=2000 \n",
      "[CV]  bootstrap=True, max_features=auto, min_samples_leaf=2, min_samples_split=7, n_estimators=2000, total=  40.0s\n",
      "[CV] bootstrap=True, max_features=auto, min_samples_leaf=3, min_samples_split=7, n_estimators=100 \n",
      "[CV]  bootstrap=True, max_features=auto, min_samples_leaf=3, min_samples_split=7, n_estimators=100, total=   1.9s\n",
      "[CV] bootstrap=True, max_features=auto, min_samples_leaf=3, min_samples_split=7, n_estimators=100 \n",
      "[CV]  bootstrap=True, max_features=auto, min_samples_leaf=3, min_samples_split=7, n_estimators=100, total=   1.9s\n",
      "[CV] bootstrap=True, max_features=auto, min_samples_leaf=3, min_samples_split=7, n_estimators=100 \n",
      "[CV]  bootstrap=True, max_features=auto, min_samples_leaf=2, min_samples_split=7, n_estimators=2000, total=  40.0s\n",
      "[CV] bootstrap=True, max_features=auto, min_samples_leaf=3, min_samples_split=7, n_estimators=200 \n",
      "[CV]  bootstrap=True, max_features=auto, min_samples_leaf=3, min_samples_split=7, n_estimators=100, total=   2.0s\n",
      "[CV] bootstrap=True, max_features=auto, min_samples_leaf=3, min_samples_split=7, n_estimators=200 \n",
      "[CV]  bootstrap=True, max_features=auto, min_samples_leaf=3, min_samples_split=7, n_estimators=200, total=   4.0s\n",
      "[CV] bootstrap=True, max_features=auto, min_samples_leaf=3, min_samples_split=7, n_estimators=200 \n",
      "[CV]  bootstrap=True, max_features=auto, min_samples_leaf=3, min_samples_split=7, n_estimators=200, total=   3.9s\n",
      "[CV] bootstrap=True, max_features=auto, min_samples_leaf=3, min_samples_split=7, n_estimators=2000 \n",
      "[CV]  bootstrap=True, max_features=auto, min_samples_leaf=3, min_samples_split=7, n_estimators=200, total=   3.8s\n",
      "[CV] bootstrap=True, max_features=auto, min_samples_leaf=3, min_samples_split=7, n_estimators=2000 \n",
      "[CV]  bootstrap=True, max_features=auto, min_samples_leaf=3, min_samples_split=3, n_estimators=2000, total=  38.9s\n",
      "[CV] bootstrap=True, max_features=auto, min_samples_leaf=3, min_samples_split=7, n_estimators=2000 \n",
      "[CV]  bootstrap=True, max_features=auto, min_samples_leaf=3, min_samples_split=3, n_estimators=2000, total=  39.1s\n",
      "[CV]  bootstrap=True, max_features=auto, min_samples_leaf=3, min_samples_split=3, n_estimators=2000, total=  39.1s\n",
      "[CV]  bootstrap=True, max_features=auto, min_samples_leaf=3, min_samples_split=5, n_estimators=2000, total=  37.9s\n",
      "[CV]  bootstrap=True, max_features=auto, min_samples_leaf=3, min_samples_split=5, n_estimators=2000, total=  37.5s\n",
      "[CV]  bootstrap=True, max_features=auto, min_samples_leaf=3, min_samples_split=5, n_estimators=2000, total=  34.8s\n",
      "[CV]  bootstrap=True, max_features=auto, min_samples_leaf=3, min_samples_split=7, n_estimators=2000, total=  27.5s\n",
      "[CV]  bootstrap=True, max_features=auto, min_samples_leaf=3, min_samples_split=7, n_estimators=2000, total=  26.5s\n",
      "[CV]  bootstrap=True, max_features=auto, min_samples_leaf=3, min_samples_split=7, n_estimators=2000, total=  26.1s\n"
     ]
    },
    {
     "name": "stderr",
     "output_type": "stream",
     "text": [
      "[Parallel(n_jobs=-1)]: Done  81 out of  81 | elapsed:  3.1min finished\n"
     ]
    },
    {
     "data": {
      "text/plain": [
       "GridSearchCV(cv=3, error_score='raise',\n",
       "       estimator=RandomForestClassifier(bootstrap=True, class_weight=None, criterion='gini',\n",
       "            max_depth=None, max_features='auto', max_leaf_nodes=None,\n",
       "            min_impurity_decrease=0.0, min_impurity_split=None,\n",
       "            min_samples_leaf=1, min_samples_split=2,\n",
       "            min_weight_fraction_leaf=0.0, n_estimators=10, n_jobs=1,\n",
       "            oob_score=False, random_state=None, verbose=0,\n",
       "            warm_start=False),\n",
       "       fit_params=None, iid=True, n_jobs=-1,\n",
       "       param_grid={'bootstrap': [True], 'max_features': ['auto'], 'min_samples_leaf': [1, 2, 3], 'min_samples_split': [3, 5, 7], 'n_estimators': [100, 200, 2000]},\n",
       "       pre_dispatch='2*n_jobs', refit=True, return_train_score='warn',\n",
       "       scoring=None, verbose=2)"
      ]
     },
     "execution_count": 30,
     "metadata": {},
     "output_type": "execute_result"
    }
   ],
   "source": [
    "#Create the object of the grid search model\n",
    "grid_search = GridSearchCV(estimator = clf, param_grid=param_grid, cv=3, n_jobs=-1, verbose=2)\n",
    "#Train the grid search model.(cross validation)\n",
    "grid_search.fit(X_train, y_train)"
   ]
  },
  {
   "cell_type": "markdown",
   "metadata": {},
   "source": [
    "Take a look at the best parameters after grid search"
   ]
  },
  {
   "cell_type": "code",
   "execution_count": 31,
   "metadata": {},
   "outputs": [
    {
     "data": {
      "text/plain": [
       "{'bootstrap': True,\n",
       " 'max_features': 'auto',\n",
       " 'min_samples_leaf': 1,\n",
       " 'min_samples_split': 7,\n",
       " 'n_estimators': 2000}"
      ]
     },
     "execution_count": 31,
     "metadata": {},
     "output_type": "execute_result"
    }
   ],
   "source": [
    "grid_search.best_params_"
   ]
  },
  {
   "cell_type": "code",
   "execution_count": 32,
   "metadata": {},
   "outputs": [],
   "source": [
    "best_grid = grid_search.best_estimator_  #Best estimator with best hyperparameters"
   ]
  },
  {
   "cell_type": "markdown",
   "metadata": {},
   "source": [
    "## Compare the value of Randomgrid and GridSearch"
   ]
  },
  {
   "cell_type": "code",
   "execution_count": 33,
   "metadata": {},
   "outputs": [
    {
     "name": "stdout",
     "output_type": "stream",
     "text": [
      "ROC for base model : 0.8963651591289782\n",
      "ROC for best grid search model : 0.908484467793513\n",
      "ROC for best model : 0.9059939850768997\n"
     ]
    }
   ],
   "source": [
    "#print out the AUC value of base model\n",
    "print('ROC for base model : ' + str(evaluate(base_model, X_train, y_train, X_test, y_test)))\n",
    "print('ROC for best grid search model : ' + str(evaluate(best_grid,X_train, y_train, X_test, y_test)))\n",
    "#print out the AUC value of best model with best parameters.\n",
    "print('ROC for best model : ' + str(evaluate(best_random, X_train, y_train, X_test, y_test)))"
   ]
  },
  {
   "cell_type": "markdown",
   "metadata": {},
   "source": [
    "## Now Implement XGBoost (eXtreme Gradient Boosting)"
   ]
  },
  {
   "cell_type": "code",
   "execution_count": 34,
   "metadata": {},
   "outputs": [],
   "source": [
    "from xgboost import XGBClassifier\n",
    "from sklearn.metrics import accuracy_score"
   ]
  },
  {
   "cell_type": "code",
   "execution_count": 35,
   "metadata": {},
   "outputs": [
    {
     "data": {
      "text/plain": [
       "XGBClassifier(base_score=0.5, booster='gbtree', colsample_bylevel=1,\n",
       "       colsample_bytree=1, gamma=0, learning_rate=0.1, max_delta_step=0,\n",
       "       max_depth=3, min_child_weight=1, missing=None, n_estimators=100,\n",
       "       n_jobs=1, nthread=None, objective='binary:logistic', random_state=0,\n",
       "       reg_alpha=0, reg_lambda=1, scale_pos_weight=1, seed=None,\n",
       "       silent=True, subsample=1)"
      ]
     },
     "execution_count": 35,
     "metadata": {},
     "output_type": "execute_result"
    }
   ],
   "source": [
    "#train the model\n",
    "xgBoostClassifierModel = XGBClassifier()\n",
    "xgBoostClassifierModel.fit(X_train, y_train)"
   ]
  },
  {
   "cell_type": "code",
   "execution_count": 36,
   "metadata": {},
   "outputs": [
    {
     "name": "stderr",
     "output_type": "stream",
     "text": [
      "/anaconda3/lib/python3.6/site-packages/sklearn/preprocessing/label.py:151: DeprecationWarning: The truth value of an empty array is ambiguous. Returning False, but in future this will result in an error. Use `array.size > 0` to check that an array is not empty.\n",
      "  if diff:\n"
     ]
    }
   ],
   "source": [
    "#make predictions for test data\n",
    "y_pred = xgBoostClassifierModel.predict(X_test)\n",
    "predictions = [round(value) for value in y_pred]"
   ]
  },
  {
   "cell_type": "code",
   "execution_count": 37,
   "metadata": {},
   "outputs": [
    {
     "name": "stdout",
     "output_type": "stream",
     "text": [
      "Accuracy of xgBoosting classifier: 90.42%\n"
     ]
    }
   ],
   "source": [
    "accuracy = accuracy_score(y_test, predictions)\n",
    "print(\"Accuracy of xgBoosting classifier: %.2f%%\" % (accuracy * 100.0))"
   ]
  },
  {
   "cell_type": "markdown",
   "metadata": {},
   "source": [
    "## What are the important hyper parameters?"
   ]
  },
  {
   "cell_type": "code",
   "execution_count": 38,
   "metadata": {},
   "outputs": [],
   "source": [
    "from sklearn.model_selection import GridSearchCV\n",
    "from sklearn.model_selection import StratifiedKFold"
   ]
  },
  {
   "cell_type": "code",
   "execution_count": 39,
   "metadata": {},
   "outputs": [
    {
     "name": "stdout",
     "output_type": "stream",
     "text": [
      "Best: -0.215594 using {'n_estimators': 350}\n",
      "-0.260521 (0.011031) with: {'n_estimators': 50}\n",
      "-0.235029 (0.013024) with: {'n_estimators': 100}\n",
      "-0.225584 (0.014687) with: {'n_estimators': 150}\n",
      "-0.220487 (0.015430) with: {'n_estimators': 200}\n",
      "-0.217784 (0.016283) with: {'n_estimators': 250}\n",
      "-0.216486 (0.016341) with: {'n_estimators': 300}\n",
      "-0.215594 (0.016660) with: {'n_estimators': 350}\n"
     ]
    },
    {
     "data": {
      "image/png": "[encoded data removed]",
      "text/plain": [
       "<Figure size 432x288 with 1 Axes>"
      ]
     },
     "metadata": {},
     "output_type": "display_data"
    }
   ],
   "source": [
    "model = XGBClassifier()\n",
    "n_estimators = range(50, 400, 50)\n",
    "param_grid = dict(n_estimators=n_estimators)\n",
    "kfold = StratifiedKFold(n_splits=10, shuffle=True, random_state=7)\n",
    "grid_search = GridSearchCV(model, param_grid, scoring=\"neg_log_loss\", n_jobs=-1, cv=kfold)\n",
    "grid_result = grid_search.fit(X_train, y_train)\n",
    "# summarize results\n",
    "print(\"Best: %f using %s\" % (grid_result.best_score_, grid_result.best_params_))\n",
    "means = grid_result.cv_results_['mean_test_score']\n",
    "stds = grid_result.cv_results_['std_test_score']\n",
    "params = grid_result.cv_results_['params']\n",
    "for mean, stdev, param in zip(means, stds, params):\n",
    "\tprint(\"%f (%f) with: %r\" % (mean, stdev, param))\n",
    "# plot\n",
    "plt.errorbar(n_estimators, means, yerr=stds)\n",
    "plt.title(\"XGBoost n_estimators vs Log Loss\")\n",
    "plt.xlabel('n_estimators')\n",
    "plt.ylabel('Log Loss')\n",
    "plt.savefig('n_estimators.png')"
   ]
  },
  {
   "cell_type": "code",
   "execution_count": 40,
   "metadata": {},
   "outputs": [
    {
     "name": "stdout",
     "output_type": "stream",
     "text": [
      "range(1, 11, 2)\n",
      "Fitting 10 folds for each of 5 candidates, totalling 50 fits\n"
     ]
    },
    {
     "name": "stderr",
     "output_type": "stream",
     "text": [
      "[Parallel(n_jobs=-1)]: Done  34 tasks      | elapsed:   19.0s\n",
      "[Parallel(n_jobs=-1)]: Done  50 out of  50 | elapsed:   36.2s finished\n"
     ]
    },
    {
     "name": "stdout",
     "output_type": "stream",
     "text": [
      "Best: -0.210623 using {'max_depth': 7}\n",
      "-0.332458 (0.008327) with: {'max_depth': 1}\n",
      "-0.235029 (0.013024) with: {'max_depth': 3}\n",
      "-0.215513 (0.014394) with: {'max_depth': 5}\n",
      "-0.210623 (0.017037) with: {'max_depth': 7}\n",
      "-0.215306 (0.017170) with: {'max_depth': 9}\n"
     ]
    }
   ],
   "source": [
    "model = XGBClassifier()\n",
    "max_depth = range(1, 11, 2)\n",
    "print(max_depth)\n",
    "param_grid = dict(max_depth=max_depth)\n",
    "kfold = StratifiedKFold(n_splits=10, shuffle=True, random_state=7)\n",
    "grid_search = GridSearchCV(model, param_grid, scoring=\"neg_log_loss\", n_jobs=-1, cv=kfold, verbose=1)\n",
    "grid_result = grid_search.fit(X_train, y_train)\n",
    "# summarize results\n",
    "print(\"Best: %f using %s\" % (grid_result.best_score_, grid_result.best_params_))\n",
    "means = grid_result.cv_results_['mean_test_score']\n",
    "stds = grid_result.cv_results_['std_test_score']\n",
    "params = grid_result.cv_results_['params']\n",
    "for mean, stdev, param in zip(means, stds, params):\n",
    "\tprint(\"%f (%f) with: %r\" % (mean, stdev, param)) "
   ]
  },
  {
   "cell_type": "code",
   "execution_count": 41,
   "metadata": {},
   "outputs": [
    {
     "data": {
      "image/png": "[encoded data removed]",
      "text/plain": [
       "<Figure size 432x288 with 1 Axes>"
      ]
     },
     "metadata": {},
     "output_type": "display_data"
    }
   ],
   "source": [
    "# plot\n",
    "plt.errorbar(max_depth, means, yerr=stds)\n",
    "plt.title(\"XGBoost max_depth vs Log Loss\")\n",
    "plt.xlabel('max_depth')\n",
    "plt.ylabel('Log Loss')\n",
    "plt.savefig('max_depth.png') "
   ]
  },
  {
   "cell_type": "markdown",
   "metadata": {},
   "source": [
    "### Tune the number of trees and max depth in xGBoost"
   ]
  },
  {
   "cell_type": "code",
   "execution_count": 42,
   "metadata": {},
   "outputs": [
    {
     "name": "stdout",
     "output_type": "stream",
     "text": [
      "[6, 7, 8, 9]\n",
      "Fitting 10 folds for each of 16 candidates, totalling 160 fits\n"
     ]
    },
    {
     "name": "stderr",
     "output_type": "stream",
     "text": [
      "[Parallel(n_jobs=-1)]: Done  34 tasks      | elapsed:  1.7min\n",
      "[Parallel(n_jobs=-1)]: Done 160 out of 160 | elapsed:  9.1min finished\n"
     ]
    },
    {
     "name": "stdout",
     "output_type": "stream",
     "text": [
      "Best: -0.213283 using {'max_depth': 6, 'n_estimators': 250}\n",
      "-0.217842 (0.018354) with: {'max_depth': 6, 'n_estimators': 350}\n",
      "-0.215355 (0.017912) with: {'max_depth': 6, 'n_estimators': 300}\n",
      "-0.213283 (0.017847) with: {'max_depth': 6, 'n_estimators': 250}\n",
      "-0.220004 (0.018993) with: {'max_depth': 6, 'n_estimators': 400}\n",
      "-0.223378 (0.020598) with: {'max_depth': 7, 'n_estimators': 350}\n",
      "-0.219979 (0.020175) with: {'max_depth': 7, 'n_estimators': 300}\n",
      "-0.216566 (0.019664) with: {'max_depth': 7, 'n_estimators': 250}\n",
      "-0.227351 (0.021614) with: {'max_depth': 7, 'n_estimators': 400}\n",
      "-0.230193 (0.020908) with: {'max_depth': 8, 'n_estimators': 350}\n",
      "-0.225353 (0.020395) with: {'max_depth': 8, 'n_estimators': 300}\n",
      "-0.220798 (0.019347) with: {'max_depth': 8, 'n_estimators': 250}\n",
      "-0.235435 (0.021951) with: {'max_depth': 8, 'n_estimators': 400}\n",
      "-0.240404 (0.021812) with: {'max_depth': 9, 'n_estimators': 350}\n",
      "-0.235219 (0.021032) with: {'max_depth': 9, 'n_estimators': 300}\n",
      "-0.229322 (0.020315) with: {'max_depth': 9, 'n_estimators': 250}\n",
      "-0.246099 (0.022414) with: {'max_depth': 9, 'n_estimators': 400}\n"
     ]
    }
   ],
   "source": [
    "# grid search\n",
    "model = XGBClassifier()\n",
    "n_estimators = [350, 300, 250, 400]\n",
    "max_depth = [6, 7, 8, 9]\n",
    "print(max_depth)\n",
    "param_grid = dict(max_depth=max_depth, n_estimators=n_estimators)\n",
    "kfold = StratifiedKFold(n_splits=10, shuffle=True, random_state=7)\n",
    "grid_search = GridSearchCV(model, param_grid, scoring=\"neg_log_loss\", n_jobs=-1, cv=kfold, verbose=1)\n",
    "grid_result = grid_search.fit(X_train, y_train)\n",
    "# summarize results\n",
    "print(\"Best: %f using %s\" % (grid_result.best_score_, grid_result.best_params_))\n",
    "means = grid_result.cv_results_['mean_test_score']\n",
    "stds = grid_result.cv_results_['std_test_score']\n",
    "params = grid_result.cv_results_['params']\n",
    "for mean, stdev, param in zip(means, stds, params):\n",
    "\tprint(\"%f (%f) with: %r\" % (mean, stdev, param))"
   ]
  },
  {
   "cell_type": "code",
   "execution_count": 43,
   "metadata": {},
   "outputs": [
    {
     "data": {
      "image/png": "[encoded data removed]",
      "text/plain": [
       "<Figure size 432x288 with 1 Axes>"
      ]
     },
     "metadata": {},
     "output_type": "display_data"
    }
   ],
   "source": [
    "# plot results\n",
    "scores = np.array(means).reshape(len(max_depth), len(n_estimators))\n",
    "for i, value in enumerate(max_depth):\n",
    "    plt.plot(n_estimators, scores[i], label='depth: ' + str(value))\n",
    "plt.legend()\n",
    "plt.xlabel('n_estimators')\n",
    "plt.ylabel('Log Loss')\n",
    "plt.savefig('n_estimators_vs_max_depth.png')"
   ]
  },
  {
   "cell_type": "markdown",
   "metadata": {},
   "source": [
    "## Creating the model with the best values for Hyper parameters"
   ]
  },
  {
   "cell_type": "code",
   "execution_count": 44,
   "metadata": {},
   "outputs": [],
   "source": [
    "model = XGBClassifier(max_depth=6, n_estimators=250)"
   ]
  },
  {
   "cell_type": "code",
   "execution_count": 45,
   "metadata": {},
   "outputs": [
    {
     "name": "stdout",
     "output_type": "stream",
     "text": [
      "XGBClassifier(base_score=0.5, booster='gbtree', colsample_bylevel=1,\n",
      "       colsample_bytree=1, gamma=0, learning_rate=0.1, max_delta_step=0,\n",
      "       max_depth=6, min_child_weight=1, missing=None, n_estimators=250,\n",
      "       n_jobs=1, nthread=None, objective='binary:logistic', random_state=0,\n",
      "       reg_alpha=0, reg_lambda=1, scale_pos_weight=1, seed=None,\n",
      "       silent=True, subsample=1)\n"
     ]
    }
   ],
   "source": [
    "print(model)"
   ]
  },
  {
   "cell_type": "code",
   "execution_count": 46,
   "metadata": {},
   "outputs": [
    {
     "name": "stderr",
     "output_type": "stream",
     "text": [
      "/anaconda3/lib/python3.6/site-packages/sklearn/preprocessing/label.py:151: DeprecationWarning: The truth value of an empty array is ambiguous. Returning False, but in future this will result in an error. Use `array.size > 0` to check that an array is not empty.\n",
      "  if diff:\n"
     ]
    }
   ],
   "source": [
    "model.fit(X_train, y_train)\n",
    "y_pred = model.predict(X_test)\n",
    "predictions = [round(value) for value in y_pred]"
   ]
  },
  {
   "cell_type": "code",
   "execution_count": 47,
   "metadata": {},
   "outputs": [
    {
     "name": "stdout",
     "output_type": "stream",
     "text": [
      "ROC for the XGBoost model is: 0.914176374295721\n"
     ]
    },
    {
     "name": "stderr",
     "output_type": "stream",
     "text": [
      "/anaconda3/lib/python3.6/site-packages/sklearn/preprocessing/label.py:151: DeprecationWarning: The truth value of an empty array is ambiguous. Returning False, but in future this will result in an error. Use `array.size > 0` to check that an array is not empty.\n",
      "  if diff:\n"
     ]
    }
   ],
   "source": [
    "print('ROC for the XGBoost model is: ' + str(evaluate(model, X_train,y_train, X_test, y_test)))"
   ]
  },
  {
   "cell_type": "markdown",
   "metadata": {},
   "source": [
    "## Thus we got a higher ROC for XGBoost model than the bagging models tried earlier"
   ]
  },
  {
   "cell_type": "markdown",
   "metadata": {},
   "source": [
    "## Part B:\n",
    "\n",
    "### Classification with Logistic Regression"
   ]
  },
  {
   "cell_type": "code",
   "execution_count": 48,
   "metadata": {},
   "outputs": [],
   "source": [
    "import statsmodels.api as sm\n",
    "import statsmodels.formula.api as smf\n",
    "import pandas as pd\n",
    "from sklearn.linear_model import LogisticRegression"
   ]
  },
  {
   "cell_type": "code",
   "execution_count": 49,
   "metadata": {},
   "outputs": [],
   "source": [
    "features['price_cat_log'] = features['price'].apply(lambda x: 1 if x > median_price else 0)"
   ]
  },
  {
   "cell_type": "code",
   "execution_count": 50,
   "metadata": {},
   "outputs": [
    {
     "data": {
      "text/plain": [
       "Index(['index', 'price', 'bedrooms', 'bathrooms', 'sqft_living', 'sqft_lot',\n",
       "       'waterfront', 'sqft_above', 'sqft_basement', 'yr_built', 'yr_renovated',\n",
       "       'lat', 'long', 'sqft_living15', 'sqft_lot15', 'basement_present',\n",
       "       'renovated', 'floors#1.0', 'floors#1.5', 'floors#2.0', 'floors#2.5',\n",
       "       'floors#3.0', 'floors#3.5', 'view#0', 'view#1', 'view#2', 'view#3',\n",
       "       'view#4', 'condition#1', 'condition#2', 'condition#3', 'condition#4',\n",
       "       'condition#5', 'grade#1', 'grade#3', 'grade#4', 'grade#5', 'grade#6',\n",
       "       'grade#7', 'grade#8', 'grade#9', 'grade#10', 'grade#11', 'grade#12',\n",
       "       'grade#13', 'zipcode#98004', 'zipcode#98102', 'zipcode#98109',\n",
       "       'zipcode#98112', 'zipcode#98039', 'zipcode#98040', 'price_cat',\n",
       "       'price_cat_log'],\n",
       "      dtype='object')"
      ]
     },
     "execution_count": 50,
     "metadata": {},
     "output_type": "execute_result"
    }
   ],
   "source": [
    "features.columns"
   ]
  },
  {
   "cell_type": "code",
   "execution_count": 51,
   "metadata": {},
   "outputs": [],
   "source": [
    "price_cat_log=features['price_cat_log']\n",
    "y_log=price_cat_log"
   ]
  },
  {
   "cell_type": "code",
   "execution_count": 52,
   "metadata": {},
   "outputs": [],
   "source": [
    "X_train_log,X_test_log,y_train_log,y_test_log=train_test_split(features[['bedrooms', 'sqft_living', 'waterfront', 'sqft_basement', 'yr_built', 'bathrooms']]\n",
    "                                                               ,y_log,test_size=0.3,random_state=0)"
   ]
  },
  {
   "cell_type": "code",
   "execution_count": 53,
   "metadata": {},
   "outputs": [
    {
     "name": "stdout",
     "output_type": "stream",
     "text": [
      "Training set score: 0.732\n",
      "Test set score: 0.731\n"
     ]
    }
   ],
   "source": [
    "logreg=LogisticRegression().fit(X_train_log,y_train_log)\n",
    "logreg\n",
    "print(\"Training set score: {:.3f}\".format(logreg.score(X_train_log,y_train_log)))\n",
    "print(\"Test set score: {:.3f}\".format(logreg.score(X_test_log,y_test_log)))"
   ]
  },
  {
   "cell_type": "code",
   "execution_count": 54,
   "metadata": {},
   "outputs": [
    {
     "name": "stdout",
     "output_type": "stream",
     "text": [
      "Optimization terminated successfully.\n",
      "         Current function value: 0.522835\n",
      "         Iterations 7\n",
      "                           Logit Regression Results                           \n",
      "==============================================================================\n",
      "Dep. Variable:          price_cat_log   No. Observations:                15129\n",
      "Model:                          Logit   Df Residuals:                    15123\n",
      "Method:                           MLE   Df Model:                            5\n",
      "Date:                Tue, 29 Jan 2019   Pseudo R-squ.:                  0.2457\n",
      "Time:                        17:22:25   Log-Likelihood:                -7910.0\n",
      "converged:                       True   LL-Null:                       -10486.\n",
      "                                        LLR p-value:                     0.000\n",
      "=================================================================================\n",
      "                    coef    std err          z      P>|z|      [0.025      0.975]\n",
      "---------------------------------------------------------------------------------\n",
      "bedrooms         -0.3118      0.028    -10.959      0.000      -0.368      -0.256\n",
      "sqft_living       0.0019   4.82e-05     38.869      0.000       0.002       0.002\n",
      "waterfront        1.9170      0.419      4.578      0.000       1.096       2.738\n",
      "sqft_basement     0.0002   5.38e-05      3.926      0.000       0.000       0.000\n",
      "yr_built         -0.0016   4.46e-05    -36.071      0.000      -0.002      -0.002\n",
      "bathrooms         0.1852      0.040      4.594      0.000       0.106       0.264\n",
      "=================================================================================\n"
     ]
    }
   ],
   "source": [
    "logit_model=sm.Logit(y_train_log,X_train_log)\n",
    "result=logit_model.fit()\n",
    "print(result.summary())"
   ]
  },
  {
   "cell_type": "markdown",
   "metadata": {},
   "source": [
    "### Looking at the z scores, we know that, sqft_living is the most significant followed by yr_built and then the rest."
   ]
  },
  {
   "cell_type": "code",
   "execution_count": 55,
   "metadata": {},
   "outputs": [
    {
     "data": {
      "image/png": "[encoded data removed]",
      "text/plain": [
       "<Figure size 432x288 with 1 Axes>"
      ]
     },
     "metadata": {},
     "output_type": "display_data"
    }
   ],
   "source": [
    "from sklearn.metrics import roc_curve\n",
    "falsepos,truepos,thresholds=roc_curve(y_test_log,logreg.decision_function(X_test_log))\n",
    "\n",
    "plt.plot(falsepos,truepos,label=\"ROC\")\n",
    "plt.xlabel(\"False Positive Rate\")\n",
    "plt.ylabel(\"True Positive Rate\")\n",
    "\n",
    "cutoff=np.argmin(np.abs(thresholds))\n",
    "plt.plot(falsepos[cutoff],truepos[cutoff],'o',markersize=10,label=\"cutoff\",fillstyle=\"none\")\n",
    "plt.show()"
   ]
  },
  {
   "cell_type": "code",
   "execution_count": 56,
   "metadata": {},
   "outputs": [
    {
     "data": {
      "text/plain": [
       "0.8078695178147917"
      ]
     },
     "execution_count": 56,
     "metadata": {},
     "output_type": "execute_result"
    }
   ],
   "source": [
    "from sklearn import metrics\n",
    "metrics.auc(falsepos, truepos)"
   ]
  },
  {
   "cell_type": "markdown",
   "metadata": {},
   "source": [
    "### Regression with Trees"
   ]
  },
  {
   "cell_type": "markdown",
   "metadata": {},
   "source": [
    "## Part C:\n",
    "\n",
    "### Random Forest based Regression"
   ]
  },
  {
   "cell_type": "code",
   "execution_count": 57,
   "metadata": {},
   "outputs": [
    {
     "name": "stdout",
     "output_type": "stream",
     "text": [
      "Parameters currently in use:\n",
      "\n",
      "{'bootstrap': True,\n",
      " 'criterion': 'mse',\n",
      " 'max_depth': None,\n",
      " 'max_features': 'auto',\n",
      " 'max_leaf_nodes': None,\n",
      " 'min_impurity_decrease': 0.0,\n",
      " 'min_impurity_split': None,\n",
      " 'min_samples_leaf': 1,\n",
      " 'min_samples_split': 2,\n",
      " 'min_weight_fraction_leaf': 0.0,\n",
      " 'n_estimators': 10,\n",
      " 'n_jobs': 1,\n",
      " 'oob_score': False,\n",
      " 'random_state': 42,\n",
      " 'verbose': 0,\n",
      " 'warm_start': False}\n"
     ]
    }
   ],
   "source": [
    "from sklearn.ensemble import RandomForestRegressor\n",
    "rf = RandomForestRegressor(random_state = 42)\n",
    "from pprint import pprint\n",
    "# Look at parameters used by our current forest\n",
    "print('Parameters currently in use:\\n')\n",
    "pprint(rf.get_params())"
   ]
  },
  {
   "cell_type": "code",
   "execution_count": 58,
   "metadata": {},
   "outputs": [],
   "source": [
    "X_features_reg = ['bedrooms', 'bathrooms', 'sqft_living', 'sqft_lot',\n",
    "       'waterfront', 'sqft_above', 'sqft_basement', 'yr_built', 'yr_renovated',\n",
    "       'lat', 'long', 'sqft_living15', 'sqft_lot15', 'basement_present',\n",
    "       'renovated', 'floors#1.0', 'floors#1.5', 'floors#2.0', 'floors#2.5',\n",
    "       'floors#3.0', 'floors#3.5', 'view#0', 'view#1', 'view#2', 'view#3',\n",
    "       'view#4', 'condition#1', 'condition#2', 'condition#3', 'condition#4',\n",
    "       'condition#5', 'grade#1', 'grade#3', 'grade#4', 'grade#5', 'grade#6',\n",
    "       'grade#7', 'grade#8', 'grade#9', 'grade#10', 'grade#11', 'grade#12',\n",
    "       'grade#13', 'zipcode#98004', 'zipcode#98102', 'zipcode#98109',\n",
    "       'zipcode#98112', 'zipcode#98039', 'zipcode#98040']\n",
    "\n",
    "X_reg=features[['bedrooms', 'bathrooms', 'sqft_living', 'sqft_lot',\n",
    "       'waterfront', 'sqft_above', 'sqft_basement', 'yr_built', 'yr_renovated',\n",
    "       'lat', 'long', 'sqft_living15', 'sqft_lot15', 'basement_present',\n",
    "       'renovated', 'floors#1.0', 'floors#1.5', 'floors#2.0', 'floors#2.5',\n",
    "       'floors#3.0', 'floors#3.5', 'view#0', 'view#1', 'view#2', 'view#3',\n",
    "       'view#4', 'condition#1', 'condition#2', 'condition#3', 'condition#4',\n",
    "       'condition#5', 'grade#1', 'grade#3', 'grade#4', 'grade#5', 'grade#6',\n",
    "       'grade#7', 'grade#8', 'grade#9', 'grade#10', 'grade#11', 'grade#12',\n",
    "       'grade#13', 'zipcode#98004', 'zipcode#98102', 'zipcode#98109',\n",
    "       'zipcode#98112', 'zipcode#98039', 'zipcode#98040']]  # Features\n",
    "\n",
    "y_reg=features['price']  # Labels\n",
    "       \n",
    "# Split dataset into training set and test set\n",
    "X_train_reg, X_test_reg, y_train_reg, y_test_reg = train_test_split(X_reg, y_reg, test_size=0.3) # 70% training and 30% test"
   ]
  },
  {
   "cell_type": "markdown",
   "metadata": {},
   "source": [
    "### Random Search Cross Validation in Scikit-Learn"
   ]
  },
  {
   "cell_type": "code",
   "execution_count": 59,
   "metadata": {},
   "outputs": [
    {
     "name": "stdout",
     "output_type": "stream",
     "text": [
      "{'max_depth': [2, 4, 6, 8, 10, None],\n",
      " 'max_features': ['auto', 'sqrt'],\n",
      " 'min_samples_leaf': [2, 4],\n",
      " 'min_samples_split': [5, 10],\n",
      " 'n_estimators': [10, 57, 105, 152, 200]}\n"
     ]
    }
   ],
   "source": [
    "from sklearn.model_selection import RandomizedSearchCV\n",
    "# Number of trees in random forest\n",
    "n_estimators = [int(x) for x in np.linspace(start = 10, stop = 200, num = 5)]\n",
    "# Number of features to consider at every split\n",
    "max_features = ['auto', 'sqrt']\n",
    "# Maximum number of levels in tree\n",
    "max_depth = [int(x) for x in np.linspace(2, 10, num = 5)]\n",
    "max_depth.append(None)\n",
    "# Minimum number of samples required to split a node\n",
    "min_samples_split = [5, 10]\n",
    "# Minimum number of samples required at each leaf node\n",
    "min_samples_leaf = [2, 4]\n",
    "# Method of selecting samples for training each tree\n",
    "#bootstrap = [True, False]\n",
    "# Create the random grid\n",
    "random_grid = {'n_estimators': n_estimators,\n",
    "               'max_features': max_features,\n",
    "               'max_depth': max_depth,\n",
    "               'min_samples_split': min_samples_split,\n",
    "               'min_samples_leaf': min_samples_leaf}\n",
    "pprint(random_grid)"
   ]
  },
  {
   "cell_type": "code",
   "execution_count": 60,
   "metadata": {},
   "outputs": [
    {
     "name": "stdout",
     "output_type": "stream",
     "text": [
      "Fitting 3 folds for each of 100 candidates, totalling 300 fits\n",
      "[CV] n_estimators=200, min_samples_split=5, min_samples_leaf=2, max_features=sqrt, max_depth=2 \n",
      "[CV] n_estimators=200, min_samples_split=5, min_samples_leaf=2, max_features=sqrt, max_depth=2 \n",
      "[CV] n_estimators=200, min_samples_split=5, min_samples_leaf=2, max_features=sqrt, max_depth=2 \n",
      "[CV] n_estimators=57, min_samples_split=10, min_samples_leaf=2, max_features=auto, max_depth=2 \n",
      "[CV] n_estimators=57, min_samples_split=10, min_samples_leaf=2, max_features=auto, max_depth=2 \n",
      "[CV] n_estimators=57, min_samples_split=10, min_samples_leaf=2, max_features=auto, max_depth=2 \n",
      "[CV] n_estimators=152, min_samples_split=5, min_samples_leaf=4, max_features=auto, max_depth=6 \n",
      "[CV] n_estimators=152, min_samples_split=5, min_samples_leaf=4, max_features=auto, max_depth=6 \n",
      "[CV]  n_estimators=200, min_samples_split=5, min_samples_leaf=2, max_features=sqrt, max_depth=2, total=   0.9s\n",
      "[CV]  n_estimators=200, min_samples_split=5, min_samples_leaf=2, max_features=sqrt, max_depth=2, total=   0.9s\n",
      "[CV] n_estimators=152, min_samples_split=5, min_samples_leaf=4, max_features=auto, max_depth=6 \n",
      "[CV] n_estimators=200, min_samples_split=10, min_samples_leaf=2, max_features=sqrt, max_depth=6 \n",
      "[CV]  n_estimators=200, min_samples_split=5, min_samples_leaf=2, max_features=sqrt, max_depth=2, total=   0.9s\n",
      "[CV] n_estimators=200, min_samples_split=10, min_samples_leaf=2, max_features=sqrt, max_depth=6 \n",
      "[CV]  n_estimators=57, min_samples_split=10, min_samples_leaf=2, max_features=auto, max_depth=2, total=   1.0s\n",
      "[CV] n_estimators=200, min_samples_split=10, min_samples_leaf=2, max_features=sqrt, max_depth=6 \n",
      "[CV]  n_estimators=57, min_samples_split=10, min_samples_leaf=2, max_features=auto, max_depth=2, total=   1.0s\n",
      "[CV]  n_estimators=57, min_samples_split=10, min_samples_leaf=2, max_features=auto, max_depth=2, total=   1.0s\n",
      "[CV] n_estimators=200, min_samples_split=5, min_samples_leaf=2, max_features=sqrt, max_depth=6 \n",
      "[CV] n_estimators=200, min_samples_split=5, min_samples_leaf=2, max_features=sqrt, max_depth=6 \n",
      "[CV]  n_estimators=200, min_samples_split=10, min_samples_leaf=2, max_features=sqrt, max_depth=6, total=   1.8s\n",
      "[CV] n_estimators=200, min_samples_split=5, min_samples_leaf=2, max_features=sqrt, max_depth=6 \n",
      "[CV]  n_estimators=200, min_samples_split=10, min_samples_leaf=2, max_features=sqrt, max_depth=6, total=   1.8s\n",
      "[CV]  n_estimators=200, min_samples_split=10, min_samples_leaf=2, max_features=sqrt, max_depth=6, total=   1.9s\n",
      "[CV] n_estimators=105, min_samples_split=5, min_samples_leaf=4, max_features=auto, max_depth=10 \n",
      "[CV] n_estimators=105, min_samples_split=5, min_samples_leaf=4, max_features=auto, max_depth=10 \n",
      "[CV]  n_estimators=200, min_samples_split=5, min_samples_leaf=2, max_features=sqrt, max_depth=6, total=   1.9s\n",
      "[CV]  n_estimators=200, min_samples_split=5, min_samples_leaf=2, max_features=sqrt, max_depth=6, total=   1.8s\n",
      "[CV] n_estimators=105, min_samples_split=5, min_samples_leaf=4, max_features=auto, max_depth=10 \n",
      "[CV] n_estimators=152, min_samples_split=5, min_samples_leaf=4, max_features=sqrt, max_depth=None \n",
      "[CV]  n_estimators=200, min_samples_split=5, min_samples_leaf=2, max_features=sqrt, max_depth=6, total=   2.0s\n",
      "[CV] n_estimators=152, min_samples_split=5, min_samples_leaf=4, max_features=sqrt, max_depth=None \n",
      "[CV]  n_estimators=152, min_samples_split=5, min_samples_leaf=4, max_features=sqrt, max_depth=None, total=   3.4s\n",
      "[CV] n_estimators=152, min_samples_split=5, min_samples_leaf=4, max_features=sqrt, max_depth=None \n",
      "[CV]  n_estimators=152, min_samples_split=5, min_samples_leaf=4, max_features=auto, max_depth=6, total=   7.6s\n",
      "[CV]  n_estimators=152, min_samples_split=5, min_samples_leaf=4, max_features=auto, max_depth=6, total=   7.5s\n",
      "[CV] n_estimators=57, min_samples_split=10, min_samples_leaf=2, max_features=auto, max_depth=6 \n",
      "[CV] n_estimators=57, min_samples_split=10, min_samples_leaf=2, max_features=auto, max_depth=6 \n",
      "[CV]  n_estimators=152, min_samples_split=5, min_samples_leaf=4, max_features=auto, max_depth=6, total=   7.5s\n",
      "[CV] n_estimators=57, min_samples_split=10, min_samples_leaf=2, max_features=auto, max_depth=6 \n",
      "[CV]  n_estimators=152, min_samples_split=5, min_samples_leaf=4, max_features=sqrt, max_depth=None, total=   3.5s\n",
      "[CV] n_estimators=200, min_samples_split=10, min_samples_leaf=2, max_features=auto, max_depth=2 \n",
      "[CV]  n_estimators=152, min_samples_split=5, min_samples_leaf=4, max_features=sqrt, max_depth=None, total=   3.5s\n",
      "[CV] n_estimators=200, min_samples_split=10, min_samples_leaf=2, max_features=auto, max_depth=2 \n",
      "[CV]  n_estimators=57, min_samples_split=10, min_samples_leaf=2, max_features=auto, max_depth=6, total=   3.1s\n",
      "[CV]  n_estimators=57, min_samples_split=10, min_samples_leaf=2, max_features=auto, max_depth=6, total=   3.1s\n",
      "[CV] n_estimators=200, min_samples_split=10, min_samples_leaf=2, max_features=auto, max_depth=2 \n",
      "[CV] n_estimators=152, min_samples_split=5, min_samples_leaf=2, max_features=sqrt, max_depth=8 \n",
      "[CV]  n_estimators=57, min_samples_split=10, min_samples_leaf=2, max_features=auto, max_depth=6, total=   3.0s\n",
      "[CV] n_estimators=152, min_samples_split=5, min_samples_leaf=2, max_features=sqrt, max_depth=8 \n",
      "[CV]  n_estimators=105, min_samples_split=5, min_samples_leaf=4, max_features=auto, max_depth=10, total=   8.6s\n",
      "[CV] n_estimators=152, min_samples_split=5, min_samples_leaf=2, max_features=sqrt, max_depth=8 \n",
      "[CV]  n_estimators=105, min_samples_split=5, min_samples_leaf=4, max_features=auto, max_depth=10, total=   8.7s\n",
      "[CV] n_estimators=10, min_samples_split=10, min_samples_leaf=2, max_features=auto, max_depth=4 \n",
      "[CV]  n_estimators=105, min_samples_split=5, min_samples_leaf=4, max_features=auto, max_depth=10, total=   8.6s\n",
      "[CV] n_estimators=10, min_samples_split=10, min_samples_leaf=2, max_features=auto, max_depth=4 \n",
      "[CV]  n_estimators=10, min_samples_split=10, min_samples_leaf=2, max_features=auto, max_depth=4, total=   0.4s\n",
      "[CV]  n_estimators=10, min_samples_split=10, min_samples_leaf=2, max_features=auto, max_depth=4, total=   0.3s\n",
      "[CV] n_estimators=10, min_samples_split=10, min_samples_leaf=2, max_features=auto, max_depth=4 \n",
      "[CV] n_estimators=57, min_samples_split=10, min_samples_leaf=2, max_features=auto, max_depth=None \n"
     ]
    },
    {
     "name": "stderr",
     "output_type": "stream",
     "text": [
      "[Parallel(n_jobs=-1)]: Done  25 tasks      | elapsed:   12.4s\n"
     ]
    },
    {
     "name": "stdout",
     "output_type": "stream",
     "text": [
      "[CV]  n_estimators=200, min_samples_split=10, min_samples_leaf=2, max_features=auto, max_depth=2, total=   3.6s\n",
      "[CV] n_estimators=57, min_samples_split=10, min_samples_leaf=2, max_features=auto, max_depth=None \n",
      "[CV]  n_estimators=10, min_samples_split=10, min_samples_leaf=2, max_features=auto, max_depth=4, total=   0.4s\n",
      "[CV] n_estimators=57, min_samples_split=10, min_samples_leaf=2, max_features=auto, max_depth=None \n",
      "[CV]  n_estimators=152, min_samples_split=5, min_samples_leaf=2, max_features=sqrt, max_depth=8, total=   2.0s\n",
      "[CV] n_estimators=200, min_samples_split=5, min_samples_leaf=4, max_features=sqrt, max_depth=6 \n",
      "[CV]  n_estimators=152, min_samples_split=5, min_samples_leaf=2, max_features=sqrt, max_depth=8, total=   2.0s\n",
      "[CV] n_estimators=200, min_samples_split=5, min_samples_leaf=4, max_features=sqrt, max_depth=6 \n",
      "[CV]  n_estimators=152, min_samples_split=5, min_samples_leaf=2, max_features=sqrt, max_depth=8, total=   2.1s\n",
      "[CV] n_estimators=200, min_samples_split=5, min_samples_leaf=4, max_features=sqrt, max_depth=6 \n",
      "[CV]  n_estimators=200, min_samples_split=10, min_samples_leaf=2, max_features=auto, max_depth=2, total=   3.4s\n",
      "[CV] n_estimators=152, min_samples_split=10, min_samples_leaf=2, max_features=auto, max_depth=10 \n",
      "[CV]  n_estimators=200, min_samples_split=10, min_samples_leaf=2, max_features=auto, max_depth=2, total=   3.6s\n",
      "[CV] n_estimators=152, min_samples_split=10, min_samples_leaf=2, max_features=auto, max_depth=10 \n",
      "[CV]  n_estimators=200, min_samples_split=5, min_samples_leaf=4, max_features=sqrt, max_depth=6, total=   2.2s\n",
      "[CV] n_estimators=152, min_samples_split=10, min_samples_leaf=2, max_features=auto, max_depth=10 \n",
      "[CV]  n_estimators=200, min_samples_split=5, min_samples_leaf=4, max_features=sqrt, max_depth=6, total=   2.3s\n",
      "[CV] n_estimators=152, min_samples_split=5, min_samples_leaf=4, max_features=sqrt, max_depth=6 \n",
      "[CV]  n_estimators=200, min_samples_split=5, min_samples_leaf=4, max_features=sqrt, max_depth=6, total=   2.3s\n",
      "[CV] n_estimators=152, min_samples_split=5, min_samples_leaf=4, max_features=sqrt, max_depth=6 \n",
      "[CV]  n_estimators=152, min_samples_split=5, min_samples_leaf=4, max_features=sqrt, max_depth=6, total=   1.5s\n",
      "[CV] n_estimators=152, min_samples_split=5, min_samples_leaf=4, max_features=sqrt, max_depth=6 \n",
      "[CV]  n_estimators=152, min_samples_split=5, min_samples_leaf=4, max_features=sqrt, max_depth=6, total=   1.6s\n",
      "[CV] n_estimators=10, min_samples_split=5, min_samples_leaf=4, max_features=sqrt, max_depth=None \n",
      "[CV]  n_estimators=10, min_samples_split=5, min_samples_leaf=4, max_features=sqrt, max_depth=None, total=   0.2s\n",
      "[CV] n_estimators=10, min_samples_split=5, min_samples_leaf=4, max_features=sqrt, max_depth=None \n",
      "[CV]  n_estimators=10, min_samples_split=5, min_samples_leaf=4, max_features=sqrt, max_depth=None, total=   0.2s\n",
      "[CV] n_estimators=10, min_samples_split=5, min_samples_leaf=4, max_features=sqrt, max_depth=None \n",
      "[CV]  n_estimators=10, min_samples_split=5, min_samples_leaf=4, max_features=sqrt, max_depth=None, total=   0.2s\n",
      "[CV] n_estimators=10, min_samples_split=10, min_samples_leaf=2, max_features=sqrt, max_depth=10 \n",
      "[CV]  n_estimators=57, min_samples_split=10, min_samples_leaf=2, max_features=auto, max_depth=None, total=   6.7s\n",
      "[CV] n_estimators=10, min_samples_split=10, min_samples_leaf=2, max_features=sqrt, max_depth=10 \n",
      "[CV]  n_estimators=10, min_samples_split=10, min_samples_leaf=2, max_features=sqrt, max_depth=10, total=   0.2s\n",
      "[CV] n_estimators=10, min_samples_split=10, min_samples_leaf=2, max_features=sqrt, max_depth=10 \n",
      "[CV]  n_estimators=10, min_samples_split=10, min_samples_leaf=2, max_features=sqrt, max_depth=10, total=   0.2s\n",
      "[CV] n_estimators=10, min_samples_split=10, min_samples_leaf=4, max_features=auto, max_depth=2 \n",
      "[CV]  n_estimators=57, min_samples_split=10, min_samples_leaf=2, max_features=auto, max_depth=None, total=   6.6s\n",
      "[CV] n_estimators=10, min_samples_split=10, min_samples_leaf=4, max_features=auto, max_depth=2 \n",
      "[CV]  n_estimators=57, min_samples_split=10, min_samples_leaf=2, max_features=auto, max_depth=None, total=   6.6s\n",
      "[CV] n_estimators=10, min_samples_split=10, min_samples_leaf=4, max_features=auto, max_depth=2 \n",
      "[CV]  n_estimators=10, min_samples_split=10, min_samples_leaf=2, max_features=sqrt, max_depth=10, total=   0.2s\n",
      "[CV] n_estimators=105, min_samples_split=5, min_samples_leaf=4, max_features=sqrt, max_depth=8 \n",
      "[CV]  n_estimators=10, min_samples_split=10, min_samples_leaf=4, max_features=auto, max_depth=2, total=   0.3s\n",
      "[CV] n_estimators=105, min_samples_split=5, min_samples_leaf=4, max_features=sqrt, max_depth=8 \n",
      "[CV]  n_estimators=10, min_samples_split=10, min_samples_leaf=4, max_features=auto, max_depth=2, total=   0.3s\n",
      "[CV] n_estimators=105, min_samples_split=5, min_samples_leaf=4, max_features=sqrt, max_depth=8 \n",
      "[CV]  n_estimators=152, min_samples_split=5, min_samples_leaf=4, max_features=sqrt, max_depth=6, total=   1.6s\n",
      "[CV] n_estimators=10, min_samples_split=10, min_samples_leaf=2, max_features=auto, max_depth=8 \n",
      "[CV]  n_estimators=10, min_samples_split=10, min_samples_leaf=4, max_features=auto, max_depth=2, total=   0.3s\n",
      "[CV] n_estimators=10, min_samples_split=10, min_samples_leaf=2, max_features=auto, max_depth=8 \n",
      "[CV]  n_estimators=10, min_samples_split=10, min_samples_leaf=2, max_features=auto, max_depth=8, total=   0.7s\n",
      "[CV] n_estimators=10, min_samples_split=10, min_samples_leaf=2, max_features=auto, max_depth=8 \n",
      "[CV]  n_estimators=10, min_samples_split=10, min_samples_leaf=2, max_features=auto, max_depth=8, total=   0.7s\n",
      "[CV] n_estimators=105, min_samples_split=10, min_samples_leaf=2, max_features=auto, max_depth=8 \n",
      "[CV]  n_estimators=105, min_samples_split=5, min_samples_leaf=4, max_features=sqrt, max_depth=8, total=   1.5s\n",
      "[CV] n_estimators=105, min_samples_split=10, min_samples_leaf=2, max_features=auto, max_depth=8 \n",
      "[CV]  n_estimators=105, min_samples_split=5, min_samples_leaf=4, max_features=sqrt, max_depth=8, total=   1.4s\n",
      "[CV] n_estimators=105, min_samples_split=10, min_samples_leaf=2, max_features=auto, max_depth=8 \n",
      "[CV]  n_estimators=105, min_samples_split=5, min_samples_leaf=4, max_features=sqrt, max_depth=8, total=   1.4s\n",
      "[CV] n_estimators=200, min_samples_split=10, min_samples_leaf=4, max_features=auto, max_depth=2 \n",
      "[CV]  n_estimators=10, min_samples_split=10, min_samples_leaf=2, max_features=auto, max_depth=8, total=   0.7s\n",
      "[CV] n_estimators=200, min_samples_split=10, min_samples_leaf=4, max_features=auto, max_depth=2 \n",
      "[CV]  n_estimators=200, min_samples_split=10, min_samples_leaf=4, max_features=auto, max_depth=2, total=   3.7s\n",
      "[CV] n_estimators=200, min_samples_split=10, min_samples_leaf=4, max_features=auto, max_depth=2 \n",
      "[CV]  n_estimators=200, min_samples_split=10, min_samples_leaf=4, max_features=auto, max_depth=2, total=   3.8s\n",
      "[CV] n_estimators=10, min_samples_split=10, min_samples_leaf=4, max_features=sqrt, max_depth=None \n",
      "[CV]  n_estimators=10, min_samples_split=10, min_samples_leaf=4, max_features=sqrt, max_depth=None, total=   0.2s\n",
      "[CV] n_estimators=10, min_samples_split=10, min_samples_leaf=4, max_features=sqrt, max_depth=None \n",
      "[CV]  n_estimators=10, min_samples_split=10, min_samples_leaf=4, max_features=sqrt, max_depth=None, total=   0.2s\n",
      "[CV] n_estimators=10, min_samples_split=10, min_samples_leaf=4, max_features=sqrt, max_depth=None \n",
      "[CV]  n_estimators=10, min_samples_split=10, min_samples_leaf=4, max_features=sqrt, max_depth=None, total=   0.2s\n",
      "[CV] n_estimators=10, min_samples_split=5, min_samples_leaf=4, max_features=sqrt, max_depth=2 \n",
      "[CV]  n_estimators=10, min_samples_split=5, min_samples_leaf=4, max_features=sqrt, max_depth=2, total=   0.1s\n",
      "[CV] n_estimators=10, min_samples_split=5, min_samples_leaf=4, max_features=sqrt, max_depth=2 \n",
      "[CV]  n_estimators=10, min_samples_split=5, min_samples_leaf=4, max_features=sqrt, max_depth=2, total=   0.1s\n",
      "[CV] n_estimators=10, min_samples_split=5, min_samples_leaf=4, max_features=sqrt, max_depth=2 \n",
      "[CV]  n_estimators=10, min_samples_split=5, min_samples_leaf=4, max_features=sqrt, max_depth=2, total=   0.1s\n",
      "[CV] n_estimators=57, min_samples_split=10, min_samples_leaf=4, max_features=auto, max_depth=10 \n",
      "[CV]  n_estimators=152, min_samples_split=10, min_samples_leaf=2, max_features=auto, max_depth=10, total=  13.1s\n"
     ]
    },
    {
     "name": "stdout",
     "output_type": "stream",
     "text": [
      "[CV] n_estimators=57, min_samples_split=10, min_samples_leaf=4, max_features=auto, max_depth=10 \n",
      "[CV]  n_estimators=152, min_samples_split=10, min_samples_leaf=2, max_features=auto, max_depth=10, total=  13.1s\n",
      "[CV] n_estimators=57, min_samples_split=10, min_samples_leaf=4, max_features=auto, max_depth=10 \n",
      "[CV]  n_estimators=105, min_samples_split=10, min_samples_leaf=2, max_features=auto, max_depth=8, total=   7.4s\n",
      "[CV] n_estimators=10, min_samples_split=5, min_samples_leaf=4, max_features=sqrt, max_depth=8 \n",
      "[CV]  n_estimators=10, min_samples_split=5, min_samples_leaf=4, max_features=sqrt, max_depth=8, total=   0.1s\n",
      "[CV] n_estimators=10, min_samples_split=5, min_samples_leaf=4, max_features=sqrt, max_depth=8 \n",
      "[CV]  n_estimators=10, min_samples_split=5, min_samples_leaf=4, max_features=sqrt, max_depth=8, total=   0.1s\n",
      "[CV] n_estimators=10, min_samples_split=5, min_samples_leaf=4, max_features=sqrt, max_depth=8 \n",
      "[CV]  n_estimators=105, min_samples_split=10, min_samples_leaf=2, max_features=auto, max_depth=8, total=   7.3s\n",
      "[CV]  n_estimators=10, min_samples_split=5, min_samples_leaf=4, max_features=sqrt, max_depth=8, total=   0.1s\n",
      "[CV] n_estimators=10, min_samples_split=5, min_samples_leaf=4, max_features=auto, max_depth=2 \n",
      "[CV]  n_estimators=105, min_samples_split=10, min_samples_leaf=2, max_features=auto, max_depth=8, total=   7.3s\n",
      "[CV] n_estimators=10, min_samples_split=5, min_samples_leaf=4, max_features=auto, max_depth=2 \n",
      "[CV] n_estimators=10, min_samples_split=5, min_samples_leaf=4, max_features=auto, max_depth=2 \n",
      "[CV]  n_estimators=200, min_samples_split=10, min_samples_leaf=4, max_features=auto, max_depth=2, total=   3.6s\n",
      "[CV] n_estimators=57, min_samples_split=5, min_samples_leaf=2, max_features=auto, max_depth=None \n",
      "[CV]  n_estimators=152, min_samples_split=10, min_samples_leaf=2, max_features=auto, max_depth=10, total=  13.0s\n",
      "[CV]  n_estimators=10, min_samples_split=5, min_samples_leaf=4, max_features=auto, max_depth=2, total=   0.2s\n",
      "[CV] n_estimators=57, min_samples_split=5, min_samples_leaf=2, max_features=auto, max_depth=None \n",
      "[CV]  n_estimators=10, min_samples_split=5, min_samples_leaf=4, max_features=auto, max_depth=2, total=   0.2s\n",
      "[CV] n_estimators=57, min_samples_split=5, min_samples_leaf=2, max_features=auto, max_depth=None \n",
      "[CV]  n_estimators=10, min_samples_split=5, min_samples_leaf=4, max_features=auto, max_depth=2, total=   0.2s\n",
      "[CV] n_estimators=105, min_samples_split=10, min_samples_leaf=4, max_features=sqrt, max_depth=None \n",
      "[CV] n_estimators=105, min_samples_split=10, min_samples_leaf=4, max_features=sqrt, max_depth=None \n",
      "[CV]  n_estimators=57, min_samples_split=10, min_samples_leaf=4, max_features=auto, max_depth=10, total=   4.9s\n",
      "[CV] n_estimators=105, min_samples_split=10, min_samples_leaf=4, max_features=sqrt, max_depth=None \n",
      "[CV]  n_estimators=105, min_samples_split=10, min_samples_leaf=4, max_features=sqrt, max_depth=None, total=   2.3s\n",
      "[CV] n_estimators=152, min_samples_split=5, min_samples_leaf=4, max_features=sqrt, max_depth=8 \n",
      "[CV]  n_estimators=105, min_samples_split=10, min_samples_leaf=4, max_features=sqrt, max_depth=None, total=   2.3s\n",
      "[CV] n_estimators=152, min_samples_split=5, min_samples_leaf=4, max_features=sqrt, max_depth=8 \n",
      "[CV]  n_estimators=57, min_samples_split=10, min_samples_leaf=4, max_features=auto, max_depth=10, total=   4.6s\n",
      "[CV] n_estimators=152, min_samples_split=5, min_samples_leaf=4, max_features=sqrt, max_depth=8 \n",
      "[CV]  n_estimators=57, min_samples_split=10, min_samples_leaf=4, max_features=auto, max_depth=10, total=   4.7s\n",
      "[CV] n_estimators=57, min_samples_split=10, min_samples_leaf=4, max_features=auto, max_depth=6 \n",
      "[CV]  n_estimators=152, min_samples_split=5, min_samples_leaf=4, max_features=sqrt, max_depth=8, total=   1.9s\n",
      "[CV]  n_estimators=152, min_samples_split=5, min_samples_leaf=4, max_features=sqrt, max_depth=8, total=   1.9s\n",
      "[CV] n_estimators=57, min_samples_split=10, min_samples_leaf=4, max_features=auto, max_depth=6 \n",
      "[CV] n_estimators=57, min_samples_split=10, min_samples_leaf=4, max_features=auto, max_depth=6 \n",
      "[CV]  n_estimators=105, min_samples_split=10, min_samples_leaf=4, max_features=sqrt, max_depth=None, total=   2.2s\n",
      "[CV] n_estimators=152, min_samples_split=10, min_samples_leaf=2, max_features=sqrt, max_depth=None \n",
      "[CV]  n_estimators=152, min_samples_split=5, min_samples_leaf=4, max_features=sqrt, max_depth=8, total=   1.9s\n",
      "[CV] n_estimators=152, min_samples_split=10, min_samples_leaf=2, max_features=sqrt, max_depth=None \n",
      "[CV]  n_estimators=57, min_samples_split=10, min_samples_leaf=4, max_features=auto, max_depth=6, total=   3.0s\n",
      "[CV] n_estimators=152, min_samples_split=10, min_samples_leaf=2, max_features=sqrt, max_depth=None \n",
      "[CV]  n_estimators=57, min_samples_split=5, min_samples_leaf=2, max_features=auto, max_depth=None, total=   7.0s\n",
      "[CV] n_estimators=10, min_samples_split=10, min_samples_leaf=2, max_features=sqrt, max_depth=2 \n",
      "[CV]  n_estimators=10, min_samples_split=10, min_samples_leaf=2, max_features=sqrt, max_depth=2, total=   0.1s\n",
      "[CV] n_estimators=10, min_samples_split=10, min_samples_leaf=2, max_features=sqrt, max_depth=2 \n",
      "[CV]  n_estimators=57, min_samples_split=5, min_samples_leaf=2, max_features=auto, max_depth=None, total=   7.0s\n",
      "[CV]  n_estimators=10, min_samples_split=10, min_samples_leaf=2, max_features=sqrt, max_depth=2, total=   0.1s\n",
      "[CV] n_estimators=10, min_samples_split=10, min_samples_leaf=2, max_features=sqrt, max_depth=2 \n",
      "[CV] n_estimators=105, min_samples_split=5, min_samples_leaf=2, max_features=sqrt, max_depth=10 \n",
      "[CV]  n_estimators=57, min_samples_split=5, min_samples_leaf=2, max_features=auto, max_depth=None, total=   7.1s\n",
      "[CV]  n_estimators=10, min_samples_split=10, min_samples_leaf=2, max_features=sqrt, max_depth=2, total=   0.1s\n",
      "[CV] n_estimators=105, min_samples_split=5, min_samples_leaf=2, max_features=sqrt, max_depth=10 \n",
      "[CV] n_estimators=105, min_samples_split=5, min_samples_leaf=2, max_features=sqrt, max_depth=10 \n",
      "[CV]  n_estimators=57, min_samples_split=10, min_samples_leaf=4, max_features=auto, max_depth=6, total=   3.0s\n",
      "[CV] n_estimators=152, min_samples_split=10, min_samples_leaf=4, max_features=auto, max_depth=2 \n",
      "[CV]  n_estimators=57, min_samples_split=10, min_samples_leaf=4, max_features=auto, max_depth=6, total=   3.1s\n",
      "[CV] n_estimators=152, min_samples_split=10, min_samples_leaf=4, max_features=auto, max_depth=2 \n",
      "[CV]  n_estimators=152, min_samples_split=10, min_samples_leaf=2, max_features=sqrt, max_depth=None, total=   3.8s\n",
      "[CV] n_estimators=152, min_samples_split=10, min_samples_leaf=4, max_features=auto, max_depth=2 \n",
      "[CV]  n_estimators=105, min_samples_split=5, min_samples_leaf=2, max_features=sqrt, max_depth=10, total=   1.8s\n",
      "[CV]  n_estimators=105, min_samples_split=5, min_samples_leaf=2, max_features=sqrt, max_depth=10, total=   1.7s\n",
      "[CV] n_estimators=200, min_samples_split=10, min_samples_leaf=2, max_features=sqrt, max_depth=4 \n",
      "[CV] n_estimators=200, min_samples_split=10, min_samples_leaf=2, max_features=sqrt, max_depth=4 \n",
      "[CV]  n_estimators=105, min_samples_split=5, min_samples_leaf=2, max_features=sqrt, max_depth=10, total=   1.7s\n",
      "[CV] n_estimators=200, min_samples_split=10, min_samples_leaf=2, max_features=sqrt, max_depth=4 \n",
      "[CV]  n_estimators=152, min_samples_split=10, min_samples_leaf=2, max_features=sqrt, max_depth=None, total=   3.7s\n",
      "[CV] n_estimators=105, min_samples_split=5, min_samples_leaf=4, max_features=sqrt, max_depth=10 \n",
      "[CV]  n_estimators=152, min_samples_split=10, min_samples_leaf=4, max_features=auto, max_depth=2, total=   2.7s\n",
      "[CV] n_estimators=105, min_samples_split=5, min_samples_leaf=4, max_features=sqrt, max_depth=10 \n",
      "[CV]  n_estimators=152, min_samples_split=10, min_samples_leaf=4, max_features=auto, max_depth=2, total=   2.7s\n",
      "[CV] n_estimators=105, min_samples_split=5, min_samples_leaf=4, max_features=sqrt, max_depth=10 \n",
      "[CV]  n_estimators=200, min_samples_split=10, min_samples_leaf=2, max_features=sqrt, max_depth=4, total=   1.4s\n",
      "[CV]  n_estimators=200, min_samples_split=10, min_samples_leaf=2, max_features=sqrt, max_depth=4, total=   1.5s\n",
      "[CV]  n_estimators=200, min_samples_split=10, min_samples_leaf=2, max_features=sqrt, max_depth=4, total=   1.5s\n",
      "[CV] n_estimators=10, min_samples_split=10, min_samples_leaf=4, max_features=auto, max_depth=4 \n"
     ]
    },
    {
     "name": "stdout",
     "output_type": "stream",
     "text": [
      "[CV] n_estimators=10, min_samples_split=10, min_samples_leaf=4, max_features=auto, max_depth=4 \n",
      "[CV] n_estimators=10, min_samples_split=10, min_samples_leaf=4, max_features=auto, max_depth=4 \n",
      "[CV]  n_estimators=152, min_samples_split=10, min_samples_leaf=2, max_features=sqrt, max_depth=None, total=   3.6s\n",
      "[CV] n_estimators=200, min_samples_split=10, min_samples_leaf=4, max_features=sqrt, max_depth=4 \n",
      "[CV]  n_estimators=10, min_samples_split=10, min_samples_leaf=4, max_features=auto, max_depth=4, total=   0.4s\n",
      "[CV]  n_estimators=10, min_samples_split=10, min_samples_leaf=4, max_features=auto, max_depth=4, total=   0.4s\n",
      "[CV]  n_estimators=10, min_samples_split=10, min_samples_leaf=4, max_features=auto, max_depth=4, total=   0.4s\n",
      "[CV] n_estimators=200, min_samples_split=10, min_samples_leaf=4, max_features=sqrt, max_depth=4 \n",
      "[CV] n_estimators=200, min_samples_split=10, min_samples_leaf=4, max_features=sqrt, max_depth=4 \n",
      "[CV] n_estimators=10, min_samples_split=10, min_samples_leaf=4, max_features=auto, max_depth=10 \n",
      "[CV]  n_estimators=105, min_samples_split=5, min_samples_leaf=4, max_features=sqrt, max_depth=10, total=   1.9s\n",
      "[CV] n_estimators=10, min_samples_split=10, min_samples_leaf=4, max_features=auto, max_depth=10 \n",
      "[CV]  n_estimators=152, min_samples_split=10, min_samples_leaf=4, max_features=auto, max_depth=2, total=   3.0s\n",
      "[CV] n_estimators=10, min_samples_split=10, min_samples_leaf=4, max_features=auto, max_depth=10 \n",
      "[CV]  n_estimators=10, min_samples_split=10, min_samples_leaf=4, max_features=auto, max_depth=10, total=   1.1s\n",
      "[CV] n_estimators=105, min_samples_split=10, min_samples_leaf=2, max_features=sqrt, max_depth=None \n",
      "[CV]  n_estimators=10, min_samples_split=10, min_samples_leaf=4, max_features=auto, max_depth=10, total=   0.8s\n",
      "[CV]  n_estimators=105, min_samples_split=5, min_samples_leaf=4, max_features=sqrt, max_depth=10, total=   2.0s\n",
      "[CV] n_estimators=105, min_samples_split=10, min_samples_leaf=2, max_features=sqrt, max_depth=None \n",
      "[CV] n_estimators=105, min_samples_split=10, min_samples_leaf=2, max_features=sqrt, max_depth=None \n",
      "[CV]  n_estimators=105, min_samples_split=5, min_samples_leaf=4, max_features=sqrt, max_depth=10, total=   2.0s\n",
      "[CV] n_estimators=105, min_samples_split=5, min_samples_leaf=4, max_features=sqrt, max_depth=6 \n",
      "[CV]  n_estimators=10, min_samples_split=10, min_samples_leaf=4, max_features=auto, max_depth=10, total=   0.8s\n",
      "[CV] n_estimators=105, min_samples_split=5, min_samples_leaf=4, max_features=sqrt, max_depth=6 \n",
      "[CV]  n_estimators=200, min_samples_split=10, min_samples_leaf=4, max_features=sqrt, max_depth=4, total=   1.8s\n",
      "[CV] n_estimators=105, min_samples_split=5, min_samples_leaf=4, max_features=sqrt, max_depth=6 \n",
      "[CV]  n_estimators=200, min_samples_split=10, min_samples_leaf=4, max_features=sqrt, max_depth=4, total=   1.8s\n",
      "[CV] n_estimators=57, min_samples_split=5, min_samples_leaf=2, max_features=sqrt, max_depth=None \n",
      "[CV]  n_estimators=200, min_samples_split=10, min_samples_leaf=4, max_features=sqrt, max_depth=4, total=   1.9s\n",
      "[CV] n_estimators=57, min_samples_split=5, min_samples_leaf=2, max_features=sqrt, max_depth=None \n",
      "[CV]  n_estimators=105, min_samples_split=5, min_samples_leaf=4, max_features=sqrt, max_depth=6, total=   1.1s\n",
      "[CV] n_estimators=57, min_samples_split=5, min_samples_leaf=2, max_features=sqrt, max_depth=None \n",
      "[CV]  n_estimators=105, min_samples_split=5, min_samples_leaf=4, max_features=sqrt, max_depth=6, total=   1.1s\n",
      "[CV] n_estimators=57, min_samples_split=10, min_samples_leaf=4, max_features=auto, max_depth=2 \n",
      "[CV]  n_estimators=105, min_samples_split=5, min_samples_leaf=4, max_features=sqrt, max_depth=6, total=   1.1s\n",
      "[CV] n_estimators=57, min_samples_split=10, min_samples_leaf=4, max_features=auto, max_depth=2 \n",
      "[CV]  n_estimators=57, min_samples_split=5, min_samples_leaf=2, max_features=sqrt, max_depth=None, total=   1.5s\n",
      "[CV]  n_estimators=57, min_samples_split=5, min_samples_leaf=2, max_features=sqrt, max_depth=None, total=   1.6s\n",
      "[CV] n_estimators=57, min_samples_split=10, min_samples_leaf=4, max_features=auto, max_depth=2 \n",
      "[CV] n_estimators=57, min_samples_split=10, min_samples_leaf=4, max_features=sqrt, max_depth=8 \n",
      "[CV]  n_estimators=105, min_samples_split=10, min_samples_leaf=2, max_features=sqrt, max_depth=None, total=   2.6s\n",
      "[CV] n_estimators=57, min_samples_split=10, min_samples_leaf=4, max_features=sqrt, max_depth=8 \n",
      "[CV]  n_estimators=57, min_samples_split=10, min_samples_leaf=4, max_features=auto, max_depth=2, total=   1.1s\n",
      "[CV] n_estimators=57, min_samples_split=10, min_samples_leaf=4, max_features=sqrt, max_depth=8 \n",
      "[CV]  n_estimators=57, min_samples_split=10, min_samples_leaf=4, max_features=auto, max_depth=2, total=   1.1s\n",
      "[CV] n_estimators=57, min_samples_split=10, min_samples_leaf=2, max_features=sqrt, max_depth=4 \n",
      "[CV]  n_estimators=105, min_samples_split=10, min_samples_leaf=2, max_features=sqrt, max_depth=None, total=   2.5s\n",
      "[CV] n_estimators=57, min_samples_split=10, min_samples_leaf=2, max_features=sqrt, max_depth=4 \n",
      "[CV]  n_estimators=105, min_samples_split=10, min_samples_leaf=2, max_features=sqrt, max_depth=None, total=   2.6s\n",
      "[CV] n_estimators=57, min_samples_split=10, min_samples_leaf=2, max_features=sqrt, max_depth=4 \n",
      "[CV]  n_estimators=57, min_samples_split=10, min_samples_leaf=4, max_features=sqrt, max_depth=8, total=   0.7s\n",
      "[CV] n_estimators=10, min_samples_split=10, min_samples_leaf=2, max_features=auto, max_depth=10 \n",
      "[CV]  n_estimators=57, min_samples_split=5, min_samples_leaf=2, max_features=sqrt, max_depth=None, total=   1.5s\n",
      "[CV]  n_estimators=57, min_samples_split=10, min_samples_leaf=2, max_features=sqrt, max_depth=4, total=   0.4s\n",
      "[CV] n_estimators=10, min_samples_split=10, min_samples_leaf=2, max_features=auto, max_depth=10 \n",
      "[CV] n_estimators=10, min_samples_split=10, min_samples_leaf=2, max_features=auto, max_depth=10 \n",
      "[CV]  n_estimators=57, min_samples_split=10, min_samples_leaf=4, max_features=auto, max_depth=2, total=   1.0s\n",
      "[CV] n_estimators=152, min_samples_split=10, min_samples_leaf=4, max_features=sqrt, max_depth=2 \n",
      "[CV]  n_estimators=57, min_samples_split=10, min_samples_leaf=2, max_features=sqrt, max_depth=4, total=   0.4s\n",
      "[CV] n_estimators=152, min_samples_split=10, min_samples_leaf=4, max_features=sqrt, max_depth=2 \n",
      "[CV]  n_estimators=57, min_samples_split=10, min_samples_leaf=2, max_features=sqrt, max_depth=4, total=   0.4s\n",
      "[CV] n_estimators=152, min_samples_split=10, min_samples_leaf=4, max_features=sqrt, max_depth=2 \n",
      "[CV]  n_estimators=57, min_samples_split=10, min_samples_leaf=4, max_features=sqrt, max_depth=8, total=   0.7s\n",
      "[CV] n_estimators=200, min_samples_split=10, min_samples_leaf=4, max_features=auto, max_depth=8 \n",
      "[CV]  n_estimators=57, min_samples_split=10, min_samples_leaf=4, max_features=sqrt, max_depth=8, total=   0.8s\n",
      "[CV] n_estimators=200, min_samples_split=10, min_samples_leaf=4, max_features=auto, max_depth=8 \n",
      "[CV]  n_estimators=10, min_samples_split=10, min_samples_leaf=2, max_features=auto, max_depth=10, total=   0.8s\n",
      "[CV] n_estimators=200, min_samples_split=10, min_samples_leaf=4, max_features=auto, max_depth=8 \n",
      "[CV]  n_estimators=10, min_samples_split=10, min_samples_leaf=2, max_features=auto, max_depth=10, total=   0.8s\n",
      "[CV]  n_estimators=10, min_samples_split=10, min_samples_leaf=2, max_features=auto, max_depth=10, total=   0.8s\n",
      "[CV] n_estimators=10, min_samples_split=5, min_samples_leaf=2, max_features=sqrt, max_depth=4 \n",
      "[CV] n_estimators=10, min_samples_split=5, min_samples_leaf=2, max_features=sqrt, max_depth=4 \n",
      "[CV]  n_estimators=152, min_samples_split=10, min_samples_leaf=4, max_features=sqrt, max_depth=2, total=   0.7s\n",
      "[CV] n_estimators=10, min_samples_split=5, min_samples_leaf=2, max_features=sqrt, max_depth=4 \n",
      "[CV]  n_estimators=10, min_samples_split=5, min_samples_leaf=2, max_features=sqrt, max_depth=4, total=   0.1s\n",
      "[CV]  n_estimators=152, min_samples_split=10, min_samples_leaf=4, max_features=sqrt, max_depth=2, total=   0.7s\n",
      "[CV] n_estimators=200, min_samples_split=5, min_samples_leaf=2, max_features=auto, max_depth=None \n",
      "[CV]  n_estimators=10, min_samples_split=5, min_samples_leaf=2, max_features=sqrt, max_depth=4, total=   0.1s\n",
      "[CV] n_estimators=200, min_samples_split=5, min_samples_leaf=2, max_features=auto, max_depth=None \n"
     ]
    },
    {
     "name": "stdout",
     "output_type": "stream",
     "text": [
      "[CV]  n_estimators=152, min_samples_split=10, min_samples_leaf=4, max_features=sqrt, max_depth=2, total=   0.7s\n",
      "[CV] n_estimators=200, min_samples_split=5, min_samples_leaf=2, max_features=auto, max_depth=None \n",
      "[CV] n_estimators=57, min_samples_split=10, min_samples_leaf=2, max_features=sqrt, max_depth=10 \n",
      "[CV]  n_estimators=10, min_samples_split=5, min_samples_leaf=2, max_features=sqrt, max_depth=4, total=   0.1s\n",
      "[CV] n_estimators=57, min_samples_split=10, min_samples_leaf=2, max_features=sqrt, max_depth=10 \n"
     ]
    },
    {
     "name": "stderr",
     "output_type": "stream",
     "text": [
      "[Parallel(n_jobs=-1)]: Done 146 tasks      | elapsed:   45.8s\n"
     ]
    },
    {
     "name": "stdout",
     "output_type": "stream",
     "text": [
      "[CV]  n_estimators=57, min_samples_split=10, min_samples_leaf=2, max_features=sqrt, max_depth=10, total=   0.9s\n",
      "[CV] n_estimators=57, min_samples_split=10, min_samples_leaf=2, max_features=sqrt, max_depth=10 \n",
      "[CV]  n_estimators=57, min_samples_split=10, min_samples_leaf=2, max_features=sqrt, max_depth=10, total=   0.9s\n",
      "[CV] n_estimators=105, min_samples_split=10, min_samples_leaf=2, max_features=auto, max_depth=None \n",
      "[CV]  n_estimators=57, min_samples_split=10, min_samples_leaf=2, max_features=sqrt, max_depth=10, total=   0.9s\n",
      "[CV] n_estimators=105, min_samples_split=10, min_samples_leaf=2, max_features=auto, max_depth=None \n",
      "[CV]  n_estimators=200, min_samples_split=10, min_samples_leaf=4, max_features=auto, max_depth=8, total=  13.1s\n",
      "[CV] n_estimators=105, min_samples_split=10, min_samples_leaf=2, max_features=auto, max_depth=None \n",
      "[CV]  n_estimators=105, min_samples_split=10, min_samples_leaf=2, max_features=auto, max_depth=None, total=  11.3s\n",
      "[CV]  n_estimators=200, min_samples_split=10, min_samples_leaf=4, max_features=auto, max_depth=8, total=  13.1s\n",
      "[CV] n_estimators=152, min_samples_split=5, min_samples_leaf=4, max_features=sqrt, max_depth=10 \n",
      "[CV] n_estimators=152, min_samples_split=5, min_samples_leaf=4, max_features=sqrt, max_depth=10 \n",
      "[CV]  n_estimators=200, min_samples_split=10, min_samples_leaf=4, max_features=auto, max_depth=8, total=  13.2s\n",
      "[CV] n_estimators=152, min_samples_split=5, min_samples_leaf=4, max_features=sqrt, max_depth=10 \n",
      "[CV]  n_estimators=105, min_samples_split=10, min_samples_leaf=2, max_features=auto, max_depth=None, total=  11.7s\n",
      "[CV] n_estimators=200, min_samples_split=5, min_samples_leaf=2, max_features=sqrt, max_depth=None \n",
      "[CV]  n_estimators=152, min_samples_split=5, min_samples_leaf=4, max_features=sqrt, max_depth=10, total=   2.5s\n",
      "[CV] n_estimators=200, min_samples_split=5, min_samples_leaf=2, max_features=sqrt, max_depth=None \n",
      "[CV]  n_estimators=152, min_samples_split=5, min_samples_leaf=4, max_features=sqrt, max_depth=10, total=   2.5s\n",
      "[CV] n_estimators=200, min_samples_split=5, min_samples_leaf=2, max_features=sqrt, max_depth=None \n",
      "[CV]  n_estimators=152, min_samples_split=5, min_samples_leaf=4, max_features=sqrt, max_depth=10, total=   2.6s\n",
      "[CV] n_estimators=200, min_samples_split=10, min_samples_leaf=2, max_features=auto, max_depth=None \n",
      "[CV]  n_estimators=200, min_samples_split=5, min_samples_leaf=2, max_features=sqrt, max_depth=None, total=   5.3s\n",
      "[CV] n_estimators=200, min_samples_split=10, min_samples_leaf=2, max_features=auto, max_depth=None \n",
      "[CV]  n_estimators=200, min_samples_split=5, min_samples_leaf=2, max_features=sqrt, max_depth=None, total=   5.2s\n",
      "[CV] n_estimators=200, min_samples_split=10, min_samples_leaf=2, max_features=auto, max_depth=None \n",
      "[CV]  n_estimators=200, min_samples_split=5, min_samples_leaf=2, max_features=sqrt, max_depth=None, total=   5.2s\n",
      "[CV] n_estimators=10, min_samples_split=10, min_samples_leaf=4, max_features=sqrt, max_depth=6 \n",
      "[CV]  n_estimators=10, min_samples_split=10, min_samples_leaf=4, max_features=sqrt, max_depth=6, total=   0.1s\n",
      "[CV] n_estimators=10, min_samples_split=10, min_samples_leaf=4, max_features=sqrt, max_depth=6 \n",
      "[CV]  n_estimators=10, min_samples_split=10, min_samples_leaf=4, max_features=sqrt, max_depth=6, total=   0.1s\n",
      "[CV] n_estimators=10, min_samples_split=10, min_samples_leaf=4, max_features=sqrt, max_depth=6 \n",
      "[CV]  n_estimators=10, min_samples_split=10, min_samples_leaf=4, max_features=sqrt, max_depth=6, total=   0.1s\n",
      "[CV] n_estimators=200, min_samples_split=10, min_samples_leaf=4, max_features=auto, max_depth=None \n",
      "[CV]  n_estimators=200, min_samples_split=5, min_samples_leaf=2, max_features=auto, max_depth=None, total=  24.2s\n",
      "[CV] n_estimators=200, min_samples_split=10, min_samples_leaf=4, max_features=auto, max_depth=None \n",
      "[CV]  n_estimators=105, min_samples_split=10, min_samples_leaf=2, max_features=auto, max_depth=None, total=  12.0s\n",
      "[CV] n_estimators=200, min_samples_split=10, min_samples_leaf=4, max_features=auto, max_depth=None \n",
      "[CV]  n_estimators=200, min_samples_split=5, min_samples_leaf=2, max_features=auto, max_depth=None, total=  24.4s\n",
      "[CV] n_estimators=152, min_samples_split=5, min_samples_leaf=4, max_features=sqrt, max_depth=4 \n",
      "[CV]  n_estimators=200, min_samples_split=5, min_samples_leaf=2, max_features=auto, max_depth=None, total=  24.5s\n",
      "[CV] n_estimators=152, min_samples_split=5, min_samples_leaf=4, max_features=sqrt, max_depth=4 \n",
      "[CV]  n_estimators=152, min_samples_split=5, min_samples_leaf=4, max_features=sqrt, max_depth=4, total=   1.2s\n",
      "[CV] n_estimators=152, min_samples_split=5, min_samples_leaf=4, max_features=sqrt, max_depth=4 \n",
      "[CV]  n_estimators=152, min_samples_split=5, min_samples_leaf=4, max_features=sqrt, max_depth=4, total=   1.2s\n",
      "[CV] n_estimators=57, min_samples_split=10, min_samples_leaf=4, max_features=auto, max_depth=8 \n",
      "[CV]  n_estimators=152, min_samples_split=5, min_samples_leaf=4, max_features=sqrt, max_depth=4, total=   1.3s\n",
      "[CV] n_estimators=57, min_samples_split=10, min_samples_leaf=4, max_features=auto, max_depth=8 \n",
      "[CV]  n_estimators=57, min_samples_split=10, min_samples_leaf=4, max_features=auto, max_depth=8, total=   4.1s\n",
      "[CV] n_estimators=57, min_samples_split=10, min_samples_leaf=4, max_features=auto, max_depth=8 \n",
      "[CV]  n_estimators=57, min_samples_split=10, min_samples_leaf=4, max_features=auto, max_depth=8, total=   4.0s\n",
      "[CV] n_estimators=10, min_samples_split=10, min_samples_leaf=4, max_features=auto, max_depth=6 \n",
      "[CV]  n_estimators=10, min_samples_split=10, min_samples_leaf=4, max_features=auto, max_depth=6, total=   0.6s\n",
      "[CV] n_estimators=10, min_samples_split=10, min_samples_leaf=4, max_features=auto, max_depth=6 \n",
      "[CV]  n_estimators=10, min_samples_split=10, min_samples_leaf=4, max_features=auto, max_depth=6, total=   0.6s\n",
      "[CV] n_estimators=10, min_samples_split=10, min_samples_leaf=4, max_features=auto, max_depth=6 \n",
      "[CV]  n_estimators=10, min_samples_split=10, min_samples_leaf=4, max_features=auto, max_depth=6, total=   0.5s\n",
      "[CV] n_estimators=57, min_samples_split=10, min_samples_leaf=2, max_features=auto, max_depth=8 \n",
      "[CV]  n_estimators=57, min_samples_split=10, min_samples_leaf=4, max_features=auto, max_depth=8, total=   3.9s\n",
      "[CV] n_estimators=57, min_samples_split=10, min_samples_leaf=2, max_features=auto, max_depth=8 \n",
      "[CV]  n_estimators=57, min_samples_split=10, min_samples_leaf=2, max_features=auto, max_depth=8, total=   3.9s\n",
      "[CV] n_estimators=57, min_samples_split=10, min_samples_leaf=2, max_features=auto, max_depth=8 \n",
      "[CV]  n_estimators=57, min_samples_split=10, min_samples_leaf=2, max_features=auto, max_depth=8, total=   3.9s\n",
      "[CV] n_estimators=10, min_samples_split=5, min_samples_leaf=2, max_features=auto, max_depth=8 \n",
      "[CV]  n_estimators=200, min_samples_split=10, min_samples_leaf=2, max_features=auto, max_depth=None, total=  22.8s\n",
      "[CV]  n_estimators=10, min_samples_split=5, min_samples_leaf=2, max_features=auto, max_depth=8, total=   0.8s\n",
      "[CV] n_estimators=10, min_samples_split=5, min_samples_leaf=2, max_features=auto, max_depth=8 \n",
      "[CV] n_estimators=10, min_samples_split=5, min_samples_leaf=2, max_features=auto, max_depth=8 \n",
      "[CV]  n_estimators=10, min_samples_split=5, min_samples_leaf=2, max_features=auto, max_depth=8, total=   0.7s\n",
      "[CV]  n_estimators=10, min_samples_split=5, min_samples_leaf=2, max_features=auto, max_depth=8, total=   0.7s\n",
      "[CV] n_estimators=105, min_samples_split=10, min_samples_leaf=2, max_features=sqrt, max_depth=4 \n",
      "[CV] n_estimators=105, min_samples_split=10, min_samples_leaf=2, max_features=sqrt, max_depth=4 \n",
      "[CV]  n_estimators=105, min_samples_split=10, min_samples_leaf=2, max_features=sqrt, max_depth=4, total=   0.8s\n",
      "[CV] n_estimators=105, min_samples_split=10, min_samples_leaf=2, max_features=sqrt, max_depth=4 \n",
      "[CV]  n_estimators=105, min_samples_split=10, min_samples_leaf=2, max_features=sqrt, max_depth=4, total=   0.8s\n",
      "[CV] n_estimators=57, min_samples_split=5, min_samples_leaf=2, max_features=sqrt, max_depth=6 \n",
      "[CV]  n_estimators=57, min_samples_split=10, min_samples_leaf=2, max_features=auto, max_depth=8, total=   4.2s\n",
      "[CV] n_estimators=57, min_samples_split=5, min_samples_leaf=2, max_features=sqrt, max_depth=6 \n",
      "[CV]  n_estimators=57, min_samples_split=5, min_samples_leaf=2, max_features=sqrt, max_depth=6, total=   0.9s\n"
     ]
    },
    {
     "name": "stdout",
     "output_type": "stream",
     "text": [
      "[CV] n_estimators=57, min_samples_split=5, min_samples_leaf=2, max_features=sqrt, max_depth=6 \n",
      "[CV]  n_estimators=105, min_samples_split=10, min_samples_leaf=2, max_features=sqrt, max_depth=4, total=   1.0s\n",
      "[CV] n_estimators=152, min_samples_split=10, min_samples_leaf=2, max_features=sqrt, max_depth=4 \n",
      "[CV]  n_estimators=57, min_samples_split=5, min_samples_leaf=2, max_features=sqrt, max_depth=6, total=   0.6s\n",
      "[CV] n_estimators=152, min_samples_split=10, min_samples_leaf=2, max_features=sqrt, max_depth=4 \n",
      "[CV]  n_estimators=57, min_samples_split=5, min_samples_leaf=2, max_features=sqrt, max_depth=6, total=   0.6s\n",
      "[CV] n_estimators=152, min_samples_split=10, min_samples_leaf=2, max_features=sqrt, max_depth=4 \n",
      "[CV]  n_estimators=152, min_samples_split=10, min_samples_leaf=2, max_features=sqrt, max_depth=4, total=   1.2s\n",
      "[CV] n_estimators=152, min_samples_split=10, min_samples_leaf=2, max_features=sqrt, max_depth=6 \n",
      "[CV]  n_estimators=152, min_samples_split=10, min_samples_leaf=2, max_features=sqrt, max_depth=4, total=   1.2s\n",
      "[CV] n_estimators=152, min_samples_split=10, min_samples_leaf=2, max_features=sqrt, max_depth=6 \n",
      "[CV]  n_estimators=200, min_samples_split=10, min_samples_leaf=2, max_features=auto, max_depth=None, total=  23.5s\n",
      "[CV] n_estimators=152, min_samples_split=10, min_samples_leaf=2, max_features=sqrt, max_depth=6 \n",
      "[CV]  n_estimators=152, min_samples_split=10, min_samples_leaf=2, max_features=sqrt, max_depth=4, total=   1.2s\n",
      "[CV] n_estimators=200, min_samples_split=5, min_samples_leaf=2, max_features=auto, max_depth=6 \n",
      "[CV]  n_estimators=200, min_samples_split=10, min_samples_leaf=4, max_features=auto, max_depth=None, total=  22.0s\n",
      "[CV] n_estimators=200, min_samples_split=5, min_samples_leaf=2, max_features=auto, max_depth=6 \n",
      "[CV]  n_estimators=200, min_samples_split=10, min_samples_leaf=2, max_features=auto, max_depth=None, total=  23.5s\n",
      "[CV] n_estimators=200, min_samples_split=5, min_samples_leaf=2, max_features=auto, max_depth=6 \n",
      "[CV]  n_estimators=152, min_samples_split=10, min_samples_leaf=2, max_features=sqrt, max_depth=6, total=   1.7s\n",
      "[CV] n_estimators=105, min_samples_split=10, min_samples_leaf=4, max_features=sqrt, max_depth=6 \n",
      "[CV]  n_estimators=152, min_samples_split=10, min_samples_leaf=2, max_features=sqrt, max_depth=6, total=   1.6s\n",
      "[CV] n_estimators=105, min_samples_split=10, min_samples_leaf=4, max_features=sqrt, max_depth=6 \n",
      "[CV]  n_estimators=152, min_samples_split=10, min_samples_leaf=2, max_features=sqrt, max_depth=6, total=   1.6s\n",
      "[CV] n_estimators=105, min_samples_split=10, min_samples_leaf=4, max_features=sqrt, max_depth=6 \n",
      "[CV]  n_estimators=105, min_samples_split=10, min_samples_leaf=4, max_features=sqrt, max_depth=6, total=   1.2s\n",
      "[CV] n_estimators=200, min_samples_split=5, min_samples_leaf=4, max_features=sqrt, max_depth=10 \n",
      "[CV]  n_estimators=105, min_samples_split=10, min_samples_leaf=4, max_features=sqrt, max_depth=6, total=   1.2s\n",
      "[CV] n_estimators=200, min_samples_split=5, min_samples_leaf=4, max_features=sqrt, max_depth=10 \n",
      "[CV]  n_estimators=105, min_samples_split=10, min_samples_leaf=4, max_features=sqrt, max_depth=6, total=   1.2s\n",
      "[CV] n_estimators=200, min_samples_split=5, min_samples_leaf=4, max_features=sqrt, max_depth=10 \n",
      "[CV]  n_estimators=200, min_samples_split=10, min_samples_leaf=4, max_features=auto, max_depth=None, total=  22.2s\n",
      "[CV] n_estimators=105, min_samples_split=10, min_samples_leaf=4, max_features=auto, max_depth=10 \n",
      "[CV]  n_estimators=200, min_samples_split=10, min_samples_leaf=4, max_features=auto, max_depth=None, total=  22.4s\n",
      "[CV] n_estimators=105, min_samples_split=10, min_samples_leaf=4, max_features=auto, max_depth=10 \n",
      "[CV]  n_estimators=200, min_samples_split=5, min_samples_leaf=4, max_features=sqrt, max_depth=10, total=   3.4s\n",
      "[CV] n_estimators=105, min_samples_split=10, min_samples_leaf=4, max_features=auto, max_depth=10 \n",
      "[CV]  n_estimators=200, min_samples_split=5, min_samples_leaf=4, max_features=sqrt, max_depth=10, total=   3.5s\n",
      "[CV] n_estimators=57, min_samples_split=5, min_samples_leaf=4, max_features=sqrt, max_depth=6 \n",
      "[CV]  n_estimators=200, min_samples_split=5, min_samples_leaf=4, max_features=sqrt, max_depth=10, total=   3.6s\n",
      "[CV] n_estimators=57, min_samples_split=5, min_samples_leaf=4, max_features=sqrt, max_depth=6 \n",
      "[CV]  n_estimators=57, min_samples_split=5, min_samples_leaf=4, max_features=sqrt, max_depth=6, total=   0.8s\n",
      "[CV] n_estimators=57, min_samples_split=5, min_samples_leaf=4, max_features=sqrt, max_depth=6 \n",
      "[CV]  n_estimators=57, min_samples_split=5, min_samples_leaf=4, max_features=sqrt, max_depth=6, total=   0.7s\n",
      "[CV] n_estimators=200, min_samples_split=10, min_samples_leaf=2, max_features=sqrt, max_depth=2 \n",
      "[CV]  n_estimators=57, min_samples_split=5, min_samples_leaf=4, max_features=sqrt, max_depth=6, total=   0.6s\n",
      "[CV] n_estimators=200, min_samples_split=10, min_samples_leaf=2, max_features=sqrt, max_depth=2 \n",
      "[CV]  n_estimators=200, min_samples_split=10, min_samples_leaf=2, max_features=sqrt, max_depth=2, total=   1.0s\n",
      "[CV] n_estimators=200, min_samples_split=10, min_samples_leaf=2, max_features=sqrt, max_depth=2 \n",
      "[CV]  n_estimators=200, min_samples_split=10, min_samples_leaf=2, max_features=sqrt, max_depth=2, total=   0.9s\n",
      "[CV] n_estimators=200, min_samples_split=5, min_samples_leaf=2, max_features=auto, max_depth=8 \n",
      "[CV]  n_estimators=200, min_samples_split=10, min_samples_leaf=2, max_features=sqrt, max_depth=2, total=   0.9s\n",
      "[CV] n_estimators=200, min_samples_split=5, min_samples_leaf=2, max_features=auto, max_depth=8 \n",
      "[CV]  n_estimators=200, min_samples_split=5, min_samples_leaf=2, max_features=auto, max_depth=6, total=  11.1s\n",
      "[CV] n_estimators=200, min_samples_split=5, min_samples_leaf=2, max_features=auto, max_depth=8 \n",
      "[CV]  n_estimators=200, min_samples_split=5, min_samples_leaf=2, max_features=auto, max_depth=6, total=  11.2s\n",
      "[CV] n_estimators=10, min_samples_split=10, min_samples_leaf=4, max_features=sqrt, max_depth=4 \n",
      "[CV]  n_estimators=10, min_samples_split=10, min_samples_leaf=4, max_features=sqrt, max_depth=4, total=   0.1s\n",
      "[CV] n_estimators=10, min_samples_split=10, min_samples_leaf=4, max_features=sqrt, max_depth=4 \n",
      "[CV]  n_estimators=10, min_samples_split=10, min_samples_leaf=4, max_features=sqrt, max_depth=4, total=   0.1s\n",
      "[CV] n_estimators=10, min_samples_split=10, min_samples_leaf=4, max_features=sqrt, max_depth=4 \n",
      "[CV]  n_estimators=10, min_samples_split=10, min_samples_leaf=4, max_features=sqrt, max_depth=4, total=   0.1s\n",
      "[CV] n_estimators=105, min_samples_split=5, min_samples_leaf=2, max_features=auto, max_depth=6 \n",
      "[CV]  n_estimators=200, min_samples_split=5, min_samples_leaf=2, max_features=auto, max_depth=6, total=  11.0s\n",
      "[CV] n_estimators=105, min_samples_split=5, min_samples_leaf=2, max_features=auto, max_depth=6 \n",
      "[CV]  n_estimators=105, min_samples_split=10, min_samples_leaf=4, max_features=auto, max_depth=10, total=   9.2s\n",
      "[CV] n_estimators=105, min_samples_split=5, min_samples_leaf=2, max_features=auto, max_depth=6 \n",
      "[CV]  n_estimators=105, min_samples_split=10, min_samples_leaf=4, max_features=auto, max_depth=10, total=   9.3s\n",
      "[CV] n_estimators=10, min_samples_split=10, min_samples_leaf=2, max_features=auto, max_depth=2 \n",
      "[CV]  n_estimators=10, min_samples_split=10, min_samples_leaf=2, max_features=auto, max_depth=2, total=   0.3s\n",
      "[CV] n_estimators=10, min_samples_split=10, min_samples_leaf=2, max_features=auto, max_depth=2 \n",
      "[CV]  n_estimators=10, min_samples_split=10, min_samples_leaf=2, max_features=auto, max_depth=2, total=   0.2s\n",
      "[CV] n_estimators=10, min_samples_split=10, min_samples_leaf=2, max_features=auto, max_depth=2 \n",
      "[CV]  n_estimators=10, min_samples_split=10, min_samples_leaf=2, max_features=auto, max_depth=2, total=   0.2s\n",
      "[CV] n_estimators=57, min_samples_split=10, min_samples_leaf=4, max_features=auto, max_depth=4 \n",
      "[CV]  n_estimators=105, min_samples_split=10, min_samples_leaf=4, max_features=auto, max_depth=10, total=   9.2s\n",
      "[CV] n_estimators=57, min_samples_split=10, min_samples_leaf=4, max_features=auto, max_depth=4 \n",
      "[CV]  n_estimators=57, min_samples_split=10, min_samples_leaf=4, max_features=auto, max_depth=4, total=   1.9s\n",
      "[CV] n_estimators=57, min_samples_split=10, min_samples_leaf=4, max_features=auto, max_depth=4 \n"
     ]
    },
    {
     "name": "stdout",
     "output_type": "stream",
     "text": [
      "[CV]  n_estimators=57, min_samples_split=10, min_samples_leaf=4, max_features=auto, max_depth=4, total=   1.9s\n",
      "[CV] n_estimators=200, min_samples_split=5, min_samples_leaf=2, max_features=auto, max_depth=10 \n",
      "[CV]  n_estimators=105, min_samples_split=5, min_samples_leaf=2, max_features=auto, max_depth=6, total=   5.8s\n",
      "[CV] n_estimators=200, min_samples_split=5, min_samples_leaf=2, max_features=auto, max_depth=10 \n",
      "[CV]  n_estimators=57, min_samples_split=10, min_samples_leaf=4, max_features=auto, max_depth=4, total=   1.9s\n",
      "[CV] n_estimators=200, min_samples_split=5, min_samples_leaf=2, max_features=auto, max_depth=10 \n",
      "[CV]  n_estimators=105, min_samples_split=5, min_samples_leaf=2, max_features=auto, max_depth=6, total=   5.6s\n",
      "[CV] n_estimators=200, min_samples_split=10, min_samples_leaf=4, max_features=sqrt, max_depth=8 \n",
      "[CV]  n_estimators=105, min_samples_split=5, min_samples_leaf=2, max_features=auto, max_depth=6, total=   5.5s\n",
      "[CV] n_estimators=200, min_samples_split=10, min_samples_leaf=4, max_features=sqrt, max_depth=8 \n",
      "[CV]  n_estimators=200, min_samples_split=10, min_samples_leaf=4, max_features=sqrt, max_depth=8, total=   2.6s\n",
      "[CV] n_estimators=200, min_samples_split=10, min_samples_leaf=4, max_features=sqrt, max_depth=8 \n",
      "[CV]  n_estimators=200, min_samples_split=10, min_samples_leaf=4, max_features=sqrt, max_depth=8, total=   2.6s\n",
      "[CV] n_estimators=105, min_samples_split=10, min_samples_leaf=4, max_features=auto, max_depth=6 \n",
      "[CV]  n_estimators=200, min_samples_split=5, min_samples_leaf=2, max_features=auto, max_depth=8, total=  14.2s\n",
      "[CV] n_estimators=105, min_samples_split=10, min_samples_leaf=4, max_features=auto, max_depth=6 \n",
      "[CV]  n_estimators=200, min_samples_split=10, min_samples_leaf=4, max_features=sqrt, max_depth=8, total=   2.8s\n",
      "[CV] n_estimators=105, min_samples_split=10, min_samples_leaf=4, max_features=auto, max_depth=6 \n",
      "[CV]  n_estimators=200, min_samples_split=5, min_samples_leaf=2, max_features=auto, max_depth=8, total=  14.1s\n",
      "[CV] n_estimators=10, min_samples_split=10, min_samples_leaf=2, max_features=sqrt, max_depth=4 \n",
      "[CV]  n_estimators=10, min_samples_split=10, min_samples_leaf=2, max_features=sqrt, max_depth=4, total=   0.1s\n",
      "[CV] n_estimators=10, min_samples_split=10, min_samples_leaf=2, max_features=sqrt, max_depth=4 \n",
      "[CV]  n_estimators=10, min_samples_split=10, min_samples_leaf=2, max_features=sqrt, max_depth=4, total=   0.1s\n",
      "[CV] n_estimators=10, min_samples_split=10, min_samples_leaf=2, max_features=sqrt, max_depth=4 \n",
      "[CV]  n_estimators=10, min_samples_split=10, min_samples_leaf=2, max_features=sqrt, max_depth=4, total=   0.1s\n",
      "[CV] n_estimators=105, min_samples_split=5, min_samples_leaf=4, max_features=auto, max_depth=None \n",
      "[CV]  n_estimators=200, min_samples_split=5, min_samples_leaf=2, max_features=auto, max_depth=8, total=  14.4s\n",
      "[CV] n_estimators=105, min_samples_split=5, min_samples_leaf=4, max_features=auto, max_depth=None \n",
      "[CV]  n_estimators=105, min_samples_split=10, min_samples_leaf=4, max_features=auto, max_depth=6, total=   5.9s\n",
      "[CV] n_estimators=105, min_samples_split=5, min_samples_leaf=4, max_features=auto, max_depth=None \n",
      "[CV]  n_estimators=105, min_samples_split=10, min_samples_leaf=4, max_features=auto, max_depth=6, total=   5.8s\n",
      "[CV] n_estimators=152, min_samples_split=10, min_samples_leaf=2, max_features=auto, max_depth=None \n",
      "[CV]  n_estimators=105, min_samples_split=10, min_samples_leaf=4, max_features=auto, max_depth=6, total=   5.8s\n",
      "[CV] n_estimators=152, min_samples_split=10, min_samples_leaf=2, max_features=auto, max_depth=None \n",
      "[CV]  n_estimators=200, min_samples_split=5, min_samples_leaf=2, max_features=auto, max_depth=10, total=  16.9s\n",
      "[CV] n_estimators=152, min_samples_split=10, min_samples_leaf=2, max_features=auto, max_depth=None \n",
      "[CV]  n_estimators=200, min_samples_split=5, min_samples_leaf=2, max_features=auto, max_depth=10, total=  16.9s\n",
      "[CV] n_estimators=105, min_samples_split=5, min_samples_leaf=2, max_features=sqrt, max_depth=8 \n",
      "[CV]  n_estimators=200, min_samples_split=5, min_samples_leaf=2, max_features=auto, max_depth=10, total=  16.9s\n",
      "[CV] n_estimators=105, min_samples_split=5, min_samples_leaf=2, max_features=sqrt, max_depth=8 \n",
      "[CV]  n_estimators=105, min_samples_split=5, min_samples_leaf=4, max_features=auto, max_depth=None, total=  11.1s\n",
      "[CV] n_estimators=105, min_samples_split=5, min_samples_leaf=2, max_features=sqrt, max_depth=8 \n",
      "[CV]  n_estimators=105, min_samples_split=5, min_samples_leaf=2, max_features=sqrt, max_depth=8, total=   1.3s\n",
      "[CV] n_estimators=57, min_samples_split=5, min_samples_leaf=4, max_features=sqrt, max_depth=2 \n",
      "[CV]  n_estimators=105, min_samples_split=5, min_samples_leaf=2, max_features=sqrt, max_depth=8, total=   1.3s\n",
      "[CV] n_estimators=57, min_samples_split=5, min_samples_leaf=4, max_features=sqrt, max_depth=2 \n",
      "[CV]  n_estimators=57, min_samples_split=5, min_samples_leaf=4, max_features=sqrt, max_depth=2, total=   0.3s\n",
      "[CV] n_estimators=57, min_samples_split=5, min_samples_leaf=4, max_features=sqrt, max_depth=2 \n",
      "[CV]  n_estimators=57, min_samples_split=5, min_samples_leaf=4, max_features=sqrt, max_depth=2, total=   0.3s\n",
      "[CV] n_estimators=105, min_samples_split=5, min_samples_leaf=4, max_features=auto, max_depth=2 \n",
      "[CV]  n_estimators=57, min_samples_split=5, min_samples_leaf=4, max_features=sqrt, max_depth=2, total=   0.3s\n",
      "[CV] n_estimators=105, min_samples_split=5, min_samples_leaf=4, max_features=auto, max_depth=2 \n",
      "[CV]  n_estimators=105, min_samples_split=5, min_samples_leaf=4, max_features=auto, max_depth=None, total=  11.0s\n",
      "[CV] n_estimators=105, min_samples_split=5, min_samples_leaf=4, max_features=auto, max_depth=2 \n",
      "[CV]  n_estimators=105, min_samples_split=5, min_samples_leaf=2, max_features=sqrt, max_depth=8, total=   1.3s\n",
      "[CV] n_estimators=10, min_samples_split=10, min_samples_leaf=4, max_features=sqrt, max_depth=2 \n",
      "[CV]  n_estimators=10, min_samples_split=10, min_samples_leaf=4, max_features=sqrt, max_depth=2, total=   0.1s\n",
      "[CV] n_estimators=10, min_samples_split=10, min_samples_leaf=4, max_features=sqrt, max_depth=2 \n",
      "[CV]  n_estimators=10, min_samples_split=10, min_samples_leaf=4, max_features=sqrt, max_depth=2, total=   0.1s\n",
      "[CV] n_estimators=10, min_samples_split=10, min_samples_leaf=4, max_features=sqrt, max_depth=2 \n",
      "[CV]  n_estimators=10, min_samples_split=10, min_samples_leaf=4, max_features=sqrt, max_depth=2, total=   0.1s\n",
      "[CV] n_estimators=152, min_samples_split=10, min_samples_leaf=2, max_features=sqrt, max_depth=2 \n",
      "[CV]  n_estimators=105, min_samples_split=5, min_samples_leaf=4, max_features=auto, max_depth=None, total=  10.7s\n",
      "[CV] n_estimators=152, min_samples_split=10, min_samples_leaf=2, max_features=sqrt, max_depth=2 \n",
      "[CV]  n_estimators=152, min_samples_split=10, min_samples_leaf=2, max_features=sqrt, max_depth=2, total=   0.7s\n",
      "[CV] n_estimators=152, min_samples_split=10, min_samples_leaf=2, max_features=sqrt, max_depth=2 \n",
      "[CV]  n_estimators=105, min_samples_split=5, min_samples_leaf=4, max_features=auto, max_depth=2, total=   1.7s\n",
      "[CV] n_estimators=105, min_samples_split=5, min_samples_leaf=2, max_features=auto, max_depth=4 \n",
      "[CV]  n_estimators=105, min_samples_split=5, min_samples_leaf=4, max_features=auto, max_depth=2, total=   1.7s\n",
      "[CV] n_estimators=105, min_samples_split=5, min_samples_leaf=2, max_features=auto, max_depth=4 \n",
      "[CV]  n_estimators=152, min_samples_split=10, min_samples_leaf=2, max_features=sqrt, max_depth=2, total=   0.7s\n",
      "[CV] n_estimators=105, min_samples_split=5, min_samples_leaf=2, max_features=auto, max_depth=4 \n",
      "[CV]  n_estimators=105, min_samples_split=5, min_samples_leaf=4, max_features=auto, max_depth=2, total=   1.7s\n",
      "[CV] n_estimators=152, min_samples_split=5, min_samples_leaf=2, max_features=sqrt, max_depth=None \n",
      "[CV]  n_estimators=152, min_samples_split=10, min_samples_leaf=2, max_features=sqrt, max_depth=2, total=   0.7s\n",
      "[CV] n_estimators=152, min_samples_split=5, min_samples_leaf=2, max_features=sqrt, max_depth=None \n",
      "[CV]  n_estimators=105, min_samples_split=5, min_samples_leaf=2, max_features=auto, max_depth=4, total=   3.3s\n",
      "[CV] n_estimators=152, min_samples_split=5, min_samples_leaf=2, max_features=sqrt, max_depth=None \n",
      "[CV]  n_estimators=105, min_samples_split=5, min_samples_leaf=2, max_features=auto, max_depth=4, total=   3.3s\n"
     ]
    },
    {
     "name": "stdout",
     "output_type": "stream",
     "text": [
      "[CV] n_estimators=152, min_samples_split=10, min_samples_leaf=2, max_features=sqrt, max_depth=8 \n",
      "[CV]  n_estimators=105, min_samples_split=5, min_samples_leaf=2, max_features=auto, max_depth=4, total=   3.3s\n",
      "[CV] n_estimators=152, min_samples_split=10, min_samples_leaf=2, max_features=sqrt, max_depth=8 \n",
      "[CV]  n_estimators=152, min_samples_split=5, min_samples_leaf=2, max_features=sqrt, max_depth=None, total=   3.6s\n",
      "[CV] n_estimators=152, min_samples_split=10, min_samples_leaf=2, max_features=sqrt, max_depth=8 \n",
      "[CV]  n_estimators=152, min_samples_split=5, min_samples_leaf=2, max_features=sqrt, max_depth=None, total=   3.6s\n",
      "[CV] n_estimators=57, min_samples_split=5, min_samples_leaf=2, max_features=auto, max_depth=10 \n",
      "[CV]  n_estimators=152, min_samples_split=10, min_samples_leaf=2, max_features=sqrt, max_depth=8, total=   1.8s\n",
      "[CV] n_estimators=57, min_samples_split=5, min_samples_leaf=2, max_features=auto, max_depth=10 \n",
      "[CV]  n_estimators=152, min_samples_split=10, min_samples_leaf=2, max_features=sqrt, max_depth=8, total=   1.8s\n",
      "[CV] n_estimators=57, min_samples_split=5, min_samples_leaf=2, max_features=auto, max_depth=10 \n",
      "[CV]  n_estimators=152, min_samples_split=10, min_samples_leaf=2, max_features=sqrt, max_depth=8, total=   1.9s\n",
      "[CV] n_estimators=57, min_samples_split=5, min_samples_leaf=4, max_features=auto, max_depth=4 \n",
      "[CV]  n_estimators=152, min_samples_split=10, min_samples_leaf=2, max_features=auto, max_depth=None, total=  15.7s\n",
      "[CV] n_estimators=57, min_samples_split=5, min_samples_leaf=4, max_features=auto, max_depth=4 \n",
      "[CV]  n_estimators=152, min_samples_split=5, min_samples_leaf=2, max_features=sqrt, max_depth=None, total=   3.7s\n",
      "[CV] n_estimators=57, min_samples_split=5, min_samples_leaf=4, max_features=auto, max_depth=4 \n",
      "[CV]  n_estimators=152, min_samples_split=10, min_samples_leaf=2, max_features=auto, max_depth=None, total=  15.9s\n",
      "[CV] n_estimators=105, min_samples_split=10, min_samples_leaf=4, max_features=auto, max_depth=8 \n",
      "[CV]  n_estimators=57, min_samples_split=5, min_samples_leaf=4, max_features=auto, max_depth=4, total=   1.8s\n",
      "[CV] n_estimators=105, min_samples_split=10, min_samples_leaf=4, max_features=auto, max_depth=8 \n",
      "[CV]  n_estimators=57, min_samples_split=5, min_samples_leaf=4, max_features=auto, max_depth=4, total=   1.8s\n",
      "[CV]  n_estimators=57, min_samples_split=5, min_samples_leaf=2, max_features=auto, max_depth=10, total=   4.5s\n",
      "[CV] n_estimators=105, min_samples_split=10, min_samples_leaf=4, max_features=auto, max_depth=8 \n",
      "[CV] n_estimators=10, min_samples_split=5, min_samples_leaf=4, max_features=sqrt, max_depth=10 \n",
      "[CV]  n_estimators=10, min_samples_split=5, min_samples_leaf=4, max_features=sqrt, max_depth=10, total=   0.2s\n",
      "[CV] n_estimators=10, min_samples_split=5, min_samples_leaf=4, max_features=sqrt, max_depth=10 \n",
      "[CV]  n_estimators=10, min_samples_split=5, min_samples_leaf=4, max_features=sqrt, max_depth=10, total=   0.1s\n",
      "[CV] n_estimators=10, min_samples_split=5, min_samples_leaf=4, max_features=sqrt, max_depth=10 \n",
      "[CV]  n_estimators=57, min_samples_split=5, min_samples_leaf=4, max_features=auto, max_depth=4, total=   1.8s\n",
      "[CV] n_estimators=57, min_samples_split=10, min_samples_leaf=4, max_features=sqrt, max_depth=4 \n",
      "[CV]  n_estimators=10, min_samples_split=5, min_samples_leaf=4, max_features=sqrt, max_depth=10, total=   0.2s\n",
      "[CV] n_estimators=57, min_samples_split=10, min_samples_leaf=4, max_features=sqrt, max_depth=4 \n",
      "[CV]  n_estimators=57, min_samples_split=10, min_samples_leaf=4, max_features=sqrt, max_depth=4, total=   0.4s\n",
      "[CV] n_estimators=57, min_samples_split=10, min_samples_leaf=4, max_features=sqrt, max_depth=4 \n",
      "[CV]  n_estimators=57, min_samples_split=10, min_samples_leaf=4, max_features=sqrt, max_depth=4, total=   0.4s\n",
      "[CV] n_estimators=57, min_samples_split=5, min_samples_leaf=2, max_features=auto, max_depth=4 \n",
      "[CV]  n_estimators=57, min_samples_split=5, min_samples_leaf=2, max_features=auto, max_depth=10, total=   4.4s\n",
      "[CV] n_estimators=57, min_samples_split=5, min_samples_leaf=2, max_features=auto, max_depth=4 \n",
      "[CV]  n_estimators=57, min_samples_split=5, min_samples_leaf=2, max_features=auto, max_depth=10, total=   4.4s\n",
      "[CV] n_estimators=57, min_samples_split=5, min_samples_leaf=2, max_features=auto, max_depth=4 \n",
      "[CV]  n_estimators=57, min_samples_split=10, min_samples_leaf=4, max_features=sqrt, max_depth=4, total=   0.4s\n",
      "[CV] n_estimators=105, min_samples_split=5, min_samples_leaf=2, max_features=auto, max_depth=10 \n",
      "[CV]  n_estimators=57, min_samples_split=5, min_samples_leaf=2, max_features=auto, max_depth=4, total=   1.8s\n",
      "[CV]  n_estimators=57, min_samples_split=5, min_samples_leaf=2, max_features=auto, max_depth=4, total=   1.8s\n",
      "[CV] n_estimators=105, min_samples_split=5, min_samples_leaf=2, max_features=auto, max_depth=10 \n",
      "[CV] n_estimators=105, min_samples_split=5, min_samples_leaf=2, max_features=auto, max_depth=10 \n",
      "[CV]  n_estimators=57, min_samples_split=5, min_samples_leaf=2, max_features=auto, max_depth=4, total=   1.8s\n",
      "[CV] n_estimators=57, min_samples_split=10, min_samples_leaf=2, max_features=sqrt, max_depth=8 \n",
      "[CV]  n_estimators=152, min_samples_split=10, min_samples_leaf=2, max_features=auto, max_depth=None, total=  15.8s\n",
      "[CV] n_estimators=57, min_samples_split=10, min_samples_leaf=2, max_features=sqrt, max_depth=8 \n",
      "[CV]  n_estimators=57, min_samples_split=10, min_samples_leaf=2, max_features=sqrt, max_depth=8, total=   0.7s\n",
      "[CV] n_estimators=57, min_samples_split=10, min_samples_leaf=2, max_features=sqrt, max_depth=8 \n",
      "[CV]  n_estimators=57, min_samples_split=10, min_samples_leaf=2, max_features=sqrt, max_depth=8, total=   0.7s\n",
      "[CV]  n_estimators=57, min_samples_split=10, min_samples_leaf=2, max_features=sqrt, max_depth=8, total=   0.7s\n",
      "[CV]  n_estimators=105, min_samples_split=10, min_samples_leaf=4, max_features=auto, max_depth=8, total=   6.4s\n",
      "[CV]  n_estimators=105, min_samples_split=10, min_samples_leaf=4, max_features=auto, max_depth=8, total=   6.2s\n",
      "[CV]  n_estimators=105, min_samples_split=10, min_samples_leaf=4, max_features=auto, max_depth=8, total=   6.0s\n",
      "[CV]  n_estimators=105, min_samples_split=5, min_samples_leaf=2, max_features=auto, max_depth=10, total=   6.4s\n",
      "[CV]  n_estimators=105, min_samples_split=5, min_samples_leaf=2, max_features=auto, max_depth=10, total=   5.7s\n",
      "[CV]  n_estimators=105, min_samples_split=5, min_samples_leaf=2, max_features=auto, max_depth=10, total=   5.7s\n"
     ]
    },
    {
     "name": "stderr",
     "output_type": "stream",
     "text": [
      "[Parallel(n_jobs=-1)]: Done 300 out of 300 | elapsed:  2.4min finished\n"
     ]
    },
    {
     "data": {
      "text/plain": [
       "RandomizedSearchCV(cv=3, error_score='raise',\n",
       "          estimator=RandomForestRegressor(bootstrap=True, criterion='mse', max_depth=None,\n",
       "           max_features='auto', max_leaf_nodes=None,\n",
       "           min_impurity_decrease=0.0, min_impurity_split=None,\n",
       "           min_samples_leaf=1, min_samples_split=2,\n",
       "           min_weight_fraction_leaf=0.0, n_estimators=10, n_jobs=1,\n",
       "           oob_score=False, random_state=None, verbose=0, warm_start=False),\n",
       "          fit_params=None, iid=True, n_iter=100, n_jobs=-1,\n",
       "          param_distributions={'n_estimators': [10, 57, 105, 152, 200], 'max_features': ['auto', 'sqrt'], 'max_depth': [2, 4, 6, 8, 10, None], 'min_samples_split': [5, 10], 'min_samples_leaf': [2, 4]},\n",
       "          pre_dispatch='2*n_jobs', random_state=42, refit=True,\n",
       "          return_train_score='warn', scoring=None, verbose=2)"
      ]
     },
     "execution_count": 60,
     "metadata": {},
     "output_type": "execute_result"
    }
   ],
   "source": [
    "# Use the random grid to search for best hyperparameters\n",
    "# First create the base model to tune\n",
    "rf = RandomForestRegressor()\n",
    "# Random search of parameters, using 3 fold cross validation, \n",
    "# search across 100 different combinations, and use all available cores\n",
    "rf_random = RandomizedSearchCV(estimator = rf, param_distributions = random_grid, n_iter = 100, cv = 3, verbose=2, random_state=42, n_jobs = -1)\n",
    "# Fit the random search model\n",
    "rf_random.fit(X_train_reg, y_train_reg)"
   ]
  },
  {
   "cell_type": "code",
   "execution_count": 61,
   "metadata": {},
   "outputs": [
    {
     "name": "stdout",
     "output_type": "stream",
     "text": [
      "Model Performance\n",
      "Average Error: 75746.3026 degrees.\n",
      "Accuracy = 85.70%.\n"
     ]
    }
   ],
   "source": [
    "def evaluate_reg(model, test_features, test_labels):\n",
    "    predictions = model.predict(test_features)\n",
    "    errors = abs(predictions - test_labels)\n",
    "    mape = 100 * np.mean(errors / test_labels)\n",
    "    accuracy = 100 - mape\n",
    "    print('Model Performance')\n",
    "    print('Average Error: {:0.4f} degrees.'.format(np.mean(errors)))\n",
    "    print('Accuracy = {:0.2f}%.'.format(accuracy))\n",
    "    \n",
    "    return accuracy\n",
    "base_model = RandomForestRegressor(n_estimators = 10, random_state = 42)\n",
    "base_model.fit(X_train_reg, y_train_reg)\n",
    "base_accuracy = evaluate_reg(base_model, X_test_reg, y_test_reg)"
   ]
  },
  {
   "cell_type": "code",
   "execution_count": 62,
   "metadata": {},
   "outputs": [
    {
     "data": {
      "text/plain": [
       "RandomForestRegressor(bootstrap=True, criterion='mse', max_depth=None,\n",
       "           max_features='auto', max_leaf_nodes=None,\n",
       "           min_impurity_decrease=0.0, min_impurity_split=None,\n",
       "           min_samples_leaf=2, min_samples_split=5,\n",
       "           min_weight_fraction_leaf=0.0, n_estimators=200, n_jobs=1,\n",
       "           oob_score=False, random_state=None, verbose=0, warm_start=False)"
      ]
     },
     "execution_count": 62,
     "metadata": {},
     "output_type": "execute_result"
    }
   ],
   "source": [
    "rf_random.best_estimator_"
   ]
  },
  {
   "cell_type": "code",
   "execution_count": 63,
   "metadata": {},
   "outputs": [
    {
     "name": "stdout",
     "output_type": "stream",
     "text": [
      "Model Performance\n",
      "Average Error: 71214.6055 degrees.\n",
      "Accuracy = 86.48%.\n"
     ]
    }
   ],
   "source": [
    "best_random = rf_random.best_estimator_\n",
    "random_accuracy = evaluate_reg(best_random, X_test_reg, y_test_reg)"
   ]
  },
  {
   "cell_type": "markdown",
   "metadata": {},
   "source": [
    "### Grid Search with Cross Validation"
   ]
  },
  {
   "cell_type": "code",
   "execution_count": 64,
   "metadata": {},
   "outputs": [],
   "source": [
    "from sklearn.model_selection import GridSearchCV\n",
    "# Create the parameter grid based on the results of random search \n",
    "param_grid = {\n",
    "    'bootstrap': [True, False],\n",
    "    'max_depth': [None],\n",
    "    'max_features': [2, 3],\n",
    "    'min_samples_leaf': [2,3,4],\n",
    "    'min_samples_split': [3,5,7],\n",
    "    'n_estimators': [100, 200, 300, 1000]\n",
    "}\n",
    "# Create a based model\n",
    "rf = RandomForestRegressor()\n",
    "\n",
    "# Instantiate the grid search model\n",
    "grid_search = GridSearchCV(estimator = rf, param_grid = param_grid, \n",
    "                          cv = 3, n_jobs = -1, verbose = 2)\n"
   ]
  },
  {
   "cell_type": "code",
   "execution_count": 65,
   "metadata": {},
   "outputs": [
    {
     "name": "stdout",
     "output_type": "stream",
     "text": [
      "Fitting 3 folds for each of 144 candidates, totalling 432 fits\n",
      "[CV] bootstrap=True, max_depth=None, max_features=2, min_samples_leaf=2, min_samples_split=3, n_estimators=100 \n",
      "[CV] bootstrap=True, max_depth=None, max_features=2, min_samples_leaf=2, min_samples_split=3, n_estimators=100 \n",
      "[CV] bootstrap=True, max_depth=None, max_features=2, min_samples_leaf=2, min_samples_split=3, n_estimators=100 \n",
      "[CV] bootstrap=True, max_depth=None, max_features=2, min_samples_leaf=2, min_samples_split=3, n_estimators=200 \n",
      "[CV] bootstrap=True, max_depth=None, max_features=2, min_samples_leaf=2, min_samples_split=3, n_estimators=200 \n",
      "[CV] bootstrap=True, max_depth=None, max_features=2, min_samples_leaf=2, min_samples_split=3, n_estimators=200 \n",
      "[CV] bootstrap=True, max_depth=None, max_features=2, min_samples_leaf=2, min_samples_split=3, n_estimators=300 \n",
      "[CV] bootstrap=True, max_depth=None, max_features=2, min_samples_leaf=2, min_samples_split=3, n_estimators=300 \n",
      "[CV]  bootstrap=True, max_depth=None, max_features=2, min_samples_leaf=2, min_samples_split=3, n_estimators=100, total=   1.1s\n",
      "[CV] bootstrap=True, max_depth=None, max_features=2, min_samples_leaf=2, min_samples_split=3, n_estimators=300 \n",
      "[CV]  bootstrap=True, max_depth=None, max_features=2, min_samples_leaf=2, min_samples_split=3, n_estimators=100, total=   1.1s\n",
      "[CV]  bootstrap=True, max_depth=None, max_features=2, min_samples_leaf=2, min_samples_split=3, n_estimators=100, total=   1.1s\n",
      "[CV] bootstrap=True, max_depth=None, max_features=2, min_samples_leaf=2, min_samples_split=3, n_estimators=1000 \n",
      "[CV] bootstrap=True, max_depth=None, max_features=2, min_samples_leaf=2, min_samples_split=3, n_estimators=1000 \n",
      "[CV]  bootstrap=True, max_depth=None, max_features=2, min_samples_leaf=2, min_samples_split=3, n_estimators=200, total=   2.3s\n",
      "[CV] bootstrap=True, max_depth=None, max_features=2, min_samples_leaf=2, min_samples_split=3, n_estimators=1000 \n",
      "[CV]  bootstrap=True, max_depth=None, max_features=2, min_samples_leaf=2, min_samples_split=3, n_estimators=200, total=   2.3s\n",
      "[CV]  bootstrap=True, max_depth=None, max_features=2, min_samples_leaf=2, min_samples_split=3, n_estimators=200, total=   2.3s\n",
      "[CV] bootstrap=True, max_depth=None, max_features=2, min_samples_leaf=2, min_samples_split=5, n_estimators=100 \n",
      "[CV] bootstrap=True, max_depth=None, max_features=2, min_samples_leaf=2, min_samples_split=5, n_estimators=100 \n",
      "[CV]  bootstrap=True, max_depth=None, max_features=2, min_samples_leaf=2, min_samples_split=3, n_estimators=300, total=   3.5s\n",
      "[CV] bootstrap=True, max_depth=None, max_features=2, min_samples_leaf=2, min_samples_split=5, n_estimators=100 \n",
      "[CV]  bootstrap=True, max_depth=None, max_features=2, min_samples_leaf=2, min_samples_split=5, n_estimators=100, total=   1.3s\n",
      "[CV]  bootstrap=True, max_depth=None, max_features=2, min_samples_leaf=2, min_samples_split=5, n_estimators=100, total=   1.3s\n",
      "[CV] bootstrap=True, max_depth=None, max_features=2, min_samples_leaf=2, min_samples_split=5, n_estimators=200 \n",
      "[CV] bootstrap=True, max_depth=None, max_features=2, min_samples_leaf=2, min_samples_split=5, n_estimators=200 \n",
      "[CV]  bootstrap=True, max_depth=None, max_features=2, min_samples_leaf=2, min_samples_split=3, n_estimators=300, total=   3.7s\n",
      "[CV] bootstrap=True, max_depth=None, max_features=2, min_samples_leaf=2, min_samples_split=5, n_estimators=200 \n",
      "[CV]  bootstrap=True, max_depth=None, max_features=2, min_samples_leaf=2, min_samples_split=3, n_estimators=300, total=   4.0s\n",
      "[CV] bootstrap=True, max_depth=None, max_features=2, min_samples_leaf=2, min_samples_split=5, n_estimators=300 \n",
      "[CV]  bootstrap=True, max_depth=None, max_features=2, min_samples_leaf=2, min_samples_split=5, n_estimators=100, total=   1.3s\n",
      "[CV] bootstrap=True, max_depth=None, max_features=2, min_samples_leaf=2, min_samples_split=5, n_estimators=300 \n",
      "[CV]  bootstrap=True, max_depth=None, max_features=2, min_samples_leaf=2, min_samples_split=5, n_estimators=200, total=   2.3s\n",
      "[CV]  bootstrap=True, max_depth=None, max_features=2, min_samples_leaf=2, min_samples_split=5, n_estimators=200, total=   2.2s\n",
      "[CV] bootstrap=True, max_depth=None, max_features=2, min_samples_leaf=2, min_samples_split=5, n_estimators=300 \n",
      "[CV] bootstrap=True, max_depth=None, max_features=2, min_samples_leaf=2, min_samples_split=5, n_estimators=1000 \n",
      "[CV]  bootstrap=True, max_depth=None, max_features=2, min_samples_leaf=2, min_samples_split=5, n_estimators=200, total=   2.2s\n",
      "[CV] bootstrap=True, max_depth=None, max_features=2, min_samples_leaf=2, min_samples_split=5, n_estimators=1000 \n",
      "[CV]  bootstrap=True, max_depth=None, max_features=2, min_samples_leaf=2, min_samples_split=5, n_estimators=300, total=   3.3s\n",
      "[CV] bootstrap=True, max_depth=None, max_features=2, min_samples_leaf=2, min_samples_split=5, n_estimators=1000 \n",
      "[CV]  bootstrap=True, max_depth=None, max_features=2, min_samples_leaf=2, min_samples_split=5, n_estimators=300, total=   3.3s\n",
      "[CV] bootstrap=True, max_depth=None, max_features=2, min_samples_leaf=2, min_samples_split=7, n_estimators=100 \n",
      "[CV]  bootstrap=True, max_depth=None, max_features=2, min_samples_leaf=2, min_samples_split=5, n_estimators=300, total=   3.3s\n",
      "[CV]  bootstrap=True, max_depth=None, max_features=2, min_samples_leaf=2, min_samples_split=7, n_estimators=100, total=   1.1s\n",
      "[CV] bootstrap=True, max_depth=None, max_features=2, min_samples_leaf=2, min_samples_split=7, n_estimators=100 \n",
      "[CV] bootstrap=True, max_depth=None, max_features=2, min_samples_leaf=2, min_samples_split=7, n_estimators=100 \n",
      "[CV]  bootstrap=True, max_depth=None, max_features=2, min_samples_leaf=2, min_samples_split=7, n_estimators=100, total=   1.1s\n",
      "[CV]  bootstrap=True, max_depth=None, max_features=2, min_samples_leaf=2, min_samples_split=7, n_estimators=100, total=   1.1s\n",
      "[CV] bootstrap=True, max_depth=None, max_features=2, min_samples_leaf=2, min_samples_split=7, n_estimators=200 \n",
      "[CV] bootstrap=True, max_depth=None, max_features=2, min_samples_leaf=2, min_samples_split=7, n_estimators=200 \n",
      "[CV]  bootstrap=True, max_depth=None, max_features=2, min_samples_leaf=2, min_samples_split=3, n_estimators=1000, total=  11.7s\n",
      "[CV]  bootstrap=True, max_depth=None, max_features=2, min_samples_leaf=2, min_samples_split=7, n_estimators=200, total=   2.1s\n",
      "[CV] bootstrap=True, max_depth=None, max_features=2, min_samples_leaf=2, min_samples_split=7, n_estimators=200 \n",
      "[CV] bootstrap=True, max_depth=None, max_features=2, min_samples_leaf=2, min_samples_split=7, n_estimators=300 \n",
      "[CV]  bootstrap=True, max_depth=None, max_features=2, min_samples_leaf=2, min_samples_split=7, n_estimators=200, total=   2.1s\n",
      "[CV] bootstrap=True, max_depth=None, max_features=2, min_samples_leaf=2, min_samples_split=7, n_estimators=300 \n",
      "[CV]  bootstrap=True, max_depth=None, max_features=2, min_samples_leaf=2, min_samples_split=3, n_estimators=1000, total=  11.9s\n",
      "[CV] bootstrap=True, max_depth=None, max_features=2, min_samples_leaf=2, min_samples_split=7, n_estimators=300 \n"
     ]
    },
    {
     "name": "stderr",
     "output_type": "stream",
     "text": [
      "[Parallel(n_jobs=-1)]: Done  25 tasks      | elapsed:   15.3s\n"
     ]
    },
    {
     "name": "stdout",
     "output_type": "stream",
     "text": [
      "[CV]  bootstrap=True, max_depth=None, max_features=2, min_samples_leaf=2, min_samples_split=3, n_estimators=1000, total=  11.7s\n",
      "[CV] bootstrap=True, max_depth=None, max_features=2, min_samples_leaf=2, min_samples_split=7, n_estimators=1000 \n",
      "[CV]  bootstrap=True, max_depth=None, max_features=2, min_samples_leaf=2, min_samples_split=7, n_estimators=200, total=   2.2s\n",
      "[CV] bootstrap=True, max_depth=None, max_features=2, min_samples_leaf=2, min_samples_split=7, n_estimators=1000 \n",
      "[CV]  bootstrap=True, max_depth=None, max_features=2, min_samples_leaf=2, min_samples_split=7, n_estimators=300, total=   3.2s\n",
      "[CV] bootstrap=True, max_depth=None, max_features=2, min_samples_leaf=2, min_samples_split=7, n_estimators=1000 \n",
      "[CV]  bootstrap=True, max_depth=None, max_features=2, min_samples_leaf=2, min_samples_split=7, n_estimators=300, total=   3.2s\n",
      "[CV] bootstrap=True, max_depth=None, max_features=2, min_samples_leaf=3, min_samples_split=3, n_estimators=100 \n",
      "[CV]  bootstrap=True, max_depth=None, max_features=2, min_samples_leaf=2, min_samples_split=7, n_estimators=300, total=   3.2s\n",
      "[CV] bootstrap=True, max_depth=None, max_features=2, min_samples_leaf=3, min_samples_split=3, n_estimators=100 \n",
      "[CV]  bootstrap=True, max_depth=None, max_features=2, min_samples_leaf=3, min_samples_split=3, n_estimators=100, total=   0.9s\n",
      "[CV] bootstrap=True, max_depth=None, max_features=2, min_samples_leaf=3, min_samples_split=3, n_estimators=100 \n",
      "[CV]  bootstrap=True, max_depth=None, max_features=2, min_samples_leaf=3, min_samples_split=3, n_estimators=100, total=   0.9s\n",
      "[CV] bootstrap=True, max_depth=None, max_features=2, min_samples_leaf=3, min_samples_split=3, n_estimators=200 \n",
      "[CV]  bootstrap=True, max_depth=None, max_features=2, min_samples_leaf=2, min_samples_split=5, n_estimators=1000, total=  11.0s\n",
      "[CV] bootstrap=True, max_depth=None, max_features=2, min_samples_leaf=3, min_samples_split=3, n_estimators=200 \n",
      "[CV]  bootstrap=True, max_depth=None, max_features=2, min_samples_leaf=2, min_samples_split=5, n_estimators=1000, total=  11.1s\n",
      "[CV] bootstrap=True, max_depth=None, max_features=2, min_samples_leaf=3, min_samples_split=3, n_estimators=200 \n",
      "[CV]  bootstrap=True, max_depth=None, max_features=2, min_samples_leaf=3, min_samples_split=3, n_estimators=100, total=   1.0s\n",
      "[CV] bootstrap=True, max_depth=None, max_features=2, min_samples_leaf=3, min_samples_split=3, n_estimators=300 \n",
      "[CV]  bootstrap=True, max_depth=None, max_features=2, min_samples_leaf=3, min_samples_split=3, n_estimators=200, total=   1.9s\n",
      "[CV] bootstrap=True, max_depth=None, max_features=2, min_samples_leaf=3, min_samples_split=3, n_estimators=300 \n",
      "[CV]  bootstrap=True, max_depth=None, max_features=2, min_samples_leaf=3, min_samples_split=3, n_estimators=200, total=   2.1s\n",
      "[CV] bootstrap=True, max_depth=None, max_features=2, min_samples_leaf=3, min_samples_split=3, n_estimators=300 \n",
      "[CV]  bootstrap=True, max_depth=None, max_features=2, min_samples_leaf=3, min_samples_split=3, n_estimators=200, total=   2.0s\n",
      "[CV] bootstrap=True, max_depth=None, max_features=2, min_samples_leaf=3, min_samples_split=3, n_estimators=1000 \n",
      "[CV]  bootstrap=True, max_depth=None, max_features=2, min_samples_leaf=2, min_samples_split=5, n_estimators=1000, total=  11.3s\n",
      "[CV] bootstrap=True, max_depth=None, max_features=2, min_samples_leaf=3, min_samples_split=3, n_estimators=1000 \n",
      "[CV]  bootstrap=True, max_depth=None, max_features=2, min_samples_leaf=3, min_samples_split=3, n_estimators=300, total=   2.9s\n",
      "[CV] bootstrap=True, max_depth=None, max_features=2, min_samples_leaf=3, min_samples_split=3, n_estimators=1000 \n",
      "[CV]  bootstrap=True, max_depth=None, max_features=2, min_samples_leaf=3, min_samples_split=3, n_estimators=300, total=   3.0s\n",
      "[CV] bootstrap=True, max_depth=None, max_features=2, min_samples_leaf=3, min_samples_split=5, n_estimators=100 \n",
      "[CV]  bootstrap=True, max_depth=None, max_features=2, min_samples_leaf=3, min_samples_split=3, n_estimators=300, total=   2.8s\n",
      "[CV] bootstrap=True, max_depth=None, max_features=2, min_samples_leaf=3, min_samples_split=5, n_estimators=100 \n",
      "[CV]  bootstrap=True, max_depth=None, max_features=2, min_samples_leaf=3, min_samples_split=5, n_estimators=100, total=   1.0s\n",
      "[CV]  bootstrap=True, max_depth=None, max_features=2, min_samples_leaf=3, min_samples_split=5, n_estimators=100, total=   1.0s\n",
      "[CV] bootstrap=True, max_depth=None, max_features=2, min_samples_leaf=3, min_samples_split=5, n_estimators=100 \n",
      "[CV] bootstrap=True, max_depth=None, max_features=2, min_samples_leaf=3, min_samples_split=5, n_estimators=200 \n",
      "[CV]  bootstrap=True, max_depth=None, max_features=2, min_samples_leaf=3, min_samples_split=5, n_estimators=100, total=   0.9s\n",
      "[CV] bootstrap=True, max_depth=None, max_features=2, min_samples_leaf=3, min_samples_split=5, n_estimators=200 \n",
      "[CV]  bootstrap=True, max_depth=None, max_features=2, min_samples_leaf=3, min_samples_split=5, n_estimators=200, total=   1.8s\n",
      "[CV] bootstrap=True, max_depth=None, max_features=2, min_samples_leaf=3, min_samples_split=5, n_estimators=200 \n",
      "[CV]  bootstrap=True, max_depth=None, max_features=2, min_samples_leaf=2, min_samples_split=7, n_estimators=1000, total=  11.1s\n",
      "[CV] bootstrap=True, max_depth=None, max_features=2, min_samples_leaf=3, min_samples_split=5, n_estimators=300 \n",
      "[CV]  bootstrap=True, max_depth=None, max_features=2, min_samples_leaf=3, min_samples_split=5, n_estimators=200, total=   1.8s\n",
      "[CV] bootstrap=True, max_depth=None, max_features=2, min_samples_leaf=3, min_samples_split=5, n_estimators=300 \n",
      "[CV]  bootstrap=True, max_depth=None, max_features=2, min_samples_leaf=2, min_samples_split=7, n_estimators=1000, total=  11.1s\n",
      "[CV] bootstrap=True, max_depth=None, max_features=2, min_samples_leaf=3, min_samples_split=5, n_estimators=300 \n",
      "[CV]  bootstrap=True, max_depth=None, max_features=2, min_samples_leaf=3, min_samples_split=5, n_estimators=200, total=   1.8s\n",
      "[CV] bootstrap=True, max_depth=None, max_features=2, min_samples_leaf=3, min_samples_split=5, n_estimators=1000 \n",
      "[CV]  bootstrap=True, max_depth=None, max_features=2, min_samples_leaf=2, min_samples_split=7, n_estimators=1000, total=  11.2s\n",
      "[CV] bootstrap=True, max_depth=None, max_features=2, min_samples_leaf=3, min_samples_split=5, n_estimators=1000 \n",
      "[CV]  bootstrap=True, max_depth=None, max_features=2, min_samples_leaf=3, min_samples_split=5, n_estimators=300, total=   2.6s\n",
      "[CV] bootstrap=True, max_depth=None, max_features=2, min_samples_leaf=3, min_samples_split=5, n_estimators=1000 \n",
      "[CV]  bootstrap=True, max_depth=None, max_features=2, min_samples_leaf=3, min_samples_split=5, n_estimators=300, total=   2.6s\n",
      "[CV] bootstrap=True, max_depth=None, max_features=2, min_samples_leaf=3, min_samples_split=7, n_estimators=100 \n",
      "[CV]  bootstrap=True, max_depth=None, max_features=2, min_samples_leaf=3, min_samples_split=3, n_estimators=1000, total=   9.2s\n",
      "[CV] bootstrap=True, max_depth=None, max_features=2, min_samples_leaf=3, min_samples_split=7, n_estimators=100 \n",
      "[CV]  bootstrap=True, max_depth=None, max_features=2, min_samples_leaf=3, min_samples_split=5, n_estimators=300, total=   2.6s\n",
      "[CV] bootstrap=True, max_depth=None, max_features=2, min_samples_leaf=3, min_samples_split=7, n_estimators=100 \n",
      "[CV]  bootstrap=True, max_depth=None, max_features=2, min_samples_leaf=3, min_samples_split=3, n_estimators=1000, total=   9.3s\n",
      "[CV] bootstrap=True, max_depth=None, max_features=2, min_samples_leaf=3, min_samples_split=7, n_estimators=200 \n",
      "[CV]  bootstrap=True, max_depth=None, max_features=2, min_samples_leaf=3, min_samples_split=7, n_estimators=100, total=   0.9s\n",
      "[CV] bootstrap=True, max_depth=None, max_features=2, min_samples_leaf=3, min_samples_split=7, n_estimators=200 \n",
      "[CV]  bootstrap=True, max_depth=None, max_features=2, min_samples_leaf=3, min_samples_split=7, n_estimators=100, total=   0.9s\n",
      "[CV] bootstrap=True, max_depth=None, max_features=2, min_samples_leaf=3, min_samples_split=7, n_estimators=200 \n",
      "[CV]  bootstrap=True, max_depth=None, max_features=2, min_samples_leaf=3, min_samples_split=7, n_estimators=100, total=   0.9s\n",
      "[CV] bootstrap=True, max_depth=None, max_features=2, min_samples_leaf=3, min_samples_split=7, n_estimators=300 \n",
      "[CV]  bootstrap=True, max_depth=None, max_features=2, min_samples_leaf=3, min_samples_split=3, n_estimators=1000, total=   9.1s\n"
     ]
    },
    {
     "name": "stdout",
     "output_type": "stream",
     "text": [
      "[CV] bootstrap=True, max_depth=None, max_features=2, min_samples_leaf=3, min_samples_split=7, n_estimators=300 \n",
      "[CV]  bootstrap=True, max_depth=None, max_features=2, min_samples_leaf=3, min_samples_split=7, n_estimators=200, total=   1.8s\n",
      "[CV] bootstrap=True, max_depth=None, max_features=2, min_samples_leaf=3, min_samples_split=7, n_estimators=300 \n",
      "[CV]  bootstrap=True, max_depth=None, max_features=2, min_samples_leaf=3, min_samples_split=7, n_estimators=200, total=   1.8s\n",
      "[CV] bootstrap=True, max_depth=None, max_features=2, min_samples_leaf=3, min_samples_split=7, n_estimators=1000 \n",
      "[CV]  bootstrap=True, max_depth=None, max_features=2, min_samples_leaf=3, min_samples_split=7, n_estimators=200, total=   1.8s\n",
      "[CV] bootstrap=True, max_depth=None, max_features=2, min_samples_leaf=3, min_samples_split=7, n_estimators=1000 \n",
      "[CV]  bootstrap=True, max_depth=None, max_features=2, min_samples_leaf=3, min_samples_split=7, n_estimators=300, total=   2.6s\n",
      "[CV] bootstrap=True, max_depth=None, max_features=2, min_samples_leaf=3, min_samples_split=7, n_estimators=1000 \n",
      "[CV]  bootstrap=True, max_depth=None, max_features=2, min_samples_leaf=3, min_samples_split=7, n_estimators=300, total=   2.7s\n",
      "[CV] bootstrap=True, max_depth=None, max_features=2, min_samples_leaf=4, min_samples_split=3, n_estimators=100 \n",
      "[CV]  bootstrap=True, max_depth=None, max_features=2, min_samples_leaf=3, min_samples_split=7, n_estimators=300, total=   2.6s\n",
      "[CV] bootstrap=True, max_depth=None, max_features=2, min_samples_leaf=4, min_samples_split=3, n_estimators=100 \n",
      "[CV]  bootstrap=True, max_depth=None, max_features=2, min_samples_leaf=4, min_samples_split=3, n_estimators=100, total=   0.8s\n",
      "[CV] bootstrap=True, max_depth=None, max_features=2, min_samples_leaf=4, min_samples_split=3, n_estimators=100 \n",
      "[CV]  bootstrap=True, max_depth=None, max_features=2, min_samples_leaf=4, min_samples_split=3, n_estimators=100, total=   0.8s\n",
      "[CV] bootstrap=True, max_depth=None, max_features=2, min_samples_leaf=4, min_samples_split=3, n_estimators=200 \n",
      "[CV]  bootstrap=True, max_depth=None, max_features=2, min_samples_leaf=4, min_samples_split=3, n_estimators=100, total=   0.8s\n",
      "[CV] bootstrap=True, max_depth=None, max_features=2, min_samples_leaf=4, min_samples_split=3, n_estimators=200 \n",
      "[CV]  bootstrap=True, max_depth=None, max_features=2, min_samples_leaf=3, min_samples_split=5, n_estimators=1000, total=   8.6s\n",
      "[CV] bootstrap=True, max_depth=None, max_features=2, min_samples_leaf=4, min_samples_split=3, n_estimators=200 \n",
      "[CV]  bootstrap=True, max_depth=None, max_features=2, min_samples_leaf=4, min_samples_split=3, n_estimators=200, total=   1.6s\n",
      "[CV] bootstrap=True, max_depth=None, max_features=2, min_samples_leaf=4, min_samples_split=3, n_estimators=300 \n",
      "[CV]  bootstrap=True, max_depth=None, max_features=2, min_samples_leaf=3, min_samples_split=5, n_estimators=1000, total=   8.9s\n",
      "[CV] bootstrap=True, max_depth=None, max_features=2, min_samples_leaf=4, min_samples_split=3, n_estimators=300 \n",
      "[CV]  bootstrap=True, max_depth=None, max_features=2, min_samples_leaf=4, min_samples_split=3, n_estimators=200, total=   1.6s\n",
      "[CV] bootstrap=True, max_depth=None, max_features=2, min_samples_leaf=4, min_samples_split=3, n_estimators=300 \n",
      "[CV]  bootstrap=True, max_depth=None, max_features=2, min_samples_leaf=3, min_samples_split=5, n_estimators=1000, total=   8.9s\n",
      "[CV] bootstrap=True, max_depth=None, max_features=2, min_samples_leaf=4, min_samples_split=3, n_estimators=1000 \n",
      "[CV]  bootstrap=True, max_depth=None, max_features=2, min_samples_leaf=4, min_samples_split=3, n_estimators=200, total=   1.6s\n",
      "[CV] bootstrap=True, max_depth=None, max_features=2, min_samples_leaf=4, min_samples_split=3, n_estimators=1000 \n",
      "[CV]  bootstrap=True, max_depth=None, max_features=2, min_samples_leaf=4, min_samples_split=3, n_estimators=300, total=   2.4s\n",
      "[CV] bootstrap=True, max_depth=None, max_features=2, min_samples_leaf=4, min_samples_split=3, n_estimators=1000 \n",
      "[CV]  bootstrap=True, max_depth=None, max_features=2, min_samples_leaf=4, min_samples_split=3, n_estimators=300, total=   2.4s\n",
      "[CV] bootstrap=True, max_depth=None, max_features=2, min_samples_leaf=4, min_samples_split=5, n_estimators=100 \n",
      "[CV]  bootstrap=True, max_depth=None, max_features=2, min_samples_leaf=4, min_samples_split=3, n_estimators=300, total=   2.4s\n",
      "[CV] bootstrap=True, max_depth=None, max_features=2, min_samples_leaf=4, min_samples_split=5, n_estimators=100 \n",
      "[CV]  bootstrap=True, max_depth=None, max_features=2, min_samples_leaf=4, min_samples_split=5, n_estimators=100, total=   0.9s\n",
      "[CV] bootstrap=True, max_depth=None, max_features=2, min_samples_leaf=4, min_samples_split=5, n_estimators=100 \n",
      "[CV]  bootstrap=True, max_depth=None, max_features=2, min_samples_leaf=4, min_samples_split=5, n_estimators=100, total=   0.9s\n",
      "[CV] bootstrap=True, max_depth=None, max_features=2, min_samples_leaf=4, min_samples_split=5, n_estimators=200 \n",
      "[CV]  bootstrap=True, max_depth=None, max_features=2, min_samples_leaf=3, min_samples_split=7, n_estimators=1000, total=   8.7s\n",
      "[CV] bootstrap=True, max_depth=None, max_features=2, min_samples_leaf=4, min_samples_split=5, n_estimators=200 \n",
      "[CV]  bootstrap=True, max_depth=None, max_features=2, min_samples_leaf=4, min_samples_split=5, n_estimators=100, total=   0.8s\n",
      "[CV] bootstrap=True, max_depth=None, max_features=2, min_samples_leaf=4, min_samples_split=5, n_estimators=200 \n",
      "[CV]  bootstrap=True, max_depth=None, max_features=2, min_samples_leaf=3, min_samples_split=7, n_estimators=1000, total=   8.8s\n",
      "[CV] bootstrap=True, max_depth=None, max_features=2, min_samples_leaf=4, min_samples_split=5, n_estimators=300 \n",
      "[CV]  bootstrap=True, max_depth=None, max_features=2, min_samples_leaf=4, min_samples_split=5, n_estimators=200, total=   1.5s\n",
      "[CV] bootstrap=True, max_depth=None, max_features=2, min_samples_leaf=4, min_samples_split=5, n_estimators=300 \n",
      "[CV]  bootstrap=True, max_depth=None, max_features=2, min_samples_leaf=3, min_samples_split=7, n_estimators=1000, total=   8.9s\n",
      "[CV] bootstrap=True, max_depth=None, max_features=2, min_samples_leaf=4, min_samples_split=5, n_estimators=300 \n",
      "[CV]  bootstrap=True, max_depth=None, max_features=2, min_samples_leaf=4, min_samples_split=5, n_estimators=200, total=   1.6s\n",
      "[CV] bootstrap=True, max_depth=None, max_features=2, min_samples_leaf=4, min_samples_split=5, n_estimators=1000 \n",
      "[CV]  bootstrap=True, max_depth=None, max_features=2, min_samples_leaf=4, min_samples_split=5, n_estimators=200, total=   1.6s\n",
      "[CV] bootstrap=True, max_depth=None, max_features=2, min_samples_leaf=4, min_samples_split=5, n_estimators=1000 \n",
      "[CV]  bootstrap=True, max_depth=None, max_features=2, min_samples_leaf=4, min_samples_split=5, n_estimators=300, total=   2.4s\n",
      "[CV] bootstrap=True, max_depth=None, max_features=2, min_samples_leaf=4, min_samples_split=5, n_estimators=1000 \n",
      "[CV]  bootstrap=True, max_depth=None, max_features=2, min_samples_leaf=4, min_samples_split=5, n_estimators=300, total=   2.5s\n",
      "[CV] bootstrap=True, max_depth=None, max_features=2, min_samples_leaf=4, min_samples_split=7, n_estimators=100 \n",
      "[CV]  bootstrap=True, max_depth=None, max_features=2, min_samples_leaf=4, min_samples_split=5, n_estimators=300, total=   2.5s\n",
      "[CV] bootstrap=True, max_depth=None, max_features=2, min_samples_leaf=4, min_samples_split=7, n_estimators=100 \n",
      "[CV]  bootstrap=True, max_depth=None, max_features=2, min_samples_leaf=4, min_samples_split=7, n_estimators=100, total=   0.9s\n",
      "[CV] bootstrap=True, max_depth=None, max_features=2, min_samples_leaf=4, min_samples_split=7, n_estimators=100 \n",
      "[CV]  bootstrap=True, max_depth=None, max_features=2, min_samples_leaf=4, min_samples_split=7, n_estimators=100, total=   0.9s\n",
      "[CV] bootstrap=True, max_depth=None, max_features=2, min_samples_leaf=4, min_samples_split=7, n_estimators=200 \n",
      "[CV]  bootstrap=True, max_depth=None, max_features=2, min_samples_leaf=4, min_samples_split=3, n_estimators=1000, total=   8.1s\n",
      "[CV] bootstrap=True, max_depth=None, max_features=2, min_samples_leaf=4, min_samples_split=7, n_estimators=200 \n",
      "[CV]  bootstrap=True, max_depth=None, max_features=2, min_samples_leaf=4, min_samples_split=3, n_estimators=1000, total=   8.2s\n",
      "[CV] bootstrap=True, max_depth=None, max_features=2, min_samples_leaf=4, min_samples_split=7, n_estimators=200 \n"
     ]
    },
    {
     "name": "stdout",
     "output_type": "stream",
     "text": [
      "[CV]  bootstrap=True, max_depth=None, max_features=2, min_samples_leaf=4, min_samples_split=7, n_estimators=100, total=   0.9s\n",
      "[CV] bootstrap=True, max_depth=None, max_features=2, min_samples_leaf=4, min_samples_split=7, n_estimators=300 \n",
      "[CV]  bootstrap=True, max_depth=None, max_features=2, min_samples_leaf=4, min_samples_split=7, n_estimators=200, total=   1.8s\n",
      "[CV] bootstrap=True, max_depth=None, max_features=2, min_samples_leaf=4, min_samples_split=7, n_estimators=300 \n",
      "[CV]  bootstrap=True, max_depth=None, max_features=2, min_samples_leaf=4, min_samples_split=7, n_estimators=200, total=   1.8s\n",
      "[CV] bootstrap=True, max_depth=None, max_features=2, min_samples_leaf=4, min_samples_split=7, n_estimators=300 \n",
      "[CV]  bootstrap=True, max_depth=None, max_features=2, min_samples_leaf=4, min_samples_split=3, n_estimators=1000, total=   8.5s\n",
      "[CV] bootstrap=True, max_depth=None, max_features=2, min_samples_leaf=4, min_samples_split=7, n_estimators=1000 \n",
      "[CV]  bootstrap=True, max_depth=None, max_features=2, min_samples_leaf=4, min_samples_split=7, n_estimators=200, total=   1.8s\n",
      "[CV] bootstrap=True, max_depth=None, max_features=2, min_samples_leaf=4, min_samples_split=7, n_estimators=1000 \n",
      "[CV]  bootstrap=True, max_depth=None, max_features=2, min_samples_leaf=4, min_samples_split=7, n_estimators=300, total=   2.7s\n",
      "[CV] bootstrap=True, max_depth=None, max_features=2, min_samples_leaf=4, min_samples_split=7, n_estimators=1000 \n",
      "[CV]  bootstrap=True, max_depth=None, max_features=2, min_samples_leaf=4, min_samples_split=7, n_estimators=300, total=   2.7s\n",
      "[CV] bootstrap=True, max_depth=None, max_features=3, min_samples_leaf=2, min_samples_split=3, n_estimators=100 \n",
      "[CV]  bootstrap=True, max_depth=None, max_features=2, min_samples_leaf=4, min_samples_split=7, n_estimators=300, total=   2.7s\n",
      "[CV] bootstrap=True, max_depth=None, max_features=3, min_samples_leaf=2, min_samples_split=3, n_estimators=100 \n",
      "[CV]  bootstrap=True, max_depth=None, max_features=2, min_samples_leaf=4, min_samples_split=5, n_estimators=1000, total=   8.7s\n",
      "[CV] bootstrap=True, max_depth=None, max_features=3, min_samples_leaf=2, min_samples_split=3, n_estimators=100 \n",
      "[CV]  bootstrap=True, max_depth=None, max_features=2, min_samples_leaf=4, min_samples_split=5, n_estimators=1000, total=   8.9s\n",
      "[CV]  bootstrap=True, max_depth=None, max_features=3, min_samples_leaf=2, min_samples_split=3, n_estimators=100, total=   1.6s\n",
      "[CV] bootstrap=True, max_depth=None, max_features=3, min_samples_leaf=2, min_samples_split=3, n_estimators=200 \n",
      "[CV] bootstrap=True, max_depth=None, max_features=3, min_samples_leaf=2, min_samples_split=3, n_estimators=200 \n",
      "[CV]  bootstrap=True, max_depth=None, max_features=3, min_samples_leaf=2, min_samples_split=3, n_estimators=100, total=   1.7s\n",
      "[CV] bootstrap=True, max_depth=None, max_features=3, min_samples_leaf=2, min_samples_split=3, n_estimators=200 \n",
      "[CV]  bootstrap=True, max_depth=None, max_features=2, min_samples_leaf=4, min_samples_split=5, n_estimators=1000, total=   9.0s\n",
      "[CV] bootstrap=True, max_depth=None, max_features=3, min_samples_leaf=2, min_samples_split=3, n_estimators=300 \n",
      "[CV]  bootstrap=True, max_depth=None, max_features=3, min_samples_leaf=2, min_samples_split=3, n_estimators=100, total=   1.7s\n",
      "[CV] bootstrap=True, max_depth=None, max_features=3, min_samples_leaf=2, min_samples_split=3, n_estimators=300 \n",
      "[CV]  bootstrap=True, max_depth=None, max_features=3, min_samples_leaf=2, min_samples_split=3, n_estimators=200, total=   2.8s\n",
      "[CV]  bootstrap=True, max_depth=None, max_features=3, min_samples_leaf=2, min_samples_split=3, n_estimators=200, total=   2.9s\n",
      "[CV] bootstrap=True, max_depth=None, max_features=3, min_samples_leaf=2, min_samples_split=3, n_estimators=300 \n",
      "[CV] bootstrap=True, max_depth=None, max_features=3, min_samples_leaf=2, min_samples_split=3, n_estimators=1000 \n",
      "[CV]  bootstrap=True, max_depth=None, max_features=3, min_samples_leaf=2, min_samples_split=3, n_estimators=200, total=   2.8s\n",
      "[CV] bootstrap=True, max_depth=None, max_features=3, min_samples_leaf=2, min_samples_split=3, n_estimators=1000 \n",
      "[CV]  bootstrap=True, max_depth=None, max_features=2, min_samples_leaf=4, min_samples_split=7, n_estimators=1000, total=   8.7s\n",
      "[CV] bootstrap=True, max_depth=None, max_features=3, min_samples_leaf=2, min_samples_split=3, n_estimators=1000 \n",
      "[CV]  bootstrap=True, max_depth=None, max_features=2, min_samples_leaf=4, min_samples_split=7, n_estimators=1000, total=   8.7s\n",
      "[CV] bootstrap=True, max_depth=None, max_features=3, min_samples_leaf=2, min_samples_split=5, n_estimators=100 \n",
      "[CV]  bootstrap=True, max_depth=None, max_features=3, min_samples_leaf=2, min_samples_split=3, n_estimators=300, total=   4.1s\n",
      "[CV] bootstrap=True, max_depth=None, max_features=3, min_samples_leaf=2, min_samples_split=5, n_estimators=100 \n",
      "[CV]  bootstrap=True, max_depth=None, max_features=3, min_samples_leaf=2, min_samples_split=3, n_estimators=300, total=   4.1s\n",
      "[CV] bootstrap=True, max_depth=None, max_features=3, min_samples_leaf=2, min_samples_split=5, n_estimators=100 \n",
      "[CV]  bootstrap=True, max_depth=None, max_features=2, min_samples_leaf=4, min_samples_split=7, n_estimators=1000, total=   8.7s\n",
      "[CV] bootstrap=True, max_depth=None, max_features=3, min_samples_leaf=2, min_samples_split=5, n_estimators=200 \n",
      "[CV]  bootstrap=True, max_depth=None, max_features=3, min_samples_leaf=2, min_samples_split=5, n_estimators=100, total=   1.4s\n",
      "[CV] bootstrap=True, max_depth=None, max_features=3, min_samples_leaf=2, min_samples_split=5, n_estimators=200 \n",
      "[CV]  bootstrap=True, max_depth=None, max_features=3, min_samples_leaf=2, min_samples_split=5, n_estimators=100, total=   1.4s\n",
      "[CV] bootstrap=True, max_depth=None, max_features=3, min_samples_leaf=2, min_samples_split=5, n_estimators=200 \n",
      "[CV]  bootstrap=True, max_depth=None, max_features=3, min_samples_leaf=2, min_samples_split=5, n_estimators=100, total=   1.4s\n",
      "[CV] bootstrap=True, max_depth=None, max_features=3, min_samples_leaf=2, min_samples_split=5, n_estimators=300 \n",
      "[CV]  bootstrap=True, max_depth=None, max_features=3, min_samples_leaf=2, min_samples_split=3, n_estimators=300, total=   4.2s\n",
      "[CV] bootstrap=True, max_depth=None, max_features=3, min_samples_leaf=2, min_samples_split=5, n_estimators=300 \n",
      "[CV]  bootstrap=True, max_depth=None, max_features=3, min_samples_leaf=2, min_samples_split=5, n_estimators=200, total=   2.8s\n",
      "[CV] bootstrap=True, max_depth=None, max_features=3, min_samples_leaf=2, min_samples_split=5, n_estimators=300 \n",
      "[CV]  bootstrap=True, max_depth=None, max_features=3, min_samples_leaf=2, min_samples_split=5, n_estimators=200, total=   2.7s\n",
      "[CV] bootstrap=True, max_depth=None, max_features=3, min_samples_leaf=2, min_samples_split=5, n_estimators=1000 \n",
      "[CV]  bootstrap=True, max_depth=None, max_features=3, min_samples_leaf=2, min_samples_split=5, n_estimators=200, total=   2.8s\n",
      "[CV] bootstrap=True, max_depth=None, max_features=3, min_samples_leaf=2, min_samples_split=5, n_estimators=1000 \n",
      "[CV]  bootstrap=True, max_depth=None, max_features=3, min_samples_leaf=2, min_samples_split=5, n_estimators=300, total=   4.1s\n",
      "[CV] bootstrap=True, max_depth=None, max_features=3, min_samples_leaf=2, min_samples_split=5, n_estimators=1000 \n",
      "[CV]  bootstrap=True, max_depth=None, max_features=3, min_samples_leaf=2, min_samples_split=5, n_estimators=300, total=   4.1s\n",
      "[CV] bootstrap=True, max_depth=None, max_features=3, min_samples_leaf=2, min_samples_split=7, n_estimators=100 \n",
      "[CV]  bootstrap=True, max_depth=None, max_features=3, min_samples_leaf=2, min_samples_split=7, n_estimators=100, total=   1.4s\n",
      "[CV] bootstrap=True, max_depth=None, max_features=3, min_samples_leaf=2, min_samples_split=7, n_estimators=100 \n",
      "[CV]  bootstrap=True, max_depth=None, max_features=3, min_samples_leaf=2, min_samples_split=5, n_estimators=300, total=   4.1s\n",
      "[CV] bootstrap=True, max_depth=None, max_features=3, min_samples_leaf=2, min_samples_split=7, n_estimators=100 \n",
      "[CV]  bootstrap=True, max_depth=None, max_features=3, min_samples_leaf=2, min_samples_split=7, n_estimators=100, total=   1.4s\n",
      "[CV] bootstrap=True, max_depth=None, max_features=3, min_samples_leaf=2, min_samples_split=7, n_estimators=200 \n",
      "[CV]  bootstrap=True, max_depth=None, max_features=3, min_samples_leaf=2, min_samples_split=7, n_estimators=100, total=   1.4s\n"
     ]
    },
    {
     "name": "stdout",
     "output_type": "stream",
     "text": [
      "[CV] bootstrap=True, max_depth=None, max_features=3, min_samples_leaf=2, min_samples_split=7, n_estimators=200 \n",
      "[CV]  bootstrap=True, max_depth=None, max_features=3, min_samples_leaf=2, min_samples_split=7, n_estimators=200, total=   2.6s\n",
      "[CV] bootstrap=True, max_depth=None, max_features=3, min_samples_leaf=2, min_samples_split=7, n_estimators=200 \n",
      "[CV]  bootstrap=True, max_depth=None, max_features=3, min_samples_leaf=2, min_samples_split=3, n_estimators=1000, total=  13.9s\n",
      "[CV] bootstrap=True, max_depth=None, max_features=3, min_samples_leaf=2, min_samples_split=7, n_estimators=300 \n",
      "[CV]  bootstrap=True, max_depth=None, max_features=3, min_samples_leaf=2, min_samples_split=7, n_estimators=200, total=   2.6s\n",
      "[CV] bootstrap=True, max_depth=None, max_features=3, min_samples_leaf=2, min_samples_split=7, n_estimators=300 \n",
      "[CV]  bootstrap=True, max_depth=None, max_features=3, min_samples_leaf=2, min_samples_split=3, n_estimators=1000, total=  13.9s\n",
      "[CV] bootstrap=True, max_depth=None, max_features=3, min_samples_leaf=2, min_samples_split=7, n_estimators=300 \n",
      "[CV]  bootstrap=True, max_depth=None, max_features=3, min_samples_leaf=2, min_samples_split=3, n_estimators=1000, total=  14.1s\n",
      "[CV] bootstrap=True, max_depth=None, max_features=3, min_samples_leaf=2, min_samples_split=7, n_estimators=1000 \n",
      "[CV]  bootstrap=True, max_depth=None, max_features=3, min_samples_leaf=2, min_samples_split=7, n_estimators=200, total=   2.6s\n",
      "[CV] bootstrap=True, max_depth=None, max_features=3, min_samples_leaf=2, min_samples_split=7, n_estimators=1000 \n",
      "[CV]  bootstrap=True, max_depth=None, max_features=3, min_samples_leaf=2, min_samples_split=7, n_estimators=300, total=   3.8s\n",
      "[CV] bootstrap=True, max_depth=None, max_features=3, min_samples_leaf=2, min_samples_split=7, n_estimators=1000 \n",
      "[CV]  bootstrap=True, max_depth=None, max_features=3, min_samples_leaf=2, min_samples_split=7, n_estimators=300, total=   3.9s\n",
      "[CV] bootstrap=True, max_depth=None, max_features=3, min_samples_leaf=3, min_samples_split=3, n_estimators=100 \n",
      "[CV]  bootstrap=True, max_depth=None, max_features=3, min_samples_leaf=2, min_samples_split=7, n_estimators=300, total=   3.9s\n",
      "[CV] bootstrap=True, max_depth=None, max_features=3, min_samples_leaf=3, min_samples_split=3, n_estimators=100 \n",
      "[CV]  bootstrap=True, max_depth=None, max_features=3, min_samples_leaf=3, min_samples_split=3, n_estimators=100, total=   1.3s\n",
      "[CV] bootstrap=True, max_depth=None, max_features=3, min_samples_leaf=3, min_samples_split=3, n_estimators=100 \n",
      "[CV]  bootstrap=True, max_depth=None, max_features=3, min_samples_leaf=3, min_samples_split=3, n_estimators=100, total=   1.3s\n",
      "[CV] bootstrap=True, max_depth=None, max_features=3, min_samples_leaf=3, min_samples_split=3, n_estimators=200 \n",
      "[CV]  bootstrap=True, max_depth=None, max_features=3, min_samples_leaf=2, min_samples_split=5, n_estimators=1000, total=  13.5s\n",
      "[CV] bootstrap=True, max_depth=None, max_features=3, min_samples_leaf=3, min_samples_split=3, n_estimators=200 \n",
      "[CV]  bootstrap=True, max_depth=None, max_features=3, min_samples_leaf=2, min_samples_split=5, n_estimators=1000, total=  13.7s\n",
      "[CV] bootstrap=True, max_depth=None, max_features=3, min_samples_leaf=3, min_samples_split=3, n_estimators=200 \n",
      "[CV]  bootstrap=True, max_depth=None, max_features=3, min_samples_leaf=3, min_samples_split=3, n_estimators=100, total=   1.6s\n",
      "[CV] bootstrap=True, max_depth=None, max_features=3, min_samples_leaf=3, min_samples_split=3, n_estimators=300 \n",
      "[CV]  bootstrap=True, max_depth=None, max_features=3, min_samples_leaf=3, min_samples_split=3, n_estimators=200, total=   2.8s\n",
      "[CV] bootstrap=True, max_depth=None, max_features=3, min_samples_leaf=3, min_samples_split=3, n_estimators=300 \n",
      "[CV]  bootstrap=True, max_depth=None, max_features=3, min_samples_leaf=2, min_samples_split=5, n_estimators=1000, total=  14.2s\n",
      "[CV] bootstrap=True, max_depth=None, max_features=3, min_samples_leaf=3, min_samples_split=3, n_estimators=300 \n",
      "[CV]  bootstrap=True, max_depth=None, max_features=3, min_samples_leaf=3, min_samples_split=3, n_estimators=200, total=   2.9s\n",
      "[CV] bootstrap=True, max_depth=None, max_features=3, min_samples_leaf=3, min_samples_split=3, n_estimators=1000 \n"
     ]
    },
    {
     "name": "stderr",
     "output_type": "stream",
     "text": [
      "[Parallel(n_jobs=-1)]: Done 146 tasks      | elapsed:  1.5min\n"
     ]
    },
    {
     "name": "stdout",
     "output_type": "stream",
     "text": [
      "[CV]  bootstrap=True, max_depth=None, max_features=3, min_samples_leaf=3, min_samples_split=3, n_estimators=200, total=   2.8s\n",
      "[CV] bootstrap=True, max_depth=None, max_features=3, min_samples_leaf=3, min_samples_split=3, n_estimators=1000 \n",
      "[CV]  bootstrap=True, max_depth=None, max_features=3, min_samples_leaf=3, min_samples_split=3, n_estimators=300, total=   4.2s\n",
      "[CV] bootstrap=True, max_depth=None, max_features=3, min_samples_leaf=3, min_samples_split=3, n_estimators=1000 \n",
      "[CV]  bootstrap=True, max_depth=None, max_features=3, min_samples_leaf=3, min_samples_split=3, n_estimators=300, total=   4.1s\n",
      "[CV] bootstrap=True, max_depth=None, max_features=3, min_samples_leaf=3, min_samples_split=5, n_estimators=100 \n",
      "[CV]  bootstrap=True, max_depth=None, max_features=3, min_samples_leaf=3, min_samples_split=3, n_estimators=300, total=   4.1s\n",
      "[CV] bootstrap=True, max_depth=None, max_features=3, min_samples_leaf=3, min_samples_split=5, n_estimators=100 \n",
      "[CV]  bootstrap=True, max_depth=None, max_features=3, min_samples_leaf=3, min_samples_split=5, n_estimators=100, total=   1.3s\n",
      "[CV] bootstrap=True, max_depth=None, max_features=3, min_samples_leaf=3, min_samples_split=5, n_estimators=100 \n",
      "[CV]  bootstrap=True, max_depth=None, max_features=3, min_samples_leaf=3, min_samples_split=5, n_estimators=100, total=   1.4s\n",
      "[CV] bootstrap=True, max_depth=None, max_features=3, min_samples_leaf=3, min_samples_split=5, n_estimators=200 \n",
      "[CV]  bootstrap=True, max_depth=None, max_features=3, min_samples_leaf=3, min_samples_split=5, n_estimators=100, total=   1.4s\n",
      "[CV] bootstrap=True, max_depth=None, max_features=3, min_samples_leaf=3, min_samples_split=5, n_estimators=200 \n",
      "[CV]  bootstrap=True, max_depth=None, max_features=3, min_samples_leaf=2, min_samples_split=7, n_estimators=1000, total=  14.8s\n",
      "[CV] bootstrap=True, max_depth=None, max_features=3, min_samples_leaf=3, min_samples_split=5, n_estimators=200 \n",
      "[CV]  bootstrap=True, max_depth=None, max_features=3, min_samples_leaf=3, min_samples_split=5, n_estimators=200, total=   3.1s\n",
      "[CV] bootstrap=True, max_depth=None, max_features=3, min_samples_leaf=3, min_samples_split=5, n_estimators=300 \n",
      "[CV]  bootstrap=True, max_depth=None, max_features=3, min_samples_leaf=2, min_samples_split=7, n_estimators=1000, total=  14.8s\n",
      "[CV] bootstrap=True, max_depth=None, max_features=3, min_samples_leaf=3, min_samples_split=5, n_estimators=300 \n",
      "[CV]  bootstrap=True, max_depth=None, max_features=3, min_samples_leaf=3, min_samples_split=5, n_estimators=200, total=   3.0s\n",
      "[CV] bootstrap=True, max_depth=None, max_features=3, min_samples_leaf=3, min_samples_split=5, n_estimators=300 \n",
      "[CV]  bootstrap=True, max_depth=None, max_features=3, min_samples_leaf=2, min_samples_split=7, n_estimators=1000, total=  15.6s\n",
      "[CV] bootstrap=True, max_depth=None, max_features=3, min_samples_leaf=3, min_samples_split=5, n_estimators=1000 \n",
      "[CV]  bootstrap=True, max_depth=None, max_features=3, min_samples_leaf=3, min_samples_split=5, n_estimators=200, total=   2.8s\n",
      "[CV] bootstrap=True, max_depth=None, max_features=3, min_samples_leaf=3, min_samples_split=5, n_estimators=1000 \n",
      "[CV]  bootstrap=True, max_depth=None, max_features=3, min_samples_leaf=3, min_samples_split=5, n_estimators=300, total=   4.1s\n",
      "[CV] bootstrap=True, max_depth=None, max_features=3, min_samples_leaf=3, min_samples_split=5, n_estimators=1000 \n",
      "[CV]  bootstrap=True, max_depth=None, max_features=3, min_samples_leaf=3, min_samples_split=5, n_estimators=300, total=   4.0s\n",
      "[CV] bootstrap=True, max_depth=None, max_features=3, min_samples_leaf=3, min_samples_split=7, n_estimators=100 \n",
      "[CV]  bootstrap=True, max_depth=None, max_features=3, min_samples_leaf=3, min_samples_split=5, n_estimators=300, total=   3.9s\n",
      "[CV] bootstrap=True, max_depth=None, max_features=3, min_samples_leaf=3, min_samples_split=7, n_estimators=100 \n",
      "[CV]  bootstrap=True, max_depth=None, max_features=3, min_samples_leaf=3, min_samples_split=3, n_estimators=1000, total=  13.5s\n",
      "[CV] bootstrap=True, max_depth=None, max_features=3, min_samples_leaf=3, min_samples_split=7, n_estimators=100 \n",
      "[CV]  bootstrap=True, max_depth=None, max_features=3, min_samples_leaf=3, min_samples_split=7, n_estimators=100, total=   1.2s\n",
      "[CV] bootstrap=True, max_depth=None, max_features=3, min_samples_leaf=3, min_samples_split=7, n_estimators=200 \n",
      "[CV]  bootstrap=True, max_depth=None, max_features=3, min_samples_leaf=3, min_samples_split=3, n_estimators=1000, total=  13.6s\n",
      "[CV] bootstrap=True, max_depth=None, max_features=3, min_samples_leaf=3, min_samples_split=7, n_estimators=200 \n",
      "[CV]  bootstrap=True, max_depth=None, max_features=3, min_samples_leaf=3, min_samples_split=7, n_estimators=100, total=   1.2s\n",
      "[CV] bootstrap=True, max_depth=None, max_features=3, min_samples_leaf=3, min_samples_split=7, n_estimators=200 \n",
      "[CV]  bootstrap=True, max_depth=None, max_features=3, min_samples_leaf=3, min_samples_split=7, n_estimators=100, total=   1.2s\n",
      "[CV] bootstrap=True, max_depth=None, max_features=3, min_samples_leaf=3, min_samples_split=7, n_estimators=300 \n",
      "[CV]  bootstrap=True, max_depth=None, max_features=3, min_samples_leaf=3, min_samples_split=3, n_estimators=1000, total=  13.4s\n",
      "[CV] bootstrap=True, max_depth=None, max_features=3, min_samples_leaf=3, min_samples_split=7, n_estimators=300 \n",
      "[CV]  bootstrap=True, max_depth=None, max_features=3, min_samples_leaf=3, min_samples_split=7, n_estimators=200, total=   2.5s\n",
      "[CV] bootstrap=True, max_depth=None, max_features=3, min_samples_leaf=3, min_samples_split=7, n_estimators=300 \n",
      "[CV]  bootstrap=True, max_depth=None, max_features=3, min_samples_leaf=3, min_samples_split=7, n_estimators=200, total=   2.4s\n",
      "[CV] bootstrap=True, max_depth=None, max_features=3, min_samples_leaf=3, min_samples_split=7, n_estimators=1000 \n",
      "[CV]  bootstrap=True, max_depth=None, max_features=3, min_samples_leaf=3, min_samples_split=7, n_estimators=200, total=   2.5s\n",
      "[CV] bootstrap=True, max_depth=None, max_features=3, min_samples_leaf=3, min_samples_split=7, n_estimators=1000 \n",
      "[CV]  bootstrap=True, max_depth=None, max_features=3, min_samples_leaf=3, min_samples_split=7, n_estimators=300, total=   3.6s\n",
      "[CV] bootstrap=True, max_depth=None, max_features=3, min_samples_leaf=3, min_samples_split=7, n_estimators=1000 \n",
      "[CV]  bootstrap=True, max_depth=None, max_features=3, min_samples_leaf=3, min_samples_split=7, n_estimators=300, total=   3.6s\n",
      "[CV] bootstrap=True, max_depth=None, max_features=3, min_samples_leaf=4, min_samples_split=3, n_estimators=100 \n",
      "[CV]  bootstrap=True, max_depth=None, max_features=3, min_samples_leaf=3, min_samples_split=7, n_estimators=300, total=   3.5s\n",
      "[CV] bootstrap=True, max_depth=None, max_features=3, min_samples_leaf=4, min_samples_split=3, n_estimators=100 \n",
      "[CV]  bootstrap=True, max_depth=None, max_features=3, min_samples_leaf=4, min_samples_split=3, n_estimators=100, total=   1.1s\n",
      "[CV] bootstrap=True, max_depth=None, max_features=3, min_samples_leaf=4, min_samples_split=3, n_estimators=100 \n",
      "[CV]  bootstrap=True, max_depth=None, max_features=3, min_samples_leaf=4, min_samples_split=3, n_estimators=100, total=   1.1s\n",
      "[CV] bootstrap=True, max_depth=None, max_features=3, min_samples_leaf=4, min_samples_split=3, n_estimators=200 \n",
      "[CV]  bootstrap=True, max_depth=None, max_features=3, min_samples_leaf=4, min_samples_split=3, n_estimators=100, total=   1.1s\n",
      "[CV] bootstrap=True, max_depth=None, max_features=3, min_samples_leaf=4, min_samples_split=3, n_estimators=200 \n",
      "[CV]  bootstrap=True, max_depth=None, max_features=3, min_samples_leaf=3, min_samples_split=5, n_estimators=1000, total=  12.0s\n",
      "[CV] bootstrap=True, max_depth=None, max_features=3, min_samples_leaf=4, min_samples_split=3, n_estimators=200 \n",
      "[CV]  bootstrap=True, max_depth=None, max_features=3, min_samples_leaf=3, min_samples_split=5, n_estimators=1000, total=  12.1s\n",
      "[CV] bootstrap=True, max_depth=None, max_features=3, min_samples_leaf=4, min_samples_split=3, n_estimators=300 \n",
      "[CV]  bootstrap=True, max_depth=None, max_features=3, min_samples_leaf=4, min_samples_split=3, n_estimators=200, total=   2.6s\n",
      "[CV] bootstrap=True, max_depth=None, max_features=3, min_samples_leaf=4, min_samples_split=3, n_estimators=300 \n",
      "[CV]  bootstrap=True, max_depth=None, max_features=3, min_samples_leaf=4, min_samples_split=3, n_estimators=200, total=   2.5s\n"
     ]
    },
    {
     "name": "stdout",
     "output_type": "stream",
     "text": [
      "[CV] bootstrap=True, max_depth=None, max_features=3, min_samples_leaf=4, min_samples_split=3, n_estimators=300 \n",
      "[CV]  bootstrap=True, max_depth=None, max_features=3, min_samples_leaf=3, min_samples_split=5, n_estimators=1000, total=  12.4s\n",
      "[CV] bootstrap=True, max_depth=None, max_features=3, min_samples_leaf=4, min_samples_split=3, n_estimators=1000 \n",
      "[CV]  bootstrap=True, max_depth=None, max_features=3, min_samples_leaf=4, min_samples_split=3, n_estimators=200, total=   2.4s\n",
      "[CV] bootstrap=True, max_depth=None, max_features=3, min_samples_leaf=4, min_samples_split=3, n_estimators=1000 \n",
      "[CV]  bootstrap=True, max_depth=None, max_features=3, min_samples_leaf=4, min_samples_split=3, n_estimators=300, total=   3.6s\n",
      "[CV] bootstrap=True, max_depth=None, max_features=3, min_samples_leaf=4, min_samples_split=3, n_estimators=1000 \n",
      "[CV]  bootstrap=True, max_depth=None, max_features=3, min_samples_leaf=4, min_samples_split=3, n_estimators=300, total=   3.7s\n",
      "[CV] bootstrap=True, max_depth=None, max_features=3, min_samples_leaf=4, min_samples_split=5, n_estimators=100 \n",
      "[CV]  bootstrap=True, max_depth=None, max_features=3, min_samples_leaf=4, min_samples_split=3, n_estimators=300, total=   3.7s\n",
      "[CV] bootstrap=True, max_depth=None, max_features=3, min_samples_leaf=4, min_samples_split=5, n_estimators=100 \n",
      "[CV]  bootstrap=True, max_depth=None, max_features=3, min_samples_leaf=4, min_samples_split=5, n_estimators=100, total=   1.2s\n",
      "[CV] bootstrap=True, max_depth=None, max_features=3, min_samples_leaf=4, min_samples_split=5, n_estimators=100 \n",
      "[CV]  bootstrap=True, max_depth=None, max_features=3, min_samples_leaf=4, min_samples_split=5, n_estimators=100, total=   1.1s\n",
      "[CV] bootstrap=True, max_depth=None, max_features=3, min_samples_leaf=4, min_samples_split=5, n_estimators=200 \n",
      "[CV]  bootstrap=True, max_depth=None, max_features=3, min_samples_leaf=3, min_samples_split=7, n_estimators=1000, total=  12.6s\n",
      "[CV] bootstrap=True, max_depth=None, max_features=3, min_samples_leaf=4, min_samples_split=5, n_estimators=200 \n",
      "[CV]  bootstrap=True, max_depth=None, max_features=3, min_samples_leaf=3, min_samples_split=7, n_estimators=1000, total=  12.7s\n",
      "[CV]  bootstrap=True, max_depth=None, max_features=3, min_samples_leaf=4, min_samples_split=5, n_estimators=100, total=   1.4s\n",
      "[CV] bootstrap=True, max_depth=None, max_features=3, min_samples_leaf=4, min_samples_split=5, n_estimators=200 \n",
      "[CV] bootstrap=True, max_depth=None, max_features=3, min_samples_leaf=4, min_samples_split=5, n_estimators=300 \n",
      "[CV]  bootstrap=True, max_depth=None, max_features=3, min_samples_leaf=4, min_samples_split=5, n_estimators=200, total=   2.4s\n",
      "[CV] bootstrap=True, max_depth=None, max_features=3, min_samples_leaf=4, min_samples_split=5, n_estimators=300 \n",
      "[CV]  bootstrap=True, max_depth=None, max_features=3, min_samples_leaf=4, min_samples_split=5, n_estimators=200, total=   2.3s\n",
      "[CV]  bootstrap=True, max_depth=None, max_features=3, min_samples_leaf=3, min_samples_split=7, n_estimators=1000, total=  13.2s\n",
      "[CV] bootstrap=True, max_depth=None, max_features=3, min_samples_leaf=4, min_samples_split=5, n_estimators=300 \n",
      "[CV] bootstrap=True, max_depth=None, max_features=3, min_samples_leaf=4, min_samples_split=5, n_estimators=1000 \n",
      "[CV]  bootstrap=True, max_depth=None, max_features=3, min_samples_leaf=4, min_samples_split=5, n_estimators=200, total=   2.2s\n",
      "[CV] bootstrap=True, max_depth=None, max_features=3, min_samples_leaf=4, min_samples_split=5, n_estimators=1000 \n",
      "[CV]  bootstrap=True, max_depth=None, max_features=3, min_samples_leaf=4, min_samples_split=5, n_estimators=300, total=   3.3s\n",
      "[CV] bootstrap=True, max_depth=None, max_features=3, min_samples_leaf=4, min_samples_split=5, n_estimators=1000 \n",
      "[CV]  bootstrap=True, max_depth=None, max_features=3, min_samples_leaf=4, min_samples_split=5, n_estimators=300, total=   3.4s\n",
      "[CV] bootstrap=True, max_depth=None, max_features=3, min_samples_leaf=4, min_samples_split=7, n_estimators=100 \n",
      "[CV]  bootstrap=True, max_depth=None, max_features=3, min_samples_leaf=4, min_samples_split=5, n_estimators=300, total=   3.4s\n",
      "[CV] bootstrap=True, max_depth=None, max_features=3, min_samples_leaf=4, min_samples_split=7, n_estimators=100 \n",
      "[CV]  bootstrap=True, max_depth=None, max_features=3, min_samples_leaf=4, min_samples_split=7, n_estimators=100, total=   1.1s\n",
      "[CV] bootstrap=True, max_depth=None, max_features=3, min_samples_leaf=4, min_samples_split=7, n_estimators=100 \n",
      "[CV]  bootstrap=True, max_depth=None, max_features=3, min_samples_leaf=4, min_samples_split=7, n_estimators=100, total=   1.1s\n",
      "[CV] bootstrap=True, max_depth=None, max_features=3, min_samples_leaf=4, min_samples_split=7, n_estimators=200 \n",
      "[CV]  bootstrap=True, max_depth=None, max_features=3, min_samples_leaf=4, min_samples_split=3, n_estimators=1000, total=  11.8s\n",
      "[CV] bootstrap=True, max_depth=None, max_features=3, min_samples_leaf=4, min_samples_split=7, n_estimators=200 \n",
      "[CV]  bootstrap=True, max_depth=None, max_features=3, min_samples_leaf=4, min_samples_split=7, n_estimators=100, total=   1.1s\n",
      "[CV] bootstrap=True, max_depth=None, max_features=3, min_samples_leaf=4, min_samples_split=7, n_estimators=200 \n",
      "[CV]  bootstrap=True, max_depth=None, max_features=3, min_samples_leaf=4, min_samples_split=3, n_estimators=1000, total=  11.9s\n",
      "[CV] bootstrap=True, max_depth=None, max_features=3, min_samples_leaf=4, min_samples_split=7, n_estimators=300 \n",
      "[CV]  bootstrap=True, max_depth=None, max_features=3, min_samples_leaf=4, min_samples_split=7, n_estimators=200, total=   2.1s\n",
      "[CV] bootstrap=True, max_depth=None, max_features=3, min_samples_leaf=4, min_samples_split=7, n_estimators=300 \n",
      "[CV]  bootstrap=True, max_depth=None, max_features=3, min_samples_leaf=4, min_samples_split=3, n_estimators=1000, total=  11.6s\n",
      "[CV] bootstrap=True, max_depth=None, max_features=3, min_samples_leaf=4, min_samples_split=7, n_estimators=300 \n",
      "[CV]  bootstrap=True, max_depth=None, max_features=3, min_samples_leaf=4, min_samples_split=7, n_estimators=200, total=   2.1s\n",
      "[CV] bootstrap=True, max_depth=None, max_features=3, min_samples_leaf=4, min_samples_split=7, n_estimators=1000 \n",
      "[CV]  bootstrap=True, max_depth=None, max_features=3, min_samples_leaf=4, min_samples_split=7, n_estimators=200, total=   2.1s\n",
      "[CV] bootstrap=True, max_depth=None, max_features=3, min_samples_leaf=4, min_samples_split=7, n_estimators=1000 \n",
      "[CV]  bootstrap=True, max_depth=None, max_features=3, min_samples_leaf=4, min_samples_split=7, n_estimators=300, total=   3.2s\n",
      "[CV] bootstrap=True, max_depth=None, max_features=3, min_samples_leaf=4, min_samples_split=7, n_estimators=1000 \n",
      "[CV]  bootstrap=True, max_depth=None, max_features=3, min_samples_leaf=4, min_samples_split=7, n_estimators=300, total=   3.3s\n",
      "[CV] bootstrap=False, max_depth=None, max_features=2, min_samples_leaf=2, min_samples_split=3, n_estimators=100 \n",
      "[CV]  bootstrap=True, max_depth=None, max_features=3, min_samples_leaf=4, min_samples_split=7, n_estimators=300, total=   3.3s\n",
      "[CV] bootstrap=False, max_depth=None, max_features=2, min_samples_leaf=2, min_samples_split=3, n_estimators=100 \n",
      "[CV]  bootstrap=True, max_depth=None, max_features=3, min_samples_leaf=4, min_samples_split=5, n_estimators=1000, total=  10.8s\n",
      "[CV] bootstrap=False, max_depth=None, max_features=2, min_samples_leaf=2, min_samples_split=3, n_estimators=100 \n",
      "[CV]  bootstrap=False, max_depth=None, max_features=2, min_samples_leaf=2, min_samples_split=3, n_estimators=100, total=   1.6s\n",
      "[CV] bootstrap=False, max_depth=None, max_features=2, min_samples_leaf=2, min_samples_split=3, n_estimators=200 \n",
      "[CV]  bootstrap=True, max_depth=None, max_features=3, min_samples_leaf=4, min_samples_split=5, n_estimators=1000, total=  11.0s\n",
      "[CV] bootstrap=False, max_depth=None, max_features=2, min_samples_leaf=2, min_samples_split=3, n_estimators=200 \n",
      "[CV]  bootstrap=False, max_depth=None, max_features=2, min_samples_leaf=2, min_samples_split=3, n_estimators=100, total=   1.6s\n",
      "[CV] bootstrap=False, max_depth=None, max_features=2, min_samples_leaf=2, min_samples_split=3, n_estimators=200 \n",
      "[CV]  bootstrap=False, max_depth=None, max_features=2, min_samples_leaf=2, min_samples_split=3, n_estimators=100, total=   1.6s\n",
      "[CV] bootstrap=False, max_depth=None, max_features=2, min_samples_leaf=2, min_samples_split=3, n_estimators=300 \n"
     ]
    },
    {
     "name": "stdout",
     "output_type": "stream",
     "text": [
      "[CV]  bootstrap=True, max_depth=None, max_features=3, min_samples_leaf=4, min_samples_split=5, n_estimators=1000, total=  11.0s\n",
      "[CV] bootstrap=False, max_depth=None, max_features=2, min_samples_leaf=2, min_samples_split=3, n_estimators=300 \n",
      "[CV]  bootstrap=False, max_depth=None, max_features=2, min_samples_leaf=2, min_samples_split=3, n_estimators=200, total=   3.2s\n",
      "[CV]  bootstrap=False, max_depth=None, max_features=2, min_samples_leaf=2, min_samples_split=3, n_estimators=200, total=   3.4s\n",
      "[CV] bootstrap=False, max_depth=None, max_features=2, min_samples_leaf=2, min_samples_split=3, n_estimators=300 \n",
      "[CV] bootstrap=False, max_depth=None, max_features=2, min_samples_leaf=2, min_samples_split=3, n_estimators=1000 \n",
      "[CV]  bootstrap=False, max_depth=None, max_features=2, min_samples_leaf=2, min_samples_split=3, n_estimators=200, total=   3.4s\n",
      "[CV] bootstrap=False, max_depth=None, max_features=2, min_samples_leaf=2, min_samples_split=3, n_estimators=1000 \n",
      "[CV]  bootstrap=False, max_depth=None, max_features=2, min_samples_leaf=2, min_samples_split=3, n_estimators=300, total=   5.2s\n",
      "[CV] bootstrap=False, max_depth=None, max_features=2, min_samples_leaf=2, min_samples_split=3, n_estimators=1000 \n",
      "[CV]  bootstrap=False, max_depth=None, max_features=2, min_samples_leaf=2, min_samples_split=3, n_estimators=300, total=   5.2s\n",
      "[CV] bootstrap=False, max_depth=None, max_features=2, min_samples_leaf=2, min_samples_split=5, n_estimators=100 \n",
      "[CV]  bootstrap=True, max_depth=None, max_features=3, min_samples_leaf=4, min_samples_split=7, n_estimators=1000, total=  11.2s\n",
      "[CV] bootstrap=False, max_depth=None, max_features=2, min_samples_leaf=2, min_samples_split=5, n_estimators=100 \n",
      "[CV]  bootstrap=True, max_depth=None, max_features=3, min_samples_leaf=4, min_samples_split=7, n_estimators=1000, total=  11.3s\n",
      "[CV] bootstrap=False, max_depth=None, max_features=2, min_samples_leaf=2, min_samples_split=5, n_estimators=100 \n",
      "[CV]  bootstrap=False, max_depth=None, max_features=2, min_samples_leaf=2, min_samples_split=5, n_estimators=100, total=   1.9s\n",
      "[CV] bootstrap=False, max_depth=None, max_features=2, min_samples_leaf=2, min_samples_split=5, n_estimators=200 \n",
      "[CV]  bootstrap=False, max_depth=None, max_features=2, min_samples_leaf=2, min_samples_split=3, n_estimators=300, total=   5.9s\n",
      "[CV] bootstrap=False, max_depth=None, max_features=2, min_samples_leaf=2, min_samples_split=5, n_estimators=200 \n",
      "[CV]  bootstrap=False, max_depth=None, max_features=2, min_samples_leaf=2, min_samples_split=5, n_estimators=100, total=   2.0s\n",
      "[CV] bootstrap=False, max_depth=None, max_features=2, min_samples_leaf=2, min_samples_split=5, n_estimators=200 \n",
      "[CV]  bootstrap=True, max_depth=None, max_features=3, min_samples_leaf=4, min_samples_split=7, n_estimators=1000, total=  12.2s\n",
      "[CV] bootstrap=False, max_depth=None, max_features=2, min_samples_leaf=2, min_samples_split=5, n_estimators=300 \n",
      "[CV]  bootstrap=False, max_depth=None, max_features=2, min_samples_leaf=2, min_samples_split=5, n_estimators=100, total=   2.0s\n",
      "[CV] bootstrap=False, max_depth=None, max_features=2, min_samples_leaf=2, min_samples_split=5, n_estimators=300 \n",
      "[CV]  bootstrap=False, max_depth=None, max_features=2, min_samples_leaf=2, min_samples_split=5, n_estimators=200, total=   3.7s\n",
      "[CV] bootstrap=False, max_depth=None, max_features=2, min_samples_leaf=2, min_samples_split=5, n_estimators=300 \n",
      "[CV]  bootstrap=False, max_depth=None, max_features=2, min_samples_leaf=2, min_samples_split=5, n_estimators=200, total=   3.8s\n",
      "[CV]  bootstrap=False, max_depth=None, max_features=2, min_samples_leaf=2, min_samples_split=5, n_estimators=200, total=   3.7s\n",
      "[CV] bootstrap=False, max_depth=None, max_features=2, min_samples_leaf=2, min_samples_split=5, n_estimators=1000 \n",
      "[CV] bootstrap=False, max_depth=None, max_features=2, min_samples_leaf=2, min_samples_split=5, n_estimators=1000 \n",
      "[CV]  bootstrap=False, max_depth=None, max_features=2, min_samples_leaf=2, min_samples_split=5, n_estimators=300, total=   5.8s\n",
      "[CV] bootstrap=False, max_depth=None, max_features=2, min_samples_leaf=2, min_samples_split=5, n_estimators=1000 \n",
      "[CV]  bootstrap=False, max_depth=None, max_features=2, min_samples_leaf=2, min_samples_split=5, n_estimators=300, total=   6.0s\n",
      "[CV] bootstrap=False, max_depth=None, max_features=2, min_samples_leaf=2, min_samples_split=7, n_estimators=100 \n",
      "[CV]  bootstrap=False, max_depth=None, max_features=2, min_samples_leaf=2, min_samples_split=7, n_estimators=100, total=   1.8s\n",
      "[CV] bootstrap=False, max_depth=None, max_features=2, min_samples_leaf=2, min_samples_split=7, n_estimators=100 \n",
      "[CV]  bootstrap=False, max_depth=None, max_features=2, min_samples_leaf=2, min_samples_split=5, n_estimators=300, total=   5.8s\n",
      "[CV] bootstrap=False, max_depth=None, max_features=2, min_samples_leaf=2, min_samples_split=7, n_estimators=100 \n",
      "[CV]  bootstrap=False, max_depth=None, max_features=2, min_samples_leaf=2, min_samples_split=7, n_estimators=100, total=   1.7s\n",
      "[CV] bootstrap=False, max_depth=None, max_features=2, min_samples_leaf=2, min_samples_split=7, n_estimators=200 \n",
      "[CV]  bootstrap=False, max_depth=None, max_features=2, min_samples_leaf=2, min_samples_split=7, n_estimators=100, total=   1.6s\n",
      "[CV] bootstrap=False, max_depth=None, max_features=2, min_samples_leaf=2, min_samples_split=7, n_estimators=200 \n",
      "[CV]  bootstrap=False, max_depth=None, max_features=2, min_samples_leaf=2, min_samples_split=3, n_estimators=1000, total=  19.2s\n",
      "[CV] bootstrap=False, max_depth=None, max_features=2, min_samples_leaf=2, min_samples_split=7, n_estimators=200 \n",
      "[CV]  bootstrap=False, max_depth=None, max_features=2, min_samples_leaf=2, min_samples_split=7, n_estimators=200, total=   3.3s\n",
      "[CV] bootstrap=False, max_depth=None, max_features=2, min_samples_leaf=2, min_samples_split=7, n_estimators=300 \n",
      "[CV]  bootstrap=False, max_depth=None, max_features=2, min_samples_leaf=2, min_samples_split=3, n_estimators=1000, total=  19.5s\n",
      "[CV] bootstrap=False, max_depth=None, max_features=2, min_samples_leaf=2, min_samples_split=7, n_estimators=300 \n",
      "[CV]  bootstrap=False, max_depth=None, max_features=2, min_samples_leaf=2, min_samples_split=7, n_estimators=200, total=   3.4s\n",
      "[CV] bootstrap=False, max_depth=None, max_features=2, min_samples_leaf=2, min_samples_split=7, n_estimators=300 \n",
      "[CV]  bootstrap=False, max_depth=None, max_features=2, min_samples_leaf=2, min_samples_split=3, n_estimators=1000, total=  19.6s\n",
      "[CV] bootstrap=False, max_depth=None, max_features=2, min_samples_leaf=2, min_samples_split=7, n_estimators=1000 \n",
      "[CV]  bootstrap=False, max_depth=None, max_features=2, min_samples_leaf=2, min_samples_split=7, n_estimators=200, total=   3.2s\n",
      "[CV] bootstrap=False, max_depth=None, max_features=2, min_samples_leaf=2, min_samples_split=7, n_estimators=1000 \n",
      "[CV]  bootstrap=False, max_depth=None, max_features=2, min_samples_leaf=2, min_samples_split=7, n_estimators=300, total=   4.9s\n",
      "[CV] bootstrap=False, max_depth=None, max_features=2, min_samples_leaf=2, min_samples_split=7, n_estimators=1000 \n",
      "[CV]  bootstrap=False, max_depth=None, max_features=2, min_samples_leaf=2, min_samples_split=7, n_estimators=300, total=   5.0s\n",
      "[CV] bootstrap=False, max_depth=None, max_features=2, min_samples_leaf=3, min_samples_split=3, n_estimators=100 \n",
      "[CV]  bootstrap=False, max_depth=None, max_features=2, min_samples_leaf=2, min_samples_split=7, n_estimators=300, total=   5.1s\n",
      "[CV] bootstrap=False, max_depth=None, max_features=2, min_samples_leaf=3, min_samples_split=3, n_estimators=100 \n",
      "[CV]  bootstrap=False, max_depth=None, max_features=2, min_samples_leaf=3, min_samples_split=3, n_estimators=100, total=   1.4s\n",
      "[CV] bootstrap=False, max_depth=None, max_features=2, min_samples_leaf=3, min_samples_split=3, n_estimators=100 \n",
      "[CV]  bootstrap=False, max_depth=None, max_features=2, min_samples_leaf=3, min_samples_split=3, n_estimators=100, total=   1.4s\n",
      "[CV] bootstrap=False, max_depth=None, max_features=2, min_samples_leaf=3, min_samples_split=3, n_estimators=200 \n",
      "[CV]  bootstrap=False, max_depth=None, max_features=2, min_samples_leaf=2, min_samples_split=5, n_estimators=1000, total=  17.7s\n",
      "[CV] bootstrap=False, max_depth=None, max_features=2, min_samples_leaf=3, min_samples_split=3, n_estimators=200 \n"
     ]
    },
    {
     "name": "stdout",
     "output_type": "stream",
     "text": [
      "[CV]  bootstrap=False, max_depth=None, max_features=2, min_samples_leaf=2, min_samples_split=5, n_estimators=1000, total=  17.9s\n",
      "[CV] bootstrap=False, max_depth=None, max_features=2, min_samples_leaf=3, min_samples_split=3, n_estimators=200 \n",
      "[CV]  bootstrap=False, max_depth=None, max_features=2, min_samples_leaf=3, min_samples_split=3, n_estimators=100, total=   1.6s\n",
      "[CV] bootstrap=False, max_depth=None, max_features=2, min_samples_leaf=3, min_samples_split=3, n_estimators=300 \n",
      "[CV]  bootstrap=False, max_depth=None, max_features=2, min_samples_leaf=3, min_samples_split=3, n_estimators=200, total=   3.0s\n",
      "[CV] bootstrap=False, max_depth=None, max_features=2, min_samples_leaf=3, min_samples_split=3, n_estimators=300 \n",
      "[CV]  bootstrap=False, max_depth=None, max_features=2, min_samples_leaf=2, min_samples_split=5, n_estimators=1000, total=  18.3s\n",
      "[CV] bootstrap=False, max_depth=None, max_features=2, min_samples_leaf=3, min_samples_split=3, n_estimators=300 \n",
      "[CV]  bootstrap=False, max_depth=None, max_features=2, min_samples_leaf=3, min_samples_split=3, n_estimators=200, total=   3.2s\n",
      "[CV] bootstrap=False, max_depth=None, max_features=2, min_samples_leaf=3, min_samples_split=3, n_estimators=1000 \n",
      "[CV]  bootstrap=False, max_depth=None, max_features=2, min_samples_leaf=3, min_samples_split=3, n_estimators=200, total=   3.1s\n",
      "[CV] bootstrap=False, max_depth=None, max_features=2, min_samples_leaf=3, min_samples_split=3, n_estimators=1000 \n",
      "[CV]  bootstrap=False, max_depth=None, max_features=2, min_samples_leaf=3, min_samples_split=3, n_estimators=300, total=   4.4s\n",
      "[CV] bootstrap=False, max_depth=None, max_features=2, min_samples_leaf=3, min_samples_split=3, n_estimators=1000 \n",
      "[CV]  bootstrap=False, max_depth=None, max_features=2, min_samples_leaf=3, min_samples_split=3, n_estimators=300, total=   4.3s\n",
      "[CV] bootstrap=False, max_depth=None, max_features=2, min_samples_leaf=3, min_samples_split=5, n_estimators=100 \n",
      "[CV]  bootstrap=False, max_depth=None, max_features=2, min_samples_leaf=3, min_samples_split=3, n_estimators=300, total=   4.4s\n",
      "[CV] bootstrap=False, max_depth=None, max_features=2, min_samples_leaf=3, min_samples_split=5, n_estimators=100 \n",
      "[CV]  bootstrap=False, max_depth=None, max_features=2, min_samples_leaf=3, min_samples_split=5, n_estimators=100, total=   1.3s\n",
      "[CV] bootstrap=False, max_depth=None, max_features=2, min_samples_leaf=3, min_samples_split=5, n_estimators=100 \n",
      "[CV]  bootstrap=False, max_depth=None, max_features=2, min_samples_leaf=3, min_samples_split=5, n_estimators=100, total=   1.3s\n",
      "[CV] bootstrap=False, max_depth=None, max_features=2, min_samples_leaf=3, min_samples_split=5, n_estimators=200 \n",
      "[CV]  bootstrap=False, max_depth=None, max_features=2, min_samples_leaf=3, min_samples_split=5, n_estimators=100, total=   1.4s\n",
      "[CV] bootstrap=False, max_depth=None, max_features=2, min_samples_leaf=3, min_samples_split=5, n_estimators=200 \n",
      "[CV]  bootstrap=False, max_depth=None, max_features=2, min_samples_leaf=2, min_samples_split=7, n_estimators=1000, total=  17.2s\n",
      "[CV] bootstrap=False, max_depth=None, max_features=2, min_samples_leaf=3, min_samples_split=5, n_estimators=200 \n",
      "[CV]  bootstrap=False, max_depth=None, max_features=2, min_samples_leaf=3, min_samples_split=5, n_estimators=200, total=   2.8s\n",
      "[CV] bootstrap=False, max_depth=None, max_features=2, min_samples_leaf=3, min_samples_split=5, n_estimators=300 \n",
      "[CV]  bootstrap=False, max_depth=None, max_features=2, min_samples_leaf=3, min_samples_split=5, n_estimators=200, total=   3.1s\n",
      "[CV] bootstrap=False, max_depth=None, max_features=2, min_samples_leaf=3, min_samples_split=5, n_estimators=300 \n",
      "[CV]  bootstrap=False, max_depth=None, max_features=2, min_samples_leaf=2, min_samples_split=7, n_estimators=1000, total=  17.6s\n",
      "[CV] bootstrap=False, max_depth=None, max_features=2, min_samples_leaf=3, min_samples_split=5, n_estimators=300 \n",
      "[CV]  bootstrap=False, max_depth=None, max_features=2, min_samples_leaf=2, min_samples_split=7, n_estimators=1000, total=  17.3s\n",
      "[CV] bootstrap=False, max_depth=None, max_features=2, min_samples_leaf=3, min_samples_split=5, n_estimators=1000 \n",
      "[CV]  bootstrap=False, max_depth=None, max_features=2, min_samples_leaf=3, min_samples_split=5, n_estimators=200, total=   3.1s\n",
      "[CV] bootstrap=False, max_depth=None, max_features=2, min_samples_leaf=3, min_samples_split=5, n_estimators=1000 \n",
      "[CV]  bootstrap=False, max_depth=None, max_features=2, min_samples_leaf=3, min_samples_split=5, n_estimators=300, total=   4.2s\n",
      "[CV] bootstrap=False, max_depth=None, max_features=2, min_samples_leaf=3, min_samples_split=5, n_estimators=1000 \n",
      "[CV]  bootstrap=False, max_depth=None, max_features=2, min_samples_leaf=3, min_samples_split=5, n_estimators=300, total=   4.3s\n",
      "[CV] bootstrap=False, max_depth=None, max_features=2, min_samples_leaf=3, min_samples_split=7, n_estimators=100 \n",
      "[CV]  bootstrap=False, max_depth=None, max_features=2, min_samples_leaf=3, min_samples_split=5, n_estimators=300, total=   4.4s\n",
      "[CV] bootstrap=False, max_depth=None, max_features=2, min_samples_leaf=3, min_samples_split=7, n_estimators=100 \n",
      "[CV]  bootstrap=False, max_depth=None, max_features=2, min_samples_leaf=3, min_samples_split=3, n_estimators=1000, total=  13.6s\n",
      "[CV] bootstrap=False, max_depth=None, max_features=2, min_samples_leaf=3, min_samples_split=7, n_estimators=100 \n",
      "[CV]  bootstrap=False, max_depth=None, max_features=2, min_samples_leaf=3, min_samples_split=3, n_estimators=1000, total=  14.1s\n",
      "[CV] bootstrap=False, max_depth=None, max_features=2, min_samples_leaf=3, min_samples_split=7, n_estimators=200 \n",
      "[CV]  bootstrap=False, max_depth=None, max_features=2, min_samples_leaf=3, min_samples_split=7, n_estimators=100, total=   1.5s\n",
      "[CV]  bootstrap=False, max_depth=None, max_features=2, min_samples_leaf=3, min_samples_split=7, n_estimators=100, total=   1.5s\n",
      "[CV] bootstrap=False, max_depth=None, max_features=2, min_samples_leaf=3, min_samples_split=7, n_estimators=200 \n",
      "[CV] bootstrap=False, max_depth=None, max_features=2, min_samples_leaf=3, min_samples_split=7, n_estimators=200 \n",
      "[CV]  bootstrap=False, max_depth=None, max_features=2, min_samples_leaf=3, min_samples_split=7, n_estimators=100, total=   1.5s\n",
      "[CV] bootstrap=False, max_depth=None, max_features=2, min_samples_leaf=3, min_samples_split=7, n_estimators=300 \n",
      "[CV]  bootstrap=False, max_depth=None, max_features=2, min_samples_leaf=3, min_samples_split=3, n_estimators=1000, total=  14.2s\n",
      "[CV] bootstrap=False, max_depth=None, max_features=2, min_samples_leaf=3, min_samples_split=7, n_estimators=300 \n",
      "[CV]  bootstrap=False, max_depth=None, max_features=2, min_samples_leaf=3, min_samples_split=7, n_estimators=200, total=   2.8s\n",
      "[CV] bootstrap=False, max_depth=None, max_features=2, min_samples_leaf=3, min_samples_split=7, n_estimators=300 \n",
      "[CV]  bootstrap=False, max_depth=None, max_features=2, min_samples_leaf=3, min_samples_split=7, n_estimators=200, total=   2.7s\n",
      "[CV] bootstrap=False, max_depth=None, max_features=2, min_samples_leaf=3, min_samples_split=7, n_estimators=1000 \n",
      "[CV]  bootstrap=False, max_depth=None, max_features=2, min_samples_leaf=3, min_samples_split=7, n_estimators=200, total=   2.8s\n",
      "[CV] bootstrap=False, max_depth=None, max_features=2, min_samples_leaf=3, min_samples_split=7, n_estimators=1000 \n",
      "[CV]  bootstrap=False, max_depth=None, max_features=2, min_samples_leaf=3, min_samples_split=7, n_estimators=300, total=   3.9s\n",
      "[CV] bootstrap=False, max_depth=None, max_features=2, min_samples_leaf=3, min_samples_split=7, n_estimators=1000 \n",
      "[CV]  bootstrap=False, max_depth=None, max_features=2, min_samples_leaf=3, min_samples_split=7, n_estimators=300, total=   3.9s\n",
      "[CV] bootstrap=False, max_depth=None, max_features=2, min_samples_leaf=4, min_samples_split=3, n_estimators=100 \n",
      "[CV]  bootstrap=False, max_depth=None, max_features=2, min_samples_leaf=4, min_samples_split=3, n_estimators=100, total=   1.1s\n",
      "[CV] bootstrap=False, max_depth=None, max_features=2, min_samples_leaf=4, min_samples_split=3, n_estimators=100 \n",
      "[CV]  bootstrap=False, max_depth=None, max_features=2, min_samples_leaf=3, min_samples_split=7, n_estimators=300, total=   3.8s\n",
      "[CV] bootstrap=False, max_depth=None, max_features=2, min_samples_leaf=4, min_samples_split=3, n_estimators=100 \n"
     ]
    },
    {
     "name": "stdout",
     "output_type": "stream",
     "text": [
      "[CV]  bootstrap=False, max_depth=None, max_features=2, min_samples_leaf=4, min_samples_split=3, n_estimators=100, total=   1.1s\n",
      "[CV] bootstrap=False, max_depth=None, max_features=2, min_samples_leaf=4, min_samples_split=3, n_estimators=200 \n",
      "[CV]  bootstrap=False, max_depth=None, max_features=2, min_samples_leaf=4, min_samples_split=3, n_estimators=100, total=   1.1s\n",
      "[CV] bootstrap=False, max_depth=None, max_features=2, min_samples_leaf=4, min_samples_split=3, n_estimators=200 \n",
      "[CV]  bootstrap=False, max_depth=None, max_features=2, min_samples_leaf=3, min_samples_split=5, n_estimators=1000, total=  13.3s\n",
      "[CV] bootstrap=False, max_depth=None, max_features=2, min_samples_leaf=4, min_samples_split=3, n_estimators=200 \n",
      "[CV]  bootstrap=False, max_depth=None, max_features=2, min_samples_leaf=4, min_samples_split=3, n_estimators=200, total=   2.2s\n",
      "[CV] bootstrap=False, max_depth=None, max_features=2, min_samples_leaf=4, min_samples_split=3, n_estimators=300 \n",
      "[CV]  bootstrap=False, max_depth=None, max_features=2, min_samples_leaf=4, min_samples_split=3, n_estimators=200, total=   2.2s\n",
      "[CV] bootstrap=False, max_depth=None, max_features=2, min_samples_leaf=4, min_samples_split=3, n_estimators=300 \n",
      "[CV]  bootstrap=False, max_depth=None, max_features=2, min_samples_leaf=3, min_samples_split=5, n_estimators=1000, total=  13.7s\n",
      "[CV] bootstrap=False, max_depth=None, max_features=2, min_samples_leaf=4, min_samples_split=3, n_estimators=300 \n",
      "[CV]  bootstrap=False, max_depth=None, max_features=2, min_samples_leaf=3, min_samples_split=5, n_estimators=1000, total=  13.5s\n",
      "[CV] bootstrap=False, max_depth=None, max_features=2, min_samples_leaf=4, min_samples_split=3, n_estimators=1000 \n",
      "[CV]  bootstrap=False, max_depth=None, max_features=2, min_samples_leaf=4, min_samples_split=3, n_estimators=200, total=   2.3s\n",
      "[CV] bootstrap=False, max_depth=None, max_features=2, min_samples_leaf=4, min_samples_split=3, n_estimators=1000 \n",
      "[CV]  bootstrap=False, max_depth=None, max_features=2, min_samples_leaf=4, min_samples_split=3, n_estimators=300, total=   3.3s\n",
      "[CV] bootstrap=False, max_depth=None, max_features=2, min_samples_leaf=4, min_samples_split=3, n_estimators=1000 \n",
      "[CV]  bootstrap=False, max_depth=None, max_features=2, min_samples_leaf=4, min_samples_split=3, n_estimators=300, total=   3.3s\n",
      "[CV] bootstrap=False, max_depth=None, max_features=2, min_samples_leaf=4, min_samples_split=5, n_estimators=100 \n",
      "[CV]  bootstrap=False, max_depth=None, max_features=2, min_samples_leaf=4, min_samples_split=3, n_estimators=300, total=   3.3s\n",
      "[CV] bootstrap=False, max_depth=None, max_features=2, min_samples_leaf=4, min_samples_split=5, n_estimators=100 \n",
      "[CV]  bootstrap=False, max_depth=None, max_features=2, min_samples_leaf=4, min_samples_split=5, n_estimators=100, total=   1.1s\n",
      "[CV] bootstrap=False, max_depth=None, max_features=2, min_samples_leaf=4, min_samples_split=5, n_estimators=100 \n",
      "[CV]  bootstrap=False, max_depth=None, max_features=2, min_samples_leaf=4, min_samples_split=5, n_estimators=100, total=   1.2s\n",
      "[CV] bootstrap=False, max_depth=None, max_features=2, min_samples_leaf=4, min_samples_split=5, n_estimators=200 \n",
      "[CV]  bootstrap=False, max_depth=None, max_features=2, min_samples_leaf=3, min_samples_split=7, n_estimators=1000, total=  12.2s\n",
      "[CV] bootstrap=False, max_depth=None, max_features=2, min_samples_leaf=4, min_samples_split=5, n_estimators=200 \n",
      "[CV]  bootstrap=False, max_depth=None, max_features=2, min_samples_leaf=4, min_samples_split=5, n_estimators=100, total=   1.2s\n",
      "[CV] bootstrap=False, max_depth=None, max_features=2, min_samples_leaf=4, min_samples_split=5, n_estimators=200 \n",
      "[CV]  bootstrap=False, max_depth=None, max_features=2, min_samples_leaf=3, min_samples_split=7, n_estimators=1000, total=  12.8s\n",
      "[CV] bootstrap=False, max_depth=None, max_features=2, min_samples_leaf=4, min_samples_split=5, n_estimators=300 \n",
      "[CV]  bootstrap=False, max_depth=None, max_features=2, min_samples_leaf=4, min_samples_split=5, n_estimators=200, total=   2.4s\n",
      "[CV] bootstrap=False, max_depth=None, max_features=2, min_samples_leaf=4, min_samples_split=5, n_estimators=300 \n",
      "[CV]  bootstrap=False, max_depth=None, max_features=2, min_samples_leaf=3, min_samples_split=7, n_estimators=1000, total=  13.1s\n",
      "[CV] bootstrap=False, max_depth=None, max_features=2, min_samples_leaf=4, min_samples_split=5, n_estimators=300 \n",
      "[CV]  bootstrap=False, max_depth=None, max_features=2, min_samples_leaf=4, min_samples_split=5, n_estimators=200, total=   2.4s\n",
      "[CV] bootstrap=False, max_depth=None, max_features=2, min_samples_leaf=4, min_samples_split=5, n_estimators=1000 \n",
      "[CV]  bootstrap=False, max_depth=None, max_features=2, min_samples_leaf=4, min_samples_split=5, n_estimators=200, total=   2.5s\n",
      "[CV] bootstrap=False, max_depth=None, max_features=2, min_samples_leaf=4, min_samples_split=5, n_estimators=1000 \n",
      "[CV]  bootstrap=False, max_depth=None, max_features=2, min_samples_leaf=4, min_samples_split=5, n_estimators=300, total=   3.6s\n",
      "[CV] bootstrap=False, max_depth=None, max_features=2, min_samples_leaf=4, min_samples_split=5, n_estimators=1000 \n",
      "[CV]  bootstrap=False, max_depth=None, max_features=2, min_samples_leaf=4, min_samples_split=5, n_estimators=300, total=   3.9s\n",
      "[CV] bootstrap=False, max_depth=None, max_features=2, min_samples_leaf=4, min_samples_split=7, n_estimators=100 \n",
      "[CV]  bootstrap=False, max_depth=None, max_features=2, min_samples_leaf=4, min_samples_split=5, n_estimators=300, total=   3.9s\n",
      "[CV] bootstrap=False, max_depth=None, max_features=2, min_samples_leaf=4, min_samples_split=7, n_estimators=100 \n",
      "[CV]  bootstrap=False, max_depth=None, max_features=2, min_samples_leaf=4, min_samples_split=7, n_estimators=100, total=   1.1s\n",
      "[CV] bootstrap=False, max_depth=None, max_features=2, min_samples_leaf=4, min_samples_split=7, n_estimators=100 \n",
      "[CV]  bootstrap=False, max_depth=None, max_features=2, min_samples_leaf=4, min_samples_split=7, n_estimators=100, total=   1.3s\n",
      "[CV] bootstrap=False, max_depth=None, max_features=2, min_samples_leaf=4, min_samples_split=7, n_estimators=200 \n",
      "[CV]  bootstrap=False, max_depth=None, max_features=2, min_samples_leaf=4, min_samples_split=3, n_estimators=1000, total=  12.0s\n",
      "[CV] bootstrap=False, max_depth=None, max_features=2, min_samples_leaf=4, min_samples_split=7, n_estimators=200 \n",
      "[CV]  bootstrap=False, max_depth=None, max_features=2, min_samples_leaf=4, min_samples_split=7, n_estimators=100, total=   1.3s\n",
      "[CV] bootstrap=False, max_depth=None, max_features=2, min_samples_leaf=4, min_samples_split=7, n_estimators=200 \n",
      "[CV]  bootstrap=False, max_depth=None, max_features=2, min_samples_leaf=4, min_samples_split=3, n_estimators=1000, total=  12.1s\n",
      "[CV] bootstrap=False, max_depth=None, max_features=2, min_samples_leaf=4, min_samples_split=7, n_estimators=300 \n",
      "[CV]  bootstrap=False, max_depth=None, max_features=2, min_samples_leaf=4, min_samples_split=7, n_estimators=200, total=   2.3s\n",
      "[CV] bootstrap=False, max_depth=None, max_features=2, min_samples_leaf=4, min_samples_split=7, n_estimators=300 \n",
      "[CV]  bootstrap=False, max_depth=None, max_features=2, min_samples_leaf=4, min_samples_split=3, n_estimators=1000, total=  12.5s\n",
      "[CV] bootstrap=False, max_depth=None, max_features=2, min_samples_leaf=4, min_samples_split=7, n_estimators=300 \n",
      "[CV]  bootstrap=False, max_depth=None, max_features=2, min_samples_leaf=4, min_samples_split=7, n_estimators=200, total=   2.3s\n",
      "[CV] bootstrap=False, max_depth=None, max_features=2, min_samples_leaf=4, min_samples_split=7, n_estimators=1000 \n",
      "[CV]  bootstrap=False, max_depth=None, max_features=2, min_samples_leaf=4, min_samples_split=7, n_estimators=200, total=   2.5s\n",
      "[CV] bootstrap=False, max_depth=None, max_features=2, min_samples_leaf=4, min_samples_split=7, n_estimators=1000 \n",
      "[CV]  bootstrap=False, max_depth=None, max_features=2, min_samples_leaf=4, min_samples_split=7, n_estimators=300, total=   3.6s\n",
      "[CV] bootstrap=False, max_depth=None, max_features=2, min_samples_leaf=4, min_samples_split=7, n_estimators=1000 \n",
      "[CV]  bootstrap=False, max_depth=None, max_features=2, min_samples_leaf=4, min_samples_split=7, n_estimators=300, total=   3.8s\n",
      "[CV] bootstrap=False, max_depth=None, max_features=3, min_samples_leaf=2, min_samples_split=3, n_estimators=100 \n"
     ]
    },
    {
     "name": "stdout",
     "output_type": "stream",
     "text": [
      "[CV]  bootstrap=False, max_depth=None, max_features=2, min_samples_leaf=4, min_samples_split=7, n_estimators=300, total=   3.9s\n",
      "[CV] bootstrap=False, max_depth=None, max_features=3, min_samples_leaf=2, min_samples_split=3, n_estimators=100 \n",
      "[CV]  bootstrap=False, max_depth=None, max_features=2, min_samples_leaf=4, min_samples_split=5, n_estimators=1000, total=  12.3s\n",
      "[CV] bootstrap=False, max_depth=None, max_features=3, min_samples_leaf=2, min_samples_split=3, n_estimators=100 \n",
      "[CV]  bootstrap=False, max_depth=None, max_features=2, min_samples_leaf=4, min_samples_split=5, n_estimators=1000, total=  12.4s\n",
      "[CV] bootstrap=False, max_depth=None, max_features=3, min_samples_leaf=2, min_samples_split=3, n_estimators=200 \n",
      "[CV]  bootstrap=False, max_depth=None, max_features=3, min_samples_leaf=2, min_samples_split=3, n_estimators=100, total=   2.7s\n",
      "[CV] bootstrap=False, max_depth=None, max_features=3, min_samples_leaf=2, min_samples_split=3, n_estimators=200 \n",
      "[CV]  bootstrap=False, max_depth=None, max_features=3, min_samples_leaf=2, min_samples_split=3, n_estimators=100, total=   2.7s\n",
      "[CV] bootstrap=False, max_depth=None, max_features=3, min_samples_leaf=2, min_samples_split=3, n_estimators=200 \n",
      "[CV]  bootstrap=False, max_depth=None, max_features=2, min_samples_leaf=4, min_samples_split=5, n_estimators=1000, total=  13.0s\n",
      "[CV] bootstrap=False, max_depth=None, max_features=3, min_samples_leaf=2, min_samples_split=3, n_estimators=300 \n",
      "[CV]  bootstrap=False, max_depth=None, max_features=3, min_samples_leaf=2, min_samples_split=3, n_estimators=100, total=   2.5s\n",
      "[CV] bootstrap=False, max_depth=None, max_features=3, min_samples_leaf=2, min_samples_split=3, n_estimators=300 \n",
      "[CV]  bootstrap=False, max_depth=None, max_features=3, min_samples_leaf=2, min_samples_split=3, n_estimators=200, total=   4.8s\n",
      "[CV] bootstrap=False, max_depth=None, max_features=3, min_samples_leaf=2, min_samples_split=3, n_estimators=300 \n",
      "[CV]  bootstrap=False, max_depth=None, max_features=3, min_samples_leaf=2, min_samples_split=3, n_estimators=200, total=   4.6s\n",
      "[CV] bootstrap=False, max_depth=None, max_features=3, min_samples_leaf=2, min_samples_split=3, n_estimators=1000 \n",
      "[CV]  bootstrap=False, max_depth=None, max_features=3, min_samples_leaf=2, min_samples_split=3, n_estimators=200, total=   4.6s\n",
      "[CV] bootstrap=False, max_depth=None, max_features=3, min_samples_leaf=2, min_samples_split=3, n_estimators=1000 \n",
      "[CV]  bootstrap=False, max_depth=None, max_features=2, min_samples_leaf=4, min_samples_split=7, n_estimators=1000, total=  12.8s\n",
      "[CV] bootstrap=False, max_depth=None, max_features=3, min_samples_leaf=2, min_samples_split=3, n_estimators=1000 \n",
      "[CV]  bootstrap=False, max_depth=None, max_features=2, min_samples_leaf=4, min_samples_split=7, n_estimators=1000, total=  12.8s\n",
      "[CV] bootstrap=False, max_depth=None, max_features=3, min_samples_leaf=2, min_samples_split=5, n_estimators=100 \n",
      "[CV]  bootstrap=False, max_depth=None, max_features=3, min_samples_leaf=2, min_samples_split=3, n_estimators=300, total=   6.6s\n",
      "[CV] bootstrap=False, max_depth=None, max_features=3, min_samples_leaf=2, min_samples_split=5, n_estimators=100 \n",
      "[CV]  bootstrap=False, max_depth=None, max_features=3, min_samples_leaf=2, min_samples_split=3, n_estimators=300, total=   6.7s\n",
      "[CV] bootstrap=False, max_depth=None, max_features=3, min_samples_leaf=2, min_samples_split=5, n_estimators=100 \n",
      "[CV]  bootstrap=False, max_depth=None, max_features=2, min_samples_leaf=4, min_samples_split=7, n_estimators=1000, total=  13.2s\n",
      "[CV] bootstrap=False, max_depth=None, max_features=3, min_samples_leaf=2, min_samples_split=5, n_estimators=200 \n",
      "[CV]  bootstrap=False, max_depth=None, max_features=3, min_samples_leaf=2, min_samples_split=5, n_estimators=100, total=   2.1s\n",
      "[CV] bootstrap=False, max_depth=None, max_features=3, min_samples_leaf=2, min_samples_split=5, n_estimators=200 \n",
      "[CV]  bootstrap=False, max_depth=None, max_features=3, min_samples_leaf=2, min_samples_split=5, n_estimators=100, total=   2.1s\n",
      "[CV] bootstrap=False, max_depth=None, max_features=3, min_samples_leaf=2, min_samples_split=5, n_estimators=200 \n",
      "[CV]  bootstrap=False, max_depth=None, max_features=3, min_samples_leaf=2, min_samples_split=5, n_estimators=100, total=   2.0s\n",
      "[CV] bootstrap=False, max_depth=None, max_features=3, min_samples_leaf=2, min_samples_split=5, n_estimators=300 \n",
      "[CV]  bootstrap=False, max_depth=None, max_features=3, min_samples_leaf=2, min_samples_split=3, n_estimators=300, total=   6.6s\n",
      "[CV] bootstrap=False, max_depth=None, max_features=3, min_samples_leaf=2, min_samples_split=5, n_estimators=300 \n",
      "[CV]  bootstrap=False, max_depth=None, max_features=3, min_samples_leaf=2, min_samples_split=5, n_estimators=200, total=   4.2s\n",
      "[CV] bootstrap=False, max_depth=None, max_features=3, min_samples_leaf=2, min_samples_split=5, n_estimators=300 \n",
      "[CV]  bootstrap=False, max_depth=None, max_features=3, min_samples_leaf=2, min_samples_split=5, n_estimators=200, total=   4.5s\n",
      "[CV] bootstrap=False, max_depth=None, max_features=3, min_samples_leaf=2, min_samples_split=5, n_estimators=1000 \n",
      "[CV]  bootstrap=False, max_depth=None, max_features=3, min_samples_leaf=2, min_samples_split=5, n_estimators=200, total=   4.5s\n",
      "[CV] bootstrap=False, max_depth=None, max_features=3, min_samples_leaf=2, min_samples_split=5, n_estimators=1000 \n",
      "[CV]  bootstrap=False, max_depth=None, max_features=3, min_samples_leaf=2, min_samples_split=5, n_estimators=300, total=   7.2s\n",
      "[CV] bootstrap=False, max_depth=None, max_features=3, min_samples_leaf=2, min_samples_split=5, n_estimators=1000 \n",
      "[CV]  bootstrap=False, max_depth=None, max_features=3, min_samples_leaf=2, min_samples_split=5, n_estimators=300, total=   7.3s\n",
      "[CV] bootstrap=False, max_depth=None, max_features=3, min_samples_leaf=2, min_samples_split=7, n_estimators=100 \n",
      "[CV]  bootstrap=False, max_depth=None, max_features=3, min_samples_leaf=2, min_samples_split=7, n_estimators=100, total=   2.4s\n",
      "[CV] bootstrap=False, max_depth=None, max_features=3, min_samples_leaf=2, min_samples_split=7, n_estimators=100 \n",
      "[CV]  bootstrap=False, max_depth=None, max_features=3, min_samples_leaf=2, min_samples_split=5, n_estimators=300, total=   7.6s\n",
      "[CV] bootstrap=False, max_depth=None, max_features=3, min_samples_leaf=2, min_samples_split=7, n_estimators=100 \n",
      "[CV]  bootstrap=False, max_depth=None, max_features=3, min_samples_leaf=2, min_samples_split=7, n_estimators=100, total=   2.8s\n",
      "[CV] bootstrap=False, max_depth=None, max_features=3, min_samples_leaf=2, min_samples_split=7, n_estimators=200 \n",
      "[CV]  bootstrap=False, max_depth=None, max_features=3, min_samples_leaf=2, min_samples_split=7, n_estimators=100, total=   2.6s\n",
      "[CV] bootstrap=False, max_depth=None, max_features=3, min_samples_leaf=2, min_samples_split=7, n_estimators=200 \n",
      "[CV]  bootstrap=False, max_depth=None, max_features=3, min_samples_leaf=2, min_samples_split=7, n_estimators=200, total=   4.3s\n",
      "[CV] bootstrap=False, max_depth=None, max_features=3, min_samples_leaf=2, min_samples_split=7, n_estimators=200 \n",
      "[CV]  bootstrap=False, max_depth=None, max_features=3, min_samples_leaf=2, min_samples_split=7, n_estimators=200, total=   4.3s\n",
      "[CV] bootstrap=False, max_depth=None, max_features=3, min_samples_leaf=2, min_samples_split=7, n_estimators=300 \n",
      "[CV]  bootstrap=False, max_depth=None, max_features=3, min_samples_leaf=2, min_samples_split=3, n_estimators=1000, total=  23.9s\n",
      "[CV] bootstrap=False, max_depth=None, max_features=3, min_samples_leaf=2, min_samples_split=7, n_estimators=300 \n",
      "[CV]  bootstrap=False, max_depth=None, max_features=3, min_samples_leaf=2, min_samples_split=3, n_estimators=1000, total=  24.3s\n",
      "[CV] bootstrap=False, max_depth=None, max_features=3, min_samples_leaf=2, min_samples_split=7, n_estimators=300 \n"
     ]
    },
    {
     "name": "stderr",
     "output_type": "stream",
     "text": [
      "[Parallel(n_jobs=-1)]: Done 349 tasks      | elapsed:  4.4min\n"
     ]
    },
    {
     "name": "stdout",
     "output_type": "stream",
     "text": [
      "[CV]  bootstrap=False, max_depth=None, max_features=3, min_samples_leaf=2, min_samples_split=3, n_estimators=1000, total=  24.5s\n",
      "[CV] bootstrap=False, max_depth=None, max_features=3, min_samples_leaf=2, min_samples_split=7, n_estimators=1000 \n",
      "[CV]  bootstrap=False, max_depth=None, max_features=3, min_samples_leaf=2, min_samples_split=7, n_estimators=200, total=   4.0s\n",
      "[CV] bootstrap=False, max_depth=None, max_features=3, min_samples_leaf=2, min_samples_split=7, n_estimators=1000 \n",
      "[CV]  bootstrap=False, max_depth=None, max_features=3, min_samples_leaf=2, min_samples_split=7, n_estimators=300, total=   6.2s\n",
      "[CV] bootstrap=False, max_depth=None, max_features=3, min_samples_leaf=2, min_samples_split=7, n_estimators=1000 \n",
      "[CV]  bootstrap=False, max_depth=None, max_features=3, min_samples_leaf=2, min_samples_split=7, n_estimators=300, total=   6.2s\n",
      "[CV] bootstrap=False, max_depth=None, max_features=3, min_samples_leaf=3, min_samples_split=3, n_estimators=100 \n",
      "[CV]  bootstrap=False, max_depth=None, max_features=3, min_samples_leaf=2, min_samples_split=7, n_estimators=300, total=   6.5s\n",
      "[CV] bootstrap=False, max_depth=None, max_features=3, min_samples_leaf=3, min_samples_split=3, n_estimators=100 \n",
      "[CV]  bootstrap=False, max_depth=None, max_features=3, min_samples_leaf=3, min_samples_split=3, n_estimators=100, total=   1.8s\n",
      "[CV] bootstrap=False, max_depth=None, max_features=3, min_samples_leaf=3, min_samples_split=3, n_estimators=100 \n",
      "[CV]  bootstrap=False, max_depth=None, max_features=3, min_samples_leaf=3, min_samples_split=3, n_estimators=100, total=   1.9s\n",
      "[CV] bootstrap=False, max_depth=None, max_features=3, min_samples_leaf=3, min_samples_split=3, n_estimators=200 \n",
      "[CV]  bootstrap=False, max_depth=None, max_features=3, min_samples_leaf=2, min_samples_split=5, n_estimators=1000, total=  23.6s\n",
      "[CV] bootstrap=False, max_depth=None, max_features=3, min_samples_leaf=3, min_samples_split=3, n_estimators=200 \n",
      "[CV]  bootstrap=False, max_depth=None, max_features=3, min_samples_leaf=2, min_samples_split=5, n_estimators=1000, total=  23.5s\n",
      "[CV] bootstrap=False, max_depth=None, max_features=3, min_samples_leaf=3, min_samples_split=3, n_estimators=200 \n",
      "[CV]  bootstrap=False, max_depth=None, max_features=3, min_samples_leaf=3, min_samples_split=3, n_estimators=100, total=   1.8s\n",
      "[CV] bootstrap=False, max_depth=None, max_features=3, min_samples_leaf=3, min_samples_split=3, n_estimators=300 \n",
      "[CV]  bootstrap=False, max_depth=None, max_features=3, min_samples_leaf=2, min_samples_split=5, n_estimators=1000, total=  23.0s\n",
      "[CV] bootstrap=False, max_depth=None, max_features=3, min_samples_leaf=3, min_samples_split=3, n_estimators=300 \n",
      "[CV]  bootstrap=False, max_depth=None, max_features=3, min_samples_leaf=3, min_samples_split=3, n_estimators=200, total=   3.4s\n",
      "[CV] bootstrap=False, max_depth=None, max_features=3, min_samples_leaf=3, min_samples_split=3, n_estimators=300 \n",
      "[CV]  bootstrap=False, max_depth=None, max_features=3, min_samples_leaf=3, min_samples_split=3, n_estimators=200, total=   3.4s\n",
      "[CV] bootstrap=False, max_depth=None, max_features=3, min_samples_leaf=3, min_samples_split=3, n_estimators=1000 \n",
      "[CV]  bootstrap=False, max_depth=None, max_features=3, min_samples_leaf=3, min_samples_split=3, n_estimators=200, total=   3.5s\n",
      "[CV] bootstrap=False, max_depth=None, max_features=3, min_samples_leaf=3, min_samples_split=3, n_estimators=1000 \n",
      "[CV]  bootstrap=False, max_depth=None, max_features=3, min_samples_leaf=3, min_samples_split=3, n_estimators=300, total=   5.2s\n",
      "[CV] bootstrap=False, max_depth=None, max_features=3, min_samples_leaf=3, min_samples_split=3, n_estimators=1000 \n",
      "[CV]  bootstrap=False, max_depth=None, max_features=3, min_samples_leaf=3, min_samples_split=3, n_estimators=300, total=   5.1s\n",
      "[CV] bootstrap=False, max_depth=None, max_features=3, min_samples_leaf=3, min_samples_split=5, n_estimators=100 \n",
      "[CV]  bootstrap=False, max_depth=None, max_features=3, min_samples_leaf=3, min_samples_split=3, n_estimators=300, total=   5.1s\n",
      "[CV] bootstrap=False, max_depth=None, max_features=3, min_samples_leaf=3, min_samples_split=5, n_estimators=100 \n",
      "[CV]  bootstrap=False, max_depth=None, max_features=3, min_samples_leaf=3, min_samples_split=5, n_estimators=100, total=   1.7s\n",
      "[CV] bootstrap=False, max_depth=None, max_features=3, min_samples_leaf=3, min_samples_split=5, n_estimators=100 \n",
      "[CV]  bootstrap=False, max_depth=None, max_features=3, min_samples_leaf=3, min_samples_split=5, n_estimators=100, total=   1.7s\n",
      "[CV] bootstrap=False, max_depth=None, max_features=3, min_samples_leaf=3, min_samples_split=5, n_estimators=200 \n",
      "[CV]  bootstrap=False, max_depth=None, max_features=3, min_samples_leaf=3, min_samples_split=5, n_estimators=100, total=   1.8s\n",
      "[CV] bootstrap=False, max_depth=None, max_features=3, min_samples_leaf=3, min_samples_split=5, n_estimators=200 \n",
      "[CV]  bootstrap=False, max_depth=None, max_features=3, min_samples_leaf=3, min_samples_split=5, n_estimators=200, total=   3.4s\n",
      "[CV] bootstrap=False, max_depth=None, max_features=3, min_samples_leaf=3, min_samples_split=5, n_estimators=200 \n",
      "[CV]  bootstrap=False, max_depth=None, max_features=3, min_samples_leaf=2, min_samples_split=7, n_estimators=1000, total=  19.9s\n",
      "[CV] bootstrap=False, max_depth=None, max_features=3, min_samples_leaf=3, min_samples_split=5, n_estimators=300 \n",
      "[CV]  bootstrap=False, max_depth=None, max_features=3, min_samples_leaf=2, min_samples_split=7, n_estimators=1000, total=  19.9s\n",
      "[CV] bootstrap=False, max_depth=None, max_features=3, min_samples_leaf=3, min_samples_split=5, n_estimators=300 \n",
      "[CV]  bootstrap=False, max_depth=None, max_features=3, min_samples_leaf=3, min_samples_split=5, n_estimators=200, total=   3.5s\n",
      "[CV] bootstrap=False, max_depth=None, max_features=3, min_samples_leaf=3, min_samples_split=5, n_estimators=300 \n",
      "[CV]  bootstrap=False, max_depth=None, max_features=3, min_samples_leaf=2, min_samples_split=7, n_estimators=1000, total=  19.7s\n",
      "[CV] bootstrap=False, max_depth=None, max_features=3, min_samples_leaf=3, min_samples_split=5, n_estimators=1000 \n",
      "[CV]  bootstrap=False, max_depth=None, max_features=3, min_samples_leaf=3, min_samples_split=5, n_estimators=200, total=   3.6s\n",
      "[CV] bootstrap=False, max_depth=None, max_features=3, min_samples_leaf=3, min_samples_split=5, n_estimators=1000 \n",
      "[CV]  bootstrap=False, max_depth=None, max_features=3, min_samples_leaf=3, min_samples_split=5, n_estimators=300, total=   5.2s\n",
      "[CV] bootstrap=False, max_depth=None, max_features=3, min_samples_leaf=3, min_samples_split=5, n_estimators=1000 \n",
      "[CV]  bootstrap=False, max_depth=None, max_features=3, min_samples_leaf=3, min_samples_split=5, n_estimators=300, total=   5.2s\n",
      "[CV] bootstrap=False, max_depth=None, max_features=3, min_samples_leaf=3, min_samples_split=7, n_estimators=100 \n",
      "[CV]  bootstrap=False, max_depth=None, max_features=3, min_samples_leaf=3, min_samples_split=5, n_estimators=300, total=   5.2s\n",
      "[CV] bootstrap=False, max_depth=None, max_features=3, min_samples_leaf=3, min_samples_split=7, n_estimators=100 \n",
      "[CV]  bootstrap=False, max_depth=None, max_features=3, min_samples_leaf=3, min_samples_split=3, n_estimators=1000, total=  16.9s\n",
      "[CV] bootstrap=False, max_depth=None, max_features=3, min_samples_leaf=3, min_samples_split=7, n_estimators=100 \n",
      "[CV]  bootstrap=False, max_depth=None, max_features=3, min_samples_leaf=3, min_samples_split=3, n_estimators=1000, total=  17.1s\n",
      "[CV] bootstrap=False, max_depth=None, max_features=3, min_samples_leaf=3, min_samples_split=7, n_estimators=200 \n",
      "[CV]  bootstrap=False, max_depth=None, max_features=3, min_samples_leaf=3, min_samples_split=7, n_estimators=100, total=   1.7s\n",
      "[CV] bootstrap=False, max_depth=None, max_features=3, min_samples_leaf=3, min_samples_split=7, n_estimators=200 \n",
      "[CV]  bootstrap=False, max_depth=None, max_features=3, min_samples_leaf=3, min_samples_split=7, n_estimators=100, total=   1.7s\n",
      "[CV] bootstrap=False, max_depth=None, max_features=3, min_samples_leaf=3, min_samples_split=7, n_estimators=200 \n",
      "[CV]  bootstrap=False, max_depth=None, max_features=3, min_samples_leaf=3, min_samples_split=7, n_estimators=100, total=   1.7s\n",
      "[CV] bootstrap=False, max_depth=None, max_features=3, min_samples_leaf=3, min_samples_split=7, n_estimators=300 \n"
     ]
    },
    {
     "name": "stdout",
     "output_type": "stream",
     "text": [
      "[CV]  bootstrap=False, max_depth=None, max_features=3, min_samples_leaf=3, min_samples_split=3, n_estimators=1000, total=  17.2s\n",
      "[CV] bootstrap=False, max_depth=None, max_features=3, min_samples_leaf=3, min_samples_split=7, n_estimators=300 \n",
      "[CV]  bootstrap=False, max_depth=None, max_features=3, min_samples_leaf=3, min_samples_split=7, n_estimators=200, total=   3.2s\n",
      "[CV] bootstrap=False, max_depth=None, max_features=3, min_samples_leaf=3, min_samples_split=7, n_estimators=300 \n",
      "[CV]  bootstrap=False, max_depth=None, max_features=3, min_samples_leaf=3, min_samples_split=7, n_estimators=200, total=   3.2s\n",
      "[CV] bootstrap=False, max_depth=None, max_features=3, min_samples_leaf=3, min_samples_split=7, n_estimators=1000 \n",
      "[CV]  bootstrap=False, max_depth=None, max_features=3, min_samples_leaf=3, min_samples_split=7, n_estimators=200, total=   3.3s\n",
      "[CV] bootstrap=False, max_depth=None, max_features=3, min_samples_leaf=3, min_samples_split=7, n_estimators=1000 \n",
      "[CV]  bootstrap=False, max_depth=None, max_features=3, min_samples_leaf=3, min_samples_split=7, n_estimators=300, total=   4.8s\n",
      "[CV] bootstrap=False, max_depth=None, max_features=3, min_samples_leaf=3, min_samples_split=7, n_estimators=1000 \n",
      "[CV]  bootstrap=False, max_depth=None, max_features=3, min_samples_leaf=3, min_samples_split=7, n_estimators=300, total=   4.8s\n",
      "[CV] bootstrap=False, max_depth=None, max_features=3, min_samples_leaf=4, min_samples_split=3, n_estimators=100 \n",
      "[CV]  bootstrap=False, max_depth=None, max_features=3, min_samples_leaf=3, min_samples_split=7, n_estimators=300, total=   4.9s\n",
      "[CV] bootstrap=False, max_depth=None, max_features=3, min_samples_leaf=4, min_samples_split=3, n_estimators=100 \n",
      "[CV]  bootstrap=False, max_depth=None, max_features=3, min_samples_leaf=4, min_samples_split=3, n_estimators=100, total=   1.5s\n",
      "[CV] bootstrap=False, max_depth=None, max_features=3, min_samples_leaf=4, min_samples_split=3, n_estimators=100 \n",
      "[CV]  bootstrap=False, max_depth=None, max_features=3, min_samples_leaf=4, min_samples_split=3, n_estimators=100, total=   1.6s\n",
      "[CV] bootstrap=False, max_depth=None, max_features=3, min_samples_leaf=4, min_samples_split=3, n_estimators=200 \n",
      "[CV]  bootstrap=False, max_depth=None, max_features=3, min_samples_leaf=4, min_samples_split=3, n_estimators=100, total=   1.5s\n",
      "[CV] bootstrap=False, max_depth=None, max_features=3, min_samples_leaf=4, min_samples_split=3, n_estimators=200 \n",
      "[CV]  bootstrap=False, max_depth=None, max_features=3, min_samples_leaf=3, min_samples_split=5, n_estimators=1000, total=  16.4s\n",
      "[CV] bootstrap=False, max_depth=None, max_features=3, min_samples_leaf=4, min_samples_split=3, n_estimators=200 \n",
      "[CV]  bootstrap=False, max_depth=None, max_features=3, min_samples_leaf=4, min_samples_split=3, n_estimators=200, total=   2.9s\n",
      "[CV] bootstrap=False, max_depth=None, max_features=3, min_samples_leaf=4, min_samples_split=3, n_estimators=300 \n",
      "[CV]  bootstrap=False, max_depth=None, max_features=3, min_samples_leaf=3, min_samples_split=5, n_estimators=1000, total=  16.6s\n",
      "[CV] bootstrap=False, max_depth=None, max_features=3, min_samples_leaf=4, min_samples_split=3, n_estimators=300 \n",
      "[CV]  bootstrap=False, max_depth=None, max_features=3, min_samples_leaf=4, min_samples_split=3, n_estimators=200, total=   3.0s\n",
      "[CV] bootstrap=False, max_depth=None, max_features=3, min_samples_leaf=4, min_samples_split=3, n_estimators=300 \n",
      "[CV]  bootstrap=False, max_depth=None, max_features=3, min_samples_leaf=3, min_samples_split=5, n_estimators=1000, total=  16.7s\n",
      "[CV] bootstrap=False, max_depth=None, max_features=3, min_samples_leaf=4, min_samples_split=3, n_estimators=1000 \n",
      "[CV]  bootstrap=False, max_depth=None, max_features=3, min_samples_leaf=4, min_samples_split=3, n_estimators=200, total=   3.2s\n",
      "[CV] bootstrap=False, max_depth=None, max_features=3, min_samples_leaf=4, min_samples_split=3, n_estimators=1000 \n",
      "[CV]  bootstrap=False, max_depth=None, max_features=3, min_samples_leaf=4, min_samples_split=3, n_estimators=300, total=   4.5s\n",
      "[CV] bootstrap=False, max_depth=None, max_features=3, min_samples_leaf=4, min_samples_split=3, n_estimators=1000 \n",
      "[CV]  bootstrap=False, max_depth=None, max_features=3, min_samples_leaf=4, min_samples_split=3, n_estimators=300, total=   4.6s\n",
      "[CV] bootstrap=False, max_depth=None, max_features=3, min_samples_leaf=4, min_samples_split=5, n_estimators=100 \n",
      "[CV]  bootstrap=False, max_depth=None, max_features=3, min_samples_leaf=4, min_samples_split=3, n_estimators=300, total=   4.8s\n",
      "[CV] bootstrap=False, max_depth=None, max_features=3, min_samples_leaf=4, min_samples_split=5, n_estimators=100 \n",
      "[CV]  bootstrap=False, max_depth=None, max_features=3, min_samples_leaf=4, min_samples_split=5, n_estimators=100, total=   1.6s\n",
      "[CV] bootstrap=False, max_depth=None, max_features=3, min_samples_leaf=4, min_samples_split=5, n_estimators=100 \n",
      "[CV]  bootstrap=False, max_depth=None, max_features=3, min_samples_leaf=4, min_samples_split=5, n_estimators=100, total=   1.6s\n",
      "[CV] bootstrap=False, max_depth=None, max_features=3, min_samples_leaf=4, min_samples_split=5, n_estimators=200 \n",
      "[CV]  bootstrap=False, max_depth=None, max_features=3, min_samples_leaf=3, min_samples_split=7, n_estimators=1000, total=  16.5s\n",
      "[CV] bootstrap=False, max_depth=None, max_features=3, min_samples_leaf=4, min_samples_split=5, n_estimators=200 \n",
      "[CV]  bootstrap=False, max_depth=None, max_features=3, min_samples_leaf=4, min_samples_split=5, n_estimators=100, total=   1.7s\n",
      "[CV] bootstrap=False, max_depth=None, max_features=3, min_samples_leaf=4, min_samples_split=5, n_estimators=200 \n",
      "[CV]  bootstrap=False, max_depth=None, max_features=3, min_samples_leaf=3, min_samples_split=7, n_estimators=1000, total=  16.6s\n",
      "[CV] bootstrap=False, max_depth=None, max_features=3, min_samples_leaf=4, min_samples_split=5, n_estimators=300 \n",
      "[CV]  bootstrap=False, max_depth=None, max_features=3, min_samples_leaf=4, min_samples_split=5, n_estimators=200, total=   3.2s\n",
      "[CV] bootstrap=False, max_depth=None, max_features=3, min_samples_leaf=4, min_samples_split=5, n_estimators=300 \n",
      "[CV]  bootstrap=False, max_depth=None, max_features=3, min_samples_leaf=3, min_samples_split=7, n_estimators=1000, total=  17.1s\n",
      "[CV] bootstrap=False, max_depth=None, max_features=3, min_samples_leaf=4, min_samples_split=5, n_estimators=300 \n",
      "[CV]  bootstrap=False, max_depth=None, max_features=3, min_samples_leaf=4, min_samples_split=5, n_estimators=200, total=   3.2s\n",
      "[CV] bootstrap=False, max_depth=None, max_features=3, min_samples_leaf=4, min_samples_split=5, n_estimators=1000 \n",
      "[CV]  bootstrap=False, max_depth=None, max_features=3, min_samples_leaf=4, min_samples_split=5, n_estimators=200, total=   3.2s\n",
      "[CV] bootstrap=False, max_depth=None, max_features=3, min_samples_leaf=4, min_samples_split=5, n_estimators=1000 \n",
      "[CV]  bootstrap=False, max_depth=None, max_features=3, min_samples_leaf=4, min_samples_split=5, n_estimators=300, total=   4.9s\n",
      "[CV] bootstrap=False, max_depth=None, max_features=3, min_samples_leaf=4, min_samples_split=5, n_estimators=1000 \n",
      "[CV]  bootstrap=False, max_depth=None, max_features=3, min_samples_leaf=4, min_samples_split=5, n_estimators=300, total=   5.1s\n",
      "[CV] bootstrap=False, max_depth=None, max_features=3, min_samples_leaf=4, min_samples_split=7, n_estimators=100 \n",
      "[CV]  bootstrap=False, max_depth=None, max_features=3, min_samples_leaf=4, min_samples_split=5, n_estimators=300, total=   5.1s\n",
      "[CV] bootstrap=False, max_depth=None, max_features=3, min_samples_leaf=4, min_samples_split=7, n_estimators=100 \n",
      "[CV]  bootstrap=False, max_depth=None, max_features=3, min_samples_leaf=4, min_samples_split=7, n_estimators=100, total=   1.9s\n",
      "[CV] bootstrap=False, max_depth=None, max_features=3, min_samples_leaf=4, min_samples_split=7, n_estimators=100 \n",
      "[CV]  bootstrap=False, max_depth=None, max_features=3, min_samples_leaf=4, min_samples_split=7, n_estimators=100, total=   1.8s\n",
      "[CV] bootstrap=False, max_depth=None, max_features=3, min_samples_leaf=4, min_samples_split=7, n_estimators=200 \n",
      "[CV]  bootstrap=False, max_depth=None, max_features=3, min_samples_leaf=4, min_samples_split=3, n_estimators=1000, total=  16.5s\n",
      "[CV] bootstrap=False, max_depth=None, max_features=3, min_samples_leaf=4, min_samples_split=7, n_estimators=200 \n"
     ]
    },
    {
     "name": "stdout",
     "output_type": "stream",
     "text": [
      "[CV]  bootstrap=False, max_depth=None, max_features=3, min_samples_leaf=4, min_samples_split=7, n_estimators=100, total=   1.5s\n",
      "[CV] bootstrap=False, max_depth=None, max_features=3, min_samples_leaf=4, min_samples_split=7, n_estimators=200 \n",
      "[CV]  bootstrap=False, max_depth=None, max_features=3, min_samples_leaf=4, min_samples_split=3, n_estimators=1000, total=  16.6s\n",
      "[CV] bootstrap=False, max_depth=None, max_features=3, min_samples_leaf=4, min_samples_split=7, n_estimators=300 \n",
      "[CV]  bootstrap=False, max_depth=None, max_features=3, min_samples_leaf=4, min_samples_split=7, n_estimators=200, total=   3.0s\n",
      "[CV] bootstrap=False, max_depth=None, max_features=3, min_samples_leaf=4, min_samples_split=7, n_estimators=300 \n",
      "[CV]  bootstrap=False, max_depth=None, max_features=3, min_samples_leaf=4, min_samples_split=3, n_estimators=1000, total=  16.4s\n",
      "[CV] bootstrap=False, max_depth=None, max_features=3, min_samples_leaf=4, min_samples_split=7, n_estimators=300 \n",
      "[CV]  bootstrap=False, max_depth=None, max_features=3, min_samples_leaf=4, min_samples_split=7, n_estimators=200, total=   3.1s\n",
      "[CV] bootstrap=False, max_depth=None, max_features=3, min_samples_leaf=4, min_samples_split=7, n_estimators=1000 \n",
      "[CV]  bootstrap=False, max_depth=None, max_features=3, min_samples_leaf=4, min_samples_split=7, n_estimators=200, total=   3.1s\n",
      "[CV] bootstrap=False, max_depth=None, max_features=3, min_samples_leaf=4, min_samples_split=7, n_estimators=1000 \n",
      "[CV]  bootstrap=False, max_depth=None, max_features=3, min_samples_leaf=4, min_samples_split=7, n_estimators=300, total=   4.6s\n",
      "[CV] bootstrap=False, max_depth=None, max_features=3, min_samples_leaf=4, min_samples_split=7, n_estimators=1000 \n",
      "[CV]  bootstrap=False, max_depth=None, max_features=3, min_samples_leaf=4, min_samples_split=7, n_estimators=300, total=   4.8s\n",
      "[CV]  bootstrap=False, max_depth=None, max_features=3, min_samples_leaf=4, min_samples_split=7, n_estimators=300, total=   4.8s\n",
      "[CV]  bootstrap=False, max_depth=None, max_features=3, min_samples_leaf=4, min_samples_split=5, n_estimators=1000, total=  16.3s\n",
      "[CV]  bootstrap=False, max_depth=None, max_features=3, min_samples_leaf=4, min_samples_split=5, n_estimators=1000, total=  16.4s\n",
      "[CV]  bootstrap=False, max_depth=None, max_features=3, min_samples_leaf=4, min_samples_split=5, n_estimators=1000, total=  16.0s\n",
      "[CV]  bootstrap=False, max_depth=None, max_features=3, min_samples_leaf=4, min_samples_split=7, n_estimators=1000, total=  12.0s\n",
      "[CV]  bootstrap=False, max_depth=None, max_features=3, min_samples_leaf=4, min_samples_split=7, n_estimators=1000, total=  11.8s\n",
      "[CV]  bootstrap=False, max_depth=None, max_features=3, min_samples_leaf=4, min_samples_split=7, n_estimators=1000, total=  10.8s\n"
     ]
    },
    {
     "name": "stderr",
     "output_type": "stream",
     "text": [
      "[Parallel(n_jobs=-1)]: Done 432 out of 432 | elapsed:  5.8min finished\n"
     ]
    },
    {
     "data": {
      "text/plain": [
       "{'bootstrap': False,\n",
       " 'max_depth': None,\n",
       " 'max_features': 3,\n",
       " 'min_samples_leaf': 2,\n",
       " 'min_samples_split': 3,\n",
       " 'n_estimators': 1000}"
      ]
     },
     "execution_count": 65,
     "metadata": {},
     "output_type": "execute_result"
    }
   ],
   "source": [
    "# Fit the grid search to the data\n",
    "grid_search.fit(X_train_reg, y_train_reg)\n",
    "grid_search.best_params_"
   ]
  },
  {
   "cell_type": "code",
   "execution_count": 66,
   "metadata": {},
   "outputs": [
    {
     "data": {
      "text/plain": [
       "{'bootstrap': False,\n",
       " 'max_depth': None,\n",
       " 'max_features': 3,\n",
       " 'min_samples_leaf': 2,\n",
       " 'min_samples_split': 3,\n",
       " 'n_estimators': 1000}"
      ]
     },
     "execution_count": 66,
     "metadata": {},
     "output_type": "execute_result"
    }
   ],
   "source": [
    "grid_search.best_params_"
   ]
  },
  {
   "cell_type": "code",
   "execution_count": 67,
   "metadata": {},
   "outputs": [
    {
     "name": "stdout",
     "output_type": "stream",
     "text": [
      "Model Performance\n",
      "Average Error: 90640.3081 degrees.\n",
      "Accuracy = 81.99%.\n"
     ]
    }
   ],
   "source": [
    "best_grid = grid_search.best_estimator_\n",
    "grid_accuracy = evaluate_reg(best_grid, X_test_reg, y_test_reg)"
   ]
  },
  {
   "cell_type": "markdown",
   "metadata": {},
   "source": [
    "## Now lets implement XGBoost (eXtreme Gradient Boosting)"
   ]
  },
  {
   "cell_type": "code",
   "execution_count": 68,
   "metadata": {},
   "outputs": [],
   "source": [
    "from xgboost import XGBRegressor"
   ]
  },
  {
   "cell_type": "code",
   "execution_count": 69,
   "metadata": {},
   "outputs": [
    {
     "name": "stdout",
     "output_type": "stream",
     "text": [
      "Model Performance\n",
      "Average Error: 82077.7288 degrees.\n",
      "Accuracy = 83.84%.\n"
     ]
    }
   ],
   "source": [
    "base_model = XGBRegressor()\n",
    "base_model.fit(X_train_reg, y_train_reg)\n",
    "base_accuracy = evaluate_reg(base_model, X_test_reg, y_test_reg)"
   ]
  },
  {
   "cell_type": "code",
   "execution_count": 70,
   "metadata": {},
   "outputs": [
    {
     "name": "stdout",
     "output_type": "stream",
     "text": [
      "Best: 0.706020 using {'n_estimators': 350}\n",
      "0.673328 (0.015057) with: {'n_estimators': 50}\n",
      "0.688111 (0.015789) with: {'n_estimators': 100}\n",
      "0.695023 (0.016595) with: {'n_estimators': 150}\n",
      "0.699659 (0.016664) with: {'n_estimators': 200}\n",
      "0.702537 (0.016988) with: {'n_estimators': 250}\n",
      "0.704551 (0.016813) with: {'n_estimators': 300}\n",
      "0.706020 (0.016558) with: {'n_estimators': 350}\n"
     ]
    }
   ],
   "source": [
    "model = XGBRegressor()\n",
    "n_estimators = range(50, 400, 50)\n",
    "param_grid = dict(n_estimators=n_estimators)\n",
    "kfold = StratifiedKFold(n_splits=10, shuffle=True, random_state=7)\n",
    "grid_search = GridSearchCV(model, param_grid, n_jobs=-1, cv=kfold)\n",
    "grid_result = grid_search.fit(X_train, y_train)\n",
    "# summarize results\n",
    "print(\"Best: %f using %s\" % (grid_result.best_score_, grid_result.best_params_))\n",
    "means = grid_result.cv_results_['mean_test_score']\n",
    "stds = grid_result.cv_results_['std_test_score']\n",
    "params = grid_result.cv_results_['params']\n",
    "for mean, stdev, param in zip(means, stds, params):\n",
    "\tprint(\"%f (%f) with: %r\" % (mean, stdev, param))"
   ]
  },
  {
   "cell_type": "code",
   "execution_count": 71,
   "metadata": {},
   "outputs": [
    {
     "name": "stdout",
     "output_type": "stream",
     "text": [
      "range(1, 11, 2)\n",
      "Fitting 10 folds for each of 5 candidates, totalling 50 fits\n"
     ]
    },
    {
     "name": "stderr",
     "output_type": "stream",
     "text": [
      "/anaconda3/lib/python3.6/site-packages/sklearn/model_selection/_split.py:605: Warning: The least populated class in y has only 1 members, which is too few. The minimum number of members in any class cannot be less than n_splits=10.\n",
      "  % (min_groups, self.n_splits)), Warning)\n",
      "[Parallel(n_jobs=-1)]: Done  34 tasks      | elapsed:   20.0s\n",
      "[Parallel(n_jobs=-1)]: Done  50 out of  50 | elapsed:   36.9s finished\n"
     ]
    },
    {
     "name": "stdout",
     "output_type": "stream",
     "text": [
      "Best: 0.860143 using {'max_depth': 7}\n",
      "0.672337 (0.039509) with: {'max_depth': 1}\n",
      "0.820741 (0.038201) with: {'max_depth': 3}\n",
      "0.856621 (0.030467) with: {'max_depth': 5}\n",
      "0.860143 (0.027785) with: {'max_depth': 7}\n",
      "0.857223 (0.030909) with: {'max_depth': 9}\n"
     ]
    }
   ],
   "source": [
    "model = XGBRegressor()\n",
    "max_depth = range(1, 11, 2)\n",
    "print(max_depth)\n",
    "param_grid = dict(max_depth=max_depth)\n",
    "kfold = StratifiedKFold(n_splits=10, shuffle=True, random_state=7)\n",
    "grid_search = GridSearchCV(model, param_grid, n_jobs=-1, cv=kfold, verbose=1)\n",
    "grid_result = grid_search.fit(X_train_reg, y_train_reg)\n",
    "# summarize results\n",
    "print(\"Best: %f using %s\" % (grid_result.best_score_, grid_result.best_params_))\n",
    "means = grid_result.cv_results_['mean_test_score']\n",
    "stds = grid_result.cv_results_['std_test_score']\n",
    "params = grid_result.cv_results_['params']\n",
    "for mean, stdev, param in zip(means, stds, params):\n",
    "\tprint(\"%f (%f) with: %r\" % (mean, stdev, param))"
   ]
  },
  {
   "cell_type": "code",
   "execution_count": 72,
   "metadata": {},
   "outputs": [
    {
     "name": "stdout",
     "output_type": "stream",
     "text": [
      "[4, 5, 6, 7]\n",
      "Fitting 10 folds for each of 12 candidates, totalling 120 fits\n"
     ]
    },
    {
     "name": "stderr",
     "output_type": "stream",
     "text": [
      "[Parallel(n_jobs=-1)]: Done  34 tasks      | elapsed:  1.3min\n",
      "[Parallel(n_jobs=-1)]: Done 120 out of 120 | elapsed:  5.5min finished\n"
     ]
    },
    {
     "name": "stdout",
     "output_type": "stream",
     "text": [
      "Best: 0.723221 using {'max_depth': 6, 'n_estimators': 300}\n",
      "0.717208 (0.017402) with: {'max_depth': 4, 'n_estimators': 300}\n",
      "0.717135 (0.017781) with: {'max_depth': 4, 'n_estimators': 350}\n",
      "0.717316 (0.018097) with: {'max_depth': 4, 'n_estimators': 400}\n",
      "0.723052 (0.016942) with: {'max_depth': 5, 'n_estimators': 300}\n",
      "0.722040 (0.016769) with: {'max_depth': 5, 'n_estimators': 350}\n",
      "0.721691 (0.016667) with: {'max_depth': 5, 'n_estimators': 400}\n",
      "0.723221 (0.019235) with: {'max_depth': 6, 'n_estimators': 300}\n",
      "0.721940 (0.019568) with: {'max_depth': 6, 'n_estimators': 350}\n",
      "0.720737 (0.019302) with: {'max_depth': 6, 'n_estimators': 400}\n",
      "0.721461 (0.019414) with: {'max_depth': 7, 'n_estimators': 300}\n",
      "0.719264 (0.019285) with: {'max_depth': 7, 'n_estimators': 350}\n",
      "0.717666 (0.019167) with: {'max_depth': 7, 'n_estimators': 400}\n"
     ]
    }
   ],
   "source": [
    "# grid search\n",
    "model = XGBRegressor()\n",
    "n_estimators = [300,350,400]\n",
    "max_depth = [4,5,6,7]\n",
    "print(max_depth)\n",
    "param_grid = dict(max_depth=max_depth, n_estimators=n_estimators)\n",
    "kfold = StratifiedKFold(n_splits=10, shuffle=True, random_state=7)\n",
    "grid_search = GridSearchCV(model, param_grid, n_jobs=-1, cv=kfold, verbose=1)\n",
    "grid_result = grid_search.fit(X_train, y_train)\n",
    "# summarize results\n",
    "print(\"Best: %f using %s\" % (grid_result.best_score_, grid_result.best_params_))\n",
    "means = grid_result.cv_results_['mean_test_score']\n",
    "stds = grid_result.cv_results_['std_test_score']\n",
    "params = grid_result.cv_results_['params']\n",
    "for mean, stdev, param in zip(means, stds, params):\n",
    "\tprint(\"%f (%f) with: %r\" % (mean, stdev, param))"
   ]
  },
  {
   "cell_type": "code",
   "execution_count": 73,
   "metadata": {},
   "outputs": [
    {
     "data": {
      "text/plain": [
       "XGBRegressor(base_score=0.5, booster='gbtree', colsample_bylevel=1,\n",
       "       colsample_bytree=1, gamma=0, learning_rate=0.1, max_delta_step=0,\n",
       "       max_depth=6, min_child_weight=1, missing=None, n_estimators=300,\n",
       "       n_jobs=1, nthread=None, objective='reg:linear', random_state=0,\n",
       "       reg_alpha=0, reg_lambda=1, scale_pos_weight=1, seed=None,\n",
       "       silent=True, subsample=1)"
      ]
     },
     "execution_count": 73,
     "metadata": {},
     "output_type": "execute_result"
    }
   ],
   "source": [
    "best_XGBoost = grid_result.best_estimator_\n",
    "best_XGBoost"
   ]
  },
  {
   "cell_type": "code",
   "execution_count": 74,
   "metadata": {},
   "outputs": [
    {
     "name": "stdout",
     "output_type": "stream",
     "text": [
      "Model Performance\n",
      "Average Error: 66457.6640 degrees.\n",
      "Accuracy = 87.19%.\n"
     ]
    }
   ],
   "source": [
    "best_XGBoost.fit(X_train_reg, y_train_reg)\n",
    "best_accuracy = evaluate_reg(best_XGBoost, X_test_reg, y_test_reg)"
   ]
  },
  {
   "cell_type": "markdown",
   "metadata": {},
   "source": [
    "## XGBoost Algo provides better predictions than Random Forest for the regression problem. And both of them provide a lower RMSE than Linear Regression"
   ]
  },
  {
   "cell_type": "markdown",
   "metadata": {},
   "source": [
    "#### Evaluating the regression models"
   ]
  },
  {
   "cell_type": "code",
   "execution_count": 75,
   "metadata": {},
   "outputs": [],
   "source": [
    "from sklearn.metrics import mean_squared_error\n",
    "from math import sqrt"
   ]
  },
  {
   "cell_type": "code",
   "execution_count": 76,
   "metadata": {},
   "outputs": [
    {
     "name": "stdout",
     "output_type": "stream",
     "text": [
      "Random forest best model RMSE is : 144403.96\n"
     ]
    }
   ],
   "source": [
    "#Random Forest best model\n",
    "print('Random forest best model RMSE is : ' + str(round(sqrt(mean_squared_error(best_random.predict(X_test_reg), y_test_reg)),2)))"
   ]
  },
  {
   "cell_type": "code",
   "execution_count": 77,
   "metadata": {},
   "outputs": [
    {
     "name": "stdout",
     "output_type": "stream",
     "text": [
      "XGBoost best model RMSE is : 136668.18\n"
     ]
    }
   ],
   "source": [
    "#XGBoost Best model\n",
    "print('XGBoost best model RMSE is : ' + str(round(sqrt(mean_squared_error(best_XGBoost.predict(X_test_reg), y_test_reg)),2)))"
   ]
  },
  {
   "cell_type": "markdown",
   "metadata": {},
   "source": [
    "## Part D:\n",
    "\n",
    "### Linear Regression"
   ]
  },
  {
   "cell_type": "code",
   "execution_count": 106,
   "metadata": {},
   "outputs": [
    {
     "name": "stdout",
     "output_type": "stream",
     "text": [
      "Model Performance\n",
      "Average Error: 121610.9686 degrees.\n",
      "Accuracy = 76.37%.\n"
     ]
    }
   ],
   "source": [
    "# Create a Linear Regression model\n",
    "from sklearn.linear_model import LinearRegression\n",
    "from sklearn.linear_model import Lasso\n",
    "from sklearn.linear_model import Ridge\n",
    "linear_model = LinearRegression()\n",
    "#Use the data for regression to be trained by the object.\n",
    "linear_model.fit(X_train_reg, y_train_reg)\n",
    "#Make a prediction use the object\n",
    "y_pred = linear_model.predict(X_test_reg)\n",
    "#Calculate the accuracy with the method defined before.\n",
    "perf_lr = evaluate_reg(linear_model, X_test_reg, y_test_reg)"
   ]
  },
  {
   "cell_type": "markdown",
   "metadata": {},
   "source": [
    "### Lasso Regression"
   ]
  },
  {
   "cell_type": "code",
   "execution_count": 107,
   "metadata": {},
   "outputs": [
    {
     "name": "stdout",
     "output_type": "stream",
     "text": [
      "Model Performance\n",
      "Average Error: 120441.6473 degrees.\n",
      "Accuracy = 76.63%.\n"
     ]
    },
    {
     "name": "stderr",
     "output_type": "stream",
     "text": [
      "/anaconda3/lib/python3.6/site-packages/sklearn/linear_model/coordinate_descent.py:491: ConvergenceWarning: Objective did not converge. You might want to increase the number of iterations. Fitting data with very small alpha may cause precision problems.\n",
      "  ConvergenceWarning)\n"
     ]
    }
   ],
   "source": [
    "lasso_lr = Lasso(alpha=0.3)\n",
    "lasso_lr.fit(X_train_reg, y_train_reg) #Train the data\n",
    "pred_lass = lasso_lr.predict(X_test_reg)\n",
    "perf_lr = evaluate_reg(lasso_lr, X_test_reg, y_test_reg) #Evluate the model"
   ]
  },
  {
   "cell_type": "markdown",
   "metadata": {},
   "source": [
    "### Ridge Regression"
   ]
  },
  {
   "cell_type": "code",
   "execution_count": 108,
   "metadata": {},
   "outputs": [
    {
     "name": "stdout",
     "output_type": "stream",
     "text": [
      "Model Performance\n",
      "Average Error: 120573.0008 degrees.\n",
      "Accuracy = 76.59%.\n"
     ]
    }
   ],
   "source": [
    "ridge_lr = Ridge(alpha=1)\n",
    "ridge_lr.fit(X_train_reg, y_train_reg) #Train the data\n",
    "pred_eidge = ridge_lr.predict(X_test_reg)\n",
    "perf_lr = evaluate_reg(ridge_lr, X_test_reg, y_test_reg) #Evluate the model"
   ]
  },
  {
   "cell_type": "markdown",
   "metadata": {},
   "source": [
    "#### Both of the accuacy of Lasso Regression and Ridge Regression increases upon the Linear model."
   ]
  },
  {
   "cell_type": "markdown",
   "metadata": {},
   "source": [
    "## Part E:  \n",
    "\n",
    "### Gradient Boosting Machine"
   ]
  },
  {
   "cell_type": "code",
   "execution_count": 79,
   "metadata": {},
   "outputs": [],
   "source": [
    "from sklearn.ensemble import GradientBoostingClassifier"
   ]
  },
  {
   "cell_type": "code",
   "execution_count": 80,
   "metadata": {},
   "outputs": [],
   "source": [
    "#Define an object of GBM classifier\n",
    "clf = GradientBoostingClassifier(learning_rate=0.1) \n",
    "\n",
    "#Train the model using training sets.\n",
    "clf.fit(X_train, y_train)\n",
    "\n",
    "#Predict the answer of test data.\n",
    "y_pred = clf.predict(X_test)"
   ]
  },
  {
   "cell_type": "code",
   "execution_count": 81,
   "metadata": {},
   "outputs": [
    {
     "data": {
      "text/plain": [
       "lat                 0.333217\n",
       "sqft_living         0.136777\n",
       "long                0.091053\n",
       "sqft_lot            0.064917\n",
       "sqft_living15       0.064823\n",
       "sqft_above          0.047862\n",
       "yr_built            0.041371\n",
       "sqft_lot15          0.034911\n",
       "grade#7             0.026818\n",
       "view#0              0.026514\n",
       "grade#9             0.022505\n",
       "grade#6             0.015984\n",
       "condition#3         0.015313\n",
       "condition#5         0.014467\n",
       "bathrooms           0.012020\n",
       "waterfront          0.011600\n",
       "yr_renovated        0.011088\n",
       "grade#10            0.010775\n",
       "condition#1         0.007642\n",
       "condition#2         0.003305\n",
       "floors#1.0          0.002215\n",
       "sqft_basement       0.001315\n",
       "bedrooms            0.001266\n",
       "floors#2.5          0.001139\n",
       "grade#8             0.001096\n",
       "floors#2.0          0.000008\n",
       "basement_present    0.000000\n",
       "renovated           0.000000\n",
       "floors#1.5          0.000000\n",
       "zipcode#98040       0.000000\n",
       "floors#3.0          0.000000\n",
       "grade#5             0.000000\n",
       "zipcode#98112       0.000000\n",
       "zipcode#98109       0.000000\n",
       "zipcode#98102       0.000000\n",
       "zipcode#98004       0.000000\n",
       "grade#13            0.000000\n",
       "grade#12            0.000000\n",
       "grade#11            0.000000\n",
       "grade#4             0.000000\n",
       "floors#3.5          0.000000\n",
       "grade#3             0.000000\n",
       "grade#1             0.000000\n",
       "condition#4         0.000000\n",
       "view#4              0.000000\n",
       "zipcode#98039       0.000000\n",
       "view#2              0.000000\n",
       "view#1              0.000000\n",
       "view#3              0.000000\n",
       "dtype: float64"
      ]
     },
     "execution_count": 81,
     "metadata": {},
     "output_type": "execute_result"
    }
   ],
   "source": [
    "feature_imp = pd.Series(clf.feature_importances_, index=X_features).sort_values(ascending = False) \n",
    "feature_imp    #Create a series shows the importance number of features and sort."
   ]
  },
  {
   "cell_type": "code",
   "execution_count": 82,
   "metadata": {},
   "outputs": [
    {
     "name": "stdout",
     "output_type": "stream",
     "text": [
      "Parameters currenly in use:\n",
      "\n",
      "{'criterion': 'friedman_mse',\n",
      " 'init': None,\n",
      " 'learning_rate': 0.1,\n",
      " 'loss': 'deviance',\n",
      " 'max_depth': 3,\n",
      " 'max_features': None,\n",
      " 'max_leaf_nodes': None,\n",
      " 'min_impurity_decrease': 0.0,\n",
      " 'min_impurity_split': None,\n",
      " 'min_samples_leaf': 1,\n",
      " 'min_samples_split': 2,\n",
      " 'min_weight_fraction_leaf': 0.0,\n",
      " 'n_estimators': 100,\n",
      " 'presort': 'auto',\n",
      " 'random_state': None,\n",
      " 'subsample': 1.0,\n",
      " 'verbose': 0,\n",
      " 'warm_start': False}\n"
     ]
    }
   ],
   "source": [
    "# Look at the parameters used by current model.\n",
    "print('Parameters currenly in use:\\n')\n",
    "pprint(clf.get_params())"
   ]
  },
  {
   "cell_type": "markdown",
   "metadata": {},
   "source": [
    "### First, we need to tune the n_estimators"
   ]
  },
  {
   "cell_type": "code",
   "execution_count": 83,
   "metadata": {},
   "outputs": [
    {
     "data": {
      "text/plain": [
       "GridSearchCV(cv=5, error_score='raise',\n",
       "       estimator=GradientBoostingClassifier(criterion='friedman_mse', init=None,\n",
       "              learning_rate=0.1, loss='deviance', max_depth=3,\n",
       "              max_features=None, max_leaf_nodes=None,\n",
       "              min_impurity_decrease=0.0, min_impurity_split=None,\n",
       "              min_samples_leaf=1, min_samples_split=2,\n",
       "              min_weight_fraction_leaf=0.0, n_estimators=100,\n",
       "              presort='auto', random_state=None, subsample=1.0, verbose=0,\n",
       "              warm_start=False),\n",
       "       fit_params=None, iid=True, n_jobs=1,\n",
       "       param_grid={'n_estimators': range(20, 120, 10)},\n",
       "       pre_dispatch='2*n_jobs', refit=True, return_train_score='warn',\n",
       "       scoring='roc_auc', verbose=0)"
      ]
     },
     "execution_count": 83,
     "metadata": {},
     "output_type": "execute_result"
    }
   ],
   "source": [
    "param_test = {'n_estimators': range(20,120,10)}\n",
    "grid_search_gbm1 = GridSearchCV(estimator=clf, \n",
    "                                param_grid = param_test, \n",
    "                                scoring='roc_auc', \n",
    "                                n_jobs=1, cv = 5, \n",
    "                                iid = True)\n",
    "grid_search_gbm1.fit(X_train, y_train)"
   ]
  },
  {
   "cell_type": "code",
   "execution_count": 97,
   "metadata": {},
   "outputs": [
    {
     "data": {
      "text/plain": [
       "{'n_estimators': 110}"
      ]
     },
     "execution_count": 97,
     "metadata": {},
     "output_type": "execute_result"
    }
   ],
   "source": [
    "grid_search_gbm1.best_params_"
   ]
  },
  {
   "cell_type": "markdown",
   "metadata": {},
   "source": [
    "The best tree number is 110"
   ]
  },
  {
   "cell_type": "code",
   "execution_count": 85,
   "metadata": {},
   "outputs": [
    {
     "data": {
      "text/plain": [
       "GridSearchCV(cv=5, error_score='raise',\n",
       "       estimator=GradientBoostingClassifier(criterion='friedman_mse', init=None,\n",
       "              learning_rate=0.1, loss='deviance', max_depth=3,\n",
       "              max_features=None, max_leaf_nodes=None,\n",
       "              min_impurity_decrease=0.0, min_impurity_split=None,\n",
       "              min_samples_leaf=1, min_samples_split=2,\n",
       "              min_weight_fraction_leaf=0.0, n_estimators=110,\n",
       "              presort='auto', random_state=None, subsample=1.0, verbose=0,\n",
       "              warm_start=False),\n",
       "       fit_params=None, iid=True, n_jobs=4,\n",
       "       param_grid={'max_depth': range(5, 16, 2), 'min_samples_split': [5, 10], 'min_samples_leaf': range(30, 71, 10)},\n",
       "       pre_dispatch='2*n_jobs', refit=True, return_train_score='warn',\n",
       "       scoring='roc_auc', verbose=0)"
      ]
     },
     "execution_count": 85,
     "metadata": {},
     "output_type": "execute_result"
    }
   ],
   "source": [
    "param_test2 = {'max_depth': range(5, 16, 2), 'min_samples_split': [5, 10], 'min_samples_leaf':range(30,71,10)}\n",
    "grid_search_gbm2 = GridSearchCV(grid_search_gbm1.best_estimator_, \n",
    "                                param_grid = param_test2, \n",
    "                                scoring='roc_auc', \n",
    "                                n_jobs=4, cv = 5, iid = True)\n",
    "grid_search_gbm2.fit(X_train, y_train)"
   ]
  },
  {
   "cell_type": "code",
   "execution_count": 109,
   "metadata": {},
   "outputs": [
    {
     "data": {
      "text/plain": [
       "{'max_depth': 11, 'min_samples_leaf': 70, 'min_samples_split': 10}"
      ]
     },
     "execution_count": 109,
     "metadata": {},
     "output_type": "execute_result"
    }
   ],
   "source": [
    "grid_search_gbm2.best_params_"
   ]
  },
  {
   "cell_type": "code",
   "execution_count": 99,
   "metadata": {},
   "outputs": [
    {
     "name": "stdout",
     "output_type": "stream",
     "text": [
      "ROC for base model : 0.9064018958428508\n",
      "ROC for best model : 0.9155179305619003\n"
     ]
    }
   ],
   "source": [
    "#print out the AUC value of base model\n",
    "print('ROC for base model : ' + str(evaluate(clf, X_train, y_train, X_test, y_test)))\n",
    "#print out the AUC value of best model with best parameters.\n",
    "print('ROC for best model : ' + str(evaluate(grid_search_gbm2.best_estimator_, X_train, y_train, X_test, y_test)))"
   ]
  },
  {
   "cell_type": "markdown",
   "metadata": {},
   "source": [
    "## GBM for regression problem."
   ]
  },
  {
   "cell_type": "code",
   "execution_count": 87,
   "metadata": {},
   "outputs": [
    {
     "name": "stdout",
     "output_type": "stream",
     "text": [
      "Parameters currently in use:\n",
      "\n",
      "{'bootstrap': True,\n",
      " 'criterion': 'mse',\n",
      " 'max_depth': None,\n",
      " 'max_features': 'auto',\n",
      " 'max_leaf_nodes': None,\n",
      " 'min_impurity_decrease': 0.0,\n",
      " 'min_impurity_split': None,\n",
      " 'min_samples_leaf': 1,\n",
      " 'min_samples_split': 2,\n",
      " 'min_weight_fraction_leaf': 0.0,\n",
      " 'n_estimators': 10,\n",
      " 'n_jobs': 1,\n",
      " 'oob_score': False,\n",
      " 'random_state': 42,\n",
      " 'verbose': 0,\n",
      " 'warm_start': False}\n"
     ]
    }
   ],
   "source": [
    "from sklearn.ensemble import GradientBoostingRegressor\n",
    "gbm_reg = RandomForestRegressor(random_state = 42)\n",
    "from pprint import pprint\n",
    "# Look at parameters used by our current forest\n",
    "print('Parameters currently in use:\\n')\n",
    "pprint(gbm_reg.get_params())"
   ]
  },
  {
   "cell_type": "code",
   "execution_count": 88,
   "metadata": {},
   "outputs": [],
   "source": [
    "X_reg=features[['bedrooms', 'bathrooms', 'sqft_living', 'sqft_lot',\n",
    "       'waterfront', 'sqft_above', 'sqft_basement', 'yr_built', 'yr_renovated',\n",
    "       'lat', 'long', 'sqft_living15', 'sqft_lot15', 'basement_present',\n",
    "       'renovated', 'floors#1.0', 'floors#1.5', 'floors#2.0', 'floors#2.5',\n",
    "       'floors#3.0', 'floors#3.5', 'view#0', 'view#1', 'view#2', 'view#3',\n",
    "       'view#4', 'condition#1', 'condition#2', 'condition#3', 'condition#4',\n",
    "       'condition#5', 'grade#1', 'grade#3', 'grade#4', 'grade#5', 'grade#6',\n",
    "       'grade#7', 'grade#8', 'grade#9', 'grade#10', 'grade#11', 'grade#12',\n",
    "       'grade#13', 'zipcode#98004', 'zipcode#98102', 'zipcode#98109',\n",
    "       'zipcode#98112', 'zipcode#98039', 'zipcode#98040']]  # Features\n",
    "\n",
    "y_reg=features['price']  # Bescause this is a regression problem so the value should be continuous, not in category."
   ]
  },
  {
   "cell_type": "code",
   "execution_count": 89,
   "metadata": {},
   "outputs": [],
   "source": [
    "# Split dataset into training set and test set\n",
    "X_train_reg, X_test_reg, y_train_reg, y_test_reg = train_test_split(X_reg, y_reg, test_size=0.3) # 70% training and 30% test"
   ]
  },
  {
   "cell_type": "markdown",
   "metadata": {},
   "source": [
    "### Random Search Cross Validation in Scikit-Learn"
   ]
  },
  {
   "cell_type": "code",
   "execution_count": 91,
   "metadata": {},
   "outputs": [
    {
     "name": "stdout",
     "output_type": "stream",
     "text": [
      "{'max_depth': [5, 7, 9, 11, 13, 15, None],\n",
      " 'max_features': ['auto', 'sqrt'],\n",
      " 'min_samples_leaf': range(30, 71, 10),\n",
      " 'min_samples_split': [5, 10],\n",
      " 'n_estimators': [10, 31, 52, 73, 94, 115, 136, 157, 178, 200]}\n"
     ]
    }
   ],
   "source": [
    "# Number of decision trees in the model.\n",
    "n_estimators = [int(x) for x in np.linspace(start=10, stop=200, num=10)] #Select  5 numbers from 10 to 200.\n",
    "# Number of features to be considered at every split \n",
    "max_features = ['auto','sqrt'] #[max_features] is the size of the random \n",
    "# Maximum number of levels in tree                          # subsets of features to consider when splitting a node.\n",
    "max_depth = list(range(5, 16, 2))   \n",
    "max_depth.append(None)   # add default condition: the split of the tree will stop until every leaf has a category.\n",
    "# Minimum number of samples required to split a node\n",
    "min_samples_split = [5, 10]\n",
    "# Minimum number of samples required at each leaf node\n",
    "min_samples_leaf = range(30,71,10)\n",
    "# Whether use bootstrap to select features\n",
    "#bootstrap = [True, False]\n",
    "\n",
    "# Create a dictionary to include the hyperparameter and their range.\n",
    "random_grid = {'n_estimators': n_estimators,\n",
    "               'max_features': max_features,\n",
    "               'max_depth' : max_depth,\n",
    "               'min_samples_split' : min_samples_split,\n",
    "               'min_samples_leaf' : min_samples_leaf}\n",
    "\n",
    "# And print the dictionary:\n",
    "pprint(random_grid)"
   ]
  },
  {
   "cell_type": "code",
   "execution_count": 92,
   "metadata": {},
   "outputs": [
    {
     "name": "stdout",
     "output_type": "stream",
     "text": [
      "{'max_depth': [5, 7, 9, 11, 13, 15, None],\n",
      " 'max_features': ['auto', 'sqrt'],\n",
      " 'min_samples_leaf': range(30, 71, 10),\n",
      " 'min_samples_split': [5, 10],\n",
      " 'n_estimators': [10, 31, 52, 73, 94, 115, 136, 157, 178, 200]}\n"
     ]
    }
   ],
   "source": [
    "# The range of the hyperparameters\n",
    "pprint(random_grid)"
   ]
  },
  {
   "cell_type": "code",
   "execution_count": 93,
   "metadata": {},
   "outputs": [
    {
     "name": "stdout",
     "output_type": "stream",
     "text": [
      "Fitting 3 folds for each of 100 candidates, totalling 300 fits\n",
      "[CV] n_estimators=115, min_samples_split=5, min_samples_leaf=60, max_features=auto, max_depth=11 \n",
      "[CV] n_estimators=115, min_samples_split=5, min_samples_leaf=60, max_features=auto, max_depth=11 \n",
      "[CV] n_estimators=115, min_samples_split=5, min_samples_leaf=60, max_features=auto, max_depth=11 \n",
      "[CV] n_estimators=94, min_samples_split=5, min_samples_leaf=40, max_features=auto, max_depth=11 \n",
      "[CV] n_estimators=94, min_samples_split=5, min_samples_leaf=40, max_features=auto, max_depth=11 \n",
      "[CV] n_estimators=94, min_samples_split=5, min_samples_leaf=40, max_features=auto, max_depth=11 \n",
      "[CV] n_estimators=115, min_samples_split=10, min_samples_leaf=30, max_features=sqrt, max_depth=5 \n",
      "[CV] n_estimators=115, min_samples_split=10, min_samples_leaf=30, max_features=sqrt, max_depth=5 \n",
      "[CV]  n_estimators=115, min_samples_split=10, min_samples_leaf=30, max_features=sqrt, max_depth=5, total=   1.1s\n",
      "[CV]  n_estimators=115, min_samples_split=10, min_samples_leaf=30, max_features=sqrt, max_depth=5, total=   1.1s\n",
      "[CV] n_estimators=115, min_samples_split=10, min_samples_leaf=30, max_features=sqrt, max_depth=5 \n",
      "[CV] n_estimators=178, min_samples_split=10, min_samples_leaf=60, max_features=auto, max_depth=9 \n",
      "[CV]  n_estimators=115, min_samples_split=10, min_samples_leaf=30, max_features=sqrt, max_depth=5, total=   1.0s\n",
      "[CV] n_estimators=178, min_samples_split=10, min_samples_leaf=60, max_features=auto, max_depth=9 \n",
      "[CV]  n_estimators=94, min_samples_split=5, min_samples_leaf=40, max_features=auto, max_depth=11, total=   9.7s\n",
      "[CV] n_estimators=178, min_samples_split=10, min_samples_leaf=60, max_features=auto, max_depth=9 \n",
      "[CV]  n_estimators=94, min_samples_split=5, min_samples_leaf=40, max_features=auto, max_depth=11, total=   9.8s\n",
      "[CV] n_estimators=73, min_samples_split=10, min_samples_leaf=40, max_features=auto, max_depth=7 \n",
      "[CV]  n_estimators=94, min_samples_split=5, min_samples_leaf=40, max_features=auto, max_depth=11, total=  10.1s\n",
      "[CV] n_estimators=73, min_samples_split=10, min_samples_leaf=40, max_features=auto, max_depth=7 \n",
      "[CV]  n_estimators=115, min_samples_split=5, min_samples_leaf=60, max_features=auto, max_depth=11, total=  10.3s\n",
      "[CV] n_estimators=73, min_samples_split=10, min_samples_leaf=40, max_features=auto, max_depth=7 \n",
      "[CV]  n_estimators=115, min_samples_split=5, min_samples_leaf=60, max_features=auto, max_depth=11, total=  10.5s\n",
      "[CV] n_estimators=94, min_samples_split=5, min_samples_leaf=40, max_features=sqrt, max_depth=11 \n",
      "[CV]  n_estimators=115, min_samples_split=5, min_samples_leaf=60, max_features=auto, max_depth=11, total=  10.8s\n",
      "[CV] n_estimators=94, min_samples_split=5, min_samples_leaf=40, max_features=sqrt, max_depth=11 \n",
      "[CV]  n_estimators=94, min_samples_split=5, min_samples_leaf=40, max_features=sqrt, max_depth=11, total=   2.3s\n",
      "[CV] n_estimators=94, min_samples_split=5, min_samples_leaf=40, max_features=sqrt, max_depth=11 \n",
      "[CV]  n_estimators=94, min_samples_split=5, min_samples_leaf=40, max_features=sqrt, max_depth=11, total=   2.2s\n",
      "[CV] n_estimators=178, min_samples_split=5, min_samples_leaf=30, max_features=auto, max_depth=7 \n",
      "[CV]  n_estimators=178, min_samples_split=10, min_samples_leaf=60, max_features=auto, max_depth=9, total=  12.3s\n",
      "[CV] n_estimators=178, min_samples_split=5, min_samples_leaf=30, max_features=auto, max_depth=7 \n",
      "[CV]  n_estimators=178, min_samples_split=10, min_samples_leaf=60, max_features=auto, max_depth=9, total=  11.5s\n",
      "[CV] n_estimators=178, min_samples_split=5, min_samples_leaf=30, max_features=auto, max_depth=7 \n",
      "[CV]  n_estimators=73, min_samples_split=10, min_samples_leaf=40, max_features=auto, max_depth=7, total=   4.9s\n",
      "[CV] n_estimators=157, min_samples_split=5, min_samples_leaf=60, max_features=auto, max_depth=13 \n",
      "[CV]  n_estimators=94, min_samples_split=5, min_samples_leaf=40, max_features=sqrt, max_depth=11, total=   2.1s\n",
      "[CV] n_estimators=157, min_samples_split=5, min_samples_leaf=60, max_features=auto, max_depth=13 \n",
      "[CV]  n_estimators=73, min_samples_split=10, min_samples_leaf=40, max_features=auto, max_depth=7, total=   4.8s\n",
      "[CV] n_estimators=157, min_samples_split=5, min_samples_leaf=60, max_features=auto, max_depth=13 \n",
      "[CV]  n_estimators=73, min_samples_split=10, min_samples_leaf=40, max_features=auto, max_depth=7, total=   5.0s\n",
      "[CV] n_estimators=200, min_samples_split=10, min_samples_leaf=40, max_features=sqrt, max_depth=13 \n",
      "[CV]  n_estimators=200, min_samples_split=10, min_samples_leaf=40, max_features=sqrt, max_depth=13, total=   4.3s\n",
      "[CV] n_estimators=200, min_samples_split=10, min_samples_leaf=40, max_features=sqrt, max_depth=13 \n",
      "[CV]  n_estimators=178, min_samples_split=10, min_samples_leaf=60, max_features=auto, max_depth=9, total=  11.7s\n",
      "[CV] n_estimators=200, min_samples_split=10, min_samples_leaf=40, max_features=sqrt, max_depth=13 \n",
      "[CV]  n_estimators=178, min_samples_split=5, min_samples_leaf=30, max_features=auto, max_depth=7, total=   8.6s\n",
      "[CV] n_estimators=200, min_samples_split=10, min_samples_leaf=60, max_features=auto, max_depth=9 \n",
      "[CV]  n_estimators=178, min_samples_split=5, min_samples_leaf=30, max_features=auto, max_depth=7, total=   8.7s\n",
      "[CV] n_estimators=200, min_samples_split=10, min_samples_leaf=60, max_features=auto, max_depth=9 \n",
      "[CV]  n_estimators=178, min_samples_split=5, min_samples_leaf=30, max_features=auto, max_depth=7, total=   8.9s\n",
      "[CV] n_estimators=200, min_samples_split=10, min_samples_leaf=60, max_features=auto, max_depth=9 \n",
      "[CV]  n_estimators=200, min_samples_split=10, min_samples_leaf=40, max_features=sqrt, max_depth=13, total=   4.6s\n",
      "[CV] n_estimators=94, min_samples_split=5, min_samples_leaf=70, max_features=sqrt, max_depth=13 \n",
      "[CV]  n_estimators=200, min_samples_split=10, min_samples_leaf=40, max_features=sqrt, max_depth=13, total=   4.6s\n",
      "[CV] n_estimators=94, min_samples_split=5, min_samples_leaf=70, max_features=sqrt, max_depth=13 \n",
      "[CV]  n_estimators=94, min_samples_split=5, min_samples_leaf=70, max_features=sqrt, max_depth=13, total=   2.1s\n",
      "[CV] n_estimators=94, min_samples_split=5, min_samples_leaf=70, max_features=sqrt, max_depth=13 \n"
     ]
    },
    {
     "name": "stderr",
     "output_type": "stream",
     "text": [
      "[Parallel(n_jobs=-1)]: Done  25 tasks      | elapsed:   26.8s\n"
     ]
    },
    {
     "name": "stdout",
     "output_type": "stream",
     "text": [
      "[CV]  n_estimators=94, min_samples_split=5, min_samples_leaf=70, max_features=sqrt, max_depth=13, total=   2.2s\n",
      "[CV] n_estimators=10, min_samples_split=5, min_samples_leaf=30, max_features=sqrt, max_depth=13 \n",
      "[CV]  n_estimators=94, min_samples_split=5, min_samples_leaf=70, max_features=sqrt, max_depth=13, total=   2.2s\n",
      "[CV] n_estimators=10, min_samples_split=5, min_samples_leaf=30, max_features=sqrt, max_depth=13 \n",
      "[CV]  n_estimators=10, min_samples_split=5, min_samples_leaf=30, max_features=sqrt, max_depth=13, total=   0.5s\n",
      "[CV] n_estimators=10, min_samples_split=5, min_samples_leaf=30, max_features=sqrt, max_depth=13 \n",
      "[CV]  n_estimators=10, min_samples_split=5, min_samples_leaf=30, max_features=sqrt, max_depth=13, total=   0.5s\n",
      "[CV] n_estimators=178, min_samples_split=10, min_samples_leaf=60, max_features=sqrt, max_depth=11 \n",
      "[CV]  n_estimators=10, min_samples_split=5, min_samples_leaf=30, max_features=sqrt, max_depth=13, total=   0.5s\n",
      "[CV] n_estimators=178, min_samples_split=10, min_samples_leaf=60, max_features=sqrt, max_depth=11 \n",
      "[CV]  n_estimators=157, min_samples_split=5, min_samples_leaf=60, max_features=auto, max_depth=13, total=  14.4s\n",
      "[CV] n_estimators=178, min_samples_split=10, min_samples_leaf=60, max_features=sqrt, max_depth=11 \n",
      "[CV]  n_estimators=157, min_samples_split=5, min_samples_leaf=60, max_features=auto, max_depth=13, total=  15.0s\n",
      "[CV] n_estimators=136, min_samples_split=5, min_samples_leaf=30, max_features=sqrt, max_depth=11 \n",
      "[CV]  n_estimators=157, min_samples_split=5, min_samples_leaf=60, max_features=auto, max_depth=13, total=  15.0s\n",
      "[CV] n_estimators=136, min_samples_split=5, min_samples_leaf=30, max_features=sqrt, max_depth=11 \n",
      "[CV]  n_estimators=178, min_samples_split=10, min_samples_leaf=60, max_features=sqrt, max_depth=11, total=   3.4s\n",
      "[CV]  n_estimators=178, min_samples_split=10, min_samples_leaf=60, max_features=sqrt, max_depth=11, total=   3.3s\n",
      "[CV] n_estimators=136, min_samples_split=5, min_samples_leaf=30, max_features=sqrt, max_depth=11 \n",
      "[CV]  n_estimators=178, min_samples_split=10, min_samples_leaf=60, max_features=sqrt, max_depth=11, total=   3.3s\n",
      "[CV] n_estimators=10, min_samples_split=5, min_samples_leaf=70, max_features=sqrt, max_depth=7 \n",
      "[CV] n_estimators=10, min_samples_split=5, min_samples_leaf=70, max_features=sqrt, max_depth=7 \n",
      "[CV]  n_estimators=136, min_samples_split=5, min_samples_leaf=30, max_features=sqrt, max_depth=11, total=   3.1s\n",
      "[CV] n_estimators=10, min_samples_split=5, min_samples_leaf=70, max_features=sqrt, max_depth=7 \n",
      "[CV]  n_estimators=10, min_samples_split=5, min_samples_leaf=70, max_features=sqrt, max_depth=7, total=   0.2s\n",
      "[CV]  n_estimators=10, min_samples_split=5, min_samples_leaf=70, max_features=sqrt, max_depth=7, total=   0.2s\n",
      "[CV] n_estimators=157, min_samples_split=5, min_samples_leaf=60, max_features=sqrt, max_depth=7 \n",
      "[CV] n_estimators=157, min_samples_split=5, min_samples_leaf=60, max_features=sqrt, max_depth=7 \n",
      "[CV]  n_estimators=10, min_samples_split=5, min_samples_leaf=70, max_features=sqrt, max_depth=7, total=   0.2s\n",
      "[CV]  n_estimators=136, min_samples_split=5, min_samples_leaf=30, max_features=sqrt, max_depth=11, total=   3.0s\n",
      "[CV] n_estimators=157, min_samples_split=5, min_samples_leaf=60, max_features=sqrt, max_depth=7 \n",
      "[CV] n_estimators=52, min_samples_split=10, min_samples_leaf=40, max_features=sqrt, max_depth=9 \n",
      "[CV]  n_estimators=52, min_samples_split=10, min_samples_leaf=40, max_features=sqrt, max_depth=9, total=   1.1s\n",
      "[CV] n_estimators=52, min_samples_split=10, min_samples_leaf=40, max_features=sqrt, max_depth=9 \n",
      "[CV]  n_estimators=200, min_samples_split=10, min_samples_leaf=60, max_features=auto, max_depth=9, total=  12.4s\n",
      "[CV] n_estimators=52, min_samples_split=10, min_samples_leaf=40, max_features=sqrt, max_depth=9 \n",
      "[CV]  n_estimators=157, min_samples_split=5, min_samples_leaf=60, max_features=sqrt, max_depth=7, total=   1.9s\n",
      "[CV]  n_estimators=200, min_samples_split=10, min_samples_leaf=60, max_features=auto, max_depth=9, total=  13.5s\n",
      "[CV] n_estimators=136, min_samples_split=5, min_samples_leaf=40, max_features=auto, max_depth=11 \n",
      "[CV] n_estimators=136, min_samples_split=5, min_samples_leaf=40, max_features=auto, max_depth=11 \n",
      "[CV]  n_estimators=157, min_samples_split=5, min_samples_leaf=60, max_features=sqrt, max_depth=7, total=   2.1s\n",
      "[CV] n_estimators=136, min_samples_split=5, min_samples_leaf=40, max_features=auto, max_depth=11 \n",
      "[CV]  n_estimators=157, min_samples_split=5, min_samples_leaf=60, max_features=sqrt, max_depth=7, total=   2.0s\n",
      "[CV] n_estimators=94, min_samples_split=10, min_samples_leaf=50, max_features=auto, max_depth=7 \n",
      "[CV]  n_estimators=52, min_samples_split=10, min_samples_leaf=40, max_features=sqrt, max_depth=9, total=   1.2s\n",
      "[CV] n_estimators=94, min_samples_split=10, min_samples_leaf=50, max_features=auto, max_depth=7 \n",
      "[CV]  n_estimators=200, min_samples_split=10, min_samples_leaf=60, max_features=auto, max_depth=9, total=  13.0s\n",
      "[CV] n_estimators=94, min_samples_split=10, min_samples_leaf=50, max_features=auto, max_depth=7 \n",
      "[CV]  n_estimators=52, min_samples_split=10, min_samples_leaf=40, max_features=sqrt, max_depth=9, total=   1.3s\n",
      "[CV] n_estimators=178, min_samples_split=10, min_samples_leaf=60, max_features=auto, max_depth=5 \n",
      "[CV]  n_estimators=136, min_samples_split=5, min_samples_leaf=30, max_features=sqrt, max_depth=11, total=   3.5s\n",
      "[CV] n_estimators=178, min_samples_split=10, min_samples_leaf=60, max_features=auto, max_depth=5 \n",
      "[CV]  n_estimators=94, min_samples_split=10, min_samples_leaf=50, max_features=auto, max_depth=7, total=   5.5s\n",
      "[CV] n_estimators=178, min_samples_split=10, min_samples_leaf=60, max_features=auto, max_depth=5 \n",
      "[CV]  n_estimators=94, min_samples_split=10, min_samples_leaf=50, max_features=auto, max_depth=7, total=   5.3s\n",
      "[CV] n_estimators=200, min_samples_split=5, min_samples_leaf=40, max_features=auto, max_depth=5 \n",
      "[CV]  n_estimators=94, min_samples_split=10, min_samples_leaf=50, max_features=auto, max_depth=7, total=   5.4s\n",
      "[CV] n_estimators=200, min_samples_split=5, min_samples_leaf=40, max_features=auto, max_depth=5 \n",
      "[CV]  n_estimators=178, min_samples_split=10, min_samples_leaf=60, max_features=auto, max_depth=5, total=   5.5s\n",
      "[CV] n_estimators=200, min_samples_split=5, min_samples_leaf=40, max_features=auto, max_depth=5 \n",
      "[CV]  n_estimators=178, min_samples_split=10, min_samples_leaf=60, max_features=auto, max_depth=5, total=   6.4s\n",
      "[CV] n_estimators=10, min_samples_split=5, min_samples_leaf=40, max_features=auto, max_depth=7 \n",
      "[CV]  n_estimators=10, min_samples_split=5, min_samples_leaf=40, max_features=auto, max_depth=7, total=   1.1s\n",
      "[CV] n_estimators=10, min_samples_split=5, min_samples_leaf=40, max_features=auto, max_depth=7 \n",
      "[CV]  n_estimators=10, min_samples_split=5, min_samples_leaf=40, max_features=auto, max_depth=7, total=   1.1s\n",
      "[CV] n_estimators=10, min_samples_split=5, min_samples_leaf=40, max_features=auto, max_depth=7 \n",
      "[CV]  n_estimators=10, min_samples_split=5, min_samples_leaf=40, max_features=auto, max_depth=7, total=   1.2s\n",
      "[CV] n_estimators=200, min_samples_split=10, min_samples_leaf=40, max_features=auto, max_depth=7 \n",
      "[CV]  n_estimators=178, min_samples_split=10, min_samples_leaf=60, max_features=auto, max_depth=5, total=   5.9s\n",
      "[CV] n_estimators=200, min_samples_split=10, min_samples_leaf=40, max_features=auto, max_depth=7 \n",
      "[CV]  n_estimators=200, min_samples_split=5, min_samples_leaf=40, max_features=auto, max_depth=5, total=   6.6s\n",
      "[CV] n_estimators=200, min_samples_split=10, min_samples_leaf=40, max_features=auto, max_depth=7 \n",
      "[CV]  n_estimators=136, min_samples_split=5, min_samples_leaf=40, max_features=auto, max_depth=11, total=  12.7s\n",
      "[CV] n_estimators=10, min_samples_split=5, min_samples_leaf=70, max_features=auto, max_depth=11 \n",
      "[CV]  n_estimators=136, min_samples_split=5, min_samples_leaf=40, max_features=auto, max_depth=11, total=  12.7s\n",
      "[CV]  n_estimators=136, min_samples_split=5, min_samples_leaf=40, max_features=auto, max_depth=11, total=  12.8s\n",
      "[CV] n_estimators=10, min_samples_split=5, min_samples_leaf=70, max_features=auto, max_depth=11 \n",
      "[CV] n_estimators=10, min_samples_split=5, min_samples_leaf=70, max_features=auto, max_depth=11 \n",
      "[CV]  n_estimators=200, min_samples_split=5, min_samples_leaf=40, max_features=auto, max_depth=5, total=   7.0s\n"
     ]
    },
    {
     "name": "stdout",
     "output_type": "stream",
     "text": [
      "[CV] n_estimators=200, min_samples_split=5, min_samples_leaf=50, max_features=auto, max_depth=5 \n",
      "[CV]  n_estimators=200, min_samples_split=5, min_samples_leaf=40, max_features=auto, max_depth=5, total=   6.6s\n",
      "[CV] n_estimators=200, min_samples_split=5, min_samples_leaf=50, max_features=auto, max_depth=5 \n",
      "[CV]  n_estimators=10, min_samples_split=5, min_samples_leaf=70, max_features=auto, max_depth=11, total=   1.6s\n",
      "[CV]  n_estimators=10, min_samples_split=5, min_samples_leaf=70, max_features=auto, max_depth=11, total=   1.7s\n",
      "[CV] n_estimators=200, min_samples_split=5, min_samples_leaf=50, max_features=auto, max_depth=5 \n",
      "[CV]  n_estimators=10, min_samples_split=5, min_samples_leaf=70, max_features=auto, max_depth=11, total=   1.6s\n",
      "[CV] n_estimators=31, min_samples_split=10, min_samples_leaf=50, max_features=auto, max_depth=5 \n",
      "[CV] n_estimators=31, min_samples_split=10, min_samples_leaf=50, max_features=auto, max_depth=5 \n",
      "[CV]  n_estimators=31, min_samples_split=10, min_samples_leaf=50, max_features=auto, max_depth=5, total=   1.5s\n",
      "[CV]  n_estimators=31, min_samples_split=10, min_samples_leaf=50, max_features=auto, max_depth=5, total=   1.5s\n",
      "[CV] n_estimators=31, min_samples_split=10, min_samples_leaf=50, max_features=auto, max_depth=5 \n",
      "[CV] n_estimators=94, min_samples_split=5, min_samples_leaf=50, max_features=auto, max_depth=5 \n",
      "[CV]  n_estimators=31, min_samples_split=10, min_samples_leaf=50, max_features=auto, max_depth=5, total=   1.5s\n",
      "[CV] n_estimators=94, min_samples_split=5, min_samples_leaf=50, max_features=auto, max_depth=5 \n",
      "[CV]  n_estimators=200, min_samples_split=5, min_samples_leaf=50, max_features=auto, max_depth=5, total=   6.2s\n",
      "[CV] n_estimators=94, min_samples_split=5, min_samples_leaf=50, max_features=auto, max_depth=5 \n",
      "[CV]  n_estimators=94, min_samples_split=5, min_samples_leaf=50, max_features=auto, max_depth=5, total=   3.8s\n",
      "[CV] n_estimators=31, min_samples_split=5, min_samples_leaf=50, max_features=auto, max_depth=15 \n",
      "[CV]  n_estimators=200, min_samples_split=5, min_samples_leaf=50, max_features=auto, max_depth=5, total=   7.4s\n",
      "[CV] n_estimators=31, min_samples_split=5, min_samples_leaf=50, max_features=auto, max_depth=15 \n",
      "[CV]  n_estimators=200, min_samples_split=5, min_samples_leaf=50, max_features=auto, max_depth=5, total=   6.4s\n",
      "[CV] n_estimators=31, min_samples_split=5, min_samples_leaf=50, max_features=auto, max_depth=15 \n",
      "[CV]  n_estimators=94, min_samples_split=5, min_samples_leaf=50, max_features=auto, max_depth=5, total=   3.5s\n",
      "[CV] n_estimators=157, min_samples_split=5, min_samples_leaf=70, max_features=auto, max_depth=15 \n",
      "[CV]  n_estimators=200, min_samples_split=10, min_samples_leaf=40, max_features=auto, max_depth=7, total=  10.2s\n",
      "[CV] n_estimators=157, min_samples_split=5, min_samples_leaf=70, max_features=auto, max_depth=15 \n",
      "[CV]  n_estimators=200, min_samples_split=10, min_samples_leaf=40, max_features=auto, max_depth=7, total=   9.7s\n",
      "[CV] n_estimators=157, min_samples_split=5, min_samples_leaf=70, max_features=auto, max_depth=15 \n",
      "[CV]  n_estimators=200, min_samples_split=10, min_samples_leaf=40, max_features=auto, max_depth=7, total=   9.8s\n",
      "[CV] n_estimators=178, min_samples_split=5, min_samples_leaf=40, max_features=auto, max_depth=9 \n",
      "[CV]  n_estimators=94, min_samples_split=5, min_samples_leaf=50, max_features=auto, max_depth=5, total=   3.7s\n",
      "[CV] n_estimators=178, min_samples_split=5, min_samples_leaf=40, max_features=auto, max_depth=9 \n",
      "[CV]  n_estimators=31, min_samples_split=5, min_samples_leaf=50, max_features=auto, max_depth=15, total=   6.0s\n",
      "[CV] n_estimators=178, min_samples_split=5, min_samples_leaf=40, max_features=auto, max_depth=9 \n",
      "[CV]  n_estimators=31, min_samples_split=5, min_samples_leaf=50, max_features=auto, max_depth=15, total=   5.9s\n",
      "[CV] n_estimators=115, min_samples_split=5, min_samples_leaf=30, max_features=sqrt, max_depth=11 \n",
      "[CV]  n_estimators=31, min_samples_split=5, min_samples_leaf=50, max_features=auto, max_depth=15, total=   6.0s\n",
      "[CV] n_estimators=115, min_samples_split=5, min_samples_leaf=30, max_features=sqrt, max_depth=11 \n",
      "[CV]  n_estimators=115, min_samples_split=5, min_samples_leaf=30, max_features=sqrt, max_depth=11, total=   2.8s\n",
      "[CV] n_estimators=115, min_samples_split=5, min_samples_leaf=30, max_features=sqrt, max_depth=11 \n",
      "[CV]  n_estimators=115, min_samples_split=5, min_samples_leaf=30, max_features=sqrt, max_depth=11, total=   2.7s\n",
      "[CV] n_estimators=136, min_samples_split=5, min_samples_leaf=40, max_features=sqrt, max_depth=9 \n",
      "[CV]  n_estimators=115, min_samples_split=5, min_samples_leaf=30, max_features=sqrt, max_depth=11, total=   2.7s\n",
      "[CV]  n_estimators=136, min_samples_split=5, min_samples_leaf=40, max_features=sqrt, max_depth=9, total=   2.3s\n",
      "[CV] n_estimators=136, min_samples_split=5, min_samples_leaf=40, max_features=sqrt, max_depth=9 \n",
      "[CV] n_estimators=136, min_samples_split=5, min_samples_leaf=40, max_features=sqrt, max_depth=9 \n",
      "[CV]  n_estimators=136, min_samples_split=5, min_samples_leaf=40, max_features=sqrt, max_depth=9, total=   2.2s\n",
      "[CV] n_estimators=157, min_samples_split=10, min_samples_leaf=50, max_features=auto, max_depth=13 \n",
      "[CV]  n_estimators=136, min_samples_split=5, min_samples_leaf=40, max_features=sqrt, max_depth=9, total=   2.3s\n",
      "[CV] n_estimators=157, min_samples_split=10, min_samples_leaf=50, max_features=auto, max_depth=13 \n",
      "[CV]  n_estimators=178, min_samples_split=5, min_samples_leaf=40, max_features=auto, max_depth=9, total=  12.4s\n",
      "[CV] n_estimators=157, min_samples_split=10, min_samples_leaf=50, max_features=auto, max_depth=13 \n",
      "[CV]  n_estimators=178, min_samples_split=5, min_samples_leaf=40, max_features=auto, max_depth=9, total=  11.9s\n",
      "[CV] n_estimators=52, min_samples_split=10, min_samples_leaf=60, max_features=sqrt, max_depth=11 \n",
      "[CV]  n_estimators=52, min_samples_split=10, min_samples_leaf=60, max_features=sqrt, max_depth=11, total=   1.2s\n",
      "[CV] n_estimators=52, min_samples_split=10, min_samples_leaf=60, max_features=sqrt, max_depth=11 \n",
      "[CV]  n_estimators=52, min_samples_split=10, min_samples_leaf=60, max_features=sqrt, max_depth=11, total=   1.2s\n",
      "[CV] n_estimators=52, min_samples_split=10, min_samples_leaf=60, max_features=sqrt, max_depth=11 \n",
      "[CV]  n_estimators=157, min_samples_split=5, min_samples_leaf=70, max_features=auto, max_depth=15, total=  17.0s\n",
      "[CV] n_estimators=31, min_samples_split=5, min_samples_leaf=30, max_features=sqrt, max_depth=5 \n",
      "[CV]  n_estimators=157, min_samples_split=5, min_samples_leaf=70, max_features=auto, max_depth=15, total=  17.1s\n",
      "[CV] n_estimators=31, min_samples_split=5, min_samples_leaf=30, max_features=sqrt, max_depth=5 \n",
      "[CV]  n_estimators=157, min_samples_split=5, min_samples_leaf=70, max_features=auto, max_depth=15, total=  16.9s\n",
      "[CV] n_estimators=31, min_samples_split=5, min_samples_leaf=30, max_features=sqrt, max_depth=5 \n",
      "[CV]  n_estimators=31, min_samples_split=5, min_samples_leaf=30, max_features=sqrt, max_depth=5, total=   0.4s\n",
      "[CV] n_estimators=52, min_samples_split=5, min_samples_leaf=40, max_features=auto, max_depth=9 \n",
      "[CV]  n_estimators=31, min_samples_split=5, min_samples_leaf=30, max_features=sqrt, max_depth=5, total=   0.4s\n",
      "[CV] n_estimators=52, min_samples_split=5, min_samples_leaf=40, max_features=auto, max_depth=9 \n",
      "[CV]  n_estimators=31, min_samples_split=5, min_samples_leaf=30, max_features=sqrt, max_depth=5, total=   0.4s\n",
      "[CV]  n_estimators=178, min_samples_split=5, min_samples_leaf=40, max_features=auto, max_depth=9, total=  12.7s\n",
      "[CV] n_estimators=52, min_samples_split=5, min_samples_leaf=40, max_features=auto, max_depth=9 \n",
      "[CV] n_estimators=94, min_samples_split=5, min_samples_leaf=50, max_features=auto, max_depth=7 \n",
      "[CV]  n_estimators=52, min_samples_split=10, min_samples_leaf=60, max_features=sqrt, max_depth=11, total=   1.4s\n",
      "[CV] n_estimators=94, min_samples_split=5, min_samples_leaf=50, max_features=auto, max_depth=7 \n",
      "[CV]  n_estimators=52, min_samples_split=5, min_samples_leaf=40, max_features=auto, max_depth=9, total=   5.5s\n",
      "[CV] n_estimators=94, min_samples_split=5, min_samples_leaf=50, max_features=auto, max_depth=7 \n",
      "[CV]  n_estimators=52, min_samples_split=5, min_samples_leaf=40, max_features=auto, max_depth=9, total=   5.4s\n",
      "[CV] n_estimators=157, min_samples_split=5, min_samples_leaf=30, max_features=sqrt, max_depth=11 \n"
     ]
    },
    {
     "name": "stdout",
     "output_type": "stream",
     "text": [
      "[CV]  n_estimators=94, min_samples_split=5, min_samples_leaf=50, max_features=auto, max_depth=7, total=   5.4s\n",
      "[CV] n_estimators=157, min_samples_split=5, min_samples_leaf=30, max_features=sqrt, max_depth=11 \n",
      "[CV]  n_estimators=52, min_samples_split=5, min_samples_leaf=40, max_features=auto, max_depth=9, total=   5.7s\n",
      "[CV] n_estimators=157, min_samples_split=5, min_samples_leaf=30, max_features=sqrt, max_depth=11 \n",
      "[CV]  n_estimators=94, min_samples_split=5, min_samples_leaf=50, max_features=auto, max_depth=7, total=   5.4s\n",
      "[CV] n_estimators=115, min_samples_split=10, min_samples_leaf=70, max_features=sqrt, max_depth=None \n",
      "[CV]  n_estimators=157, min_samples_split=5, min_samples_leaf=30, max_features=sqrt, max_depth=11, total=   3.4s\n",
      "[CV] n_estimators=115, min_samples_split=10, min_samples_leaf=70, max_features=sqrt, max_depth=None \n",
      "[CV]  n_estimators=157, min_samples_split=5, min_samples_leaf=30, max_features=sqrt, max_depth=11, total=   3.5s\n",
      "[CV] n_estimators=115, min_samples_split=10, min_samples_leaf=70, max_features=sqrt, max_depth=None \n",
      "[CV]  n_estimators=157, min_samples_split=5, min_samples_leaf=30, max_features=sqrt, max_depth=11, total=   3.5s\n",
      "[CV] n_estimators=200, min_samples_split=5, min_samples_leaf=30, max_features=auto, max_depth=15 \n",
      "[CV]  n_estimators=115, min_samples_split=10, min_samples_leaf=70, max_features=sqrt, max_depth=None, total=   3.5s\n",
      "[CV] n_estimators=200, min_samples_split=5, min_samples_leaf=30, max_features=auto, max_depth=15 \n",
      "[CV]  n_estimators=94, min_samples_split=5, min_samples_leaf=50, max_features=auto, max_depth=7, total=   5.5s\n",
      "[CV] n_estimators=200, min_samples_split=5, min_samples_leaf=30, max_features=auto, max_depth=15 \n",
      "[CV]  n_estimators=157, min_samples_split=10, min_samples_leaf=50, max_features=auto, max_depth=13, total=  15.5s\n",
      "[CV] n_estimators=157, min_samples_split=5, min_samples_leaf=60, max_features=auto, max_depth=5 \n",
      "[CV]  n_estimators=157, min_samples_split=10, min_samples_leaf=50, max_features=auto, max_depth=13, total=  15.8s\n",
      "[CV] n_estimators=157, min_samples_split=5, min_samples_leaf=60, max_features=auto, max_depth=5 \n",
      "[CV]  n_estimators=157, min_samples_split=10, min_samples_leaf=50, max_features=auto, max_depth=13, total=  16.2s\n",
      "[CV] n_estimators=157, min_samples_split=5, min_samples_leaf=60, max_features=auto, max_depth=5 \n",
      "[CV]  n_estimators=115, min_samples_split=10, min_samples_leaf=70, max_features=sqrt, max_depth=None, total=   3.5s\n",
      "[CV]  n_estimators=115, min_samples_split=10, min_samples_leaf=70, max_features=sqrt, max_depth=None, total=   3.6s\n",
      "[CV] n_estimators=94, min_samples_split=10, min_samples_leaf=70, max_features=auto, max_depth=15 \n",
      "[CV] n_estimators=94, min_samples_split=10, min_samples_leaf=70, max_features=auto, max_depth=15 \n",
      "[CV]  n_estimators=157, min_samples_split=5, min_samples_leaf=60, max_features=auto, max_depth=5, total=   5.0s\n",
      "[CV] n_estimators=94, min_samples_split=10, min_samples_leaf=70, max_features=auto, max_depth=15 \n",
      "[CV]  n_estimators=157, min_samples_split=5, min_samples_leaf=60, max_features=auto, max_depth=5, total=   5.6s\n",
      "[CV] n_estimators=94, min_samples_split=10, min_samples_leaf=30, max_features=sqrt, max_depth=9 \n",
      "[CV]  n_estimators=157, min_samples_split=5, min_samples_leaf=60, max_features=auto, max_depth=5, total=   5.2s\n",
      "[CV] n_estimators=94, min_samples_split=10, min_samples_leaf=30, max_features=sqrt, max_depth=9 \n",
      "[CV]  n_estimators=94, min_samples_split=10, min_samples_leaf=30, max_features=sqrt, max_depth=9, total=   1.8s\n",
      "[CV] n_estimators=94, min_samples_split=10, min_samples_leaf=30, max_features=sqrt, max_depth=9 \n",
      "[CV]  n_estimators=94, min_samples_split=10, min_samples_leaf=30, max_features=sqrt, max_depth=9, total=   1.8s\n",
      "[CV] n_estimators=52, min_samples_split=5, min_samples_leaf=60, max_features=auto, max_depth=13 \n",
      "[CV]  n_estimators=94, min_samples_split=10, min_samples_leaf=30, max_features=sqrt, max_depth=9, total=   1.8s\n",
      "[CV] n_estimators=52, min_samples_split=5, min_samples_leaf=60, max_features=auto, max_depth=13 \n",
      "[CV]  n_estimators=94, min_samples_split=10, min_samples_leaf=70, max_features=auto, max_depth=15, total=  11.1s\n",
      "[CV] n_estimators=52, min_samples_split=5, min_samples_leaf=60, max_features=auto, max_depth=13 \n",
      "[CV]  n_estimators=94, min_samples_split=10, min_samples_leaf=70, max_features=auto, max_depth=15, total=  11.3s\n",
      "[CV] n_estimators=94, min_samples_split=10, min_samples_leaf=50, max_features=sqrt, max_depth=7 \n",
      "[CV]  n_estimators=94, min_samples_split=10, min_samples_leaf=50, max_features=sqrt, max_depth=7, total=   1.2s\n",
      "[CV] n_estimators=94, min_samples_split=10, min_samples_leaf=50, max_features=sqrt, max_depth=7 \n",
      "[CV]  n_estimators=94, min_samples_split=10, min_samples_leaf=50, max_features=sqrt, max_depth=7, total=   1.2s\n",
      "[CV]  n_estimators=52, min_samples_split=5, min_samples_leaf=60, max_features=auto, max_depth=13, total=   7.1s\n",
      "[CV] n_estimators=94, min_samples_split=10, min_samples_leaf=50, max_features=sqrt, max_depth=7 \n",
      "[CV] n_estimators=178, min_samples_split=10, min_samples_leaf=50, max_features=sqrt, max_depth=13 \n",
      "[CV]  n_estimators=52, min_samples_split=5, min_samples_leaf=60, max_features=auto, max_depth=13, total=   7.0s\n",
      "[CV]  n_estimators=94, min_samples_split=10, min_samples_leaf=70, max_features=auto, max_depth=15, total=  11.2s\n",
      "[CV] n_estimators=178, min_samples_split=10, min_samples_leaf=50, max_features=sqrt, max_depth=13 \n",
      "[CV] n_estimators=178, min_samples_split=10, min_samples_leaf=50, max_features=sqrt, max_depth=13 \n",
      "[CV]  n_estimators=94, min_samples_split=10, min_samples_leaf=50, max_features=sqrt, max_depth=7, total=   1.2s\n",
      "[CV] n_estimators=178, min_samples_split=5, min_samples_leaf=50, max_features=auto, max_depth=15 \n",
      "[CV]  n_estimators=178, min_samples_split=10, min_samples_leaf=50, max_features=sqrt, max_depth=13, total=   4.2s\n",
      "[CV] n_estimators=178, min_samples_split=5, min_samples_leaf=50, max_features=auto, max_depth=15 \n",
      "[CV]  n_estimators=52, min_samples_split=5, min_samples_leaf=60, max_features=auto, max_depth=13, total=   7.1s\n",
      "[CV] n_estimators=178, min_samples_split=5, min_samples_leaf=50, max_features=auto, max_depth=15 \n",
      "[CV]  n_estimators=178, min_samples_split=10, min_samples_leaf=50, max_features=sqrt, max_depth=13, total=   4.1s\n",
      "[CV] n_estimators=31, min_samples_split=10, min_samples_leaf=30, max_features=auto, max_depth=13 \n",
      "[CV]  n_estimators=178, min_samples_split=10, min_samples_leaf=50, max_features=sqrt, max_depth=13, total=   4.1s\n",
      "[CV] n_estimators=31, min_samples_split=10, min_samples_leaf=30, max_features=auto, max_depth=13 \n",
      "[CV]  n_estimators=200, min_samples_split=5, min_samples_leaf=30, max_features=auto, max_depth=15, total=  23.8s\n",
      "[CV] n_estimators=31, min_samples_split=10, min_samples_leaf=30, max_features=auto, max_depth=13 \n",
      "[CV]  n_estimators=200, min_samples_split=5, min_samples_leaf=30, max_features=auto, max_depth=15, total=  23.7s\n",
      "[CV] n_estimators=136, min_samples_split=10, min_samples_leaf=60, max_features=auto, max_depth=5 \n",
      "[CV]  n_estimators=200, min_samples_split=5, min_samples_leaf=30, max_features=auto, max_depth=15, total=  23.8s\n",
      "[CV] n_estimators=136, min_samples_split=10, min_samples_leaf=60, max_features=auto, max_depth=5 \n",
      "[CV]  n_estimators=136, min_samples_split=10, min_samples_leaf=60, max_features=auto, max_depth=5, total=   5.0s\n",
      "[CV] n_estimators=136, min_samples_split=10, min_samples_leaf=60, max_features=auto, max_depth=5 \n",
      "[CV]  n_estimators=31, min_samples_split=10, min_samples_leaf=30, max_features=auto, max_depth=13, total=   7.2s\n",
      "[CV] n_estimators=136, min_samples_split=10, min_samples_leaf=50, max_features=sqrt, max_depth=11 \n",
      "[CV]  n_estimators=136, min_samples_split=10, min_samples_leaf=60, max_features=auto, max_depth=5, total=   4.4s\n",
      "[CV] n_estimators=136, min_samples_split=10, min_samples_leaf=50, max_features=sqrt, max_depth=11 \n",
      "[CV]  n_estimators=31, min_samples_split=10, min_samples_leaf=30, max_features=auto, max_depth=13, total=   7.3s\n",
      "[CV] n_estimators=136, min_samples_split=10, min_samples_leaf=50, max_features=sqrt, max_depth=11 \n",
      "[CV]  n_estimators=31, min_samples_split=10, min_samples_leaf=30, max_features=auto, max_depth=13, total=   7.1s\n",
      "[CV] n_estimators=52, min_samples_split=10, min_samples_leaf=70, max_features=sqrt, max_depth=11 \n"
     ]
    },
    {
     "name": "stdout",
     "output_type": "stream",
     "text": [
      "[CV]  n_estimators=52, min_samples_split=10, min_samples_leaf=70, max_features=sqrt, max_depth=11, total=   1.1s\n",
      "[CV] n_estimators=52, min_samples_split=10, min_samples_leaf=70, max_features=sqrt, max_depth=11 \n",
      "[CV]  n_estimators=136, min_samples_split=10, min_samples_leaf=50, max_features=sqrt, max_depth=11, total=   2.9s\n",
      "[CV]  n_estimators=136, min_samples_split=10, min_samples_leaf=50, max_features=sqrt, max_depth=11, total=   2.7s\n",
      "[CV] n_estimators=52, min_samples_split=10, min_samples_leaf=70, max_features=sqrt, max_depth=11 \n",
      "[CV]  n_estimators=136, min_samples_split=10, min_samples_leaf=50, max_features=sqrt, max_depth=11, total=   2.8s\n",
      "[CV] n_estimators=10, min_samples_split=10, min_samples_leaf=60, max_features=auto, max_depth=5 \n",
      "[CV] n_estimators=10, min_samples_split=10, min_samples_leaf=60, max_features=auto, max_depth=5 \n"
     ]
    },
    {
     "name": "stderr",
     "output_type": "stream",
     "text": [
      "[Parallel(n_jobs=-1)]: Done 146 tasks      | elapsed:  2.0min\n"
     ]
    },
    {
     "name": "stdout",
     "output_type": "stream",
     "text": [
      "[CV]  n_estimators=52, min_samples_split=10, min_samples_leaf=70, max_features=sqrt, max_depth=11, total=   1.2s\n",
      "[CV] n_estimators=10, min_samples_split=10, min_samples_leaf=60, max_features=auto, max_depth=5 \n",
      "[CV]  n_estimators=10, min_samples_split=10, min_samples_leaf=60, max_features=auto, max_depth=5, total=   0.6s\n",
      "[CV] n_estimators=200, min_samples_split=10, min_samples_leaf=60, max_features=sqrt, max_depth=9 \n",
      "[CV]  n_estimators=10, min_samples_split=10, min_samples_leaf=60, max_features=auto, max_depth=5, total=   0.7s\n",
      "[CV] n_estimators=200, min_samples_split=10, min_samples_leaf=60, max_features=sqrt, max_depth=9 \n",
      "[CV]  n_estimators=136, min_samples_split=10, min_samples_leaf=60, max_features=auto, max_depth=5, total=   4.7s\n",
      "[CV] n_estimators=200, min_samples_split=10, min_samples_leaf=60, max_features=sqrt, max_depth=9 \n",
      "[CV]  n_estimators=52, min_samples_split=10, min_samples_leaf=70, max_features=sqrt, max_depth=11, total=   1.3s\n",
      "[CV]  n_estimators=10, min_samples_split=10, min_samples_leaf=60, max_features=auto, max_depth=5, total=   0.7s\n",
      "[CV] n_estimators=94, min_samples_split=5, min_samples_leaf=50, max_features=sqrt, max_depth=15 \n",
      "[CV] n_estimators=94, min_samples_split=5, min_samples_leaf=50, max_features=sqrt, max_depth=15 \n",
      "[CV]  n_estimators=200, min_samples_split=10, min_samples_leaf=60, max_features=sqrt, max_depth=9, total=   3.0s\n",
      "[CV] n_estimators=94, min_samples_split=5, min_samples_leaf=50, max_features=sqrt, max_depth=15 \n",
      "[CV]  n_estimators=200, min_samples_split=10, min_samples_leaf=60, max_features=sqrt, max_depth=9, total=   3.1s\n",
      "[CV] n_estimators=136, min_samples_split=10, min_samples_leaf=30, max_features=sqrt, max_depth=15 \n",
      "[CV]  n_estimators=94, min_samples_split=5, min_samples_leaf=50, max_features=sqrt, max_depth=15, total=   2.7s\n",
      "[CV] n_estimators=136, min_samples_split=10, min_samples_leaf=30, max_features=sqrt, max_depth=15 \n",
      "[CV]  n_estimators=200, min_samples_split=10, min_samples_leaf=60, max_features=sqrt, max_depth=9, total=   3.0s\n",
      "[CV] n_estimators=136, min_samples_split=10, min_samples_leaf=30, max_features=sqrt, max_depth=15 \n",
      "[CV]  n_estimators=94, min_samples_split=5, min_samples_leaf=50, max_features=sqrt, max_depth=15, total=   2.7s\n",
      "[CV] n_estimators=115, min_samples_split=10, min_samples_leaf=60, max_features=sqrt, max_depth=9 \n",
      "[CV]  n_estimators=178, min_samples_split=5, min_samples_leaf=50, max_features=auto, max_depth=15, total=  19.7s\n",
      "[CV] n_estimators=115, min_samples_split=10, min_samples_leaf=60, max_features=sqrt, max_depth=9 \n",
      "[CV]  n_estimators=115, min_samples_split=10, min_samples_leaf=60, max_features=sqrt, max_depth=9, total=   1.9s\n",
      "[CV] n_estimators=115, min_samples_split=10, min_samples_leaf=60, max_features=sqrt, max_depth=9 \n",
      "[CV]  n_estimators=94, min_samples_split=5, min_samples_leaf=50, max_features=sqrt, max_depth=15, total=   2.8s\n",
      "[CV] n_estimators=94, min_samples_split=5, min_samples_leaf=50, max_features=sqrt, max_depth=7 \n",
      "[CV]  n_estimators=115, min_samples_split=10, min_samples_leaf=60, max_features=sqrt, max_depth=9, total=   1.9s\n",
      "[CV] n_estimators=94, min_samples_split=5, min_samples_leaf=50, max_features=sqrt, max_depth=7 \n",
      "[CV]  n_estimators=94, min_samples_split=5, min_samples_leaf=50, max_features=sqrt, max_depth=7, total=   1.3s\n",
      "[CV] n_estimators=94, min_samples_split=5, min_samples_leaf=50, max_features=sqrt, max_depth=7 \n",
      "[CV]  n_estimators=115, min_samples_split=10, min_samples_leaf=60, max_features=sqrt, max_depth=9, total=   2.0s\n",
      "[CV] n_estimators=73, min_samples_split=5, min_samples_leaf=40, max_features=auto, max_depth=13 \n",
      "[CV]  n_estimators=178, min_samples_split=5, min_samples_leaf=50, max_features=auto, max_depth=15, total=  19.6s\n",
      "[CV] n_estimators=73, min_samples_split=5, min_samples_leaf=40, max_features=auto, max_depth=13 \n",
      "[CV]  n_estimators=136, min_samples_split=10, min_samples_leaf=30, max_features=sqrt, max_depth=15, total=   4.4s\n",
      "[CV] n_estimators=73, min_samples_split=5, min_samples_leaf=40, max_features=auto, max_depth=13 \n",
      "[CV]  n_estimators=136, min_samples_split=10, min_samples_leaf=30, max_features=sqrt, max_depth=15, total=   4.6s\n",
      "[CV]  n_estimators=136, min_samples_split=10, min_samples_leaf=30, max_features=sqrt, max_depth=15, total=   4.4s\n",
      "[CV] n_estimators=157, min_samples_split=10, min_samples_leaf=60, max_features=auto, max_depth=7 \n",
      "[CV] n_estimators=157, min_samples_split=10, min_samples_leaf=60, max_features=auto, max_depth=7 \n",
      "[CV]  n_estimators=94, min_samples_split=5, min_samples_leaf=50, max_features=sqrt, max_depth=7, total=   1.3s\n",
      "[CV] n_estimators=157, min_samples_split=10, min_samples_leaf=60, max_features=auto, max_depth=7 \n",
      "[CV]  n_estimators=178, min_samples_split=5, min_samples_leaf=50, max_features=auto, max_depth=15, total=  20.3s\n",
      "[CV] n_estimators=10, min_samples_split=10, min_samples_leaf=70, max_features=auto, max_depth=9 \n",
      "[CV]  n_estimators=94, min_samples_split=5, min_samples_leaf=50, max_features=sqrt, max_depth=7, total=   1.4s\n",
      "[CV] n_estimators=10, min_samples_split=10, min_samples_leaf=70, max_features=auto, max_depth=9 \n",
      "[CV]  n_estimators=10, min_samples_split=10, min_samples_leaf=70, max_features=auto, max_depth=9, total=   1.5s\n",
      "[CV] n_estimators=10, min_samples_split=10, min_samples_leaf=70, max_features=auto, max_depth=9 \n",
      "[CV]  n_estimators=10, min_samples_split=10, min_samples_leaf=70, max_features=auto, max_depth=9, total=   1.5s\n",
      "[CV] n_estimators=178, min_samples_split=10, min_samples_leaf=30, max_features=auto, max_depth=7 \n",
      "[CV]  n_estimators=10, min_samples_split=10, min_samples_leaf=70, max_features=auto, max_depth=9, total=   1.5s\n",
      "[CV] n_estimators=178, min_samples_split=10, min_samples_leaf=30, max_features=auto, max_depth=7 \n",
      "[CV]  n_estimators=157, min_samples_split=10, min_samples_leaf=60, max_features=auto, max_depth=7, total=   7.7s\n",
      "[CV] n_estimators=178, min_samples_split=10, min_samples_leaf=30, max_features=auto, max_depth=7 \n",
      "[CV]  n_estimators=157, min_samples_split=10, min_samples_leaf=60, max_features=auto, max_depth=7, total=   8.0s\n",
      "[CV] n_estimators=178, min_samples_split=10, min_samples_leaf=70, max_features=sqrt, max_depth=5 \n",
      "[CV]  n_estimators=157, min_samples_split=10, min_samples_leaf=60, max_features=auto, max_depth=7, total=   8.4s\n",
      "[CV] n_estimators=178, min_samples_split=10, min_samples_leaf=70, max_features=sqrt, max_depth=5 \n",
      "[CV]  n_estimators=73, min_samples_split=5, min_samples_leaf=40, max_features=auto, max_depth=13, total=  10.0s\n",
      "[CV] n_estimators=178, min_samples_split=10, min_samples_leaf=70, max_features=sqrt, max_depth=5 \n",
      "[CV]  n_estimators=178, min_samples_split=10, min_samples_leaf=70, max_features=sqrt, max_depth=5, total=   1.5s\n",
      "[CV] n_estimators=136, min_samples_split=5, min_samples_leaf=70, max_features=auto, max_depth=13 \n",
      "[CV]  n_estimators=178, min_samples_split=10, min_samples_leaf=70, max_features=sqrt, max_depth=5, total=   1.4s\n",
      "[CV] n_estimators=136, min_samples_split=5, min_samples_leaf=70, max_features=auto, max_depth=13 \n",
      "[CV]  n_estimators=73, min_samples_split=5, min_samples_leaf=40, max_features=auto, max_depth=13, total=  10.4s\n",
      "[CV] n_estimators=136, min_samples_split=5, min_samples_leaf=70, max_features=auto, max_depth=13 \n",
      "[CV]  n_estimators=73, min_samples_split=5, min_samples_leaf=40, max_features=auto, max_depth=13, total=  10.3s\n",
      "[CV] n_estimators=10, min_samples_split=10, min_samples_leaf=70, max_features=sqrt, max_depth=13 \n",
      "[CV]  n_estimators=10, min_samples_split=10, min_samples_leaf=70, max_features=sqrt, max_depth=13, total=   0.3s\n",
      "[CV] n_estimators=10, min_samples_split=10, min_samples_leaf=70, max_features=sqrt, max_depth=13 \n",
      "[CV]  n_estimators=10, min_samples_split=10, min_samples_leaf=70, max_features=sqrt, max_depth=13, total=   0.3s\n",
      "[CV] n_estimators=10, min_samples_split=10, min_samples_leaf=70, max_features=sqrt, max_depth=13 \n",
      "[CV]  n_estimators=178, min_samples_split=10, min_samples_leaf=70, max_features=sqrt, max_depth=5, total=   1.5s\n",
      "[CV] n_estimators=94, min_samples_split=5, min_samples_leaf=60, max_features=auto, max_depth=9 \n",
      "[CV]  n_estimators=10, min_samples_split=10, min_samples_leaf=70, max_features=sqrt, max_depth=13, total=   0.4s\n",
      "[CV] n_estimators=94, min_samples_split=5, min_samples_leaf=60, max_features=auto, max_depth=9 \n"
     ]
    },
    {
     "name": "stdout",
     "output_type": "stream",
     "text": [
      "[CV]  n_estimators=178, min_samples_split=10, min_samples_leaf=30, max_features=auto, max_depth=7, total=   9.5s\n",
      "[CV] n_estimators=94, min_samples_split=5, min_samples_leaf=60, max_features=auto, max_depth=9 \n",
      "[CV]  n_estimators=178, min_samples_split=10, min_samples_leaf=30, max_features=auto, max_depth=7, total=   9.5s\n",
      "[CV] n_estimators=157, min_samples_split=10, min_samples_leaf=30, max_features=sqrt, max_depth=13 \n",
      "[CV]  n_estimators=157, min_samples_split=10, min_samples_leaf=30, max_features=sqrt, max_depth=13, total=   4.1s\n",
      "[CV] n_estimators=157, min_samples_split=10, min_samples_leaf=30, max_features=sqrt, max_depth=13 \n",
      "[CV]  n_estimators=178, min_samples_split=10, min_samples_leaf=30, max_features=auto, max_depth=7, total=   9.6s\n",
      "[CV] n_estimators=157, min_samples_split=10, min_samples_leaf=30, max_features=sqrt, max_depth=13 \n",
      "[CV]  n_estimators=94, min_samples_split=5, min_samples_leaf=60, max_features=auto, max_depth=9, total=   7.3s\n",
      "[CV]  n_estimators=94, min_samples_split=5, min_samples_leaf=60, max_features=auto, max_depth=9, total=   7.5s\n",
      "[CV] n_estimators=94, min_samples_split=10, min_samples_leaf=40, max_features=sqrt, max_depth=15 \n",
      "[CV] n_estimators=94, min_samples_split=10, min_samples_leaf=40, max_features=sqrt, max_depth=15 \n",
      "[CV]  n_estimators=94, min_samples_split=5, min_samples_leaf=60, max_features=auto, max_depth=9, total=   7.2s\n",
      "[CV] n_estimators=94, min_samples_split=10, min_samples_leaf=40, max_features=sqrt, max_depth=15 \n",
      "[CV]  n_estimators=157, min_samples_split=10, min_samples_leaf=30, max_features=sqrt, max_depth=13, total=   4.3s\n",
      "[CV] n_estimators=31, min_samples_split=5, min_samples_leaf=60, max_features=auto, max_depth=7 \n",
      "[CV]  n_estimators=94, min_samples_split=10, min_samples_leaf=40, max_features=sqrt, max_depth=15, total=   2.9s\n",
      "[CV]  n_estimators=157, min_samples_split=10, min_samples_leaf=30, max_features=sqrt, max_depth=13, total=   4.1s\n",
      "[CV] n_estimators=31, min_samples_split=5, min_samples_leaf=60, max_features=auto, max_depth=7 \n",
      "[CV] n_estimators=31, min_samples_split=5, min_samples_leaf=60, max_features=auto, max_depth=7 \n",
      "[CV]  n_estimators=94, min_samples_split=10, min_samples_leaf=40, max_features=sqrt, max_depth=15, total=   2.9s\n",
      "[CV] n_estimators=136, min_samples_split=5, min_samples_leaf=50, max_features=sqrt, max_depth=7 \n",
      "[CV]  n_estimators=94, min_samples_split=10, min_samples_leaf=40, max_features=sqrt, max_depth=15, total=   2.9s\n",
      "[CV] n_estimators=136, min_samples_split=5, min_samples_leaf=50, max_features=sqrt, max_depth=7 \n",
      "[CV]  n_estimators=136, min_samples_split=5, min_samples_leaf=70, max_features=auto, max_depth=13, total=  13.3s\n",
      "[CV] n_estimators=136, min_samples_split=5, min_samples_leaf=50, max_features=sqrt, max_depth=7 \n",
      "[CV]  n_estimators=136, min_samples_split=5, min_samples_leaf=70, max_features=auto, max_depth=13, total=  13.6s\n",
      "[CV] n_estimators=136, min_samples_split=10, min_samples_leaf=40, max_features=sqrt, max_depth=13 \n",
      "[CV]  n_estimators=136, min_samples_split=5, min_samples_leaf=50, max_features=sqrt, max_depth=7, total=   1.8s\n",
      "[CV] n_estimators=136, min_samples_split=10, min_samples_leaf=40, max_features=sqrt, max_depth=13 \n",
      "[CV]  n_estimators=136, min_samples_split=5, min_samples_leaf=70, max_features=auto, max_depth=13, total=  13.7s\n",
      "[CV] n_estimators=136, min_samples_split=10, min_samples_leaf=40, max_features=sqrt, max_depth=13 \n",
      "[CV]  n_estimators=136, min_samples_split=5, min_samples_leaf=50, max_features=sqrt, max_depth=7, total=   1.7s\n",
      "[CV] n_estimators=31, min_samples_split=10, min_samples_leaf=40, max_features=sqrt, max_depth=15 \n",
      "[CV]  n_estimators=31, min_samples_split=5, min_samples_leaf=60, max_features=auto, max_depth=7, total=   2.8s\n",
      "[CV] n_estimators=31, min_samples_split=10, min_samples_leaf=40, max_features=sqrt, max_depth=15 \n",
      "[CV]  n_estimators=31, min_samples_split=5, min_samples_leaf=60, max_features=auto, max_depth=7, total=   2.8s\n",
      "[CV] n_estimators=31, min_samples_split=10, min_samples_leaf=40, max_features=sqrt, max_depth=15 \n",
      "[CV]  n_estimators=31, min_samples_split=5, min_samples_leaf=60, max_features=auto, max_depth=7, total=   2.8s\n",
      "[CV] n_estimators=136, min_samples_split=5, min_samples_leaf=30, max_features=sqrt, max_depth=9 \n",
      "[CV]  n_estimators=136, min_samples_split=5, min_samples_leaf=50, max_features=sqrt, max_depth=7, total=   1.8s\n",
      "[CV] n_estimators=136, min_samples_split=5, min_samples_leaf=30, max_features=sqrt, max_depth=9 \n",
      "[CV]  n_estimators=31, min_samples_split=10, min_samples_leaf=40, max_features=sqrt, max_depth=15, total=   1.3s\n",
      "[CV] n_estimators=136, min_samples_split=5, min_samples_leaf=30, max_features=sqrt, max_depth=9 \n",
      "[CV]  n_estimators=31, min_samples_split=10, min_samples_leaf=40, max_features=sqrt, max_depth=15, total=   1.3s\n",
      "[CV] n_estimators=52, min_samples_split=10, min_samples_leaf=50, max_features=sqrt, max_depth=11 \n",
      "[CV]  n_estimators=31, min_samples_split=10, min_samples_leaf=40, max_features=sqrt, max_depth=15, total=   1.2s\n",
      "[CV] n_estimators=52, min_samples_split=10, min_samples_leaf=50, max_features=sqrt, max_depth=11 \n",
      "[CV]  n_estimators=52, min_samples_split=10, min_samples_leaf=50, max_features=sqrt, max_depth=11, total=   1.3s\n",
      "[CV] n_estimators=52, min_samples_split=10, min_samples_leaf=50, max_features=sqrt, max_depth=11 \n",
      "[CV]  n_estimators=52, min_samples_split=10, min_samples_leaf=50, max_features=sqrt, max_depth=11, total=   1.3s\n",
      "[CV]  n_estimators=136, min_samples_split=10, min_samples_leaf=40, max_features=sqrt, max_depth=13, total=   3.7s\n",
      "[CV] n_estimators=52, min_samples_split=5, min_samples_leaf=70, max_features=auto, max_depth=13 \n",
      "[CV] n_estimators=52, min_samples_split=5, min_samples_leaf=70, max_features=auto, max_depth=13 \n",
      "[CV]  n_estimators=136, min_samples_split=5, min_samples_leaf=30, max_features=sqrt, max_depth=9, total=   2.6s\n",
      "[CV] n_estimators=52, min_samples_split=5, min_samples_leaf=70, max_features=auto, max_depth=13 \n",
      "[CV]  n_estimators=136, min_samples_split=10, min_samples_leaf=40, max_features=sqrt, max_depth=13, total=   3.7s\n",
      "[CV] n_estimators=115, min_samples_split=5, min_samples_leaf=60, max_features=auto, max_depth=7 \n",
      "[CV]  n_estimators=136, min_samples_split=10, min_samples_leaf=40, max_features=sqrt, max_depth=13, total=   3.7s\n",
      "[CV] n_estimators=115, min_samples_split=5, min_samples_leaf=60, max_features=auto, max_depth=7 \n",
      "[CV]  n_estimators=136, min_samples_split=5, min_samples_leaf=30, max_features=sqrt, max_depth=9, total=   2.6s\n",
      "[CV] n_estimators=115, min_samples_split=5, min_samples_leaf=60, max_features=auto, max_depth=7 \n",
      "[CV]  n_estimators=136, min_samples_split=5, min_samples_leaf=30, max_features=sqrt, max_depth=9, total=   2.6s\n",
      "[CV] n_estimators=157, min_samples_split=5, min_samples_leaf=50, max_features=auto, max_depth=7 \n",
      "[CV]  n_estimators=52, min_samples_split=10, min_samples_leaf=50, max_features=sqrt, max_depth=11, total=   1.5s\n",
      "[CV] n_estimators=157, min_samples_split=5, min_samples_leaf=50, max_features=auto, max_depth=7 \n",
      "[CV]  n_estimators=115, min_samples_split=5, min_samples_leaf=60, max_features=auto, max_depth=7, total=   6.1s\n",
      "[CV]  n_estimators=52, min_samples_split=5, min_samples_leaf=70, max_features=auto, max_depth=13, total=   6.6s\n",
      "[CV] n_estimators=157, min_samples_split=5, min_samples_leaf=50, max_features=auto, max_depth=7 \n",
      "[CV] n_estimators=115, min_samples_split=5, min_samples_leaf=50, max_features=sqrt, max_depth=13 \n",
      "[CV]  n_estimators=115, min_samples_split=5, min_samples_leaf=60, max_features=auto, max_depth=7, total=   6.5s\n",
      "[CV] n_estimators=115, min_samples_split=5, min_samples_leaf=50, max_features=sqrt, max_depth=13 \n",
      "[CV]  n_estimators=115, min_samples_split=5, min_samples_leaf=60, max_features=auto, max_depth=7, total=   6.3s\n",
      "[CV] n_estimators=115, min_samples_split=5, min_samples_leaf=50, max_features=sqrt, max_depth=13 \n",
      "[CV]  n_estimators=52, min_samples_split=5, min_samples_leaf=70, max_features=auto, max_depth=13, total=   6.9s\n",
      "[CV] n_estimators=73, min_samples_split=5, min_samples_leaf=50, max_features=auto, max_depth=5 \n",
      "[CV]  n_estimators=52, min_samples_split=5, min_samples_leaf=70, max_features=auto, max_depth=13, total=   6.9s\n",
      "[CV] n_estimators=73, min_samples_split=5, min_samples_leaf=50, max_features=auto, max_depth=5 \n",
      "[CV]  n_estimators=157, min_samples_split=5, min_samples_leaf=50, max_features=auto, max_depth=7, total=   8.1s\n"
     ]
    },
    {
     "name": "stdout",
     "output_type": "stream",
     "text": [
      "[CV] n_estimators=73, min_samples_split=5, min_samples_leaf=50, max_features=auto, max_depth=5 \n",
      "[CV]  n_estimators=157, min_samples_split=5, min_samples_leaf=50, max_features=auto, max_depth=7, total=   7.8s\n",
      "[CV] n_estimators=157, min_samples_split=5, min_samples_leaf=60, max_features=sqrt, max_depth=13 \n",
      "[CV]  n_estimators=115, min_samples_split=5, min_samples_leaf=50, max_features=sqrt, max_depth=13, total=   3.0s\n",
      "[CV] n_estimators=157, min_samples_split=5, min_samples_leaf=60, max_features=sqrt, max_depth=13 \n",
      "[CV]  n_estimators=115, min_samples_split=5, min_samples_leaf=50, max_features=sqrt, max_depth=13, total=   2.9s\n",
      "[CV] n_estimators=157, min_samples_split=5, min_samples_leaf=60, max_features=sqrt, max_depth=13 \n",
      "[CV]  n_estimators=73, min_samples_split=5, min_samples_leaf=50, max_features=auto, max_depth=5, total=   2.9s\n",
      "[CV] n_estimators=10, min_samples_split=5, min_samples_leaf=50, max_features=auto, max_depth=None \n",
      "[CV]  n_estimators=115, min_samples_split=5, min_samples_leaf=50, max_features=sqrt, max_depth=13, total=   2.9s\n",
      "[CV] n_estimators=10, min_samples_split=5, min_samples_leaf=50, max_features=auto, max_depth=None \n",
      "[CV]  n_estimators=73, min_samples_split=5, min_samples_leaf=50, max_features=auto, max_depth=5, total=   3.2s\n",
      "[CV] n_estimators=10, min_samples_split=5, min_samples_leaf=50, max_features=auto, max_depth=None \n",
      "[CV]  n_estimators=10, min_samples_split=5, min_samples_leaf=50, max_features=auto, max_depth=None, total=   2.1s\n",
      "[CV]  n_estimators=10, min_samples_split=5, min_samples_leaf=50, max_features=auto, max_depth=None, total=   2.0s\n",
      "[CV] n_estimators=73, min_samples_split=10, min_samples_leaf=50, max_features=sqrt, max_depth=7 \n",
      "[CV] n_estimators=73, min_samples_split=10, min_samples_leaf=50, max_features=sqrt, max_depth=7 \n",
      "[CV]  n_estimators=73, min_samples_split=5, min_samples_leaf=50, max_features=auto, max_depth=5, total=   3.1s\n",
      "[CV]  n_estimators=10, min_samples_split=5, min_samples_leaf=50, max_features=auto, max_depth=None, total=   2.0s\n",
      "[CV] n_estimators=73, min_samples_split=10, min_samples_leaf=50, max_features=sqrt, max_depth=7 \n",
      "[CV] n_estimators=73, min_samples_split=5, min_samples_leaf=70, max_features=sqrt, max_depth=13 \n",
      "[CV]  n_estimators=73, min_samples_split=10, min_samples_leaf=50, max_features=sqrt, max_depth=7, total=   1.0s\n",
      "[CV]  n_estimators=73, min_samples_split=10, min_samples_leaf=50, max_features=sqrt, max_depth=7, total=   1.1s\n",
      "[CV] n_estimators=73, min_samples_split=5, min_samples_leaf=70, max_features=sqrt, max_depth=13 \n",
      "[CV] n_estimators=73, min_samples_split=5, min_samples_leaf=70, max_features=sqrt, max_depth=13 \n",
      "[CV]  n_estimators=157, min_samples_split=5, min_samples_leaf=60, max_features=sqrt, max_depth=13, total=   3.8s\n",
      "[CV]  n_estimators=73, min_samples_split=10, min_samples_leaf=50, max_features=sqrt, max_depth=7, total=   1.0s\n",
      "[CV] n_estimators=178, min_samples_split=10, min_samples_leaf=60, max_features=sqrt, max_depth=9 \n",
      "[CV] n_estimators=178, min_samples_split=10, min_samples_leaf=60, max_features=sqrt, max_depth=9 \n",
      "[CV]  n_estimators=157, min_samples_split=5, min_samples_leaf=60, max_features=sqrt, max_depth=13, total=   3.8s\n",
      "[CV] n_estimators=178, min_samples_split=10, min_samples_leaf=60, max_features=sqrt, max_depth=9 \n",
      "[CV]  n_estimators=157, min_samples_split=5, min_samples_leaf=60, max_features=sqrt, max_depth=13, total=   3.8s\n",
      "[CV] n_estimators=10, min_samples_split=10, min_samples_leaf=40, max_features=auto, max_depth=11 \n",
      "[CV]  n_estimators=73, min_samples_split=5, min_samples_leaf=70, max_features=sqrt, max_depth=13, total=   1.9s\n",
      "[CV] n_estimators=10, min_samples_split=10, min_samples_leaf=40, max_features=auto, max_depth=11 \n",
      "[CV]  n_estimators=157, min_samples_split=5, min_samples_leaf=50, max_features=auto, max_depth=7, total=   8.3s\n",
      "[CV] n_estimators=10, min_samples_split=10, min_samples_leaf=40, max_features=auto, max_depth=11 \n",
      "[CV]  n_estimators=73, min_samples_split=5, min_samples_leaf=70, max_features=sqrt, max_depth=13, total=   1.9s\n",
      "[CV] n_estimators=200, min_samples_split=10, min_samples_leaf=30, max_features=auto, max_depth=11 \n",
      "[CV]  n_estimators=73, min_samples_split=5, min_samples_leaf=70, max_features=sqrt, max_depth=13, total=   1.9s\n",
      "[CV] n_estimators=200, min_samples_split=10, min_samples_leaf=30, max_features=auto, max_depth=11 \n",
      "[CV]  n_estimators=10, min_samples_split=10, min_samples_leaf=40, max_features=auto, max_depth=11, total=   2.2s\n",
      "[CV] n_estimators=200, min_samples_split=10, min_samples_leaf=30, max_features=auto, max_depth=11 \n",
      "[CV]  n_estimators=178, min_samples_split=10, min_samples_leaf=60, max_features=sqrt, max_depth=9, total=   2.8s\n",
      "[CV] n_estimators=10, min_samples_split=10, min_samples_leaf=60, max_features=auto, max_depth=15 \n",
      "[CV]  n_estimators=178, min_samples_split=10, min_samples_leaf=60, max_features=sqrt, max_depth=9, total=   3.0s\n",
      "[CV] n_estimators=10, min_samples_split=10, min_samples_leaf=60, max_features=auto, max_depth=15 \n",
      "[CV]  n_estimators=10, min_samples_split=10, min_samples_leaf=40, max_features=auto, max_depth=11, total=   2.3s\n",
      "[CV] n_estimators=10, min_samples_split=10, min_samples_leaf=60, max_features=auto, max_depth=15 \n",
      "[CV]  n_estimators=178, min_samples_split=10, min_samples_leaf=60, max_features=sqrt, max_depth=9, total=   3.0s\n",
      "[CV] n_estimators=200, min_samples_split=10, min_samples_leaf=40, max_features=sqrt, max_depth=None \n",
      "[CV]  n_estimators=10, min_samples_split=10, min_samples_leaf=40, max_features=auto, max_depth=11, total=   2.3s\n",
      "[CV] n_estimators=200, min_samples_split=10, min_samples_leaf=40, max_features=sqrt, max_depth=None \n",
      "[CV]  n_estimators=10, min_samples_split=10, min_samples_leaf=60, max_features=auto, max_depth=15, total=   1.9s\n",
      "[CV] n_estimators=200, min_samples_split=10, min_samples_leaf=40, max_features=sqrt, max_depth=None \n",
      "[CV]  n_estimators=10, min_samples_split=10, min_samples_leaf=60, max_features=auto, max_depth=15, total=   1.9s\n",
      "[CV] n_estimators=200, min_samples_split=10, min_samples_leaf=50, max_features=auto, max_depth=7 \n",
      "[CV]  n_estimators=10, min_samples_split=10, min_samples_leaf=60, max_features=auto, max_depth=15, total=   1.9s\n",
      "[CV] n_estimators=200, min_samples_split=10, min_samples_leaf=50, max_features=auto, max_depth=7 \n",
      "[CV]  n_estimators=200, min_samples_split=10, min_samples_leaf=40, max_features=sqrt, max_depth=None, total=   8.6s\n",
      "[CV] n_estimators=200, min_samples_split=10, min_samples_leaf=50, max_features=auto, max_depth=7 \n",
      "[CV]  n_estimators=200, min_samples_split=10, min_samples_leaf=40, max_features=sqrt, max_depth=None, total=   8.8s\n",
      "[CV] n_estimators=52, min_samples_split=5, min_samples_leaf=70, max_features=sqrt, max_depth=13 \n",
      "[CV]  n_estimators=200, min_samples_split=10, min_samples_leaf=40, max_features=sqrt, max_depth=None, total=   8.7s\n",
      "[CV] n_estimators=52, min_samples_split=5, min_samples_leaf=70, max_features=sqrt, max_depth=13 \n",
      "[CV]  n_estimators=200, min_samples_split=10, min_samples_leaf=50, max_features=auto, max_depth=7, total=   9.2s\n",
      "[CV] n_estimators=52, min_samples_split=5, min_samples_leaf=70, max_features=sqrt, max_depth=13 \n",
      "[CV]  n_estimators=52, min_samples_split=5, min_samples_leaf=70, max_features=sqrt, max_depth=13, total=   1.4s\n",
      "[CV] n_estimators=94, min_samples_split=10, min_samples_leaf=50, max_features=sqrt, max_depth=9 \n",
      "[CV]  n_estimators=200, min_samples_split=10, min_samples_leaf=50, max_features=auto, max_depth=7, total=  10.1s\n",
      "[CV]  n_estimators=52, min_samples_split=5, min_samples_leaf=70, max_features=sqrt, max_depth=13, total=   1.4s\n",
      "[CV] n_estimators=94, min_samples_split=10, min_samples_leaf=50, max_features=sqrt, max_depth=9 \n",
      "[CV] n_estimators=94, min_samples_split=10, min_samples_leaf=50, max_features=sqrt, max_depth=9 \n",
      "[CV]  n_estimators=52, min_samples_split=5, min_samples_leaf=70, max_features=sqrt, max_depth=13, total=   1.4s\n",
      "[CV] n_estimators=115, min_samples_split=5, min_samples_leaf=60, max_features=auto, max_depth=5 \n",
      "[CV]  n_estimators=94, min_samples_split=10, min_samples_leaf=50, max_features=sqrt, max_depth=9, total=   1.8s\n",
      "[CV] n_estimators=115, min_samples_split=5, min_samples_leaf=60, max_features=auto, max_depth=5 \n",
      "[CV]  n_estimators=94, min_samples_split=10, min_samples_leaf=50, max_features=sqrt, max_depth=9, total=   1.7s\n"
     ]
    },
    {
     "name": "stdout",
     "output_type": "stream",
     "text": [
      "[CV] n_estimators=115, min_samples_split=5, min_samples_leaf=60, max_features=auto, max_depth=5 \n",
      "[CV]  n_estimators=94, min_samples_split=10, min_samples_leaf=50, max_features=sqrt, max_depth=9, total=   1.7s\n",
      "[CV] n_estimators=52, min_samples_split=5, min_samples_leaf=70, max_features=auto, max_depth=9 \n",
      "[CV]  n_estimators=200, min_samples_split=10, min_samples_leaf=30, max_features=auto, max_depth=11, total=  17.7s\n",
      "[CV] n_estimators=52, min_samples_split=5, min_samples_leaf=70, max_features=auto, max_depth=9 \n",
      "[CV]  n_estimators=200, min_samples_split=10, min_samples_leaf=30, max_features=auto, max_depth=11, total=  18.1s\n",
      "[CV] n_estimators=52, min_samples_split=5, min_samples_leaf=70, max_features=auto, max_depth=9 \n",
      "[CV]  n_estimators=115, min_samples_split=5, min_samples_leaf=60, max_features=auto, max_depth=5, total=   4.5s\n",
      "[CV] n_estimators=157, min_samples_split=5, min_samples_leaf=50, max_features=sqrt, max_depth=13 \n",
      "[CV]  n_estimators=115, min_samples_split=5, min_samples_leaf=60, max_features=auto, max_depth=5, total=   4.0s\n",
      "[CV] n_estimators=157, min_samples_split=5, min_samples_leaf=50, max_features=sqrt, max_depth=13 \n",
      "[CV]  n_estimators=200, min_samples_split=10, min_samples_leaf=30, max_features=auto, max_depth=11, total=  18.1s\n",
      "[CV] n_estimators=157, min_samples_split=5, min_samples_leaf=50, max_features=sqrt, max_depth=13 \n",
      "[CV]  n_estimators=115, min_samples_split=5, min_samples_leaf=60, max_features=auto, max_depth=5, total=   4.1s\n",
      "[CV] n_estimators=157, min_samples_split=5, min_samples_leaf=40, max_features=auto, max_depth=9 \n",
      "[CV]  n_estimators=52, min_samples_split=5, min_samples_leaf=70, max_features=auto, max_depth=9, total=   4.9s\n",
      "[CV] n_estimators=157, min_samples_split=5, min_samples_leaf=40, max_features=auto, max_depth=9 \n",
      "[CV]  n_estimators=200, min_samples_split=10, min_samples_leaf=50, max_features=auto, max_depth=7, total=  10.1s\n",
      "[CV] n_estimators=157, min_samples_split=5, min_samples_leaf=40, max_features=auto, max_depth=9 \n",
      "[CV]  n_estimators=157, min_samples_split=5, min_samples_leaf=50, max_features=sqrt, max_depth=13, total=   3.9s\n",
      "[CV]  n_estimators=157, min_samples_split=5, min_samples_leaf=50, max_features=sqrt, max_depth=13, total=   3.8s\n",
      "[CV] n_estimators=115, min_samples_split=10, min_samples_leaf=50, max_features=sqrt, max_depth=None \n",
      "[CV] n_estimators=115, min_samples_split=10, min_samples_leaf=50, max_features=sqrt, max_depth=None \n",
      "[CV]  n_estimators=52, min_samples_split=5, min_samples_leaf=70, max_features=auto, max_depth=9, total=   5.1s\n",
      "[CV] n_estimators=115, min_samples_split=10, min_samples_leaf=50, max_features=sqrt, max_depth=None \n",
      "[CV]  n_estimators=157, min_samples_split=5, min_samples_leaf=50, max_features=sqrt, max_depth=13, total=   3.8s\n",
      "[CV] n_estimators=94, min_samples_split=5, min_samples_leaf=60, max_features=auto, max_depth=13 \n",
      "[CV]  n_estimators=52, min_samples_split=5, min_samples_leaf=70, max_features=auto, max_depth=9, total=   5.0s\n",
      "[CV] n_estimators=94, min_samples_split=5, min_samples_leaf=60, max_features=auto, max_depth=13 \n",
      "[CV]  n_estimators=115, min_samples_split=10, min_samples_leaf=50, max_features=sqrt, max_depth=None, total=   4.3s\n",
      "[CV]  n_estimators=115, min_samples_split=10, min_samples_leaf=50, max_features=sqrt, max_depth=None, total=   4.3s\n",
      "[CV] n_estimators=94, min_samples_split=5, min_samples_leaf=60, max_features=auto, max_depth=13 \n",
      "[CV] n_estimators=73, min_samples_split=10, min_samples_leaf=30, max_features=sqrt, max_depth=15 \n",
      "[CV]  n_estimators=115, min_samples_split=10, min_samples_leaf=50, max_features=sqrt, max_depth=None, total=   4.3s\n",
      "[CV] n_estimators=73, min_samples_split=10, min_samples_leaf=30, max_features=sqrt, max_depth=15 \n",
      "[CV]  n_estimators=73, min_samples_split=10, min_samples_leaf=30, max_features=sqrt, max_depth=15, total=   2.6s\n",
      "[CV] n_estimators=73, min_samples_split=10, min_samples_leaf=30, max_features=sqrt, max_depth=15 \n",
      "[CV]  n_estimators=73, min_samples_split=10, min_samples_leaf=30, max_features=sqrt, max_depth=15, total=   2.6s\n",
      "[CV] n_estimators=115, min_samples_split=10, min_samples_leaf=50, max_features=sqrt, max_depth=15 \n",
      "[CV]  n_estimators=157, min_samples_split=5, min_samples_leaf=40, max_features=auto, max_depth=9, total=  11.4s\n",
      "[CV] n_estimators=115, min_samples_split=10, min_samples_leaf=50, max_features=sqrt, max_depth=15 \n",
      "[CV]  n_estimators=157, min_samples_split=5, min_samples_leaf=40, max_features=auto, max_depth=9, total=  11.1s\n",
      "[CV] n_estimators=115, min_samples_split=10, min_samples_leaf=50, max_features=sqrt, max_depth=15 \n",
      "[CV]  n_estimators=157, min_samples_split=5, min_samples_leaf=40, max_features=auto, max_depth=9, total=  11.6s\n",
      "[CV] n_estimators=52, min_samples_split=10, min_samples_leaf=40, max_features=auto, max_depth=5 \n",
      "[CV]  n_estimators=73, min_samples_split=10, min_samples_leaf=30, max_features=sqrt, max_depth=15, total=   2.7s\n",
      "[CV] n_estimators=52, min_samples_split=10, min_samples_leaf=40, max_features=auto, max_depth=5 \n",
      "[CV]  n_estimators=115, min_samples_split=10, min_samples_leaf=50, max_features=sqrt, max_depth=15, total=   3.4s\n",
      "[CV] n_estimators=52, min_samples_split=10, min_samples_leaf=40, max_features=auto, max_depth=5 \n",
      "[CV]  n_estimators=94, min_samples_split=5, min_samples_leaf=60, max_features=auto, max_depth=13, total=  10.5s\n",
      "[CV] n_estimators=31, min_samples_split=5, min_samples_leaf=50, max_features=sqrt, max_depth=13 \n",
      "[CV]  n_estimators=94, min_samples_split=5, min_samples_leaf=60, max_features=auto, max_depth=13, total=  10.8s\n",
      "[CV] n_estimators=31, min_samples_split=5, min_samples_leaf=50, max_features=sqrt, max_depth=13 \n",
      "[CV]  n_estimators=115, min_samples_split=10, min_samples_leaf=50, max_features=sqrt, max_depth=15, total=   3.4s\n",
      "[CV] n_estimators=31, min_samples_split=5, min_samples_leaf=50, max_features=sqrt, max_depth=13 \n",
      "[CV]  n_estimators=52, min_samples_split=10, min_samples_leaf=40, max_features=auto, max_depth=5, total=   2.4s\n",
      "[CV]  n_estimators=52, min_samples_split=10, min_samples_leaf=40, max_features=auto, max_depth=5, total=   2.3s\n",
      "[CV]  n_estimators=31, min_samples_split=5, min_samples_leaf=50, max_features=sqrt, max_depth=13, total=   1.1s\n",
      "[CV]  n_estimators=115, min_samples_split=10, min_samples_leaf=50, max_features=sqrt, max_depth=15, total=   3.4s\n",
      "[CV]  n_estimators=31, min_samples_split=5, min_samples_leaf=50, max_features=sqrt, max_depth=13, total=   1.0s\n",
      "[CV]  n_estimators=31, min_samples_split=5, min_samples_leaf=50, max_features=sqrt, max_depth=13, total=   0.8s\n",
      "[CV]  n_estimators=52, min_samples_split=10, min_samples_leaf=40, max_features=auto, max_depth=5, total=   1.9s\n",
      "[CV]  n_estimators=94, min_samples_split=5, min_samples_leaf=60, max_features=auto, max_depth=13, total=   9.6s\n"
     ]
    },
    {
     "name": "stderr",
     "output_type": "stream",
     "text": [
      "[Parallel(n_jobs=-1)]: Done 300 out of 300 | elapsed:  3.4min finished\n"
     ]
    },
    {
     "data": {
      "text/plain": [
       "RandomizedSearchCV(cv=3, error_score='raise',\n",
       "          estimator=GradientBoostingRegressor(alpha=0.9, criterion='friedman_mse', init=None,\n",
       "             learning_rate=0.1, loss='ls', max_depth=3, max_features=None,\n",
       "             max_leaf_nodes=None, min_impurity_decrease=0.0,\n",
       "             min_impurity_split=None, min_samples_leaf=1,\n",
       "             min_samples_split=2, min_weight_fraction_leaf=0.0,\n",
       "             n_estimators=100, presort='auto', random_state=None,\n",
       "             subsample=1.0, verbose=0, warm_start=False),\n",
       "          fit_params=None, iid=True, n_iter=100, n_jobs=-1,\n",
       "          param_distributions={'n_estimators': [10, 31, 52, 73, 94, 115, 136, 157, 178, 200], 'max_features': ['auto', 'sqrt'], 'max_depth': [5, 7, 9, 11, 13, 15, None], 'min_samples_split': [5, 10], 'min_samples_leaf': range(30, 71, 10)},\n",
       "          pre_dispatch='2*n_jobs', random_state=42, refit=True,\n",
       "          return_train_score='warn', scoring=None, verbose=2)"
      ]
     },
     "execution_count": 93,
     "metadata": {},
     "output_type": "execute_result"
    }
   ],
   "source": [
    "#RandomizeSearch to tune the hyperparameters.\n",
    "gbm = GradientBoostingRegressor()\n",
    "gbm_random = RandomizedSearchCV(estimator= gbm, \n",
    "                                param_distributions=random_grid,\n",
    "                               n_iter = 100, \n",
    "                                cv = 3, \n",
    "                                verbose = 2, \n",
    "                                random_state = 42, \n",
    "                                n_jobs = -1)\n",
    "gbm_random.fit(X_train_reg, y_train_reg)"
   ]
  },
  {
   "cell_type": "code",
   "execution_count": 94,
   "metadata": {},
   "outputs": [
    {
     "name": "stdout",
     "output_type": "stream",
     "text": [
      "Model Performance\n",
      "Average Error: 144475.5198 degrees.\n",
      "Accuracy = 68.38%.\n"
     ]
    }
   ],
   "source": [
    "base_model = GradientBoostingRegressor(n_estimators = 10, random_state = 42)\n",
    "base_model.fit(X_train_reg, y_train_reg)\n",
    "base_accuracy = evaluate_reg(base_model, X_test_reg, y_test_reg)"
   ]
  },
  {
   "cell_type": "markdown",
   "metadata": {},
   "source": [
    "### Then use the tuned model."
   ]
  },
  {
   "cell_type": "code",
   "execution_count": 95,
   "metadata": {},
   "outputs": [
    {
     "data": {
      "text/plain": [
       "GradientBoostingRegressor(alpha=0.9, criterion='friedman_mse', init=None,\n",
       "             learning_rate=0.1, loss='ls', max_depth=11,\n",
       "             max_features='sqrt', max_leaf_nodes=None,\n",
       "             min_impurity_decrease=0.0, min_impurity_split=None,\n",
       "             min_samples_leaf=30, min_samples_split=5,\n",
       "             min_weight_fraction_leaf=0.0, n_estimators=157,\n",
       "             presort='auto', random_state=None, subsample=1.0, verbose=0,\n",
       "             warm_start=False)"
      ]
     },
     "execution_count": 95,
     "metadata": {},
     "output_type": "execute_result"
    }
   ],
   "source": [
    "gbm_random.best_estimator_"
   ]
  },
  {
   "cell_type": "code",
   "execution_count": 96,
   "metadata": {},
   "outputs": [
    {
     "name": "stdout",
     "output_type": "stream",
     "text": [
      "Model Performance\n",
      "Average Error: 71282.4908 degrees.\n",
      "Accuracy = 86.58%.\n"
     ]
    }
   ],
   "source": [
    "best_gbm_random = gbm_random.best_estimator_\n",
    "random_gbm_accuracy = evaluate_reg(best_gbm_random, X_test_reg, y_test_reg)"
   ]
  },
  {
   "cell_type": "markdown",
   "metadata": {},
   "source": [
    "## Conclusions"
   ]
  },
  {
   "cell_type": "code",
   "execution_count": 114,
   "metadata": {},
   "outputs": [
    {
     "name": "stdout",
     "output_type": "stream",
     "text": [
      "            Classifier  base_model  tuned-model\n",
      "0        Random_Forest       89.64         90.8\n",
      "1              xGBoost       90.42         91.4\n",
      "2  Logistic_Regression       81.00          NaN\n",
      "3                  GBM       91.00         92.0\n"
     ]
    }
   ],
   "source": [
    "classifier_report = {'Classifier': ['Random_Forest', 'xGBoost', 'Logistic_Regression', 'GBM'],\n",
    "                     'base_model': [89.64, 90.42, 81, 91],\n",
    "                     'tuned-model': [90.8, 91.4, None , 92]}\n",
    "df_class_con = pd.DataFrame(classifier_report)\n",
    "print(df_class_con)"
   ]
  },
  {
   "cell_type": "markdown",
   "metadata": {},
   "source": [
    "### So in classification problem: GBM is the best model."
   ]
  },
  {
   "cell_type": "code",
   "execution_count": 116,
   "metadata": {},
   "outputs": [
    {
     "name": "stdout",
     "output_type": "stream",
     "text": [
      "   Accuracy         RMSE          Regressor\n",
      "0     86.48   71214.6055      Random_Forest\n",
      "1     87.19   66457.6640            xGBoost\n",
      "2     76.78  121610.9686  Linear_regression\n",
      "3     76.59  120573.0008              Lasso\n",
      "4     76.63  120441.6473              Ridge\n",
      "5     86.58   71282.4908                GBM\n"
     ]
    }
   ],
   "source": [
    "regressor_report = {'Regressor': ['Random_Forest', 'xGBoost', 'Linear_regression','Lasso','Ridge', 'GBM'],\n",
    "                     'Accuracy': [86.48,  87.19, 76.78, 76.59, 76.63, 86.58],\n",
    "                     'RMSE': [71214.6055, 66457.6640, 121610.9686, 120573.0008, 120441.6473,71282.4908]}\n",
    "df_regr_con = pd.DataFrame(regressor_report)\n",
    "print(df_regr_con)"
   ]
  },
  {
   "cell_type": "markdown",
   "metadata": {},
   "source": [
    "### In Regression problem: xGBoost is the best"
   ]
  },
  {
   "cell_type": "markdown",
   "metadata": {},
   "source": [
    "## Citations:"
   ]
  },
  {
   "cell_type": "markdown",
   "metadata": {},
   "source": [
    "1. Lasso and Ridge regression\n",
    "https://www.analyticsvidhya.com/blog/2016/01/complete-tutorial-ridge-lasso-regression-python/\n",
    "\n",
    "2. GBM tuning hyperparameters\n",
    "https://www.analyticsvidhya.com/blog/2016/02/complete-guide-parameter-tuning-gradient-boosting-gbm-python/\n",
    "\n",
    "3. xGBoost\n",
    "https://machinelearningmastery.com/gentle-introduction-xgboost-applied-machine-learning/"
   ]
  }
 ],
 "metadata": {
  "kernelspec": {
   "display_name": "Python 3",
   "language": "python",
   "name": "python3"
  },
  "language_info": {
   "codemirror_mode": {
    "name": "ipython",
    "version": 3
   },
   "file_extension": ".py",
   "mimetype": "text/x-python",
   "name": "python",
   "nbconvert_exporter": "python",
   "pygments_lexer": "ipython3",
   "version": "3.6.5"
  }
 },
 "nbformat": 4,
 "nbformat_minor": 2
}
